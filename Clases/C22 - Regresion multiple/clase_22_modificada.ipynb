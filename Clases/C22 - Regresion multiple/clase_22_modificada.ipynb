{
 "cells": [
  {
   "cell_type": "code",
   "execution_count": 84,
   "metadata": {
    "slideshow": {
     "slide_type": "skip"
    }
   },
   "outputs": [],
   "source": [
    "# initial setup\n",
    "#%run \"../../../common/0_notebooks_base_setup.py\"\n"
   ]
  },
  {
   "cell_type": "code",
   "execution_count": 85,
   "metadata": {
    "slideshow": {
     "slide_type": "skip"
    }
   },
   "outputs": [],
   "source": [
    "import pandas as pd\n",
    "import numpy as np\n",
    "import seaborn as sns"
   ]
  },
  {
   "cell_type": "markdown",
   "metadata": {
    "slideshow": {
     "slide_type": "slide"
    }
   },
   "source": [
    "<link rel=\"stylesheet\" href=\"../../../common/dhds.css\">\n",
    "<div class=\"Table\">\n",
    "    <div class=\"Row\">\n",
    "        <div class=\"Cell grey left\"> <img src=\"https://raw.githubusercontent.com/Digital-House-DATA/ds_blend_2021_img/master/M3/CLASE_22_Regresion_Lineal_Multiple/Presentacion/img/M3_CLASE_22_portada.jpg\" align=\"center\" width=\"90%\"/></div>\n",
    "        <div class=\"Cell right\">\n",
    "            <div class=\"div-logo\"><img src=\"https://raw.githubusercontent.com/Digital-House-DATA/ds_blend_2021_img/master/common/logo_DH.png\" align=\"center\" width=70% /></div>\n",
    "            <div class=\"div-curso\">DATA SCIENCE</div>\n",
    "            <div class=\"div-modulo\">MÓDULO 3</div>\n",
    "            <div class=\"div-contenido\">Regresión Lineal Múltiple</div>\n",
    "        </div>\n",
    "    </div>\n",
    "</div>"
   ]
  },
  {
   "cell_type": "markdown",
   "metadata": {
    "slideshow": {
     "slide_type": "slide"
    }
   },
   "source": [
    "### Repaso\n",
    "\n",
    "---\n",
    "\n",
    "En la clase pasada presentamos la regresión lineal como primer modelo de aprendizaje supervisado. \n",
    "\n",
    "En particular, la regresión lineal es una herramienta útil para predecir una respuesta cuantitativa. \n",
    "\n",
    "Ahora nos preguntamos **¿Podemos agregar más variables explicativas para mejorar nuestro modelo?**\n",
    "\n",
    "<img src=\"https://raw.githubusercontent.com/Digital-House-DATA/ds_blend_2021_img/master/M3/CLASE_21_Regresion_Lineal_Simple/Presentacion/img/M3_CLASE_21_intro.png\" align=\"center\"/>\n",
    "\n",
    "\n",
    "\n"
   ]
  },
  {
   "cell_type": "markdown",
   "metadata": {
    "slideshow": {
     "slide_type": "slide"
    }
   },
   "source": [
    "### Agenda\n",
    "\n",
    "---\n",
    "\n",
    "- Regresión lineal múltiple\n",
    "\n",
    "- Variables Dummies\n",
    "\n",
    "- Normalización de Variables\n",
    "\n",
    "\n",
    "\n"
   ]
  },
  {
   "cell_type": "markdown",
   "metadata": {
    "slideshow": {
     "slide_type": "slide"
    }
   },
   "source": [
    "<div class=\"div-dhds-fondo-1\"> Regresión Lineal Múltiple\n",
    "<img src=\"https://raw.githubusercontent.com/Digital-House-DATA/ds_blend_2021_img/master/M3/CLASE_22_Regresion_Lineal_Multiple/Presentacion/img/M3_CLASE_22_separador.png\" align=\"center\" />\n",
    "\n",
    "</div>"
   ]
  },
  {
   "cell_type": "markdown",
   "metadata": {
    "slideshow": {
     "slide_type": "slide"
    }
   },
   "source": [
    "### Regresión Lineal Múltiple\n",
    "\n",
    "---\n",
    "\n",
    "La clase pasada analizamos en caso del dataset `advertising`, examinamos la relación entre ventas y publicidad en TV. \n",
    "\n",
    "Ese dataset tiene también datos de publicidad en Diarios y en Radio.\n",
    "\n",
    "En la práctica vamos a intentar usar más de una variable predictora con el objetivo de mejorar la performane de nuestro modelo. \n",
    "\n",
    "**¿Cómo podemos extender el análisis para incorporar predictores adicionales?**\n",
    "\n"
   ]
  },
  {
   "cell_type": "markdown",
   "metadata": {
    "slideshow": {
     "slide_type": "subslide"
    }
   },
   "source": [
    "Una opción es calcular tres regresiones lineales simples por separado, cada una usando un medio como predictor. \n",
    "\n",
    "Sin embargo esto no es del todo satisfactorio: \n",
    "    \n",
    "1. No es claro cómo hacer una única predicción de ventas a partir de los 3 predictores ya que cada uno tiene una ecuación de regresión separada\n",
    "\n",
    "2. Cada una de las regresiones simples ignora a los otros dos medios al estimar los coeficientes de regresión\n",
    "\n",
    "Veremos que si los presupuestos de publicidad están correlacionados entre ellos en nuestro dataset, esto puede llevar a estimaciones erróneas de los efectos individuales de cada medio en las ventas. \n",
    "\n",
    "En lugar de ajustar un modelo distinto de regresión simple para cada predictor, una mejor aproximación es **extender el modelo de regresión simple para que puede incluir múltiples predictores**. \n",
    "\n"
   ]
  },
  {
   "cell_type": "markdown",
   "metadata": {
    "slideshow": {
     "slide_type": "slide"
    }
   },
   "source": [
    "### Regresión Lineal Múltiple\n",
    "\n",
    "---\n",
    "\n",
    "Supongamos que tenemos $p$ predictores distintos, entonces el modelo de regresión lineal múltiple toma la siguiente forma:\n",
    "\n",
    "$$Y = \\beta_0 + \\beta_1. X_1 + \\beta_2. X_2 + ... + \\beta_p. X_p + \\epsilon$$\n"
   ]
  },
  {
   "cell_type": "markdown",
   "metadata": {
    "slideshow": {
     "slide_type": "subslide"
    }
   },
   "source": [
    "### Ejemplo de regresión lineal con dos predictores y una respuesta\n",
    "\n",
    "---\n",
    "\n",
    "La \"línea\" de regresión mínimo cuadrática se vuelve un plano. \n",
    "\n",
    "El plano buscado minimiza la suma de los cuadrados de las distancias entre cada observación y el plano.\n",
    "\n",
    "<img src=\"https://raw.githubusercontent.com/Digital-House-DATA/ds_blend_2021_img/master/M3/CLASE_22_Regresion_Lineal_Multiple/Presentacion/img/M3_CLASE_22_regresion_lineal_multiple.png\" align=\"center\"/>\n"
   ]
  },
  {
   "cell_type": "markdown",
   "metadata": {
    "slideshow": {
     "slide_type": "slide"
    }
   },
   "source": [
    "### Estimadores y Predicción para regresión lineal múltiple\n",
    "\n",
    "---\n",
    "\n",
    "Dados estimadores de los coeficientes de pendiente podemos pronosticar la variable de respuesta para una observación con valores dados de los predictores como:\n",
    "\n",
    "$$\\hat{y} = \\hat{\\beta_0} + \\hat{\\beta_1}. x_1 + \\hat{\\beta_2}. x_2 + ... + \\hat{\\beta_p}. x_p $$\n",
    "\n",
    "\n",
    "Elegimos los valores para los estimadores de los coeficientes  que minimizan la suma de residuos al cuadrado\n",
    "\n",
    "$$RSS = \\sum_{i=1}^{n}(y_i - \\hat{y_i})^2$$\n",
    "\n",
    "$$\\space \\space \\space  = \\sum_{i=1}^{n}(y_i - \\hat{\\beta_0} - \\hat{\\beta_1}. x_{i1} - \\hat{\\beta_2}. x_{i2} - ... - \\hat{\\beta_p}. x_{ip} )^2$$\n",
    "\n"
   ]
  },
  {
   "cell_type": "markdown",
   "metadata": {
    "slideshow": {
     "slide_type": "slide"
    }
   },
   "source": [
    "### Test de hipótesis sobre los coeficientes estimados\n",
    "\n",
    "---\n",
    "\n",
    "**¿Hay alguna relación entre la variable objetivo y todas las variables explicativas?**\n",
    "\n",
    "$H_0: \\beta_1 = \\beta_2 = ... \\beta_p = 0$\n",
    "\n",
    "$H_1:$ al menos un $\\beta_j \\ne 0$\n",
    "\n"
   ]
  },
  {
   "cell_type": "markdown",
   "metadata": {
    "slideshow": {
     "slide_type": "subslide"
    }
   },
   "source": [
    "<div class = \"Table\" style=\"font-size:20px;\" > \n",
    "<div class = \"Row\">\n",
    "<div class = \"Cell\" style=\"width:60%;line-height:3.5;\">\n",
    "\n",
    "Usamos el estadístico F:\n",
    "\n",
    "$$F = \\frac{(TSS - RSS)/p}{RSS / (n - p - 1)}$$\n",
    "\n",
    "\n",
    "Recordemos:\n",
    "\n",
    "$$TSS = \\sum_{i = 1}^{n}(y_i - \\bar{y})^2$$\n",
    "\n",
    "$$RSS = \\sum_{i=1}^{n}(y_i - \\hat{y_i})^2$$\n",
    "\n",
    "</div>\n",
    "<div class = \"Cell\" style=\"vertical-align: middle;\">\n",
    "    <img src=\"https://raw.githubusercontent.com/Digital-House-DATA/ds_blend_2021_img/master/M3/CLASE_22_Regresion_Lineal_Multiple/Presentacion/img/M3_CLASE_22_F.png\" align=\"middle\" />\n",
    "</div>\n",
    "</div>\n",
    "</div>\n",
    "\n"
   ]
  },
  {
   "cell_type": "markdown",
   "metadata": {
    "slideshow": {
     "slide_type": "slide"
    }
   },
   "source": [
    "### Interpretación\n",
    "\n",
    "---\n",
    "\n",
    "$X_j$ representa el predictor $j$ y $\\beta_j$ cuantifica la asociación entre esa variable predictora y la respuesta Y. \n",
    "\n",
    "**Interpretamos $\\beta_j$ como el efecto promedio en Y de un incremento unitario en Xj, manteniendo todos los otros predictores constantes**\n",
    "\n"
   ]
  },
  {
   "cell_type": "markdown",
   "metadata": {
    "slideshow": {
     "slide_type": "slide"
    }
   },
   "source": [
    "### Ejemplo\n",
    "\n",
    "---\n",
    "\n",
    "Analicemos ahora el dataset `advertising` \n",
    "\n",
    "$$Sales = \\beta_0 + \\beta_1 . TV + \\beta_2 . Radio + \\beta_3 . Newspaper + \\epsilon$$\n"
   ]
  },
  {
   "cell_type": "code",
   "execution_count": 86,
   "metadata": {
    "slideshow": {
     "slide_type": "skip"
    }
   },
   "outputs": [
    {
     "data": {
      "text/html": [
       "<div>\n",
       "<style scoped>\n",
       "    .dataframe tbody tr th:only-of-type {\n",
       "        vertical-align: middle;\n",
       "    }\n",
       "\n",
       "    .dataframe tbody tr th {\n",
       "        vertical-align: top;\n",
       "    }\n",
       "\n",
       "    .dataframe thead th {\n",
       "        text-align: right;\n",
       "    }\n",
       "</style>\n",
       "<table border=\"1\" class=\"dataframe\">\n",
       "  <thead>\n",
       "    <tr style=\"text-align: right;\">\n",
       "      <th></th>\n",
       "      <th>TV</th>\n",
       "      <th>Radio</th>\n",
       "      <th>Newspaper</th>\n",
       "      <th>Sales</th>\n",
       "    </tr>\n",
       "  </thead>\n",
       "  <tbody>\n",
       "    <tr>\n",
       "      <th>0</th>\n",
       "      <td>230.1</td>\n",
       "      <td>37.8</td>\n",
       "      <td>69.2</td>\n",
       "      <td>22.1</td>\n",
       "    </tr>\n",
       "    <tr>\n",
       "      <th>1</th>\n",
       "      <td>44.5</td>\n",
       "      <td>39.3</td>\n",
       "      <td>45.1</td>\n",
       "      <td>10.4</td>\n",
       "    </tr>\n",
       "    <tr>\n",
       "      <th>2</th>\n",
       "      <td>17.2</td>\n",
       "      <td>45.9</td>\n",
       "      <td>69.3</td>\n",
       "      <td>12.0</td>\n",
       "    </tr>\n",
       "    <tr>\n",
       "      <th>3</th>\n",
       "      <td>151.5</td>\n",
       "      <td>41.3</td>\n",
       "      <td>58.5</td>\n",
       "      <td>16.5</td>\n",
       "    </tr>\n",
       "    <tr>\n",
       "      <th>4</th>\n",
       "      <td>180.8</td>\n",
       "      <td>10.8</td>\n",
       "      <td>58.4</td>\n",
       "      <td>17.9</td>\n",
       "    </tr>\n",
       "  </tbody>\n",
       "</table>\n",
       "</div>"
      ],
      "text/plain": [
       "      TV  Radio  Newspaper  Sales\n",
       "0  230.1   37.8       69.2   22.1\n",
       "1   44.5   39.3       45.1   10.4\n",
       "2   17.2   45.9       69.3   12.0\n",
       "3  151.5   41.3       58.5   16.5\n",
       "4  180.8   10.8       58.4   17.9"
      ]
     },
     "execution_count": 86,
     "metadata": {},
     "output_type": "execute_result"
    }
   ],
   "source": [
    "advertising_file_path = \"advertising.csv\"\n",
    "advertising = pd.read_csv(advertising_file_path)\n",
    "advertising.head()\n"
   ]
  },
  {
   "cell_type": "code",
   "execution_count": 87,
   "metadata": {
    "slideshow": {
     "slide_type": "subslide"
    }
   },
   "outputs": [],
   "source": [
    "import statsmodels.api as sm\n",
    "\n",
    "feature_cols = [\"TV\", \"Radio\", \"Newspaper\"]\n",
    "\n",
    "X = advertising[feature_cols]\n",
    "y = advertising.Sales\n",
    "\n",
    "# Tenemos que agregar explícitamente a una constante:\n",
    "X = sm.add_constant(X)\n",
    "\n",
    "model = sm.OLS(y, X).fit()\n"
   ]
  },
  {
   "cell_type": "code",
   "execution_count": 88,
   "metadata": {},
   "outputs": [
    {
     "data": {
      "text/html": [
       "<div>\n",
       "<style scoped>\n",
       "    .dataframe tbody tr th:only-of-type {\n",
       "        vertical-align: middle;\n",
       "    }\n",
       "\n",
       "    .dataframe tbody tr th {\n",
       "        vertical-align: top;\n",
       "    }\n",
       "\n",
       "    .dataframe thead th {\n",
       "        text-align: right;\n",
       "    }\n",
       "</style>\n",
       "<table border=\"1\" class=\"dataframe\">\n",
       "  <thead>\n",
       "    <tr style=\"text-align: right;\">\n",
       "      <th></th>\n",
       "      <th>const</th>\n",
       "      <th>TV</th>\n",
       "      <th>Radio</th>\n",
       "      <th>Newspaper</th>\n",
       "    </tr>\n",
       "  </thead>\n",
       "  <tbody>\n",
       "    <tr>\n",
       "      <th>0</th>\n",
       "      <td>1.0</td>\n",
       "      <td>230.1</td>\n",
       "      <td>37.8</td>\n",
       "      <td>69.2</td>\n",
       "    </tr>\n",
       "    <tr>\n",
       "      <th>1</th>\n",
       "      <td>1.0</td>\n",
       "      <td>44.5</td>\n",
       "      <td>39.3</td>\n",
       "      <td>45.1</td>\n",
       "    </tr>\n",
       "    <tr>\n",
       "      <th>2</th>\n",
       "      <td>1.0</td>\n",
       "      <td>17.2</td>\n",
       "      <td>45.9</td>\n",
       "      <td>69.3</td>\n",
       "    </tr>\n",
       "    <tr>\n",
       "      <th>3</th>\n",
       "      <td>1.0</td>\n",
       "      <td>151.5</td>\n",
       "      <td>41.3</td>\n",
       "      <td>58.5</td>\n",
       "    </tr>\n",
       "    <tr>\n",
       "      <th>4</th>\n",
       "      <td>1.0</td>\n",
       "      <td>180.8</td>\n",
       "      <td>10.8</td>\n",
       "      <td>58.4</td>\n",
       "    </tr>\n",
       "  </tbody>\n",
       "</table>\n",
       "</div>"
      ],
      "text/plain": [
       "   const     TV  Radio  Newspaper\n",
       "0    1.0  230.1   37.8       69.2\n",
       "1    1.0   44.5   39.3       45.1\n",
       "2    1.0   17.2   45.9       69.3\n",
       "3    1.0  151.5   41.3       58.5\n",
       "4    1.0  180.8   10.8       58.4"
      ]
     },
     "execution_count": 88,
     "metadata": {},
     "output_type": "execute_result"
    }
   ],
   "source": [
    "X.head()"
   ]
  },
  {
   "cell_type": "code",
   "execution_count": 89,
   "metadata": {
    "slideshow": {
     "slide_type": "subslide"
    }
   },
   "outputs": [
    {
     "name": "stdout",
     "output_type": "stream",
     "text": [
      "                            OLS Regression Results                            \n",
      "==============================================================================\n",
      "Dep. Variable:                  Sales   R-squared:                       0.903\n",
      "Model:                            OLS   Adj. R-squared:                  0.901\n",
      "Method:                 Least Squares   F-statistic:                     605.4\n",
      "Date:                Thu, 17 Nov 2022   Prob (F-statistic):           8.13e-99\n",
      "Time:                        23:13:11   Log-Likelihood:                -383.34\n",
      "No. Observations:                 200   AIC:                             774.7\n",
      "Df Residuals:                     196   BIC:                             787.9\n",
      "Df Model:                           3                                         \n",
      "Covariance Type:            nonrobust                                         \n",
      "==============================================================================\n",
      "                 coef    std err          t      P>|t|      [0.025      0.975]\n",
      "------------------------------------------------------------------------------\n",
      "const          4.6251      0.308     15.041      0.000       4.019       5.232\n",
      "TV             0.0544      0.001     39.592      0.000       0.052       0.057\n",
      "Radio          0.1070      0.008     12.604      0.000       0.090       0.124\n",
      "Newspaper      0.0003      0.006      0.058      0.954      -0.011       0.012\n",
      "==============================================================================\n",
      "Omnibus:                       16.081   Durbin-Watson:                   2.251\n",
      "Prob(Omnibus):                  0.000   Jarque-Bera (JB):               27.655\n",
      "Skew:                          -0.431   Prob(JB):                     9.88e-07\n",
      "Kurtosis:                       4.605   Cond. No.                         454.\n",
      "==============================================================================\n",
      "\n",
      "Notes:\n",
      "[1] Standard Errors assume that the covariance matrix of the errors is correctly specified.\n"
     ]
    }
   ],
   "source": [
    "print (model.summary())"
   ]
  },
  {
   "cell_type": "markdown",
   "metadata": {
    "slideshow": {
     "slide_type": "subslide"
    }
   },
   "source": [
    "<img src=\"https://raw.githubusercontent.com/Digital-House-DATA/ds_blend_2021_img/master/M3/CLASE_22_Regresion_Lineal_Multiple/Presentacion/img/M3_CLASE_22_advertising_coeficientes.png\" align=\"center\" />\n",
    " \n",
    "Para el dataset `advertising`, los estimadores de coeficientes obtenidos por cuadrados mínimos para la regresión lineal múltiple, relacionan el número de unidades vendidas con el presupuesto de publicidad en radio tv y periódico\n",
    " \n",
    " \n",
    " "
   ]
  },
  {
   "cell_type": "markdown",
   "metadata": {
    "slideshow": {
     "slide_type": "subslide"
    }
   },
   "source": [
    "Comparemos los resultados obtenidos con la regresión lineal simple de Sales contra Newspaper\n"
   ]
  },
  {
   "cell_type": "code",
   "execution_count": 90,
   "metadata": {
    "slideshow": {
     "slide_type": "fragment"
    }
   },
   "outputs": [],
   "source": [
    "X_t = np.array(advertising.Newspaper, ndmin=2)\n",
    "X = np.transpose(X_t)\n",
    "y = advertising.Sales\n",
    "\n",
    "# Tenemos que agregar explícitamente a una constante:\n",
    "X = sm.add_constant(X)\n",
    "\n",
    "model = sm.OLS(y, X).fit()\n"
   ]
  },
  {
   "cell_type": "code",
   "execution_count": 91,
   "metadata": {},
   "outputs": [],
   "source": [
    "X_2 = advertising['Newspaper']\n",
    "y = advertising['Sales']\n",
    "X_2 = sm.add_constant(X_2)\n",
    "X_2.head()\n",
    "model = sm.OLS(y, X_2).fit()"
   ]
  },
  {
   "cell_type": "code",
   "execution_count": 92,
   "metadata": {
    "slideshow": {
     "slide_type": "subslide"
    }
   },
   "outputs": [
    {
     "name": "stdout",
     "output_type": "stream",
     "text": [
      "                            OLS Regression Results                            \n",
      "==============================================================================\n",
      "Dep. Variable:                  Sales   R-squared:                       0.025\n",
      "Model:                            OLS   Adj. R-squared:                  0.020\n",
      "Method:                 Least Squares   F-statistic:                     5.067\n",
      "Date:                Thu, 17 Nov 2022   Prob (F-statistic):             0.0255\n",
      "Time:                        23:13:12   Log-Likelihood:                -613.69\n",
      "No. Observations:                 200   AIC:                             1231.\n",
      "Df Residuals:                     198   BIC:                             1238.\n",
      "Df Model:                           1                                         \n",
      "Covariance Type:            nonrobust                                         \n",
      "==============================================================================\n",
      "                 coef    std err          t      P>|t|      [0.025      0.975]\n",
      "------------------------------------------------------------------------------\n",
      "const         13.9595      0.638     21.870      0.000      12.701      15.218\n",
      "Newspaper      0.0383      0.017      2.251      0.025       0.005       0.072\n",
      "==============================================================================\n",
      "Omnibus:                       10.252   Durbin-Watson:                   2.017\n",
      "Prob(Omnibus):                  0.006   Jarque-Bera (JB):                4.808\n",
      "Skew:                          -0.111   Prob(JB):                       0.0903\n",
      "Kurtosis:                       2.273   Cond. No.                         64.7\n",
      "==============================================================================\n",
      "\n",
      "Notes:\n",
      "[1] Standard Errors assume that the covariance matrix of the errors is correctly specified.\n"
     ]
    }
   ],
   "source": [
    "print (model.summary())"
   ]
  },
  {
   "cell_type": "markdown",
   "metadata": {
    "slideshow": {
     "slide_type": "subslide"
    }
   },
   "source": [
    "Vemos que con un nivel de significancia de 0.05, el estimador del coeficiente para Newspaper no es significativo en la regresión lineal múltiple y sí lo es en la regresión lineal simple.\n",
    "\n",
    "**¿Tiene sentido que la regresión lineal múltiple indique que no hay relación entre Sales y Newspaper mientras que la regresión lineal simple indica lo contrario?**\n",
    "\n",
    "Consideremos la matriz de correlación para las tres variables predictoras y la variable respuesta.\n"
   ]
  },
  {
   "cell_type": "code",
   "execution_count": 93,
   "metadata": {
    "slideshow": {
     "slide_type": "fragment"
    }
   },
   "outputs": [
    {
     "name": "stdout",
     "output_type": "stream",
     "text": [
      "[[1.         0.05480866 0.05664787 0.90120791]\n",
      " [0.05480866 1.         0.35410375 0.3496311 ]\n",
      " [0.05664787 0.35410375 1.         0.15796003]\n",
      " [0.90120791 0.3496311  0.15796003 1.        ]]\n",
      "Index(['TV', 'Radio', 'Newspaper', 'Sales'], dtype='object')\n"
     ]
    }
   ],
   "source": [
    "correlations = np.corrcoef(np.transpose(advertising))\n",
    "print(correlations)\n",
    "print(advertising.columns)"
   ]
  },
  {
   "cell_type": "markdown",
   "metadata": {
    "slideshow": {
     "slide_type": "subslide"
    }
   },
   "source": [
    "Notemos que la **correlación entre Radio y Newspaper es 0.35** \n",
    "\n",
    "La matriz de correlación revela que \n",
    "\n",
    "* En mercados donde gastamos más en Radio, Sales tiende a valores más altos \n",
    "\n",
    "* Tendencia a gastar más en publicidad en Newspaper en mercados donde se gasta más en publicidad en Radio\n",
    "\n",
    "Ahora **supongamos que la regresión múltiple es correcta** y la publicidad en Newspaper no tiene impacto directo en Sales pero la publicidad en Radio incrementa Sales.\n",
    "\n",
    "Cuando analizamos la regresión lineal simple, que sólo examina Sales vs. Newspaper, observamos que valores más grandes de Newspaper tienden a estar asociados con valores más altos de Sales, incluso aunque la publicidad en Newspaper no afecta a las ventas en Sales.\n",
    "\n",
    "Podemos explicar esto considerando la correlación existente entre Newspaper y Radio: **La variable Newspaper puede esconder el efecto de la variable Radio**, es decir Newspaper recibe el \"crédito\" por los efectos de Radio en Sales.\n"
   ]
  },
  {
   "cell_type": "markdown",
   "metadata": {
    "slideshow": {
     "slide_type": "slide"
    }
   },
   "source": [
    "### Multicolinealidad\n",
    "\n",
    "---\n",
    "\n",
    "En el **escenario ideal** los **predictores no están correlacionados**\n",
    "\n",
    "Las correlaciones entre los predictores causan problemas:\n",
    "\n",
    "La **varianza de los estimadores de los coeficientes tiende a aumentar**, a veces dramáticamente. Entonces **los estimadores de los coeficientes son menos precisos**. \n",
    "\n",
    "\n"
   ]
  },
  {
   "cell_type": "markdown",
   "metadata": {
    "slideshow": {
     "slide_type": "slide"
    }
   },
   "source": [
    "### Relación entre variable predictora y target\n",
    "\n",
    "---\n",
    "\n",
    "Dos de los supuestos básicos determinados por la forma del modelo lineal es que la relación entre cada predictor y el target es:\n",
    "\n",
    "* **aditiva**: el efecto del cambio de $X_j$ sobre $Y$ es aditivo a los efectos de los otros predictores.\n",
    "\n",
    "* **lineal**: el efecto del cambio en una unidad de $X_j$ sobre $Y$ es constante. \n",
    "\n",
    "Veremos muchos modelos a lo largo del curso que relajan estos supuestos. \n",
    "\n",
    "Veamos ahora dos formas de \"relajarlos\" dentro del marco de una regresión lineal.\n"
   ]
  },
  {
   "cell_type": "markdown",
   "metadata": {
    "slideshow": {
     "slide_type": "subslide"
    }
   },
   "source": [
    "En el ejemplo anterior, concluímos que TV y Radio tienen influencia sobre las ventas Sales.\n",
    "\n",
    "Hasta aquí asumimos que el efecto de pautar en TV sobre las ventas no dependía del gasto en publicidad en otros medios.\n",
    "\n",
    "¿Y si esto no fuera así? \n",
    "\n",
    "**Si el gasto en TV incrementara también el efecto del gasto en Radio** quizás tendría más sentido repartir el gasto entre ambos medios en lugar de asignar el presupuesto entero a uno solo.\n",
    "\n",
    "En marketing se llama a esto \"efecto sinergia\", en estadística se llama **interacción**\n"
   ]
  },
  {
   "cell_type": "markdown",
   "metadata": {
    "slideshow": {
     "slide_type": "slide"
    }
   },
   "source": [
    "### Extendiendo el modelo lineal: Interacciones entre predictores cuantitativos\n",
    "\n",
    "---\n",
    "\n",
    "Una forma de modelar el efecto interacción es incluir un tercer predictor en el modelo: el **producto de los predictores**. Por ejemplo, $X_1$ * $X_2$\n",
    "\n",
    "\n",
    "$$Y = \\beta_0 + \\beta_1 . X_1 + \\beta_2 . X_2 + \\beta_3 . X_1 . X_2 + \\epsilon$$\n",
    "\n",
    "¿Cómo afecta esto al modelo? Relajando el supuesto de aditivididad podemos reescribir el modelo de la siguiente forma:\n",
    "\n",
    "$$Y = \\beta_0 + (\\beta_1 + \\beta_3 . X_2) . X_1 + \\beta_2 . X_2 + \\epsilon$$\n",
    "\n",
    "$$\\space  = \\beta_0 +  \\tilde{\\beta_1} . X_1 + \\beta_2 . X_2 + \\epsilon$$\n",
    "\n",
    "Ahora entonces \n",
    "\n",
    "* El efecto de $X_1$ sobre $Y$ no es constante, el cambio en una unidad de $X_1$ sobre $Y$ está afectado por el valor de $X_2$. \n",
    "\n",
    "* El efecto de $X_2$ sobre $Y$ no es constante, el cambio en una unidad de $X_2$ sobre $Y$ depende también del valor de $X_1$\n",
    "\n",
    "\n"
   ]
  },
  {
   "cell_type": "markdown",
   "metadata": {
    "slideshow": {
     "slide_type": "slide"
    }
   },
   "source": [
    "### Interacciones entre predictores en `advertising`\n",
    "\n",
    "---\n",
    "\n",
    "Incluyendo un término de interacción el modelo quedaría \n",
    "\n",
    "$$Sales = \\beta_0 + \\beta_1 . TV + \\beta_2 . Radio + \\beta_3 . Radio . TV + \\epsilon$$\n",
    "    \n",
    "$$\\space = \\beta_0 + (\\beta_1 + \\beta_3 . Radio) . TV + \\beta_2 . Radio + \\epsilon$$\n",
    "\n",
    "Podemos interpretar $\\beta_3$ como el incremento en la efectividad de la pauta en TV por cada unidad de incremento de la pauta en radio (o al revés).\n"
   ]
  },
  {
   "cell_type": "markdown",
   "metadata": {
    "slideshow": {
     "slide_type": "subslide"
    }
   },
   "source": [
    "Vamos a calcular la regresión lineal múltiple para Sales con variables predictoras TV y Radio, y comparar los resultados del modelo con y sin interacción entre estas variables predictoras."
   ]
  },
  {
   "cell_type": "markdown",
   "metadata": {
    "slideshow": {
     "slide_type": "subslide"
    }
   },
   "source": [
    "#### Sin interaccion\n"
   ]
  },
  {
   "cell_type": "code",
   "execution_count": 94,
   "metadata": {
    "slideshow": {
     "slide_type": "subslide"
    }
   },
   "outputs": [],
   "source": [
    "feature_cols = [\"TV\", \"Radio\"]\n",
    "\n",
    "X = advertising[feature_cols]\n",
    "y = advertising.Sales\n",
    "\n",
    "# Tenemos que agregar explícitamente a una constante:\n",
    "X = sm.add_constant(X)\n",
    "\n",
    "model_no_interaccion = sm.OLS(y, X).fit()"
   ]
  },
  {
   "cell_type": "code",
   "execution_count": 95,
   "metadata": {
    "slideshow": {
     "slide_type": "subslide"
    }
   },
   "outputs": [
    {
     "name": "stdout",
     "output_type": "stream",
     "text": [
      "                            OLS Regression Results                            \n",
      "==============================================================================\n",
      "Dep. Variable:                  Sales   R-squared:                       0.903\n",
      "Model:                            OLS   Adj. R-squared:                  0.902\n",
      "Method:                 Least Squares   F-statistic:                     912.7\n",
      "Date:                Thu, 17 Nov 2022   Prob (F-statistic):          2.39e-100\n",
      "Time:                        23:13:12   Log-Likelihood:                -383.34\n",
      "No. Observations:                 200   AIC:                             772.7\n",
      "Df Residuals:                     197   BIC:                             782.6\n",
      "Df Model:                           2                                         \n",
      "Covariance Type:            nonrobust                                         \n",
      "==============================================================================\n",
      "                 coef    std err          t      P>|t|      [0.025      0.975]\n",
      "------------------------------------------------------------------------------\n",
      "const          4.6309      0.290     15.952      0.000       4.058       5.203\n",
      "TV             0.0544      0.001     39.726      0.000       0.052       0.057\n",
      "Radio          0.1072      0.008     13.522      0.000       0.092       0.123\n",
      "==============================================================================\n",
      "Omnibus:                       16.227   Durbin-Watson:                   2.252\n",
      "Prob(Omnibus):                  0.000   Jarque-Bera (JB):               27.973\n",
      "Skew:                          -0.434   Prob(JB):                     8.43e-07\n",
      "Kurtosis:                       4.613   Cond. No.                         425.\n",
      "==============================================================================\n",
      "\n",
      "Notes:\n",
      "[1] Standard Errors assume that the covariance matrix of the errors is correctly specified.\n"
     ]
    }
   ],
   "source": [
    "print (model_no_interaccion.summary())"
   ]
  },
  {
   "cell_type": "markdown",
   "metadata": {
    "slideshow": {
     "slide_type": "subslide"
    }
   },
   "source": [
    "#### Con interaccion"
   ]
  },
  {
   "cell_type": "code",
   "execution_count": 96,
   "metadata": {
    "slideshow": {
     "slide_type": "subslide"
    }
   },
   "outputs": [],
   "source": [
    "advertising[\"TV_x_RADIO\"] = advertising.TV * advertising.Radio\n",
    "\n",
    "feature_cols = [\"TV\", \"Radio\", \"TV_x_RADIO\"]\n",
    "\n",
    "X = advertising[feature_cols]\n",
    "y = advertising.Sales\n",
    "\n",
    "# Tenemos que agregar explícitamente a una constante:\n",
    "X = sm.add_constant(X)\n",
    "\n",
    "model_interaccion = sm.OLS(y, X).fit()\n"
   ]
  },
  {
   "cell_type": "code",
   "execution_count": 97,
   "metadata": {
    "slideshow": {
     "slide_type": "subslide"
    }
   },
   "outputs": [
    {
     "name": "stdout",
     "output_type": "stream",
     "text": [
      "                            OLS Regression Results                            \n",
      "==============================================================================\n",
      "Dep. Variable:                  Sales   R-squared:                       0.914\n",
      "Model:                            OLS   Adj. R-squared:                  0.913\n",
      "Method:                 Least Squares   F-statistic:                     694.7\n",
      "Date:                Thu, 17 Nov 2022   Prob (F-statistic):          3.90e-104\n",
      "Time:                        23:13:13   Log-Likelihood:                -370.83\n",
      "No. Observations:                 200   AIC:                             749.7\n",
      "Df Residuals:                     196   BIC:                             762.9\n",
      "Df Model:                           3                                         \n",
      "Covariance Type:            nonrobust                                         \n",
      "==============================================================================\n",
      "                 coef    std err          t      P>|t|      [0.025      0.975]\n",
      "------------------------------------------------------------------------------\n",
      "const          6.1926      0.410     15.101      0.000       5.384       7.001\n",
      "TV             0.0436      0.002     17.512      0.000       0.039       0.048\n",
      "Radio          0.0423      0.015      2.869      0.005       0.013       0.071\n",
      "TV_x_RADIO     0.0004   8.67e-05      5.110      0.000       0.000       0.001\n",
      "==============================================================================\n",
      "Omnibus:                        8.006   Durbin-Watson:                   2.295\n",
      "Prob(Omnibus):                  0.018   Jarque-Bera (JB):               10.847\n",
      "Skew:                          -0.258   Prob(JB):                      0.00441\n",
      "Kurtosis:                       4.017   Cond. No.                     1.80e+04\n",
      "==============================================================================\n",
      "\n",
      "Notes:\n",
      "[1] Standard Errors assume that the covariance matrix of the errors is correctly specified.\n",
      "[2] The condition number is large, 1.8e+04. This might indicate that there are\n",
      "strong multicollinearity or other numerical problems.\n"
     ]
    }
   ],
   "source": [
    "print (model_interaccion.summary())\n"
   ]
  },
  {
   "cell_type": "markdown",
   "metadata": {
    "slideshow": {
     "slide_type": "subslide"
    }
   },
   "source": [
    "\n",
    "El p-value para el término de interacción es muy bajo, lo cual sugiere que hay evidencia para rechazar que $\\beta_3$ es igual a cero en la población.\n",
    "\n",
    "$R^2$ es 91.4 %, comparado con el 90.3%  del modelo solo con efectos principales, entonces el modelo con el efecto de interacción es \"superior\" al que solo contiene los efectos principales.\n"
   ]
  },
  {
   "cell_type": "markdown",
   "metadata": {
    "slideshow": {
     "slide_type": "slide"
    }
   },
   "source": [
    "### Interacciones entre predictores cuantitativos\n",
    "\n",
    "---\n",
    "\n",
    "Puede suceder que los términos principales no sean significativos, mientras que los términos de interacción sí lo sean.\n",
    "\n",
    "El **principio jerárquico** plantea que si incluimos interacciones en un modelo también debemos incluir los efectos principales, aún si los coeficientes de estos últimos no son estadísticamente significativos. "
   ]
  },
  {
   "cell_type": "markdown",
   "metadata": {
    "slideshow": {
     "slide_type": "slide"
    }
   },
   "source": [
    "### Extendiendo el modelo lineal: Relaciones no lineales\n",
    "\n",
    "---\n",
    "\n",
    "Podemos generar un variables nuevas, elevando las existentes a alguna potencia:\n",
    "\n",
    "$$Sales = \\beta_0 + \\beta_1 . TV + \\beta_2 . TV ^ 2 + \\epsilon$$\n",
    "\n",
    "\n",
    "**El modelo sigue siendo lineal**, porque es lineal en los parámetros.\n",
    "\n",
    "\n"
   ]
  },
  {
   "cell_type": "markdown",
   "metadata": {
    "slideshow": {
     "slide_type": "subslide"
    }
   },
   "source": [
    "Vamos a comparar ahora el modelo de regresión lineal simple que relaciona Sales con TV, y los modelos de regresión lineal que incluyen TV elevado a alguna potencia."
   ]
  },
  {
   "cell_type": "markdown",
   "metadata": {
    "slideshow": {
     "slide_type": "subslide"
    }
   },
   "source": [
    "#### Regresión Lineal Simple"
   ]
  },
  {
   "cell_type": "code",
   "execution_count": 98,
   "metadata": {
    "slideshow": {
     "slide_type": "fragment"
    }
   },
   "outputs": [],
   "source": [
    "X_t = np.array(advertising.TV, ndmin=2)\n",
    "X = np.transpose(X_t)\n",
    "y = advertising.Sales\n",
    "\n",
    "# Tenemos que agregar explícitamente a una constante:\n",
    "X = sm.add_constant(X)\n",
    "\n",
    "model = sm.OLS(y, X).fit()\n"
   ]
  },
  {
   "cell_type": "code",
   "execution_count": 99,
   "metadata": {
    "slideshow": {
     "slide_type": "subslide"
    }
   },
   "outputs": [
    {
     "name": "stdout",
     "output_type": "stream",
     "text": [
      "                            OLS Regression Results                            \n",
      "==============================================================================\n",
      "Dep. Variable:                  Sales   R-squared:                       0.812\n",
      "Model:                            OLS   Adj. R-squared:                  0.811\n",
      "Method:                 Least Squares   F-statistic:                     856.2\n",
      "Date:                Thu, 17 Nov 2022   Prob (F-statistic):           7.93e-74\n",
      "Time:                        23:13:13   Log-Likelihood:                -448.99\n",
      "No. Observations:                 200   AIC:                             902.0\n",
      "Df Residuals:                     198   BIC:                             908.6\n",
      "Df Model:                           1                                         \n",
      "Covariance Type:            nonrobust                                         \n",
      "==============================================================================\n",
      "                 coef    std err          t      P>|t|      [0.025      0.975]\n",
      "------------------------------------------------------------------------------\n",
      "const          6.9748      0.323     21.624      0.000       6.339       7.611\n",
      "x1             0.0555      0.002     29.260      0.000       0.052       0.059\n",
      "==============================================================================\n",
      "Omnibus:                        0.013   Durbin-Watson:                   2.029\n",
      "Prob(Omnibus):                  0.993   Jarque-Bera (JB):                0.043\n",
      "Skew:                          -0.018   Prob(JB):                        0.979\n",
      "Kurtosis:                       2.938   Cond. No.                         338.\n",
      "==============================================================================\n",
      "\n",
      "Notes:\n",
      "[1] Standard Errors assume that the covariance matrix of the errors is correctly specified.\n"
     ]
    }
   ],
   "source": [
    "print (model.summary())"
   ]
  },
  {
   "cell_type": "markdown",
   "metadata": {
    "slideshow": {
     "slide_type": "subslide"
    }
   },
   "source": [
    "#### Regresión Lineal Múltiple"
   ]
  },
  {
   "cell_type": "code",
   "execution_count": 100,
   "metadata": {
    "slideshow": {
     "slide_type": "fragment"
    }
   },
   "outputs": [],
   "source": [
    "advertising[\"TV_2\"] = advertising.TV * advertising.TV \n",
    "advertising[\"TV_3\"] = advertising.TV * advertising.TV_2 \n",
    "advertising[\"TV_4\"] = advertising.TV * advertising.TV_3 \n",
    "advertising[\"TV_5\"] = advertising.TV * advertising.TV_4 \n",
    "\n",
    "feature_cols = [\"TV\", \"TV_2\", \"TV_3\", \"TV_4\", \"TV_5\"]\n",
    "\n",
    "X = advertising[feature_cols]\n",
    "y = advertising.Sales\n",
    "\n",
    "# Tenemos que agregar explícitamente a una constante:\n",
    "X = sm.add_constant(X)\n",
    "\n",
    "model = sm.OLS(y, X).fit()\n"
   ]
  },
  {
   "cell_type": "code",
   "execution_count": 101,
   "metadata": {
    "slideshow": {
     "slide_type": "subslide"
    }
   },
   "outputs": [
    {
     "name": "stdout",
     "output_type": "stream",
     "text": [
      "                            OLS Regression Results                            \n",
      "==============================================================================\n",
      "Dep. Variable:                  Sales   R-squared:                       0.836\n",
      "Model:                            OLS   Adj. R-squared:                  0.832\n",
      "Method:                 Least Squares   F-statistic:                     197.9\n",
      "Date:                Thu, 17 Nov 2022   Prob (F-statistic):           3.77e-74\n",
      "Time:                        23:13:13   Log-Likelihood:                -435.40\n",
      "No. Observations:                 200   AIC:                             882.8\n",
      "Df Residuals:                     194   BIC:                             902.6\n",
      "Df Model:                           5                                         \n",
      "Covariance Type:            nonrobust                                         \n",
      "==============================================================================\n",
      "                 coef    std err          t      P>|t|      [0.025      0.975]\n",
      "------------------------------------------------------------------------------\n",
      "const          2.9106      0.934      3.117      0.002       1.069       4.753\n",
      "TV             0.3399      0.067      5.078      0.000       0.208       0.472\n",
      "TV_2          -0.0056      0.001     -3.982      0.000      -0.008      -0.003\n",
      "TV_3        4.518e-05   1.19e-05      3.783      0.000    2.16e-05    6.87e-05\n",
      "TV_4       -1.594e-07   4.43e-08     -3.597      0.000   -2.47e-07    -7.2e-08\n",
      "TV_5        2.025e-10   5.94e-11      3.408      0.001    8.53e-11     3.2e-10\n",
      "==============================================================================\n",
      "Omnibus:                        2.518   Durbin-Watson:                   2.156\n",
      "Prob(Omnibus):                  0.284   Jarque-Bera (JB):                2.415\n",
      "Skew:                           0.269   Prob(JB):                        0.299\n",
      "Kurtosis:                       2.969   Cond. No.                     3.99e+12\n",
      "==============================================================================\n",
      "\n",
      "Notes:\n",
      "[1] Standard Errors assume that the covariance matrix of the errors is correctly specified.\n",
      "[2] The condition number is large, 3.99e+12. This might indicate that there are\n",
      "strong multicollinearity or other numerical problems.\n"
     ]
    }
   ],
   "source": [
    "print (model.summary())"
   ]
  },
  {
   "cell_type": "markdown",
   "metadata": {
    "slideshow": {
     "slide_type": "subslide"
    }
   },
   "source": [
    "Comparando los dos modelos vemos que el valor de $R^2$ es mejor para el modelo que incluye $TV^5$ que para el modelo de regresión lineal simple.\n",
    "\n",
    "Sin embargo, tenemos este warning que nos indica que el modelo puede tener problemas multicolinealidad:\n",
    "<code>\n",
    "[2] The condition number is large, 3.99e+12. This might indicate that there are strong multicollinearity or other numerical problems.\n",
    "</code>\n",
    "\n",
    "Y el p-value obtenido para todos los coeficientes indican que hay evidencia para rechazar que $\\beta_2$ $\\beta_3$ $\\beta_4$ y $\\beta_5$ sean igual a cero.\n",
    "\n",
    "Vamos a graficar ahora los modelos obtenidos usando $TV$, $TV^2$, ..., $TV^5$"
   ]
  },
  {
   "cell_type": "code",
   "execution_count": 102,
   "metadata": {},
   "outputs": [
    {
     "data": {
      "text/html": [
       "<div>\n",
       "<style scoped>\n",
       "    .dataframe tbody tr th:only-of-type {\n",
       "        vertical-align: middle;\n",
       "    }\n",
       "\n",
       "    .dataframe tbody tr th {\n",
       "        vertical-align: top;\n",
       "    }\n",
       "\n",
       "    .dataframe thead th {\n",
       "        text-align: right;\n",
       "    }\n",
       "</style>\n",
       "<table border=\"1\" class=\"dataframe\">\n",
       "  <thead>\n",
       "    <tr style=\"text-align: right;\">\n",
       "      <th></th>\n",
       "      <th>0</th>\n",
       "      <th>1</th>\n",
       "    </tr>\n",
       "  </thead>\n",
       "  <tbody>\n",
       "    <tr>\n",
       "      <th>const</th>\n",
       "      <td>1.068762e+00</td>\n",
       "      <td>4.752505e+00</td>\n",
       "    </tr>\n",
       "    <tr>\n",
       "      <th>TV</th>\n",
       "      <td>2.078704e-01</td>\n",
       "      <td>4.718984e-01</td>\n",
       "    </tr>\n",
       "    <tr>\n",
       "      <th>TV_2</th>\n",
       "      <td>-8.343936e-03</td>\n",
       "      <td>-2.815870e-03</td>\n",
       "    </tr>\n",
       "    <tr>\n",
       "      <th>TV_3</th>\n",
       "      <td>2.162298e-05</td>\n",
       "      <td>6.873217e-05</td>\n",
       "    </tr>\n",
       "    <tr>\n",
       "      <th>TV_4</th>\n",
       "      <td>-2.468020e-07</td>\n",
       "      <td>-7.199355e-08</td>\n",
       "    </tr>\n",
       "    <tr>\n",
       "      <th>TV_5</th>\n",
       "      <td>8.532139e-11</td>\n",
       "      <td>3.197649e-10</td>\n",
       "    </tr>\n",
       "  </tbody>\n",
       "</table>\n",
       "</div>"
      ],
      "text/plain": [
       "                  0             1\n",
       "const  1.068762e+00  4.752505e+00\n",
       "TV     2.078704e-01  4.718984e-01\n",
       "TV_2  -8.343936e-03 -2.815870e-03\n",
       "TV_3   2.162298e-05  6.873217e-05\n",
       "TV_4  -2.468020e-07 -7.199355e-08\n",
       "TV_5   8.532139e-11  3.197649e-10"
      ]
     },
     "execution_count": 102,
     "metadata": {},
     "output_type": "execute_result"
    }
   ],
   "source": [
    "model.conf_int()\n"
   ]
  },
  {
   "cell_type": "code",
   "execution_count": 103,
   "metadata": {
    "slideshow": {
     "slide_type": "skip"
    }
   },
   "outputs": [
    {
     "data": {
      "text/html": [
       "<div>\n",
       "<style scoped>\n",
       "    .dataframe tbody tr th:only-of-type {\n",
       "        vertical-align: middle;\n",
       "    }\n",
       "\n",
       "    .dataframe tbody tr th {\n",
       "        vertical-align: top;\n",
       "    }\n",
       "\n",
       "    .dataframe thead th {\n",
       "        text-align: right;\n",
       "    }\n",
       "</style>\n",
       "<table border=\"1\" class=\"dataframe\">\n",
       "  <thead>\n",
       "    <tr style=\"text-align: right;\">\n",
       "      <th></th>\n",
       "      <th>X</th>\n",
       "      <th>Y</th>\n",
       "      <th>model_1</th>\n",
       "      <th>model_2</th>\n",
       "      <th>model_3</th>\n",
       "      <th>model_4</th>\n",
       "      <th>model_5</th>\n",
       "    </tr>\n",
       "  </thead>\n",
       "  <tbody>\n",
       "    <tr>\n",
       "      <th>0</th>\n",
       "      <td>230.1</td>\n",
       "      <td>22.1</td>\n",
       "      <td>19.737265</td>\n",
       "      <td>19.732473</td>\n",
       "      <td>19.717700</td>\n",
       "      <td>20.046845</td>\n",
       "      <td>19.888121</td>\n",
       "    </tr>\n",
       "    <tr>\n",
       "      <th>1</th>\n",
       "      <td>44.5</td>\n",
       "      <td>10.4</td>\n",
       "      <td>9.443004</td>\n",
       "      <td>9.228955</td>\n",
       "      <td>9.238345</td>\n",
       "      <td>9.675763</td>\n",
       "      <td>10.377269</td>\n",
       "    </tr>\n",
       "    <tr>\n",
       "      <th>2</th>\n",
       "      <td>17.2</td>\n",
       "      <td>12.0</td>\n",
       "      <td>7.928816</td>\n",
       "      <td>7.200292</td>\n",
       "      <td>7.185303</td>\n",
       "      <td>7.101305</td>\n",
       "      <td>7.322125</td>\n",
       "    </tr>\n",
       "    <tr>\n",
       "      <th>3</th>\n",
       "      <td>151.5</td>\n",
       "      <td>16.5</td>\n",
       "      <td>15.377734</td>\n",
       "      <td>15.984230</td>\n",
       "      <td>15.984171</td>\n",
       "      <td>15.569757</td>\n",
       "      <td>15.619766</td>\n",
       "    </tr>\n",
       "    <tr>\n",
       "      <th>4</th>\n",
       "      <td>180.8</td>\n",
       "      <td>17.9</td>\n",
       "      <td>17.002852</td>\n",
       "      <td>17.501688</td>\n",
       "      <td>17.490649</td>\n",
       "      <td>17.237724</td>\n",
       "      <td>17.772529</td>\n",
       "    </tr>\n",
       "  </tbody>\n",
       "</table>\n",
       "</div>"
      ],
      "text/plain": [
       "       X     Y    model_1    model_2    model_3    model_4    model_5\n",
       "0  230.1  22.1  19.737265  19.732473  19.717700  20.046845  19.888121\n",
       "1   44.5  10.4   9.443004   9.228955   9.238345   9.675763  10.377269\n",
       "2   17.2  12.0   7.928816   7.200292   7.185303   7.101305   7.322125\n",
       "3  151.5  16.5  15.377734  15.984230  15.984171  15.569757  15.619766\n",
       "4  180.8  17.9  17.002852  17.501688  17.490649  17.237724  17.772529"
      ]
     },
     "execution_count": 103,
     "metadata": {},
     "output_type": "execute_result"
    }
   ],
   "source": [
    "predictions = pd.DataFrame()\n",
    "\n",
    "predictions[\"X\"] = advertising.TV\n",
    "#verdadero valor de Y\n",
    "predictions[\"Y\"] = advertising.Sales \n",
    "\n",
    "for i in range(1, 6):\n",
    "    \n",
    "    feature_cols = []\n",
    "\n",
    "    for j in range(1, i+1):\n",
    "        if j == 1:\n",
    "            col_name = \"TV\"\n",
    "        else:\n",
    "            col_name = \"TV_\" + str(j)\n",
    "\n",
    "        feature_cols.append(col_name)\n",
    "        \n",
    "\n",
    "    X_i = advertising[feature_cols]\n",
    "        \n",
    "    y_i = advertising.Sales\n",
    "\n",
    "    # Tenemos que agregar explícitamente a una constante:\n",
    "    X_i = sm.add_constant(X_i)\n",
    "\n",
    "    model_i = sm.OLS(y, X_i).fit()\n",
    "    predictions[\"model_\" + str(i)] = model_i.predict(X_i)\n",
    "    \n",
    "        \n",
    "predictions.head()"
   ]
  },
  {
   "cell_type": "code",
   "execution_count": 104,
   "metadata": {
    "slideshow": {
     "slide_type": "skip"
    }
   },
   "outputs": [
    {
     "data": {
      "text/html": [
       "<div>\n",
       "<style scoped>\n",
       "    .dataframe tbody tr th:only-of-type {\n",
       "        vertical-align: middle;\n",
       "    }\n",
       "\n",
       "    .dataframe tbody tr th {\n",
       "        vertical-align: top;\n",
       "    }\n",
       "\n",
       "    .dataframe thead th {\n",
       "        text-align: right;\n",
       "    }\n",
       "</style>\n",
       "<table border=\"1\" class=\"dataframe\">\n",
       "  <thead>\n",
       "    <tr style=\"text-align: right;\">\n",
       "      <th></th>\n",
       "      <th>X</th>\n",
       "      <th>variable</th>\n",
       "      <th>value</th>\n",
       "      <th>size</th>\n",
       "    </tr>\n",
       "  </thead>\n",
       "  <tbody>\n",
       "    <tr>\n",
       "      <th>0</th>\n",
       "      <td>230.1</td>\n",
       "      <td>Y</td>\n",
       "      <td>22.100000</td>\n",
       "      <td>10</td>\n",
       "    </tr>\n",
       "    <tr>\n",
       "      <th>1</th>\n",
       "      <td>44.5</td>\n",
       "      <td>Y</td>\n",
       "      <td>10.400000</td>\n",
       "      <td>10</td>\n",
       "    </tr>\n",
       "    <tr>\n",
       "      <th>2</th>\n",
       "      <td>17.2</td>\n",
       "      <td>Y</td>\n",
       "      <td>12.000000</td>\n",
       "      <td>10</td>\n",
       "    </tr>\n",
       "    <tr>\n",
       "      <th>3</th>\n",
       "      <td>151.5</td>\n",
       "      <td>Y</td>\n",
       "      <td>16.500000</td>\n",
       "      <td>10</td>\n",
       "    </tr>\n",
       "    <tr>\n",
       "      <th>4</th>\n",
       "      <td>180.8</td>\n",
       "      <td>Y</td>\n",
       "      <td>17.900000</td>\n",
       "      <td>10</td>\n",
       "    </tr>\n",
       "    <tr>\n",
       "      <th>...</th>\n",
       "      <td>...</td>\n",
       "      <td>...</td>\n",
       "      <td>...</td>\n",
       "      <td>...</td>\n",
       "    </tr>\n",
       "    <tr>\n",
       "      <th>1175</th>\n",
       "      <td>276.9</td>\n",
       "      <td>model_5</td>\n",
       "      <td>20.990832</td>\n",
       "      <td>10</td>\n",
       "    </tr>\n",
       "    <tr>\n",
       "      <th>1176</th>\n",
       "      <td>248.4</td>\n",
       "      <td>model_5</td>\n",
       "      <td>20.163537</td>\n",
       "      <td>10</td>\n",
       "    </tr>\n",
       "    <tr>\n",
       "      <th>1177</th>\n",
       "      <td>170.2</td>\n",
       "      <td>model_5</td>\n",
       "      <td>17.031435</td>\n",
       "      <td>10</td>\n",
       "    </tr>\n",
       "    <tr>\n",
       "      <th>1178</th>\n",
       "      <td>276.7</td>\n",
       "      <td>model_5</td>\n",
       "      <td>20.979203</td>\n",
       "      <td>10</td>\n",
       "    </tr>\n",
       "    <tr>\n",
       "      <th>1179</th>\n",
       "      <td>165.6</td>\n",
       "      <td>model_5</td>\n",
       "      <td>16.691822</td>\n",
       "      <td>10</td>\n",
       "    </tr>\n",
       "  </tbody>\n",
       "</table>\n",
       "<p>1180 rows × 4 columns</p>\n",
       "</div>"
      ],
      "text/plain": [
       "          X variable      value  size\n",
       "0     230.1        Y  22.100000    10\n",
       "1      44.5        Y  10.400000    10\n",
       "2      17.2        Y  12.000000    10\n",
       "3     151.5        Y  16.500000    10\n",
       "4     180.8        Y  17.900000    10\n",
       "...     ...      ...        ...   ...\n",
       "1175  276.9  model_5  20.990832    10\n",
       "1176  248.4  model_5  20.163537    10\n",
       "1177  170.2  model_5  17.031435    10\n",
       "1178  276.7  model_5  20.979203    10\n",
       "1179  165.6  model_5  16.691822    10\n",
       "\n",
       "[1180 rows x 4 columns]"
      ]
     },
     "execution_count": 104,
     "metadata": {},
     "output_type": "execute_result"
    }
   ],
   "source": [
    "data_to_plot = pd.melt(predictions, id_vars = [\"X\"], \n",
    "                       value_vars = ['Y', 'model_1', 'model_2', 'model_3', 'model_4', 'model_5'])\n",
    "data_to_plot[\"size\"] = 10\n",
    "data_to_plot.head(-20)"
   ]
  },
  {
   "cell_type": "code",
   "execution_count": 105,
   "metadata": {
    "slideshow": {
     "slide_type": "subslide"
    }
   },
   "outputs": [
    {
     "data": {
      "text/plain": [
       "<AxesSubplot:xlabel='X', ylabel='value'>"
      ]
     },
     "execution_count": 105,
     "metadata": {},
     "output_type": "execute_result"
    },
    {
     "data": {
      "image/png": "[encoded data removed]",
      "text/plain": [
       "<Figure size 1080x720 with 1 Axes>"
      ]
     },
     "metadata": {},
     "output_type": "display_data"
    }
   ],
   "source": [
    "sns.set(rc={'figure.figsize':(15,10)})\n",
    "sns.scatterplot(data=data_to_plot, x=\"X\", y=\"value\", hue=\"variable\", size = \"size\")"
   ]
  },
  {
   "cell_type": "markdown",
   "metadata": {
    "slideshow": {
     "slide_type": "slide"
    }
   },
   "source": [
    "<div class=\"div-dhds-fondo-1\">Evaluación de modelos\n",
    "<img src=\"https://raw.githubusercontent.com/Digital-House-DATA/ds_blend_2021_img/master/M3/CLASE_22_Regresion_Lineal_Multiple/Presentacion/img/M3_CLASE_22_separador.png\" align=\"center\" />\n",
    "\n",
    "</div>"
   ]
  },
  {
   "cell_type": "markdown",
   "metadata": {
    "slideshow": {
     "slide_type": "slide"
    }
   },
   "source": [
    "### $R^2$ ajustado\n",
    "\n",
    "---\n",
    "\n",
    "$R^2$ muestra qué tan bien se ajustan los datos a una curva o línea. \n",
    "\n",
    "El $R^2$ ajustado también indica qué tan bien se ajustan los términos a una curva o línea, pero **se corrige este número según la cantidad de variables predictoras del modelo**. \n",
    "\n",
    "Si agregamos variables inútiles a un modelo, el $R^2$ ajustado disminuirá. \n",
    "\n",
    "Si agregamos variables útiles  a un modelo, el $R^2$ ajustado aumentará.\n",
    "\n",
    "El valos de $R^2$ ajustado siempre será menor o igual que $R^2$\n",
    "\n",
    "Entonces en modelos de **regresión lineal multiple** debemos evaluar la calidad del ajuste con el valor de **$R^2$ ajustado**\n",
    "\n",
    "$$R^2_{ajustado} = 1 - (1-R^2)\\frac{n - 1}{n - p - 1}$$"
   ]
  },
  {
   "cell_type": "markdown",
   "metadata": {
    "slideshow": {
     "slide_type": "slide"
    }
   },
   "source": [
    "### Métricas de evaluación para problemas de regresión\n",
    "\n",
    "---\n",
    "\n",
    " Hay tres métricas de evaluación comunes para problemas de regresión:\n",
    "\n",
    "**El error absoluto medio** (MAE) es la media del valor absoluto de los errores:\n",
    "\n",
    "$$\\frac 1n\\sum_ {i = 1}^n |y_i-\\hat{y}_i|$$\n",
    "\n",
    "**Error cuadratico medio** (MSE) es la media de los errores al cuadrado:\n",
    "\n",
    "$$\\frac 1n\\sum_ {i = 1}^n(y_i- \\hat{y}_i)^2$$\n",
    "\n",
    "**Raiz del Error cuadrático medio** (RMSE) es la raíz cuadrada de la media de los errores al cuadrado:\n",
    "\n",
    "$$\\sqrt{\\frac 1n\\sum_{i = 1}^n(y_i- \\hat{y}_i)^2}$$\n",
    "\n",
    "Todas estas son **funciones de pérdida**, por lo tanto queremos minimizarlas."
   ]
  },
  {
   "cell_type": "code",
   "execution_count": 109,
   "metadata": {},
   "outputs": [
    {
     "name": "stdout",
     "output_type": "stream",
     "text": [
      "Coeficientes del modelo entrenando con todos los datos: [ 3.39884558e-01 -5.57990350e-03  4.51775766e-05 -1.59397754e-07\n",
      "  2.02543085e-10]. Deberian coincidir con los que calcula statmodels\n",
      "Coeficientes del modelo entrenando con parte de los datos que usamos de entrenamiento: [ 3.34797551e-01 -5.46608583e-03  4.45924750e-05 -1.58404364e-07\n",
      "  2.01918318e-10].\n",
      "Score MSE para los datos predichos sobre los datos de entrenamiento: 2.1431460388382875\n",
      "Score MSE para los datos predichos sobre los datos de testeo: 2.1517480890835046\n"
     ]
    }
   ],
   "source": [
    "# Celda nueva.\n",
    "\n",
    "# Como vemos si conviene hacer Tv5 o estamos haciendo overfitting?\n",
    "\n",
    "from sklearn.linear_model import LinearRegression\n",
    "from sklearn.metrics import mean_squared_error\n",
    "from sklearn.model_selection import train_test_split\n",
    "\n",
    "modelo = LinearRegression()\n",
    "\n",
    "feature_cols = [\"TV\", \"TV_2\", \"TV_3\", \"TV_4\", \"TV_5\"]\n",
    "X = advertising[feature_cols]\n",
    "y = advertising.Sales\n",
    "\n",
    "X_train, X_test, y_train, y_test = train_test_split(X,y)\n",
    "\n",
    "modelo.fit(X,y)\n",
    "print (f'Coeficientes del modelo entrenando con todos los datos: {modelo.coef_}. Deberian coincidir con los que calcula statmodels')\n",
    "\n",
    "modelo.fit(X_train, y_train)\n",
    "print (f'Coeficientes del modelo entrenando con parte de los datos que usamos de entrenamiento: {modelo.coef_}.')\n",
    "print (f'Score MSE para los datos predichos sobre los datos de entrenamiento: {mean_squared_error(y_train, modelo.predict(X_train), squared=False)}')\n",
    "print (f'Score MSE para los datos predichos sobre los datos de testeo: {mean_squared_error(y_test, modelo.predict(X_test), squared=False)}')\n",
    "\n"
   ]
  },
  {
   "cell_type": "code",
   "execution_count": 107,
   "metadata": {},
   "outputs": [
    {
     "name": "stdout",
     "output_type": "stream",
     "text": [
      "Coeficientes del modelo entrenando con todos los datos: [ 7.94447491e-02 -8.32211162e-05]. Deberian coincidir con los que calcula statmodels\n",
      "Coeficientes del modelo entrenando con parte de los datos que usamos de entrenamiento: [ 7.27960482e-02 -6.06067208e-05].\n",
      "Score MSE para los datos predichos sobre los datos de entrenamiento: 2.2798039162418053\n",
      "Score MSE para los datos predichos sobre los datos de testeo: 2.0544521178508677\n"
     ]
    }
   ],
   "source": [
    "# Vamos a repetir la prueba con menos terminos.\n",
    "\n",
    "feature_cols = [\"TV\", 'TV_2']\n",
    "X = advertising[feature_cols]\n",
    "y = advertising.Sales\n",
    "\n",
    "X_train, X_test, y_train, y_test = train_test_split(X,y)\n",
    "\n",
    "modelo.fit(X,y)\n",
    "print (f'Coeficientes del modelo entrenando con todos los datos: {modelo.coef_}. Deberian coincidir con los que calcula statmodels')\n",
    "\n",
    "modelo.fit(X_train, y_train)\n",
    "print (f'Coeficientes del modelo entrenando con parte de los datos que usamos de entrenamiento: {modelo.coef_}.')\n",
    "print (f'Score MSE para los datos predichos sobre los datos de entrenamiento: {mean_squared_error(y_train, modelo.predict(X_train), squared=False)}')\n",
    "print (f'Score MSE para los datos predichos sobre los datos de testeo: {mean_squared_error(y_test, modelo.predict(X_test), squared=False)}')"
   ]
  },
  {
   "cell_type": "markdown",
   "metadata": {
    "slideshow": {
     "slide_type": "slide"
    }
   },
   "source": [
    "<div class=\"div-dhds-fondo-1\"> Variables dummy\n",
    "<img src=\"https://raw.githubusercontent.com/Digital-House-DATA/ds_blend_2021_img/master/M3/CLASE_22_Regresion_Lineal_Multiple/Presentacion/img/M3_CLASE_22_separador.png\" align=\"center\" />\n",
    "\n",
    "</div>"
   ]
  },
  {
   "cell_type": "markdown",
   "metadata": {
    "slideshow": {
     "slide_type": "slide"
    }
   },
   "source": [
    "### Features cualitativas / categóricas\n",
    "\n",
    "---\n",
    "\n",
    "A veces nos encontraremos con problemas de regresión lineal que presentan **predictores cualitativos** (variables categóricas nominales u ordinales).\n",
    "\n",
    "Por ejemplo, para un dataset con datos sobre tarjetas de crédito donde la variable dependiente es el saldo de deuda, pueden ser útiles algunos predictores con estas características como:\n",
    "\n",
    "* Género\n",
    "* Estado Civil\n",
    "* Si es estudiante o no\n",
    "\n"
   ]
  },
  {
   "cell_type": "markdown",
   "metadata": {
    "slideshow": {
     "slide_type": "slide"
    }
   },
   "source": [
    "### Ejemplo\n",
    "\n",
    "---\n",
    "\n",
    "Estimemos diferencias entre el saldo de la tarjeta de crédito entre hombres y mujeres (ignorando el resto de las variables). \n",
    "\n",
    "Este es el caso de una regresión lineal simple con un predictor cualitativo.\n",
    "\n",
    "Definimos una variable dummy $x_i$ tal que\n",
    "$\n",
    "\\begin{equation}\n",
    "  x_i=\\begin{cases}\n",
    "    1, & \\text{si la i-ésima persona es mujer}\\\\\n",
    "    0, & \\text{en otro caso}.\n",
    "  \\end{cases}\n",
    "\\end{equation}\n",
    "$\n",
    "\n",
    "Así, el modelo de regresión toma la siguiente forma\n",
    "$\n",
    "\\begin{equation}\n",
    "  y_i = \\beta_0 + \\beta_1 . x_i + \\epsilon_i = \\begin{cases}\n",
    "    \\beta_0 + \\beta_1 + \\epsilon_i, & \\text{si la i-ésima persona es mujer}\\\\\n",
    "    \\beta_0 + \\epsilon_i, & \\text{en otro caso}.\n",
    "  \\end{cases}\n",
    "\\end{equation}\n",
    "$\n",
    "\n"
   ]
  },
  {
   "cell_type": "markdown",
   "metadata": {
    "slideshow": {
     "slide_type": "subslide"
    }
   },
   "source": [
    "Supongamos que para modelo anterior obtenemos\n",
    "\n",
    "<img src=\"https://raw.githubusercontent.com/Digital-House-DATA/ds_blend_2021_img/master/M3/CLASE_22_Regresion_Lineal_Multiple/Presentacion/img/M3_CLASE_22_regresion_lineal_multiple_dummies.png\" align=\"center\"/>\n",
    "\n",
    "¿Cómo interpretamos esto?\n"
   ]
  },
  {
   "cell_type": "markdown",
   "metadata": {
    "slideshow": {
     "slide_type": "subslide"
    }
   },
   "source": [
    "$\\beta_0$ puede ser interpretado como el saldo promedio de los hombres\n",
    "\n",
    "$\\beta_0$ + $\\beta_1$  expresa el  saldo promedio de las mujeres\n",
    "\n",
    "$\\beta_1$ expresa la diferencia media en el saldo entre ambos grupos\n",
    "\n",
    "En la tabla anterior, el crédito medio entre hombres se estimó en $\\$509,80$, el de las mujeres se estimó en $\\$509,80 + \\$19,73 = \\$529,53$. Es decir, que hay una diferencia de $\\$19,73$.\n",
    "\n",
    "Sin embargo, observemos que el p-value del coeficiente estimado de la variable dummy es demasiado elevado. Esto indica que no parece haber evidencia de una diferencia significativa en el saldo promedio de crédito entre géneros.\n",
    "\n",
    "La decisión de codificación es arbitraria, en caso de codificarlo al revés sólo cambiarían los valores de los coeficientes $\\beta_0$ sería $\\$529,53$ y $\\beta_1$ sería $-\\$19,73$ (negativo)\n"
   ]
  },
  {
   "cell_type": "markdown",
   "metadata": {
    "slideshow": {
     "slide_type": "slide"
    }
   },
   "source": [
    "<div class=\"div-dhds-fondo-1\"> Normalización\n",
    "<img src=\"https://raw.githubusercontent.com/Digital-House-DATA/ds_blend_2021_img/master/M3/CLASE_22_Regresion_Lineal_Multiple/Presentacion/img/M3_CLASE_22_separador.png\" align=\"center\" />\n",
    "\n",
    "</div>"
   ]
  },
  {
   "cell_type": "markdown",
   "metadata": {
    "slideshow": {
     "slide_type": "slide"
    }
   },
   "source": [
    "### Normalización \n",
    "\n",
    "---\n",
    "\n",
    "**¿Por qué normalizar?**\n",
    "\n",
    "* Manejo de cantidades en **diferentes unidades o escalas**\n",
    "\n",
    "* Muchos algoritmos de machine learning tienen la **normalización como requerimiento**\n",
    "\n",
    "\n",
    "Muchos algoritmos de machine learning se basan en el cálculo de medidas de distancia, en este cálculo intervienen todas los features (variables predictoras) representando cada una de las coordenadas de la observación.\n",
    "\n",
    "La medida de distancia que viene implementada por default es la distancia euclídea que requiere matemáticamente que todos los features sean numéricos. \n",
    "\n",
    "Para no favorecer a ningún feature en particular al calcular la distancia, debemos estandarizar y deshacernos de las unidades.\n",
    "\n"
   ]
  },
  {
   "cell_type": "markdown",
   "metadata": {
    "slideshow": {
     "slide_type": "slide"
    }
   },
   "source": [
    "**¿Cómo normalizar?**\n",
    "\n",
    "Existen algunas formas típicas de normalizar:\n",
    "\n",
    "La **estandarización**: $x_{norm} = (x - \\mu ) / \\sigma$\n",
    "\n",
    "La normalización **min-max**: $x_{norm} = (x - min) / (max - min)$\n",
    "\n",
    "donde $min$, $max$ son el valor mínimo y máximo de la variable predictora respectivamente\n",
    "\n",
    "\n",
    "La **elección** entre min-max y estandarización depende del objetivo del método:\n",
    "\n",
    "**min-max**: Tiene sentido en los casos donde importa que los features tengan las mismas unidades pero no necesariamente la misma varianza\n",
    "\n",
    "**estandarización***: Tiene sentido donde se necesita que los features tengan las mismas unidades y también la misma varianza, como por ejemplo en el análisis de componentes principales. \n"
   ]
  },
  {
   "cell_type": "markdown",
   "metadata": {
    "slideshow": {
     "slide_type": "slide"
    }
   },
   "source": [
    "#### En resumen\n",
    "\n",
    "Usamos la normalización para:\n",
    "\n",
    "* Manejo de cantidades en diferentes unidades o escalas\n",
    "\n",
    "* Muchos algoritmos de machine learning tienen la normalización como requerimiento\n",
    "\n",
    "* Puede aumentar la velocidad de convergencia usando el método de gradiente\n",
    "\n",
    "Existen diferentes métodos de normalización, como \n",
    "\n",
    "* estandarización, \n",
    "* min-max \n",
    "* L1 y L2 (que veremos en la clase de regularización)\n"
   ]
  },
  {
   "cell_type": "markdown",
   "metadata": {
    "slideshow": {
     "slide_type": "slide"
    }
   },
   "source": [
    "<div class=\"div-dhds-fondo-1\"> Hands-on\n",
    "<img src=\"https://raw.githubusercontent.com/Digital-House-DATA/ds_blend_2021_img/master/M3/CLASE_22_Regresion_Lineal_Multiple/Presentacion/img/M3_CLASE_22_separador.png\" align=\"center\" />\n",
    "\n",
    "</div>"
   ]
  },
  {
   "cell_type": "markdown",
   "metadata": {
    "slideshow": {
     "slide_type": "slide"
    }
   },
   "source": [
    "### Ejercicio \n",
    "\n",
    "---\n",
    "\n",
    "1. Teniendo en cuenta los valores de correlaciones entre las variables predictoras del dataset `advertising` ¿qué interacciones evaluaría para predecir la variable target Sales?\n",
    "\n",
    "2. Escribamos la ecuación del modelo lineal a entrenar, que incluya las variables $TV$, $Radio$, $TV^2$, $Radio^2$, $Radio . TV$\n",
    "\n",
    "3. Completemos el dataset `advertising` con las variables predictoras que vamos a incluir en el modelo\n",
    "\n",
    "4. Usando sklearn.model_selection dividamos el conjunto de datos en train y test.\n",
    "\n",
    "5. Usemos statsmodels para evaluar el p-value de cada uno de los coeficientes de la regresión. Quitando del modelo, de a una en orden de p-value decreciente, las variables predictoras cuyo coeficiente no es significativo.\n",
    "\n",
    "6. Usando sklearn entrenemos un modelo lineal para predecir la variable Sales de acuerdo a la ecuación del punto anterior\n",
    "\n",
    "7. Evaluemos la performance de ese modelo comparando MAE, MSE y RMSE en los conjuntos de train y test\n",
    "\n",
    "\n"
   ]
  },
  {
   "cell_type": "markdown",
   "metadata": {
    "slideshow": {
     "slide_type": "slide"
    }
   },
   "source": [
    "### Solución\n",
    "\n",
    "---\n",
    "\n",
    "1. \n",
    "\n",
    "Teniendo en cuenta los valores de correlaciones entre las variables predictoras del dataset `advertising`, las que presentan correlación más alta son Newspaper con Radio, por otro lado habíamos visto que Newspaper no era significativo en la regresión lineal múltiple sin interacciones, por lo tanto decidimos no evaluar esa interacción en el modelo. Vamos a considerar la interacción $Radio . TV$\n",
    "\n",
    "2. \n",
    "\n",
    "$$Sales = \\beta_0 + \\beta_1 . TV + \\beta_2 . Radio + \\beta_3 . TV^2 + \\beta_4 . Radio^2 + \\beta_5 . Radio . TV + \\epsilon$$\n",
    "\n"
   ]
  },
  {
   "cell_type": "markdown",
   "metadata": {
    "slideshow": {
     "slide_type": "slide"
    }
   },
   "source": [
    "3."
   ]
  },
  {
   "cell_type": "code",
   "execution_count": 108,
   "metadata": {
    "slideshow": {
     "slide_type": "fragment"
    }
   },
   "outputs": [
    {
     "ename": "FileNotFoundError",
     "evalue": "[Errno 2] No such file or directory: '../Data/advertising.csv'",
     "output_type": "error",
     "traceback": [
      "\u001b[1;31m---------------------------------------------------------------------------\u001b[0m",
      "\u001b[1;31mFileNotFoundError\u001b[0m                         Traceback (most recent call last)",
      "\u001b[1;32me:\\Trabajos\\DH\\Cursos_DHDS_CN14\\Clases\\C22 - Regresion multiple\\clase_22_modificada.ipynb Cell 73\u001b[0m in \u001b[0;36m<cell line: 2>\u001b[1;34m()\u001b[0m\n\u001b[0;32m      <a href='vscode-notebook-cell:/e%3A/Trabajos/DH/Cursos_DHDS_CN14/Clases/C22%20-%20Regresion%20multiple/clase_22_modificada.ipynb#Y130sZmlsZQ%3D%3D?line=0'>1</a>\u001b[0m advertising_file_path \u001b[39m=\u001b[39m \u001b[39m\"\u001b[39m\u001b[39m../Data/advertising.csv\u001b[39m\u001b[39m\"\u001b[39m\n\u001b[1;32m----> <a href='vscode-notebook-cell:/e%3A/Trabajos/DH/Cursos_DHDS_CN14/Clases/C22%20-%20Regresion%20multiple/clase_22_modificada.ipynb#Y130sZmlsZQ%3D%3D?line=1'>2</a>\u001b[0m advertising \u001b[39m=\u001b[39m pd\u001b[39m.\u001b[39;49mread_csv(advertising_file_path)\n\u001b[0;32m      <a href='vscode-notebook-cell:/e%3A/Trabajos/DH/Cursos_DHDS_CN14/Clases/C22%20-%20Regresion%20multiple/clase_22_modificada.ipynb#Y130sZmlsZQ%3D%3D?line=2'>3</a>\u001b[0m \u001b[39m#advertising.head()\u001b[39;00m\n\u001b[0;32m      <a href='vscode-notebook-cell:/e%3A/Trabajos/DH/Cursos_DHDS_CN14/Clases/C22%20-%20Regresion%20multiple/clase_22_modificada.ipynb#Y130sZmlsZQ%3D%3D?line=4'>5</a>\u001b[0m advertising[\u001b[39m\"\u001b[39m\u001b[39mRadio_TV\u001b[39m\u001b[39m\"\u001b[39m] \u001b[39m=\u001b[39m advertising\u001b[39m.\u001b[39mRadio \u001b[39m*\u001b[39m advertising\u001b[39m.\u001b[39mTV\n",
      "File \u001b[1;32mc:\\Users\\Ionatan\\anaconda3\\lib\\site-packages\\pandas\\util\\_decorators.py:311\u001b[0m, in \u001b[0;36mdeprecate_nonkeyword_arguments.<locals>.decorate.<locals>.wrapper\u001b[1;34m(*args, **kwargs)\u001b[0m\n\u001b[0;32m    305\u001b[0m \u001b[39mif\u001b[39;00m \u001b[39mlen\u001b[39m(args) \u001b[39m>\u001b[39m num_allow_args:\n\u001b[0;32m    306\u001b[0m     warnings\u001b[39m.\u001b[39mwarn(\n\u001b[0;32m    307\u001b[0m         msg\u001b[39m.\u001b[39mformat(arguments\u001b[39m=\u001b[39marguments),\n\u001b[0;32m    308\u001b[0m         \u001b[39mFutureWarning\u001b[39;00m,\n\u001b[0;32m    309\u001b[0m         stacklevel\u001b[39m=\u001b[39mstacklevel,\n\u001b[0;32m    310\u001b[0m     )\n\u001b[1;32m--> 311\u001b[0m \u001b[39mreturn\u001b[39;00m func(\u001b[39m*\u001b[39margs, \u001b[39m*\u001b[39m\u001b[39m*\u001b[39mkwargs)\n",
      "File \u001b[1;32mc:\\Users\\Ionatan\\anaconda3\\lib\\site-packages\\pandas\\io\\parsers\\readers.py:680\u001b[0m, in \u001b[0;36mread_csv\u001b[1;34m(filepath_or_buffer, sep, delimiter, header, names, index_col, usecols, squeeze, prefix, mangle_dupe_cols, dtype, engine, converters, true_values, false_values, skipinitialspace, skiprows, skipfooter, nrows, na_values, keep_default_na, na_filter, verbose, skip_blank_lines, parse_dates, infer_datetime_format, keep_date_col, date_parser, dayfirst, cache_dates, iterator, chunksize, compression, thousands, decimal, lineterminator, quotechar, quoting, doublequote, escapechar, comment, encoding, encoding_errors, dialect, error_bad_lines, warn_bad_lines, on_bad_lines, delim_whitespace, low_memory, memory_map, float_precision, storage_options)\u001b[0m\n\u001b[0;32m    665\u001b[0m kwds_defaults \u001b[39m=\u001b[39m _refine_defaults_read(\n\u001b[0;32m    666\u001b[0m     dialect,\n\u001b[0;32m    667\u001b[0m     delimiter,\n\u001b[1;32m   (...)\u001b[0m\n\u001b[0;32m    676\u001b[0m     defaults\u001b[39m=\u001b[39m{\u001b[39m\"\u001b[39m\u001b[39mdelimiter\u001b[39m\u001b[39m\"\u001b[39m: \u001b[39m\"\u001b[39m\u001b[39m,\u001b[39m\u001b[39m\"\u001b[39m},\n\u001b[0;32m    677\u001b[0m )\n\u001b[0;32m    678\u001b[0m kwds\u001b[39m.\u001b[39mupdate(kwds_defaults)\n\u001b[1;32m--> 680\u001b[0m \u001b[39mreturn\u001b[39;00m _read(filepath_or_buffer, kwds)\n",
      "File \u001b[1;32mc:\\Users\\Ionatan\\anaconda3\\lib\\site-packages\\pandas\\io\\parsers\\readers.py:575\u001b[0m, in \u001b[0;36m_read\u001b[1;34m(filepath_or_buffer, kwds)\u001b[0m\n\u001b[0;32m    572\u001b[0m _validate_names(kwds\u001b[39m.\u001b[39mget(\u001b[39m\"\u001b[39m\u001b[39mnames\u001b[39m\u001b[39m\"\u001b[39m, \u001b[39mNone\u001b[39;00m))\n\u001b[0;32m    574\u001b[0m \u001b[39m# Create the parser.\u001b[39;00m\n\u001b[1;32m--> 575\u001b[0m parser \u001b[39m=\u001b[39m TextFileReader(filepath_or_buffer, \u001b[39m*\u001b[39m\u001b[39m*\u001b[39mkwds)\n\u001b[0;32m    577\u001b[0m \u001b[39mif\u001b[39;00m chunksize \u001b[39mor\u001b[39;00m iterator:\n\u001b[0;32m    578\u001b[0m     \u001b[39mreturn\u001b[39;00m parser\n",
      "File \u001b[1;32mc:\\Users\\Ionatan\\anaconda3\\lib\\site-packages\\pandas\\io\\parsers\\readers.py:933\u001b[0m, in \u001b[0;36mTextFileReader.__init__\u001b[1;34m(self, f, engine, **kwds)\u001b[0m\n\u001b[0;32m    930\u001b[0m     \u001b[39mself\u001b[39m\u001b[39m.\u001b[39moptions[\u001b[39m\"\u001b[39m\u001b[39mhas_index_names\u001b[39m\u001b[39m\"\u001b[39m] \u001b[39m=\u001b[39m kwds[\u001b[39m\"\u001b[39m\u001b[39mhas_index_names\u001b[39m\u001b[39m\"\u001b[39m]\n\u001b[0;32m    932\u001b[0m \u001b[39mself\u001b[39m\u001b[39m.\u001b[39mhandles: IOHandles \u001b[39m|\u001b[39m \u001b[39mNone\u001b[39;00m \u001b[39m=\u001b[39m \u001b[39mNone\u001b[39;00m\n\u001b[1;32m--> 933\u001b[0m \u001b[39mself\u001b[39m\u001b[39m.\u001b[39m_engine \u001b[39m=\u001b[39m \u001b[39mself\u001b[39;49m\u001b[39m.\u001b[39;49m_make_engine(f, \u001b[39mself\u001b[39;49m\u001b[39m.\u001b[39;49mengine)\n",
      "File \u001b[1;32mc:\\Users\\Ionatan\\anaconda3\\lib\\site-packages\\pandas\\io\\parsers\\readers.py:1217\u001b[0m, in \u001b[0;36mTextFileReader._make_engine\u001b[1;34m(self, f, engine)\u001b[0m\n\u001b[0;32m   1213\u001b[0m     mode \u001b[39m=\u001b[39m \u001b[39m\"\u001b[39m\u001b[39mrb\u001b[39m\u001b[39m\"\u001b[39m\n\u001b[0;32m   1214\u001b[0m \u001b[39m# error: No overload variant of \"get_handle\" matches argument types\u001b[39;00m\n\u001b[0;32m   1215\u001b[0m \u001b[39m# \"Union[str, PathLike[str], ReadCsvBuffer[bytes], ReadCsvBuffer[str]]\"\u001b[39;00m\n\u001b[0;32m   1216\u001b[0m \u001b[39m# , \"str\", \"bool\", \"Any\", \"Any\", \"Any\", \"Any\", \"Any\"\u001b[39;00m\n\u001b[1;32m-> 1217\u001b[0m \u001b[39mself\u001b[39m\u001b[39m.\u001b[39mhandles \u001b[39m=\u001b[39m get_handle(  \u001b[39m# type: ignore[call-overload]\u001b[39;49;00m\n\u001b[0;32m   1218\u001b[0m     f,\n\u001b[0;32m   1219\u001b[0m     mode,\n\u001b[0;32m   1220\u001b[0m     encoding\u001b[39m=\u001b[39;49m\u001b[39mself\u001b[39;49m\u001b[39m.\u001b[39;49moptions\u001b[39m.\u001b[39;49mget(\u001b[39m\"\u001b[39;49m\u001b[39mencoding\u001b[39;49m\u001b[39m\"\u001b[39;49m, \u001b[39mNone\u001b[39;49;00m),\n\u001b[0;32m   1221\u001b[0m     compression\u001b[39m=\u001b[39;49m\u001b[39mself\u001b[39;49m\u001b[39m.\u001b[39;49moptions\u001b[39m.\u001b[39;49mget(\u001b[39m\"\u001b[39;49m\u001b[39mcompression\u001b[39;49m\u001b[39m\"\u001b[39;49m, \u001b[39mNone\u001b[39;49;00m),\n\u001b[0;32m   1222\u001b[0m     memory_map\u001b[39m=\u001b[39;49m\u001b[39mself\u001b[39;49m\u001b[39m.\u001b[39;49moptions\u001b[39m.\u001b[39;49mget(\u001b[39m\"\u001b[39;49m\u001b[39mmemory_map\u001b[39;49m\u001b[39m\"\u001b[39;49m, \u001b[39mFalse\u001b[39;49;00m),\n\u001b[0;32m   1223\u001b[0m     is_text\u001b[39m=\u001b[39;49mis_text,\n\u001b[0;32m   1224\u001b[0m     errors\u001b[39m=\u001b[39;49m\u001b[39mself\u001b[39;49m\u001b[39m.\u001b[39;49moptions\u001b[39m.\u001b[39;49mget(\u001b[39m\"\u001b[39;49m\u001b[39mencoding_errors\u001b[39;49m\u001b[39m\"\u001b[39;49m, \u001b[39m\"\u001b[39;49m\u001b[39mstrict\u001b[39;49m\u001b[39m\"\u001b[39;49m),\n\u001b[0;32m   1225\u001b[0m     storage_options\u001b[39m=\u001b[39;49m\u001b[39mself\u001b[39;49m\u001b[39m.\u001b[39;49moptions\u001b[39m.\u001b[39;49mget(\u001b[39m\"\u001b[39;49m\u001b[39mstorage_options\u001b[39;49m\u001b[39m\"\u001b[39;49m, \u001b[39mNone\u001b[39;49;00m),\n\u001b[0;32m   1226\u001b[0m )\n\u001b[0;32m   1227\u001b[0m \u001b[39massert\u001b[39;00m \u001b[39mself\u001b[39m\u001b[39m.\u001b[39mhandles \u001b[39mis\u001b[39;00m \u001b[39mnot\u001b[39;00m \u001b[39mNone\u001b[39;00m\n\u001b[0;32m   1228\u001b[0m f \u001b[39m=\u001b[39m \u001b[39mself\u001b[39m\u001b[39m.\u001b[39mhandles\u001b[39m.\u001b[39mhandle\n",
      "File \u001b[1;32mc:\\Users\\Ionatan\\anaconda3\\lib\\site-packages\\pandas\\io\\common.py:789\u001b[0m, in \u001b[0;36mget_handle\u001b[1;34m(path_or_buf, mode, encoding, compression, memory_map, is_text, errors, storage_options)\u001b[0m\n\u001b[0;32m    784\u001b[0m \u001b[39melif\u001b[39;00m \u001b[39misinstance\u001b[39m(handle, \u001b[39mstr\u001b[39m):\n\u001b[0;32m    785\u001b[0m     \u001b[39m# Check whether the filename is to be opened in binary mode.\u001b[39;00m\n\u001b[0;32m    786\u001b[0m     \u001b[39m# Binary mode does not support 'encoding' and 'newline'.\u001b[39;00m\n\u001b[0;32m    787\u001b[0m     \u001b[39mif\u001b[39;00m ioargs\u001b[39m.\u001b[39mencoding \u001b[39mand\u001b[39;00m \u001b[39m\"\u001b[39m\u001b[39mb\u001b[39m\u001b[39m\"\u001b[39m \u001b[39mnot\u001b[39;00m \u001b[39min\u001b[39;00m ioargs\u001b[39m.\u001b[39mmode:\n\u001b[0;32m    788\u001b[0m         \u001b[39m# Encoding\u001b[39;00m\n\u001b[1;32m--> 789\u001b[0m         handle \u001b[39m=\u001b[39m \u001b[39mopen\u001b[39;49m(\n\u001b[0;32m    790\u001b[0m             handle,\n\u001b[0;32m    791\u001b[0m             ioargs\u001b[39m.\u001b[39;49mmode,\n\u001b[0;32m    792\u001b[0m             encoding\u001b[39m=\u001b[39;49mioargs\u001b[39m.\u001b[39;49mencoding,\n\u001b[0;32m    793\u001b[0m             errors\u001b[39m=\u001b[39;49merrors,\n\u001b[0;32m    794\u001b[0m             newline\u001b[39m=\u001b[39;49m\u001b[39m\"\u001b[39;49m\u001b[39m\"\u001b[39;49m,\n\u001b[0;32m    795\u001b[0m         )\n\u001b[0;32m    796\u001b[0m     \u001b[39melse\u001b[39;00m:\n\u001b[0;32m    797\u001b[0m         \u001b[39m# Binary mode\u001b[39;00m\n\u001b[0;32m    798\u001b[0m         handle \u001b[39m=\u001b[39m \u001b[39mopen\u001b[39m(handle, ioargs\u001b[39m.\u001b[39mmode)\n",
      "\u001b[1;31mFileNotFoundError\u001b[0m: [Errno 2] No such file or directory: '../Data/advertising.csv'"
     ]
    }
   ],
   "source": [
    "advertising_file_path = \"../Data/advertising.csv\"\n",
    "advertising = pd.read_csv(advertising_file_path)\n",
    "#advertising.head()\n",
    "\n",
    "advertising[\"Radio_TV\"] = advertising.Radio * advertising.TV\n",
    "advertising[\"TV_TV\"] = advertising.TV * advertising.TV\n",
    "advertising[\"Radio_Radio\"] = advertising.Radio * advertising.Radio\n",
    "\n"
   ]
  },
  {
   "cell_type": "markdown",
   "metadata": {
    "slideshow": {
     "slide_type": "slide"
    }
   },
   "source": [
    "4."
   ]
  },
  {
   "cell_type": "code",
   "execution_count": null,
   "metadata": {
    "slideshow": {
     "slide_type": "fragment"
    }
   },
   "outputs": [],
   "source": [
    "from sklearn.model_selection import train_test_split\n",
    "\n",
    "feature_cols = ['TV', 'Radio', 'Radio_TV', 'TV_TV', 'Radio_Radio']\n",
    "\n",
    "X = advertising[feature_cols]\n",
    "y = advertising.Sales\n",
    "\n",
    "X_train, X_test, y_train, y_test = train_test_split(X, y, random_state=123)"
   ]
  },
  {
   "cell_type": "markdown",
   "metadata": {
    "slideshow": {
     "slide_type": "slide"
    }
   },
   "source": [
    "5."
   ]
  },
  {
   "cell_type": "code",
   "execution_count": null,
   "metadata": {
    "slideshow": {
     "slide_type": "fragment"
    }
   },
   "outputs": [
    {
     "name": "stdout",
     "output_type": "stream",
     "text": [
      "                            OLS Regression Results                            \n",
      "==============================================================================\n",
      "Dep. Variable:                  Sales   R-squared:                       0.934\n",
      "Model:                            OLS   Adj. R-squared:                  0.931\n",
      "Method:                 Least Squares   F-statistic:                     405.2\n",
      "Date:                Fri, 21 Oct 2022   Prob (F-statistic):           6.45e-83\n",
      "Time:                        21:02:07   Log-Likelihood:                -258.94\n",
      "No. Observations:                 150   AIC:                             529.9\n",
      "Df Residuals:                     144   BIC:                             547.9\n",
      "Df Model:                           5                                         \n",
      "Covariance Type:            nonrobust                                         \n",
      "===============================================================================\n",
      "                  coef    std err          t      P>|t|      [0.025      0.975]\n",
      "-------------------------------------------------------------------------------\n",
      "const           5.0843      0.531      9.579      0.000       4.035       6.133\n",
      "TV              0.0725      0.006     12.609      0.000       0.061       0.084\n",
      "Radio          -0.0187      0.032     -0.584      0.560      -0.082       0.045\n",
      "TV_TV       -9.372e-05   1.75e-05     -5.349      0.000      -0.000   -5.91e-05\n",
      "Radio_Radio     0.0015      0.001      2.427      0.016       0.000       0.003\n",
      "Radio_TV        0.0004    8.7e-05      4.477      0.000       0.000       0.001\n",
      "==============================================================================\n",
      "Omnibus:                        8.915   Durbin-Watson:                   1.818\n",
      "Prob(Omnibus):                  0.012   Jarque-Bera (JB):               15.002\n",
      "Skew:                          -0.241   Prob(JB):                     0.000553\n",
      "Kurtosis:                       4.473   Cond. No.                     1.85e+05\n",
      "==============================================================================\n",
      "\n",
      "Notes:\n",
      "[1] Standard Errors assume that the covariance matrix of the errors is correctly specified.\n",
      "[2] The condition number is large, 1.85e+05. This might indicate that there are\n",
      "strong multicollinearity or other numerical problems.\n"
     ]
    }
   ],
   "source": [
    "import statsmodels.api as sm\n",
    "\n",
    "feature_cols = ['TV', 'Radio', 'TV_TV', 'Radio_Radio', 'Radio_TV']\n",
    "\n",
    "X = X_train[feature_cols]\n",
    "y = y_train\n",
    "\n",
    "# Tenemos que agregar explícitamente a una constante:\n",
    "X = sm.add_constant(X)\n",
    "\n",
    "model = sm.OLS(y, X).fit()\n",
    "\n",
    "print(model.summary())"
   ]
  },
  {
   "cell_type": "markdown",
   "metadata": {},
   "source": [
    "El principio jerárquico plantea que si incluimos interacciones en un modelo también debemos incluir los efectos principales. En este caso, deberíamos quitar la variable predictora Radio porque su p-value es alto, pero vamos a conservarla porque el valor de p-value de Radio² y de Radio . TV son pequeños por lo tanto debemos mantener esos coeficientes en el modelo."
   ]
  },
  {
   "cell_type": "markdown",
   "metadata": {
    "slideshow": {
     "slide_type": "slide"
    }
   },
   "source": [
    "6. "
   ]
  },
  {
   "cell_type": "code",
   "execution_count": null,
   "metadata": {
    "slideshow": {
     "slide_type": "fragment"
    }
   },
   "outputs": [
    {
     "name": "stdout",
     "output_type": "stream",
     "text": [
      "[ 7.25212480e-02 -1.86956347e-02 -9.37168652e-05  1.50188750e-03\n",
      "  3.89402444e-04]\n",
      "5.084314081024141\n"
     ]
    }
   ],
   "source": [
    "from sklearn.linear_model import LinearRegression\n",
    "from sklearn import metrics\n",
    "\n",
    "\n",
    "feature_cols = ['TV', 'Radio', 'TV_TV', 'Radio_Radio', 'Radio_TV']\n",
    "\n",
    "Xtrain_sklearn = X_train[feature_cols]\n",
    "#deberiamos normalizar las features!! van a ver cómo hacerlo en la práctica guiada\n",
    "\n",
    "model = LinearRegression(fit_intercept=True)\n",
    "\n",
    "model.fit(Xtrain_sklearn, y_train)\n",
    "\n",
    "print(model.coef_)\n",
    "\n",
    "print(model.intercept_)\n"
   ]
  },
  {
   "cell_type": "markdown",
   "metadata": {
    "slideshow": {
     "slide_type": "slide"
    }
   },
   "source": [
    "7."
   ]
  },
  {
   "cell_type": "code",
   "execution_count": null,
   "metadata": {
    "slideshow": {
     "slide_type": "fragment"
    }
   },
   "outputs": [
    {
     "name": "stdout",
     "output_type": "stream",
     "text": [
      "R2:  0.9336339778136846\n",
      "R2:  0.9336339778136846\n",
      "R2 ajustado:  0.9313296020433265\n",
      "Mean Absolute Error: 1.0162796882982292\n",
      "Mean Squared Error: 1.848911246351324\n",
      "Root Mean Squared Error: 1.3597467581690805\n"
     ]
    }
   ],
   "source": [
    "print(\"R2: \", model.score(Xtrain_sklearn, y_train))\n",
    "\n",
    "n = len(y_train)\n",
    "p = 5\n",
    "ypred_train = model.predict(Xtrain_sklearn)\n",
    "r2 = metrics.r2_score(y_train, ypred_train)\n",
    "r2_ajustado = 1 - (1 - r2)*((n-1)/(n - p - 1))\n",
    "\n",
    "print(\"R2: \", metrics.r2_score(y_train, ypred_train))\n",
    "print(\"R2 ajustado: \", r2_ajustado)\n",
    "print('Mean Absolute Error:', metrics.mean_absolute_error(y_train, ypred_train))\n",
    "print('Mean Squared Error:', metrics.mean_squared_error(y_train, ypred_train))\n",
    "print('Root Mean Squared Error:', np.sqrt(metrics.mean_squared_error(y_train, ypred_train)))"
   ]
  },
  {
   "cell_type": "code",
   "execution_count": null,
   "metadata": {
    "slideshow": {
     "slide_type": "subslide"
    }
   },
   "outputs": [
    {
     "name": "stdout",
     "output_type": "stream",
     "text": [
      "R2:  0.9371412504725501\n",
      "R2:  0.9371412504725501\n",
      "R2 ajustado:  0.9299982107535217\n",
      "Mean Absolute Error: 0.9993515785418162\n",
      "Mean Squared Error: 1.7281351197234824\n",
      "Root Mean Squared Error: 1.3145855315358839\n"
     ]
    }
   ],
   "source": [
    "Xtest_sklearn = X_test[feature_cols]\n",
    "\n",
    "print(\"R2: \", model.score(Xtest_sklearn, y_test))\n",
    "\n",
    "n = len(y_test)\n",
    "p = 5\n",
    "ypred_test = model.predict(Xtest_sklearn)\n",
    "r2 = metrics.r2_score(y_test, ypred_test)\n",
    "r2_ajustado = 1 - (1 - r2)*((n-1)/(n - p - 1))\n",
    "\n",
    "print(\"R2: \", metrics.r2_score(y_test, ypred_test))\n",
    "print(\"R2 ajustado: \", r2_ajustado)\n",
    "print('Mean Absolute Error:', metrics.mean_absolute_error(y_test, ypred_test))\n",
    "print('Mean Squared Error:', metrics.mean_squared_error(y_test, ypred_test))\n",
    "print('Root Mean Squared Error:', np.sqrt(metrics.mean_squared_error(y_test, ypred_test)))"
   ]
  },
  {
   "cell_type": "markdown",
   "metadata": {
    "slideshow": {
     "slide_type": "subslide"
    }
   },
   "source": [
    "Las métricas obtenidas para train son parecidas a las obtenidas en test, por lo tanto consideramos que el modelo no tiene overfitting.\n",
    "\n",
    "Si comparamos el valor de $R^2$ ajustado obtenido en este modelo con el modelo sin interacción y con el modelo sin variables al cuadrado, vemos que hay una mejora en el modelo que ajustamos en este ejercicio."
   ]
  },
  {
   "cell_type": "markdown",
   "metadata": {
    "slideshow": {
     "slide_type": "slide"
    }
   },
   "source": [
    "<div class=\"div-dhds-fondo-1\"> Referencias y Material Adicional\n",
    "<img src=\"https://raw.githubusercontent.com/Digital-House-DATA/ds_blend_2021_img/master/M3/CLASE_21_Regresion_Lineal_Simple/Presentacion/img/M3_CLASE_21_separador.png\" align=\"center\" />\n",
    "\n",
    "</div>"
   ]
  },
  {
   "cell_type": "markdown",
   "metadata": {
    "slideshow": {
     "slide_type": "slide"
    }
   },
   "source": [
    "### Referencias y Material Adicional\n",
    "\n",
    "---\n",
    "\n",
    "<a href=\"https://www.statlearning.com/\" target=\"_blank\">An Introduction to Statistical Learning</a>\n",
    "\n",
    "<a href=\"https://www.econometrics-with-r.org/6-rmwmr.html\" target=\"_blank\">Regression Models with Multiple Regressors</a>\n",
    "\n",
    "<a href=\"https://www.youtube.com/playlist?list=PL03F4F3BE94EB5CE9\" target=\"_blank\">Modelo Lineal</a>\n",
    "\n",
    "\n"
   ]
  }
 ],
 "metadata": {
  "kernelspec": {
   "display_name": "Python 3.9.12 ('base')",
   "language": "python",
   "name": "python3"
  },
  "language_info": {
   "codemirror_mode": {
    "name": "ipython",
    "version": 3
   },
   "file_extension": ".py",
   "mimetype": "text/x-python",
   "name": "python",
   "nbconvert_exporter": "python",
   "pygments_lexer": "ipython3",
   "version": "3.9.12"
  },
  "vscode": {
   "interpreter": {
    "hash": "499a1cf83386e9cdb50680be6c4b00d5e02a649406be4f417a406efedf754313"
   }
  }
 },
 "nbformat": 4,
 "nbformat_minor": 4
}

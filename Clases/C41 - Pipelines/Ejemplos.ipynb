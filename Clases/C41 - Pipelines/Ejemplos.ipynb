{
 "cells": [
  {
   "cell_type": "markdown",
   "metadata": {},
   "source": [
    "# Clases\n",
    "\n",
    "Vamos a hacer una revision rapida de lo que es una clase."
   ]
  },
  {
   "cell_type": "code",
   "execution_count": 1,
   "metadata": {},
   "outputs": [],
   "source": [
    "from datetime import datetime\n",
    "\n",
    "class Animal():\n",
    "\n",
    "    def __init__(self):\n",
    "        self.born_time = datetime.now()\n",
    "\n",
    "\n"
   ]
  },
  {
   "cell_type": "code",
   "execution_count": 2,
   "metadata": {},
   "outputs": [
    {
     "data": {
      "text/plain": [
       "datetime.datetime(2023, 1, 30, 19, 36, 24, 272489)"
      ]
     },
     "execution_count": 2,
     "metadata": {},
     "output_type": "execute_result"
    }
   ],
   "source": [
    "perro = Animal()\n",
    "\n",
    "perro.born_time"
   ]
  },
  {
   "cell_type": "code",
   "execution_count": 3,
   "metadata": {},
   "outputs": [],
   "source": [
    "from datetime import datetime\n",
    "\n",
    "class Animal():\n",
    "\n",
    "    def __init__(self):\n",
    "        self.born_time = datetime.now()\n",
    "\n",
    "    def edad(self):\n",
    "        return datetime.now() - self.born_time"
   ]
  },
  {
   "cell_type": "code",
   "execution_count": 4,
   "metadata": {},
   "outputs": [
    {
     "name": "stdout",
     "output_type": "stream",
     "text": [
      "2023-01-30 19:36:24.272489\n",
      "2023-01-30 19:36:24.556481\n"
     ]
    }
   ],
   "source": [
    "perro2 = Animal()\n",
    "\n",
    "print (perro.born_time)\n",
    "print (perro2.born_time)\n"
   ]
  },
  {
   "cell_type": "code",
   "execution_count": 5,
   "metadata": {},
   "outputs": [
    {
     "name": "stdout",
     "output_type": "stream",
     "text": [
      "0:00:00.134006\n"
     ]
    }
   ],
   "source": [
    "#print (perro.edad())\n",
    "print (perro2.edad())"
   ]
  },
  {
   "cell_type": "code",
   "execution_count": 6,
   "metadata": {},
   "outputs": [],
   "source": [
    "from datetime import datetime\n",
    "\n",
    "class Animal():\n",
    "\n",
    "    def __init__(self):\n",
    "        self.born_time = datetime.now()\n",
    "\n",
    "    def calculo_edad(self):\n",
    "        return datetime.now() - self.born_time\n",
    "\n",
    "    def edad(self,unidad=\"s\"):\n",
    "        if not unidad in [\"s\",\"m\",\"h\"]:\n",
    "            raise TypeError(\"Las únicas unidades soportadas son: s por segundos, m por minutos, h por horas.\")\n",
    "        if unidad == \"s\":\n",
    "            print (f\"{self.calculo_edad().seconds} segundos\")\n",
    "        if unidad == \"m\":\n",
    "            delta = self.calculo_edad()\n",
    "            mins = delta.seconds // 60\n",
    "            segundos = delta.seconds % 60\n",
    "            print (f\"{mins} minutos, {segundos} segundos\")\n",
    "        if unidad == \"h\":\n",
    "            delta = self.calculo_edad()\n",
    "            horas = delta.seconds // 3600\n",
    "            minutos_restantes = delta.seconds % 3600\n",
    "            mins = minutos_restantes // 60\n",
    "            segundos = minutos_restantes % 60\n",
    "            print (f\"{horas} horas, {mins} minutos, {segundos} segundos\")\n",
    "\n",
    "\n",
    "\n",
    "perro3 = Animal()"
   ]
  },
  {
   "cell_type": "code",
   "execution_count": 7,
   "metadata": {},
   "outputs": [],
   "source": [
    "from datetime import datetime\n",
    "\n",
    "class Animal():\n",
    "\n",
    "    def __init__(self):\n",
    "        self.born_time = datetime.now()\n",
    "\n",
    "    def calculo_edad(self):\n",
    "        return datetime.now() - self.born_time\n",
    "\n",
    "    def edad(self,unidad=\"s\"):\n",
    "        if not unidad in [\"s\",\"m\",\"h\"]:\n",
    "            raise TypeError(\"Las únicas unidades soportadas son: s por segundos, m por minutos, h por horas.\")\n",
    "        if unidad == \"s\":\n",
    "            print (f\"{self.calculo_edad().seconds} segundos\")\n",
    "        if unidad == \"m\":\n",
    "            delta = self.calculo_edad()\n",
    "            mins = delta.seconds // 60\n",
    "            segundos = delta.seconds % 60\n",
    "            print (f\"{mins} minutos, {segundos} segundos\")\n",
    "        if unidad == \"h\":\n",
    "            delta = self.calculo_edad()\n",
    "            horas = delta.seconds // 3600\n",
    "            minutos_restantes = delta.seconds % 3600\n",
    "            mins = minutos_restantes // 60\n",
    "            segundos = minutos_restantes % 60\n",
    "            print (f\"{horas} horas, {mins} minutos, {segundos} segundos\")\n",
    "\n",
    "    def conocer_tipo_oreja(self):\n",
    "        if not hasattr(self,\"tipo_oreja\"):\n",
    "            print (\"Este animal no tiene orejas.\")\n",
    "        else:\n",
    "            print (f\"Este animal tiene orejas de tipo {self.tipo_oreja}\")\n",
    "\n",
    "animal_desconocido = Animal()"
   ]
  },
  {
   "cell_type": "code",
   "execution_count": 8,
   "metadata": {},
   "outputs": [
    {
     "name": "stdout",
     "output_type": "stream",
     "text": [
      "Este animal no tiene orejas.\n"
     ]
    }
   ],
   "source": [
    "animal_desconocido.conocer_tipo_oreja()"
   ]
  },
  {
   "cell_type": "code",
   "execution_count": 9,
   "metadata": {},
   "outputs": [],
   "source": [
    "class Gato(Animal):\n",
    "    pass\n",
    "\n",
    "gato1 = Gato()"
   ]
  },
  {
   "cell_type": "code",
   "execution_count": 10,
   "metadata": {},
   "outputs": [
    {
     "name": "stdout",
     "output_type": "stream",
     "text": [
      "0 segundos\n"
     ]
    }
   ],
   "source": [
    "gato1.edad()"
   ]
  },
  {
   "cell_type": "code",
   "execution_count": 11,
   "metadata": {},
   "outputs": [],
   "source": [
    "class Gato(Animal):\n",
    "    def __init__(self,nombre=None):\n",
    "        self.nombre = nombre\n",
    "        self.tipo_oreja = \"Puntiaguda\"\n",
    "\n",
    "\n",
    "gato2 = Gato()"
   ]
  },
  {
   "cell_type": "code",
   "execution_count": 12,
   "metadata": {},
   "outputs": [
    {
     "ename": "AttributeError",
     "evalue": "'Gato' object has no attribute 'born_time'",
     "output_type": "error",
     "traceback": [
      "\u001b[1;31m---------------------------------------------------------------------------\u001b[0m",
      "\u001b[1;31mAttributeError\u001b[0m                            Traceback (most recent call last)",
      "\u001b[1;32me:\\Trabajos\\DH\\Cursos_DHDS_CN13\\Clases\\C41 - Pipelines\\Ejemplos.ipynb Cell 13\u001b[0m in \u001b[0;36m<cell line: 1>\u001b[1;34m()\u001b[0m\n\u001b[1;32m----> <a href='vscode-notebook-cell:/e%3A/Trabajos/DH/Cursos_DHDS_CN13/Clases/C41%20-%20Pipelines/Ejemplos.ipynb#X15sZmlsZQ%3D%3D?line=0'>1</a>\u001b[0m gato2\u001b[39m.\u001b[39;49medad()\n",
      "\u001b[1;32me:\\Trabajos\\DH\\Cursos_DHDS_CN13\\Clases\\C41 - Pipelines\\Ejemplos.ipynb Cell 13\u001b[0m in \u001b[0;36mAnimal.edad\u001b[1;34m(self, unidad)\u001b[0m\n\u001b[0;32m     <a href='vscode-notebook-cell:/e%3A/Trabajos/DH/Cursos_DHDS_CN13/Clases/C41%20-%20Pipelines/Ejemplos.ipynb#X15sZmlsZQ%3D%3D?line=12'>13</a>\u001b[0m     \u001b[39mraise\u001b[39;00m \u001b[39mTypeError\u001b[39;00m(\u001b[39m\"\u001b[39m\u001b[39mLas únicas unidades soportadas son: s por segundos, m por minutos, h por horas.\u001b[39m\u001b[39m\"\u001b[39m)\n\u001b[0;32m     <a href='vscode-notebook-cell:/e%3A/Trabajos/DH/Cursos_DHDS_CN13/Clases/C41%20-%20Pipelines/Ejemplos.ipynb#X15sZmlsZQ%3D%3D?line=13'>14</a>\u001b[0m \u001b[39mif\u001b[39;00m unidad \u001b[39m==\u001b[39m \u001b[39m\"\u001b[39m\u001b[39ms\u001b[39m\u001b[39m\"\u001b[39m:\n\u001b[1;32m---> <a href='vscode-notebook-cell:/e%3A/Trabajos/DH/Cursos_DHDS_CN13/Clases/C41%20-%20Pipelines/Ejemplos.ipynb#X15sZmlsZQ%3D%3D?line=14'>15</a>\u001b[0m     \u001b[39mprint\u001b[39m (\u001b[39mf\u001b[39m\u001b[39m\"\u001b[39m\u001b[39m{\u001b[39;00m\u001b[39mself\u001b[39m\u001b[39m.\u001b[39mcalculo_edad()\u001b[39m.\u001b[39mseconds\u001b[39m}\u001b[39;00m\u001b[39m segundos\u001b[39m\u001b[39m\"\u001b[39m)\n\u001b[0;32m     <a href='vscode-notebook-cell:/e%3A/Trabajos/DH/Cursos_DHDS_CN13/Clases/C41%20-%20Pipelines/Ejemplos.ipynb#X15sZmlsZQ%3D%3D?line=15'>16</a>\u001b[0m \u001b[39mif\u001b[39;00m unidad \u001b[39m==\u001b[39m \u001b[39m\"\u001b[39m\u001b[39mm\u001b[39m\u001b[39m\"\u001b[39m:\n\u001b[0;32m     <a href='vscode-notebook-cell:/e%3A/Trabajos/DH/Cursos_DHDS_CN13/Clases/C41%20-%20Pipelines/Ejemplos.ipynb#X15sZmlsZQ%3D%3D?line=16'>17</a>\u001b[0m     delta \u001b[39m=\u001b[39m \u001b[39mself\u001b[39m\u001b[39m.\u001b[39mcalculo_edad()\n",
      "\u001b[1;32me:\\Trabajos\\DH\\Cursos_DHDS_CN13\\Clases\\C41 - Pipelines\\Ejemplos.ipynb Cell 13\u001b[0m in \u001b[0;36mAnimal.calculo_edad\u001b[1;34m(self)\u001b[0m\n\u001b[0;32m      <a href='vscode-notebook-cell:/e%3A/Trabajos/DH/Cursos_DHDS_CN13/Clases/C41%20-%20Pipelines/Ejemplos.ipynb#X15sZmlsZQ%3D%3D?line=7'>8</a>\u001b[0m \u001b[39mdef\u001b[39;00m \u001b[39mcalculo_edad\u001b[39m(\u001b[39mself\u001b[39m):\n\u001b[1;32m----> <a href='vscode-notebook-cell:/e%3A/Trabajos/DH/Cursos_DHDS_CN13/Clases/C41%20-%20Pipelines/Ejemplos.ipynb#X15sZmlsZQ%3D%3D?line=8'>9</a>\u001b[0m     \u001b[39mreturn\u001b[39;00m datetime\u001b[39m.\u001b[39mnow() \u001b[39m-\u001b[39m \u001b[39mself\u001b[39;49m\u001b[39m.\u001b[39;49mborn_time\n",
      "\u001b[1;31mAttributeError\u001b[0m: 'Gato' object has no attribute 'born_time'"
     ]
    }
   ],
   "source": [
    "gato2.edad()"
   ]
  },
  {
   "cell_type": "code",
   "execution_count": null,
   "metadata": {},
   "outputs": [],
   "source": [
    "class Gato(Animal):\n",
    "    def __init__(self,nombre=None):\n",
    "        super().__init__()\n",
    "        self.nombre = nombre\n",
    "        self.tipo_oreja = \"Puntiaguda\"\n",
    "\n",
    "gato3 = Gato()"
   ]
  },
  {
   "cell_type": "code",
   "execution_count": null,
   "metadata": {},
   "outputs": [
    {
     "name": "stdout",
     "output_type": "stream",
     "text": [
      "1 segundos\n",
      "Este animal tiene orejas de tipo Puntiaguda\n"
     ]
    }
   ],
   "source": [
    "gato3.edad()\n",
    "gato3.conocer_tipo_oreja()"
   ]
  },
  {
   "cell_type": "code",
   "execution_count": null,
   "metadata": {},
   "outputs": [
    {
     "data": {
      "text/plain": [
       "{'born_time': datetime.datetime(2022, 5, 9, 17, 27, 44, 359369),\n",
       " 'nombre': None,\n",
       " 'tipo_oreja': 'Puntiaguda'}"
      ]
     },
     "execution_count": 66,
     "metadata": {},
     "output_type": "execute_result"
    }
   ],
   "source": [
    "dir (gato3)\n",
    "gato3.__dict__"
   ]
  }
 ],
 "metadata": {
  "kernelspec": {
   "display_name": "base",
   "language": "python",
   "name": "python3"
  },
  "language_info": {
   "codemirror_mode": {
    "name": "ipython",
    "version": 3
   },
   "file_extension": ".py",
   "mimetype": "text/x-python",
   "name": "python",
   "nbconvert_exporter": "python",
   "pygments_lexer": "ipython3",
   "version": "3.9.12"
  },
  "orig_nbformat": 4,
  "vscode": {
   "interpreter": {
    "hash": "499a1cf83386e9cdb50680be6c4b00d5e02a649406be4f417a406efedf754313"
   }
  }
 },
 "nbformat": 4,
 "nbformat_minor": 2
}

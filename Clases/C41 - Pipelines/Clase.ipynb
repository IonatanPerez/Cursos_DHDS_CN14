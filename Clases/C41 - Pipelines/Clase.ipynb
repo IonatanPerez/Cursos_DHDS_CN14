{
 "cells": [
  {
   "cell_type": "code",
   "execution_count": 3,
   "id": "5a8950da-c56b-4d02-9484-5691d0c7d768",
   "metadata": {},
   "outputs": [],
   "source": [
    "def saludar_al_curso(a_quienes):\n",
    "    print (f\"Hola a {a_quienes}\")"
   ]
  },
  {
   "cell_type": "code",
   "execution_count": 6,
   "id": "d966753a-52ea-460d-85b3-c6cc1f2d67e1",
   "metadata": {},
   "outputs": [
    {
     "name": "stdout",
     "output_type": "stream",
     "text": [
      "Hola a todos\n"
     ]
    }
   ],
   "source": [
    "saludar_al_curso(\"todos\")"
   ]
  },
  {
   "cell_type": "code",
   "execution_count": 90,
   "id": "3bfda783-3f7d-49df-879e-dd815e1f3fe4",
   "metadata": {},
   "outputs": [],
   "source": [
    "from datetime import datetime\n",
    "\n",
    "class Mamifero():\n",
    "    \n",
    "    tipo = \"Animal\"\n",
    "    fecha_comun = datetime.now()\n",
    "    \n",
    "    @classmethod\n",
    "    def hola(cls):\n",
    "        print (f\"Hola, yo soy un {cls.tipo}\")\n",
    "    \n",
    "    def __init__(self,nombre_que_recibo):\n",
    "        self.nombre = nombre_que_recibo\n",
    "        self.fecha_nacimiento = datetime.now()\n",
    "        \n",
    "    def edad(self):\n",
    "        return datetime.now()-self.fecha_nacimiento\n",
    "    \n",
    "    def informar_edad(self,unidad=\"s\"):\n",
    "        # Esta funcion reporta la edad en formato texto amigable y acepta como parametros tres tipos de unidades, s, m, h\n",
    "        if not unidad in [\"s\",\"m\",\"h\"]:\n",
    "            raise TypeError(\"Las únicas unidades aceptadas son s para segundos, m para minutos, h para horas\")\n",
    "        if unidad == \"s\":\n",
    "            print (f\"{self.edad().seconds} segundos\")\n",
    "        if unidad == \"m\":\n",
    "            delta = self.edad()\n",
    "            mins = delta.seconds // 60\n",
    "            segundos = delta.seconds % 60\n",
    "            print (f\"{mins} minutos, {segundos} segundos\")\n",
    "        if unidad == \"h\":\n",
    "            delta = self.edad()\n",
    "            horas = delta.seconds // 3600\n",
    "            minutos_restantes = delta.seconds % 3600\n",
    "            mins = minutos_restantes // 60\n",
    "            segundos = minutos_restantes % 60\n",
    "            print (f\"{horas} horas, {mins} minutos, {segundos} segundos\")\n",
    "            \n",
    "    def conocer_tipo_oreja(self):\n",
    "        if not hasattr(self,\"tipo_oreja\"):\n",
    "            print (\"Este animal no tiene orejas.\") \n",
    "        else:\n",
    "            print (f\"Este animal tiene orejas de tipo {self.tipo_oreja}\")\n",
    "                        "
   ]
  },
  {
   "cell_type": "code",
   "execution_count": null,
   "id": "960d0ce7-2c00-4f04-8c97-41f90ed65b46",
   "metadata": {},
   "outputs": [],
   "source": [
    "Mamifero.hola()"
   ]
  },
  {
   "cell_type": "code",
   "execution_count": 36,
   "id": "83dfbd8b-84b8-4eb0-b787-a568ac238860",
   "metadata": {},
   "outputs": [
    {
     "name": "stdout",
     "output_type": "stream",
     "text": [
      "2022-05-09 19:29:55.628007\n",
      "2022-05-09 19:26:13.623546\n"
     ]
    }
   ],
   "source": [
    "raton3 = Mamifero(\"harry\")\n",
    "print (raton3.fecha_nacimiento)\n",
    "print (raton3.fecha_comun)"
   ]
  },
  {
   "cell_type": "code",
   "execution_count": 17,
   "id": "8b7b29b9-fd38-440d-9817-b6a742e93956",
   "metadata": {},
   "outputs": [
    {
     "data": {
      "text/plain": [
       "__main__.Mamifero"
      ]
     },
     "execution_count": 17,
     "metadata": {},
     "output_type": "execute_result"
    }
   ],
   "source": [
    "raton1 = Mamifero()\n",
    "type(raton1)\n",
    "#dir(raton1)"
   ]
  },
  {
   "cell_type": "code",
   "execution_count": 34,
   "id": "2d3379b4-71ef-491f-ae45-0430b377b2d4",
   "metadata": {},
   "outputs": [
    {
     "name": "stdout",
     "output_type": "stream",
     "text": [
      "2022-05-09 19:23:21.793624\n",
      "2022-05-09 19:22:28.620525\n"
     ]
    }
   ],
   "source": [
    "# raton2 = Mamifero(\"Jerry\")\n",
    "raton2.nombre\n",
    "print (raton2.fecha_nacimiento)\n",
    "print (raton2.fecha_comun)"
   ]
  },
  {
   "cell_type": "code",
   "execution_count": 58,
   "id": "6bcf1039-da94-4b1d-8934-a63ab163dacf",
   "metadata": {},
   "outputs": [],
   "source": [
    "raton4 = Mamifero(\"Raton Perez\")"
   ]
  },
  {
   "cell_type": "code",
   "execution_count": 60,
   "id": "fc1ea6ea-5cf7-4f4c-96f7-0238440a59d9",
   "metadata": {},
   "outputs": [
    {
     "name": "stdout",
     "output_type": "stream",
     "text": [
      "Este animal tiene orejas de tipo redondas\n"
     ]
    }
   ],
   "source": [
    "raton4.tipo_oreja = \"redondas\"\n",
    "raton4.conocer_tipo_oreja()"
   ]
  },
  {
   "cell_type": "code",
   "execution_count": 61,
   "id": "fcf1efcd-d7bc-4aa6-9514-3bbfc749d4ab",
   "metadata": {},
   "outputs": [],
   "source": [
    "raton5 = Mamifero(\"Raton no perez\")"
   ]
  },
  {
   "cell_type": "code",
   "execution_count": 62,
   "id": "7da8079e-6613-4c1b-aa94-aa694547494d",
   "metadata": {},
   "outputs": [
    {
     "name": "stdout",
     "output_type": "stream",
     "text": [
      "Este animal no tiene orejas.\n"
     ]
    }
   ],
   "source": [
    "raton5.conocer_tipo_oreja()"
   ]
  },
  {
   "cell_type": "code",
   "execution_count": 74,
   "id": "2224e8a2-eae8-4758-ab11-07ec80b632c2",
   "metadata": {},
   "outputs": [],
   "source": [
    "class Raton(Mamifero):\n",
    "    \n",
    "    def __init__(self,nombre=\"nombre_por_defecto\"):\n",
    "        super().__init__(nombre)\n",
    "        self.tipo_oreja = \"redonda\"\n",
    "    "
   ]
  },
  {
   "cell_type": "code",
   "execution_count": 77,
   "id": "40cb08b4-54ac-449d-ac53-71e58da090db",
   "metadata": {},
   "outputs": [],
   "source": [
    "raton6 = Raton(\"Perez\")"
   ]
  },
  {
   "cell_type": "code",
   "execution_count": 78,
   "id": "7c43783b-e1b1-4796-b409-6bf9777fa95f",
   "metadata": {},
   "outputs": [
    {
     "name": "stdout",
     "output_type": "stream",
     "text": [
      "9 segundos\n"
     ]
    },
    {
     "data": {
      "text/plain": [
       "'Perez'"
      ]
     },
     "execution_count": 78,
     "metadata": {},
     "output_type": "execute_result"
    }
   ],
   "source": [
    "raton6.informar_edad()\n",
    "raton6.nombre"
   ]
  }
 ],
 "metadata": {
  "kernelspec": {
   "display_name": "base",
   "language": "python",
   "name": "python3"
  },
  "language_info": {
   "codemirror_mode": {
    "name": "ipython",
    "version": 3
   },
   "file_extension": ".py",
   "mimetype": "text/x-python",
   "name": "python",
   "nbconvert_exporter": "python",
   "pygments_lexer": "ipython3",
   "version": "3.9.12 (main, Apr  4 2022, 05:22:27) [MSC v.1916 64 bit (AMD64)]"
  },
  "vscode": {
   "interpreter": {
    "hash": "499a1cf83386e9cdb50680be6c4b00d5e02a649406be4f417a406efedf754313"
   }
  }
 },
 "nbformat": 4,
 "nbformat_minor": 5
}

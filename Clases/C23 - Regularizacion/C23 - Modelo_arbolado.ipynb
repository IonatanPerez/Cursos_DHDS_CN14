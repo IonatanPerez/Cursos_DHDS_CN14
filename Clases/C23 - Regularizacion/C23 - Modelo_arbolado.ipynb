{
 "cells": [
  {
   "cell_type": "code",
   "execution_count": 1,
   "metadata": {},
   "outputs": [
    {
     "name": "stderr",
     "output_type": "stream",
     "text": [
      "C:\\Users\\Ionatan\\AppData\\Local\\Temp\\ipykernel_7948\\3586648081.py:6: DtypeWarning: Columns (2,7,8) have mixed types. Specify dtype option on import or set low_memory=False.\n",
      "  arboles = pd.read_csv(\"arbolado.csv\")\n"
     ]
    },
    {
     "data": {
      "text/html": [
       "<div>\n",
       "<style scoped>\n",
       "    .dataframe tbody tr th:only-of-type {\n",
       "        vertical-align: middle;\n",
       "    }\n",
       "\n",
       "    .dataframe tbody tr th {\n",
       "        vertical-align: top;\n",
       "    }\n",
       "\n",
       "    .dataframe thead th {\n",
       "        text-align: right;\n",
       "    }\n",
       "</style>\n",
       "<table border=\"1\" class=\"dataframe\">\n",
       "  <thead>\n",
       "    <tr style=\"text-align: right;\">\n",
       "      <th></th>\n",
       "      <th>long</th>\n",
       "      <th>lat</th>\n",
       "      <th>nro_registro</th>\n",
       "      <th>tipo_activ</th>\n",
       "      <th>comuna</th>\n",
       "      <th>manzana</th>\n",
       "      <th>calle_nombre</th>\n",
       "      <th>calle_altura</th>\n",
       "      <th>calle_chapa</th>\n",
       "      <th>direccion_normalizada</th>\n",
       "      <th>ubicacion</th>\n",
       "      <th>nombre_cientifico</th>\n",
       "      <th>ancho_acera</th>\n",
       "      <th>estado_plantera</th>\n",
       "      <th>ubicacion_plantera</th>\n",
       "      <th>nivel_plantera</th>\n",
       "      <th>diametro_altura_pecho</th>\n",
       "      <th>altura_arbol</th>\n",
       "    </tr>\n",
       "  </thead>\n",
       "  <tbody>\n",
       "    <tr>\n",
       "      <th>0</th>\n",
       "      <td>-58.378563</td>\n",
       "      <td>-34.594902</td>\n",
       "      <td>26779</td>\n",
       "      <td>Lineal</td>\n",
       "      <td>1</td>\n",
       "      <td>NaN</td>\n",
       "      <td>Esmeralda</td>\n",
       "      <td>1000.0</td>\n",
       "      <td>1120.0</td>\n",
       "      <td>ESMERALDA 1120</td>\n",
       "      <td>NaN</td>\n",
       "      <td>Tipuana tipu</td>\n",
       "      <td>5.5</td>\n",
       "      <td>Ocupada</td>\n",
       "      <td>Regular</td>\n",
       "      <td>A nivel</td>\n",
       "      <td>88.0</td>\n",
       "      <td>34.0</td>\n",
       "    </tr>\n",
       "    <tr>\n",
       "      <th>1</th>\n",
       "      <td>-58.381532</td>\n",
       "      <td>-34.592319</td>\n",
       "      <td>30887</td>\n",
       "      <td>Lineal</td>\n",
       "      <td>1</td>\n",
       "      <td>NaN</td>\n",
       "      <td>Pellegrini Carlos</td>\n",
       "      <td>1300.0</td>\n",
       "      <td>1345.0</td>\n",
       "      <td>PELLEGRINI, CARLOS 1345</td>\n",
       "      <td>Exacta</td>\n",
       "      <td>Peltophorum dubium</td>\n",
       "      <td>4.5</td>\n",
       "      <td>Ocupada</td>\n",
       "      <td>Regular</td>\n",
       "      <td>Elevada</td>\n",
       "      <td>6.0</td>\n",
       "      <td>5.0</td>\n",
       "    </tr>\n",
       "    <tr>\n",
       "      <th>2</th>\n",
       "      <td>-58.379103</td>\n",
       "      <td>-34.591939</td>\n",
       "      <td>30904</td>\n",
       "      <td>Lineal</td>\n",
       "      <td>1</td>\n",
       "      <td>NaN</td>\n",
       "      <td>Arroyo</td>\n",
       "      <td>800.0</td>\n",
       "      <td>848.0</td>\n",
       "      <td>ARROYO 848</td>\n",
       "      <td>Exacta</td>\n",
       "      <td>Fraxinus pennsylvanica</td>\n",
       "      <td>4</td>\n",
       "      <td>Ocupada</td>\n",
       "      <td>Regular</td>\n",
       "      <td>A nivel</td>\n",
       "      <td>7.0</td>\n",
       "      <td>6.0</td>\n",
       "    </tr>\n",
       "    <tr>\n",
       "      <th>3</th>\n",
       "      <td>-58.380710</td>\n",
       "      <td>-34.591548</td>\n",
       "      <td>31336</td>\n",
       "      <td>Lineal</td>\n",
       "      <td>1</td>\n",
       "      <td>NaN</td>\n",
       "      <td>Arroyo</td>\n",
       "      <td>900.0</td>\n",
       "      <td>932.0</td>\n",
       "      <td>ARROYO 932</td>\n",
       "      <td>LD</td>\n",
       "      <td>Fraxinus pennsylvanica</td>\n",
       "      <td>NaN</td>\n",
       "      <td>Ocupada</td>\n",
       "      <td>Regular</td>\n",
       "      <td>A nivel</td>\n",
       "      <td>9.0</td>\n",
       "      <td>29.0</td>\n",
       "    </tr>\n",
       "    <tr>\n",
       "      <th>4</th>\n",
       "      <td>-58.380710</td>\n",
       "      <td>-34.591548</td>\n",
       "      <td>31337</td>\n",
       "      <td>Lineal</td>\n",
       "      <td>1</td>\n",
       "      <td>NaN</td>\n",
       "      <td>Arroyo</td>\n",
       "      <td>900.0</td>\n",
       "      <td>932.0</td>\n",
       "      <td>ARROYO 932</td>\n",
       "      <td>LA</td>\n",
       "      <td>Jacaranda mimosifolia</td>\n",
       "      <td>NaN</td>\n",
       "      <td>Ocupada</td>\n",
       "      <td>Regular</td>\n",
       "      <td>A nivel</td>\n",
       "      <td>13.0</td>\n",
       "      <td>8.0</td>\n",
       "    </tr>\n",
       "  </tbody>\n",
       "</table>\n",
       "</div>"
      ],
      "text/plain": [
       "        long        lat nro_registro tipo_activ  comuna manzana  \\\n",
       "0 -58.378563 -34.594902        26779     Lineal       1     NaN   \n",
       "1 -58.381532 -34.592319        30887     Lineal       1     NaN   \n",
       "2 -58.379103 -34.591939        30904     Lineal       1     NaN   \n",
       "3 -58.380710 -34.591548        31336     Lineal       1     NaN   \n",
       "4 -58.380710 -34.591548        31337     Lineal       1     NaN   \n",
       "\n",
       "        calle_nombre calle_altura calle_chapa    direccion_normalizada  \\\n",
       "0          Esmeralda       1000.0      1120.0           ESMERALDA 1120   \n",
       "1  Pellegrini Carlos       1300.0      1345.0  PELLEGRINI, CARLOS 1345   \n",
       "2             Arroyo        800.0       848.0               ARROYO 848   \n",
       "3             Arroyo        900.0       932.0               ARROYO 932   \n",
       "4             Arroyo        900.0       932.0               ARROYO 932   \n",
       "\n",
       "  ubicacion       nombre_cientifico ancho_acera estado_plantera  \\\n",
       "0       NaN            Tipuana tipu         5.5         Ocupada   \n",
       "1    Exacta      Peltophorum dubium         4.5         Ocupada   \n",
       "2    Exacta  Fraxinus pennsylvanica           4         Ocupada   \n",
       "3        LD  Fraxinus pennsylvanica         NaN         Ocupada   \n",
       "4        LA   Jacaranda mimosifolia         NaN         Ocupada   \n",
       "\n",
       "  ubicacion_plantera nivel_plantera  diametro_altura_pecho  altura_arbol  \n",
       "0            Regular        A nivel                   88.0          34.0  \n",
       "1            Regular        Elevada                    6.0           5.0  \n",
       "2            Regular        A nivel                    7.0           6.0  \n",
       "3            Regular        A nivel                    9.0          29.0  \n",
       "4            Regular        A nivel                   13.0           8.0  "
      ]
     },
     "execution_count": 1,
     "metadata": {},
     "output_type": "execute_result"
    }
   ],
   "source": [
    "import pandas as pd\n",
    "import seaborn as sns\n",
    "import matplotlib.pyplot as plt\n",
    "\n",
    "#arboles = pd.read_csv(\"https://cdn.buenosaires.gob.ar/datosabiertos/datasets/arbolado-publico-lineal/arbolado-publico-lineal-2017-2018.csv\")\n",
    "arboles = pd.read_csv(\"arbolado.csv\")\n",
    "\n",
    "arboles.head()"
   ]
  },
  {
   "cell_type": "code",
   "execution_count": 2,
   "metadata": {},
   "outputs": [
    {
     "data": {
      "text/plain": [
       "Index(['Fraxinus pennsylvanica', 'Platanus x acerifolia', 'Ficus benjamina',\n",
       "       'Tilia x moltkei', 'Melia azedarach', 'Jacaranda mimosifolia',\n",
       "       'Lagerstroemia indica', 'Fraxinus americana', 'No identificado',\n",
       "       'Tipuana tipu'],\n",
       "      dtype='object')"
      ]
     },
     "execution_count": 2,
     "metadata": {},
     "output_type": "execute_result"
    }
   ],
   "source": [
    "arboles['nombre_cientifico'].value_counts().index[:10]"
   ]
  },
  {
   "cell_type": "raw",
   "metadata": {},
   "source": [
    "for especie in arboles['nombre_cientifico'].value_counts().index[50:70]:\n",
    "    plt.figure()\n",
    "    sns.regplot(data=arboles[arboles['nombre_cientifico']==especie], x='diametro_altura_pecho', y='altura_arbol')\n",
    "\n",
    "# 19 49 60"
   ]
  },
  {
   "cell_type": "code",
   "execution_count": 3,
   "metadata": {},
   "outputs": [
    {
     "data": {
      "text/plain": [
       "<AxesSubplot:xlabel='diametro_altura_pecho', ylabel='altura_arbol'>"
      ]
     },
     "execution_count": 3,
     "metadata": {},
     "output_type": "execute_result"
    },
    {
     "data": {
      "image/png": "[encoded data removed]",
      "text/plain": [
       "<Figure size 432x288 with 1 Axes>"
      ]
     },
     "metadata": {
      "needs_background": "light"
     },
     "output_type": "display_data"
    }
   ],
   "source": [
    "arbolado = arboles[arboles['nombre_cientifico'] == arboles['nombre_cientifico'].value_counts().index[49]]\n",
    "sns.regplot(data=arbolado, x='diametro_altura_pecho', y='altura_arbol')\n"
   ]
  },
  {
   "cell_type": "code",
   "execution_count": 4,
   "metadata": {},
   "outputs": [
    {
     "data": {
      "text/html": [
       "<div>\n",
       "<style scoped>\n",
       "    .dataframe tbody tr th:only-of-type {\n",
       "        vertical-align: middle;\n",
       "    }\n",
       "\n",
       "    .dataframe tbody tr th {\n",
       "        vertical-align: top;\n",
       "    }\n",
       "\n",
       "    .dataframe thead th {\n",
       "        text-align: right;\n",
       "    }\n",
       "</style>\n",
       "<table border=\"1\" class=\"dataframe\">\n",
       "  <thead>\n",
       "    <tr style=\"text-align: right;\">\n",
       "      <th></th>\n",
       "      <th>diametro_altura_pecho</th>\n",
       "      <th>altura_arbol</th>\n",
       "      <th>long</th>\n",
       "      <th>lat</th>\n",
       "      <th>comuna</th>\n",
       "    </tr>\n",
       "  </thead>\n",
       "  <tbody>\n",
       "    <tr>\n",
       "      <th>5967</th>\n",
       "      <td>11.0</td>\n",
       "      <td>10.0</td>\n",
       "      <td>-58.390412</td>\n",
       "      <td>-34.613151</td>\n",
       "      <td>1</td>\n",
       "    </tr>\n",
       "    <tr>\n",
       "      <th>7275</th>\n",
       "      <td>28.0</td>\n",
       "      <td>5.0</td>\n",
       "      <td>-58.370007</td>\n",
       "      <td>-34.612438</td>\n",
       "      <td>1</td>\n",
       "    </tr>\n",
       "    <tr>\n",
       "      <th>10078</th>\n",
       "      <td>10.0</td>\n",
       "      <td>4.0</td>\n",
       "      <td>-58.387188</td>\n",
       "      <td>-34.631302</td>\n",
       "      <td>1</td>\n",
       "    </tr>\n",
       "    <tr>\n",
       "      <th>10363</th>\n",
       "      <td>27.0</td>\n",
       "      <td>9.0</td>\n",
       "      <td>-58.387188</td>\n",
       "      <td>-34.631302</td>\n",
       "      <td>1</td>\n",
       "    </tr>\n",
       "    <tr>\n",
       "      <th>10575</th>\n",
       "      <td>24.0</td>\n",
       "      <td>4.0</td>\n",
       "      <td>-58.365486</td>\n",
       "      <td>-34.599067</td>\n",
       "      <td>1</td>\n",
       "    </tr>\n",
       "  </tbody>\n",
       "</table>\n",
       "</div>"
      ],
      "text/plain": [
       "       diametro_altura_pecho  altura_arbol       long        lat  comuna\n",
       "5967                    11.0          10.0 -58.390412 -34.613151       1\n",
       "7275                    28.0           5.0 -58.370007 -34.612438       1\n",
       "10078                   10.0           4.0 -58.387188 -34.631302       1\n",
       "10363                   27.0           9.0 -58.387188 -34.631302       1\n",
       "10575                   24.0           4.0 -58.365486 -34.599067       1"
      ]
     },
     "execution_count": 4,
     "metadata": {},
     "output_type": "execute_result"
    }
   ],
   "source": [
    "arbolado = arbolado[['diametro_altura_pecho','altura_arbol','long','lat','comuna']].dropna()\n",
    "arbolado.head()\n",
    "\n"
   ]
  },
  {
   "cell_type": "code",
   "execution_count": 5,
   "metadata": {},
   "outputs": [],
   "source": [
    "from sklearn.model_selection import train_test_split\n",
    "from sklearn.linear_model import LinearRegression\n",
    "from sklearn.preprocessing import StandardScaler\n",
    "from sklearn.linear_model import RidgeCV\n",
    "from sklearn.linear_model import LassoCV\n",
    "\n",
    "X = arbolado[['diametro_altura_pecho','long','lat','comuna']]\n",
    "y = arbolado['altura_arbol']\n",
    "\n"
   ]
  },
  {
   "cell_type": "code",
   "execution_count": 6,
   "metadata": {},
   "outputs": [],
   "source": [
    "X = arbolado[['diametro_altura_pecho','long','lat','comuna']]\n",
    "y = arbolado['altura_arbol']\n",
    "\n",
    "\n",
    "X_train, X_test, y_train, y_test = train_test_split(X, y)\n",
    "\n",
    "scaler = StandardScaler()\n",
    "X_train_std = scaler.fit_transform(X_train)\n",
    "X_test_std = scaler.transform(X_test)\n"
   ]
  },
  {
   "cell_type": "code",
   "execution_count": 7,
   "metadata": {},
   "outputs": [
    {
     "name": "stdout",
     "output_type": "stream",
     "text": [
      "[2.48020132 0.05071483 0.24127254 0.23893167]\n",
      "6.487745098039197\n"
     ]
    }
   ],
   "source": [
    "model_OLS = LinearRegression(fit_intercept=True)\n",
    "\n",
    "model_OLS.fit(X_train_std, y_train)\n",
    "\n",
    "print(model_OLS.coef_)\n",
    "\n",
    "print(model_OLS.intercept_)"
   ]
  },
  {
   "cell_type": "code",
   "execution_count": 8,
   "metadata": {},
   "outputs": [
    {
     "name": "stdout",
     "output_type": "stream",
     "text": [
      "10.0\n",
      "[2.41991428 0.04939961 0.24930029 0.23374216]\n",
      "6.487745098039196\n"
     ]
    }
   ],
   "source": [
    "model_ridge_cv = RidgeCV(alphas= [0.3, 0.5, 1.0, 1.1, 1.15, 1.17, 1.18, 1.19, 1.2, 1.21, 1.22, 1.3, 1.4, 1.5, 10.0], \n",
    "                                   fit_intercept=True, cv=10)\n",
    "model_ridge_cv.fit(X_train_std, y_train)\n",
    "\n",
    "print(model_ridge_cv.alpha_)\n",
    "\n",
    "print(model_ridge_cv.coef_)\n",
    "\n",
    "print(model_ridge_cv.intercept_)"
   ]
  },
  {
   "cell_type": "code",
   "execution_count": 9,
   "metadata": {},
   "outputs": [
    {
     "name": "stdout",
     "output_type": "stream",
     "text": [
      "0.3\n",
      "[ 2.22690172 -0.          0.11627406  0.00615992]\n",
      "6.4877450980392055\n"
     ]
    }
   ],
   "source": [
    "model_lasso_cv = LassoCV(alphas= [0.3, 0.5, 1.0, 1.1, 1.15, 1.17, 1.18, 1.19, 1.2, 1.21, 1.22, 1.3, 1.4, 1.5, 10.0], \n",
    "                                   fit_intercept=True, cv=10)\n",
    "model_lasso_cv.fit(X_train_std, y_train)\n",
    "\n",
    "print(model_lasso_cv.alpha_)\n",
    "\n",
    "print(model_lasso_cv.coef_)\n",
    "\n",
    "print(model_lasso_cv.intercept_)\n"
   ]
  },
  {
   "cell_type": "code",
   "execution_count": 10,
   "metadata": {},
   "outputs": [
    {
     "name": "stdout",
     "output_type": "stream",
     "text": [
      "Modelo OLS:\n",
      "\n",
      "Score (R^2) en train del modelo es 0.6104347358350742 y en test es 0.4658614853569536\n",
      "\n",
      "\n",
      "Modelo Ridge:\n",
      "\n",
      "Score (R^2) en train del modelo es 0.610108808330693 y en test es 0.47270118412560713\n",
      "\n",
      "\n",
      "Modelo Lasso:\n",
      "\n",
      "Score (R^2) en train del modelo es 0.5938335699378534 y en test es 0.49366501453237766\n",
      "\n",
      "\n"
     ]
    }
   ],
   "source": [
    "# Comparamos metricas en train y en test\n",
    "\n",
    "print ('Modelo OLS:\\n')\n",
    "print (f'Score (R^2) en train del modelo es {model_OLS.score(X_train_std, y_train)} y en test es {model_OLS.score(X_test_std, y_test)}')\n",
    "print ('\\n')\n",
    "\n",
    "print ('Modelo Ridge:\\n')\n",
    "print (f'Score (R^2) en train del modelo es {model_ridge_cv.score(X_train_std, y_train)} y en test es {model_ridge_cv.score(X_test_std, y_test)}')\n",
    "print ('\\n')\n",
    "\n",
    "print ('Modelo Lasso:\\n')\n",
    "print (f'Score (R^2) en train del modelo es {model_lasso_cv.score(X_train_std, y_train)} y en test es {model_lasso_cv.score(X_test_std, y_test)}')\n",
    "print ('\\n')"
   ]
  },
  {
   "cell_type": "code",
   "execution_count": 15,
   "metadata": {},
   "outputs": [
    {
     "name": "stdout",
     "output_type": "stream",
     "text": [
      "Modelo OLS:\n",
      "\n",
      "Score (MSE) en train del modelo es 4.2526956278676 y en test es 6.485324097665346\n",
      "\n",
      "\n",
      "Modelo Ridge:\n",
      "\n",
      "Score (MSE) en train del modelo es 4.256253620841782 y en test es 6.402278853727517\n",
      "\n",
      "\n",
      "Modelo Lasso:\n",
      "\n",
      "Score (MSE) en train del modelo es 4.43392252903897 y en test es 6.147743315118668\n",
      "\n",
      "\n"
     ]
    }
   ],
   "source": [
    "# Comparamos metricas de SME en train y en test\n",
    "\n",
    "from sklearn.metrics import mean_squared_error\n",
    "\n",
    "metrica = mean_squared_error\n",
    "\n",
    "print ('Modelo OLS:\\n')\n",
    "print (f'Score (MSE) en train del modelo es {metrica(y_train, model_OLS.predict(X_train_std))} y en test es {metrica(y_test, model_OLS.predict(X_test_std))}')\n",
    "print ('\\n')\n",
    "\n",
    "print ('Modelo Ridge:\\n')\n",
    "print (f'Score (MSE) en train del modelo es {metrica(y_train, model_ridge_cv.predict(X_train_std))} y en test es {metrica(y_test, model_ridge_cv.predict(X_test_std))}')\n",
    "print ('\\n')\n",
    "\n",
    "print ('Modelo Lasso:\\n')\n",
    "print (f'Score (MSE) en train del modelo es {metrica(y_train, model_lasso_cv.predict(X_train_std))} y en test es {metrica(y_test, model_lasso_cv.predict(X_test_std))}')\n",
    "print ('\\n')"
   ]
  }
 ],
 "metadata": {
  "kernelspec": {
   "display_name": "Python 3.9.12 ('base')",
   "language": "python",
   "name": "python3"
  },
  "language_info": {
   "codemirror_mode": {
    "name": "ipython",
    "version": 3
   },
   "file_extension": ".py",
   "mimetype": "text/x-python",
   "name": "python",
   "nbconvert_exporter": "python",
   "pygments_lexer": "ipython3",
   "version": "3.9.12"
  },
  "orig_nbformat": 4,
  "vscode": {
   "interpreter": {
    "hash": "499a1cf83386e9cdb50680be6c4b00d5e02a649406be4f417a406efedf754313"
   }
  }
 },
 "nbformat": 4,
 "nbformat_minor": 2
}

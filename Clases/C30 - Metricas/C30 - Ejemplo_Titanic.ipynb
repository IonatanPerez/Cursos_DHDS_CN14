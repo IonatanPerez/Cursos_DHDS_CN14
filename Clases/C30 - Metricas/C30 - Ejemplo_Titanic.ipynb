{
 "cells": [
  {
   "cell_type": "markdown",
   "metadata": {
    "id": "P1GQBZLLkaIq"
   },
   "source": [
    "# Objetivos\n",
    "\n",
    "Queremos tomar el dataset de seaborn del titanic y evaluar diferentes modelos y sus metricas a la hora de predecir si un pasajero sobrevive o no."
   ]
  },
  {
   "cell_type": "code",
   "execution_count": 1,
   "metadata": {
    "colab": {
     "base_uri": "https://localhost:8080/",
     "height": 206
    },
    "executionInfo": {
     "elapsed": 258,
     "status": "ok",
     "timestamp": 1632175823494,
     "user": {
      "displayName": "Ionatan Perez",
      "photoUrl": "https://lh3.googleusercontent.com/a-/AOh14Gi0OL56VTB3gzKLRSTM0ncLquyc0sbijsdExOh6GmU=s64",
      "userId": "02737854695965024620"
     },
     "user_tz": 180
    },
    "id": "iFzdRZ1Ikout",
    "outputId": "1e3196f8-233c-43b8-adf9-f9fdb04687c1"
   },
   "outputs": [
    {
     "data": {
      "text/html": [
       "<div>\n",
       "<style scoped>\n",
       "    .dataframe tbody tr th:only-of-type {\n",
       "        vertical-align: middle;\n",
       "    }\n",
       "\n",
       "    .dataframe tbody tr th {\n",
       "        vertical-align: top;\n",
       "    }\n",
       "\n",
       "    .dataframe thead th {\n",
       "        text-align: right;\n",
       "    }\n",
       "</style>\n",
       "<table border=\"1\" class=\"dataframe\">\n",
       "  <thead>\n",
       "    <tr style=\"text-align: right;\">\n",
       "      <th></th>\n",
       "      <th>survived</th>\n",
       "      <th>pclass</th>\n",
       "      <th>sex</th>\n",
       "      <th>age</th>\n",
       "      <th>sibsp</th>\n",
       "      <th>parch</th>\n",
       "      <th>fare</th>\n",
       "      <th>embarked</th>\n",
       "      <th>class</th>\n",
       "      <th>who</th>\n",
       "      <th>adult_male</th>\n",
       "      <th>deck</th>\n",
       "      <th>embark_town</th>\n",
       "      <th>alive</th>\n",
       "      <th>alone</th>\n",
       "    </tr>\n",
       "  </thead>\n",
       "  <tbody>\n",
       "    <tr>\n",
       "      <th>0</th>\n",
       "      <td>0</td>\n",
       "      <td>3</td>\n",
       "      <td>male</td>\n",
       "      <td>22.0</td>\n",
       "      <td>1</td>\n",
       "      <td>0</td>\n",
       "      <td>7.2500</td>\n",
       "      <td>S</td>\n",
       "      <td>Third</td>\n",
       "      <td>man</td>\n",
       "      <td>True</td>\n",
       "      <td>NaN</td>\n",
       "      <td>Southampton</td>\n",
       "      <td>no</td>\n",
       "      <td>False</td>\n",
       "    </tr>\n",
       "    <tr>\n",
       "      <th>1</th>\n",
       "      <td>1</td>\n",
       "      <td>1</td>\n",
       "      <td>female</td>\n",
       "      <td>38.0</td>\n",
       "      <td>1</td>\n",
       "      <td>0</td>\n",
       "      <td>71.2833</td>\n",
       "      <td>C</td>\n",
       "      <td>First</td>\n",
       "      <td>woman</td>\n",
       "      <td>False</td>\n",
       "      <td>C</td>\n",
       "      <td>Cherbourg</td>\n",
       "      <td>yes</td>\n",
       "      <td>False</td>\n",
       "    </tr>\n",
       "    <tr>\n",
       "      <th>2</th>\n",
       "      <td>1</td>\n",
       "      <td>3</td>\n",
       "      <td>female</td>\n",
       "      <td>26.0</td>\n",
       "      <td>0</td>\n",
       "      <td>0</td>\n",
       "      <td>7.9250</td>\n",
       "      <td>S</td>\n",
       "      <td>Third</td>\n",
       "      <td>woman</td>\n",
       "      <td>False</td>\n",
       "      <td>NaN</td>\n",
       "      <td>Southampton</td>\n",
       "      <td>yes</td>\n",
       "      <td>True</td>\n",
       "    </tr>\n",
       "    <tr>\n",
       "      <th>3</th>\n",
       "      <td>1</td>\n",
       "      <td>1</td>\n",
       "      <td>female</td>\n",
       "      <td>35.0</td>\n",
       "      <td>1</td>\n",
       "      <td>0</td>\n",
       "      <td>53.1000</td>\n",
       "      <td>S</td>\n",
       "      <td>First</td>\n",
       "      <td>woman</td>\n",
       "      <td>False</td>\n",
       "      <td>C</td>\n",
       "      <td>Southampton</td>\n",
       "      <td>yes</td>\n",
       "      <td>False</td>\n",
       "    </tr>\n",
       "    <tr>\n",
       "      <th>4</th>\n",
       "      <td>0</td>\n",
       "      <td>3</td>\n",
       "      <td>male</td>\n",
       "      <td>35.0</td>\n",
       "      <td>0</td>\n",
       "      <td>0</td>\n",
       "      <td>8.0500</td>\n",
       "      <td>S</td>\n",
       "      <td>Third</td>\n",
       "      <td>man</td>\n",
       "      <td>True</td>\n",
       "      <td>NaN</td>\n",
       "      <td>Southampton</td>\n",
       "      <td>no</td>\n",
       "      <td>True</td>\n",
       "    </tr>\n",
       "  </tbody>\n",
       "</table>\n",
       "</div>"
      ],
      "text/plain": [
       "   survived  pclass     sex   age  sibsp  parch     fare embarked  class  \\\n",
       "0         0       3    male  22.0      1      0   7.2500        S  Third   \n",
       "1         1       1  female  38.0      1      0  71.2833        C  First   \n",
       "2         1       3  female  26.0      0      0   7.9250        S  Third   \n",
       "3         1       1  female  35.0      1      0  53.1000        S  First   \n",
       "4         0       3    male  35.0      0      0   8.0500        S  Third   \n",
       "\n",
       "     who  adult_male deck  embark_town alive  alone  \n",
       "0    man        True  NaN  Southampton    no  False  \n",
       "1  woman       False    C    Cherbourg   yes  False  \n",
       "2  woman       False  NaN  Southampton   yes   True  \n",
       "3  woman       False    C  Southampton   yes  False  \n",
       "4    man        True  NaN  Southampton    no   True  "
      ]
     },
     "execution_count": 1,
     "metadata": {},
     "output_type": "execute_result"
    }
   ],
   "source": [
    "import pandas as pd\n",
    "import seaborn as sns\n",
    "import matplotlib.pyplot as plt\n",
    "\n",
    "titanic = sns.load_dataset(\"titanic\")\n",
    "titanic.head()"
   ]
  },
  {
   "cell_type": "markdown",
   "metadata": {
    "id": "ASY7ZTDbnF-z"
   },
   "source": [
    "# Limpieza\n",
    "\n",
    "Vamos a hacer una limpieza simple"
   ]
  },
  {
   "cell_type": "code",
   "execution_count": 2,
   "metadata": {
    "executionInfo": {
     "elapsed": 244,
     "status": "ok",
     "timestamp": 1632176025283,
     "user": {
      "displayName": "Ionatan Perez",
      "photoUrl": "https://lh3.googleusercontent.com/a-/AOh14Gi0OL56VTB3gzKLRSTM0ncLquyc0sbijsdExOh6GmU=s64",
      "userId": "02737854695965024620"
     },
     "user_tz": 180
    },
    "id": "yAIy8HK1kxiS"
   },
   "outputs": [],
   "source": [
    "\n",
    "# La columna pclass y class parecen codificar para lo mismo, vamos a eliminar pclass y vamos a binarizar class\n",
    "data = titanic.drop([\"pclass\"], axis=1)\n",
    "one_hot = pd.get_dummies(data[\"class\"], prefix = \"class\", drop_first = True)\n",
    "data = data.join(one_hot)\n",
    "data = data.drop([\"class\"], axis=1)\n",
    "data.head()\n",
    "\n",
    "# Binarizamos la columna sex\n",
    "data[\"sex\"] = data[\"sex\"].map({\"male\":0,\"female\":1})\n",
    "\n",
    "# Binarizamos la columna embarked\n",
    "data = data.join(pd.get_dummies(data[\"embarked\"], prefix = \"embarked\", drop_first = True))\n",
    "data = data.drop([\"embarked\"], axis=1)\n",
    "\n",
    "# Como las columnas sibsp y parch son parcialemente redundantes con alone, tiramos alone\n",
    "# Como las columnas adult_male y who son redundantes con age y sex las tiramos\n",
    "# Como la columna embark_town es redundante con enbarked la tiramos\n",
    "data = data.drop([\"alone\",\"who\",\"adult_male\",\"embark_town\"], axis=1)\n",
    "\n",
    "# Binarizamos la columna alone\n",
    "#data[\"alone\"] = data[\"sex\"].map({\"no\":0,\"yes\":1})\n",
    "\n",
    "# Tiramos la columna alive porque no es un evento independiente de survived\n",
    "# y la columna deck porque tiene muchos nans\n",
    "data = data.drop([\"alive\",\"deck\"], axis=1)\n",
    "\n",
    "# Tiramos nans porque todavia hay algunos valores nans fuera de la columna deck\n",
    "data = data.dropna()\n",
    "\n"
   ]
  },
  {
   "cell_type": "code",
   "execution_count": 3,
   "metadata": {
    "colab": {
     "base_uri": "https://localhost:8080/",
     "height": 206
    },
    "executionInfo": {
     "elapsed": 249,
     "status": "ok",
     "timestamp": 1632176028121,
     "user": {
      "displayName": "Ionatan Perez",
      "photoUrl": "https://lh3.googleusercontent.com/a-/AOh14Gi0OL56VTB3gzKLRSTM0ncLquyc0sbijsdExOh6GmU=s64",
      "userId": "02737854695965024620"
     },
     "user_tz": 180
    },
    "id": "rP36NPaona0b",
    "outputId": "3f98fe53-eee9-4afe-80c9-e0a487f42f60"
   },
   "outputs": [
    {
     "data": {
      "text/html": [
       "<div>\n",
       "<style scoped>\n",
       "    .dataframe tbody tr th:only-of-type {\n",
       "        vertical-align: middle;\n",
       "    }\n",
       "\n",
       "    .dataframe tbody tr th {\n",
       "        vertical-align: top;\n",
       "    }\n",
       "\n",
       "    .dataframe thead th {\n",
       "        text-align: right;\n",
       "    }\n",
       "</style>\n",
       "<table border=\"1\" class=\"dataframe\">\n",
       "  <thead>\n",
       "    <tr style=\"text-align: right;\">\n",
       "      <th></th>\n",
       "      <th>survived</th>\n",
       "      <th>sex</th>\n",
       "      <th>age</th>\n",
       "      <th>sibsp</th>\n",
       "      <th>parch</th>\n",
       "      <th>fare</th>\n",
       "      <th>class_Second</th>\n",
       "      <th>class_Third</th>\n",
       "      <th>embarked_Q</th>\n",
       "      <th>embarked_S</th>\n",
       "    </tr>\n",
       "  </thead>\n",
       "  <tbody>\n",
       "    <tr>\n",
       "      <th>0</th>\n",
       "      <td>0</td>\n",
       "      <td>0</td>\n",
       "      <td>22.0</td>\n",
       "      <td>1</td>\n",
       "      <td>0</td>\n",
       "      <td>7.2500</td>\n",
       "      <td>0</td>\n",
       "      <td>1</td>\n",
       "      <td>0</td>\n",
       "      <td>1</td>\n",
       "    </tr>\n",
       "    <tr>\n",
       "      <th>1</th>\n",
       "      <td>1</td>\n",
       "      <td>1</td>\n",
       "      <td>38.0</td>\n",
       "      <td>1</td>\n",
       "      <td>0</td>\n",
       "      <td>71.2833</td>\n",
       "      <td>0</td>\n",
       "      <td>0</td>\n",
       "      <td>0</td>\n",
       "      <td>0</td>\n",
       "    </tr>\n",
       "    <tr>\n",
       "      <th>2</th>\n",
       "      <td>1</td>\n",
       "      <td>1</td>\n",
       "      <td>26.0</td>\n",
       "      <td>0</td>\n",
       "      <td>0</td>\n",
       "      <td>7.9250</td>\n",
       "      <td>0</td>\n",
       "      <td>1</td>\n",
       "      <td>0</td>\n",
       "      <td>1</td>\n",
       "    </tr>\n",
       "    <tr>\n",
       "      <th>3</th>\n",
       "      <td>1</td>\n",
       "      <td>1</td>\n",
       "      <td>35.0</td>\n",
       "      <td>1</td>\n",
       "      <td>0</td>\n",
       "      <td>53.1000</td>\n",
       "      <td>0</td>\n",
       "      <td>0</td>\n",
       "      <td>0</td>\n",
       "      <td>1</td>\n",
       "    </tr>\n",
       "    <tr>\n",
       "      <th>4</th>\n",
       "      <td>0</td>\n",
       "      <td>0</td>\n",
       "      <td>35.0</td>\n",
       "      <td>0</td>\n",
       "      <td>0</td>\n",
       "      <td>8.0500</td>\n",
       "      <td>0</td>\n",
       "      <td>1</td>\n",
       "      <td>0</td>\n",
       "      <td>1</td>\n",
       "    </tr>\n",
       "  </tbody>\n",
       "</table>\n",
       "</div>"
      ],
      "text/plain": [
       "   survived  sex   age  sibsp  parch     fare  class_Second  class_Third  \\\n",
       "0         0    0  22.0      1      0   7.2500             0            1   \n",
       "1         1    1  38.0      1      0  71.2833             0            0   \n",
       "2         1    1  26.0      0      0   7.9250             0            1   \n",
       "3         1    1  35.0      1      0  53.1000             0            0   \n",
       "4         0    0  35.0      0      0   8.0500             0            1   \n",
       "\n",
       "   embarked_Q  embarked_S  \n",
       "0           0           1  \n",
       "1           0           0  \n",
       "2           0           1  \n",
       "3           0           1  \n",
       "4           0           1  "
      ]
     },
     "execution_count": 3,
     "metadata": {},
     "output_type": "execute_result"
    }
   ],
   "source": [
    "data.head()\n"
   ]
  },
  {
   "cell_type": "code",
   "execution_count": 3,
   "metadata": {
    "executionInfo": {
     "elapsed": 252,
     "status": "ok",
     "timestamp": 1632176085611,
     "user": {
      "displayName": "Ionatan Perez",
      "photoUrl": "https://lh3.googleusercontent.com/a-/AOh14Gi0OL56VTB3gzKLRSTM0ncLquyc0sbijsdExOh6GmU=s64",
      "userId": "02737854695965024620"
     },
     "user_tz": 180
    },
    "id": "fb8O0agQpzZp"
   },
   "outputs": [],
   "source": [
    "# Preparamos los datos de entrenamiento y vamos a probar con un modelo de regresion logistica\n",
    "from sklearn.model_selection import train_test_split\n",
    "from sklearn.linear_model import LogisticRegression\n",
    "from sklearn.preprocessing import StandardScaler\n",
    "\n",
    "\n",
    "X_train, X_test, y_train, y_test = train_test_split(data.drop([\"survived\"], axis=1), data[\"survived\"], test_size=0.2, random_state=42, stratify=data[\"survived\"])\n",
    "\n",
    "# Estandarizamos la matris de Features\n",
    "scaler = StandardScaler()\n",
    "X_train = scaler.fit_transform(X_train)\n",
    "X_test = scaler.transform(X_test)\n",
    "\n",
    "\n",
    "# Preparamos el modelo\n",
    "clf = LogisticRegression(C=1e10)\n",
    "# Lo entrenamos\n",
    "clf.fit(X_train, y_train)\n",
    "# Buscamos la predicciones y su probabilidad\n",
    "y_pred = clf.predict(X_test)\n",
    "y_pred_proba = clf.predict_proba(X_test)"
   ]
  },
  {
   "cell_type": "code",
   "execution_count": 4,
   "metadata": {
    "colab": {
     "base_uri": "https://localhost:8080/",
     "height": 298
    },
    "executionInfo": {
     "elapsed": 720,
     "status": "ok",
     "timestamp": 1632176129750,
     "user": {
      "displayName": "Ionatan Perez",
      "photoUrl": "https://lh3.googleusercontent.com/a-/AOh14Gi0OL56VTB3gzKLRSTM0ncLquyc0sbijsdExOh6GmU=s64",
      "userId": "02737854695965024620"
     },
     "user_tz": 180
    },
    "id": "rU4BJu41rEVT",
    "outputId": "44e6de63-8abf-48bd-8e5f-e15777033570"
   },
   "outputs": [
    {
     "data": {
      "text/plain": [
       "<AxesSubplot:xlabel='Predicted', ylabel='Actual'>"
      ]
     },
     "execution_count": 4,
     "metadata": {},
     "output_type": "execute_result"
    },
    {
     "data": {
      "image/png": "[encoded data removed]",
      "text/plain": [
       "<Figure size 432x288 with 2 Axes>"
      ]
     },
     "metadata": {
      "needs_background": "light"
     },
     "output_type": "display_data"
    }
   ],
   "source": [
    "# Vamos a ver como dar diferentes metricas\n",
    "from sklearn.metrics import confusion_matrix\n",
    "import numpy as np\n",
    "\n",
    "# Visualizamos la matriz de confusion\n",
    "cm = confusion_matrix(y_test, y_pred)\n",
    "df_cm = pd.DataFrame(cm, columns=np.unique(y_test), index = np.unique(y_test))\n",
    "df_cm.index.name = 'Actual'\n",
    "df_cm.columns.name = 'Predicted'\n",
    "sns.heatmap(df_cm, annot=True)\n"
   ]
  },
  {
   "cell_type": "code",
   "execution_count": 5,
   "metadata": {
    "colab": {
     "base_uri": "https://localhost:8080/"
    },
    "executionInfo": {
     "elapsed": 272,
     "status": "ok",
     "timestamp": 1632176182848,
     "user": {
      "displayName": "Ionatan Perez",
      "photoUrl": "https://lh3.googleusercontent.com/a-/AOh14Gi0OL56VTB3gzKLRSTM0ncLquyc0sbijsdExOh6GmU=s64",
      "userId": "02737854695965024620"
     },
     "user_tz": 180
    },
    "id": "S5zQs6qsuYhb",
    "outputId": "37cc2979-ca57-41bd-f344-0fe98900b856"
   },
   "outputs": [
    {
     "name": "stdout",
     "output_type": "stream",
     "text": [
      "Accuracy= 0.8111888111888111\n",
      "0    0.594406\n",
      "1    0.405594\n",
      "Name: survived, dtype: float64\n"
     ]
    }
   ],
   "source": [
    "# Calculamos el accuracy  (Fraccion de aciertos)\n",
    "from sklearn.metrics import accuracy_score\n",
    "\n",
    "print('Accuracy=', accuracy_score(y_test, y_pred))\n",
    "\n",
    "# Recordemos que hay que comparar con la hipotesis nula!\n",
    "# Y que el dataset esta bastante desbalanceado.\n",
    "\n",
    "print (y_test.value_counts(normalize=True))"
   ]
  },
  {
   "cell_type": "code",
   "execution_count": 6,
   "metadata": {
    "colab": {
     "base_uri": "https://localhost:8080/"
    },
    "executionInfo": {
     "elapsed": 240,
     "status": "ok",
     "timestamp": 1632176251252,
     "user": {
      "displayName": "Ionatan Perez",
      "photoUrl": "https://lh3.googleusercontent.com/a-/AOh14Gi0OL56VTB3gzKLRSTM0ncLquyc0sbijsdExOh6GmU=s64",
      "userId": "02737854695965024620"
     },
     "user_tz": 180
    },
    "id": "SNK-tCTTu0Kg",
    "outputId": "72bdce7b-845c-4e90-8077-8b71cd5de3de"
   },
   "outputs": [
    {
     "name": "stdout",
     "output_type": "stream",
     "text": [
      "0.7586206896551724\n"
     ]
    }
   ],
   "source": [
    "# Calculemos el recall (deteccion de positivos sobre los positivos reales)\n",
    "from sklearn.metrics import recall_score\n",
    "print(recall_score(y_test, y_pred))\n",
    "\n",
    "# Notamos que es un poco peor el modelo."
   ]
  },
  {
   "cell_type": "code",
   "execution_count": 8,
   "metadata": {
    "colab": {
     "base_uri": "https://localhost:8080/"
    },
    "executionInfo": {
     "elapsed": 299,
     "status": "ok",
     "timestamp": 1632176345451,
     "user": {
      "displayName": "Ionatan Perez",
      "photoUrl": "https://lh3.googleusercontent.com/a-/AOh14Gi0OL56VTB3gzKLRSTM0ncLquyc0sbijsdExOh6GmU=s64",
      "userId": "02737854695965024620"
     },
     "user_tz": 180
    },
    "id": "OllQWGYDvPoG",
    "outputId": "aff40230-a837-40e7-fef6-77ce23b7c9d3"
   },
   "outputs": [
    {
     "name": "stdout",
     "output_type": "stream",
     "text": [
      "0.8470588235294118\n"
     ]
    }
   ],
   "source": [
    "# Si queremos calcular la especifidad (que no haya negativos que pasen por positivos)\n",
    "# Esta cuenta la hacemos a mano usando la matriz de confusion\n",
    "\n",
    "TP = cm[1, 1]\n",
    "TN = cm[0, 0]\n",
    "FP = cm[0, 1]\n",
    "FN = cm[1, 0]\n",
    "\n",
    "specificity = TN / (TN + FP)\n",
    "\n",
    "print(specificity)"
   ]
  },
  {
   "cell_type": "code",
   "execution_count": 7,
   "metadata": {
    "colab": {
     "base_uri": "https://localhost:8080/"
    },
    "executionInfo": {
     "elapsed": 278,
     "status": "ok",
     "timestamp": 1632176354684,
     "user": {
      "displayName": "Ionatan Perez",
      "photoUrl": "https://lh3.googleusercontent.com/a-/AOh14Gi0OL56VTB3gzKLRSTM0ncLquyc0sbijsdExOh6GmU=s64",
      "userId": "02737854695965024620"
     },
     "user_tz": 180
    },
    "id": "s7e0J6HzwFtl",
    "outputId": "9cd70506-1eb5-4863-a9d8-e911f7e6beb4"
   },
   "outputs": [
    {
     "name": "stdout",
     "output_type": "stream",
     "text": [
      "0.7719298245614035\n"
     ]
    }
   ],
   "source": [
    "# Calculemos la precision (de los positivos, cuatos lo eran? No es lo mismo que el recall!)\n",
    "\n",
    "from sklearn.metrics import precision_score\n",
    "print(precision_score(y_test, y_pred))"
   ]
  },
  {
   "cell_type": "code",
   "execution_count": 8,
   "metadata": {
    "colab": {
     "base_uri": "https://localhost:8080/"
    },
    "executionInfo": {
     "elapsed": 237,
     "status": "ok",
     "timestamp": 1632176363249,
     "user": {
      "displayName": "Ionatan Perez",
      "photoUrl": "https://lh3.googleusercontent.com/a-/AOh14Gi0OL56VTB3gzKLRSTM0ncLquyc0sbijsdExOh6GmU=s64",
      "userId": "02737854695965024620"
     },
     "user_tz": 180
    },
    "id": "EFo4BEJbwY43",
    "outputId": "1541f823-0f9c-4489-d1f9-ed1a94a420dc"
   },
   "outputs": [
    {
     "ename": "NameError",
     "evalue": "name 'specificity' is not defined",
     "output_type": "error",
     "traceback": [
      "\u001b[1;31m---------------------------------------------------------------------------\u001b[0m",
      "\u001b[1;31mNameError\u001b[0m                                 Traceback (most recent call last)",
      "\u001b[1;32m~\\AppData\\Local\\Temp\\ipykernel_12472\\2659437972.py\u001b[0m in \u001b[0;36m<module>\u001b[1;34m\u001b[0m\n\u001b[0;32m      1\u001b[0m \u001b[1;31m# Tambien podemos calcular la tasa de falsos positivos (FPR) que es la inversa de la especificidad\u001b[0m\u001b[1;33m\u001b[0m\u001b[1;33m\u001b[0m\u001b[1;33m\u001b[0m\u001b[0m\n\u001b[0;32m      2\u001b[0m \u001b[1;33m\u001b[0m\u001b[0m\n\u001b[1;32m----> 3\u001b[1;33m \u001b[0mprint\u001b[0m\u001b[1;33m(\u001b[0m\u001b[1;36m1\u001b[0m\u001b[1;33m-\u001b[0m\u001b[0mspecificity\u001b[0m\u001b[1;33m)\u001b[0m\u001b[1;33m\u001b[0m\u001b[1;33m\u001b[0m\u001b[0m\n\u001b[0m",
      "\u001b[1;31mNameError\u001b[0m: name 'specificity' is not defined"
     ]
    }
   ],
   "source": [
    "# Tambien podemos calcular la tasa de falsos positivos (FPR) que es la inversa de la especificidad\n",
    "\n",
    "print(1-specificity)"
   ]
  },
  {
   "cell_type": "code",
   "execution_count": 9,
   "metadata": {
    "colab": {
     "base_uri": "https://localhost:8080/"
    },
    "executionInfo": {
     "elapsed": 245,
     "status": "ok",
     "timestamp": 1632176385014,
     "user": {
      "displayName": "Ionatan Perez",
      "photoUrl": "https://lh3.googleusercontent.com/a-/AOh14Gi0OL56VTB3gzKLRSTM0ncLquyc0sbijsdExOh6GmU=s64",
      "userId": "02737854695965024620"
     },
     "user_tz": 180
    },
    "id": "ZPWDP6ARwqCI",
    "outputId": "c7476ad8-216b-473c-db5c-2ed1a2c7346a"
   },
   "outputs": [
    {
     "name": "stdout",
     "output_type": "stream",
     "text": [
      "0.7652173913043477\n"
     ]
    }
   ],
   "source": [
    "# O el F1 score que combina metricas\n",
    "\n",
    "from sklearn.metrics import f1_score\n",
    "print(f1_score(y_test,y_pred))"
   ]
  },
  {
   "cell_type": "code",
   "execution_count": 17,
   "metadata": {},
   "outputs": [
    {
     "name": "stderr",
     "output_type": "stream",
     "text": [
      "c:\\Users\\Ionatan\\anaconda3\\envs\\DH\\lib\\site-packages\\seaborn\\_decorators.py:36: FutureWarning: Pass the following variables as keyword args: x, y. From version 0.12, the only valid positional argument will be `data`, and passing other arguments without an explicit keyword will result in an error or misinterpretation.\n",
      "  warnings.warn(\n"
     ]
    },
    {
     "name": "stdout",
     "output_type": "stream",
     "text": [
      "0.5185185185185185\n",
      "0.2413793103448276\n",
      "Accuracy= 0.6013986013986014\n"
     ]
    },
    {
     "data": {
      "image/png": "[encoded data removed]",
      "text/plain": [
       "<Figure size 432x288 with 1 Axes>"
      ]
     },
     "metadata": {
      "needs_background": "light"
     },
     "output_type": "display_data"
    }
   ],
   "source": [
    "# Otra forma de verlo\n",
    "import random\n",
    "\n",
    "random.seed(0)\n",
    "\n",
    "y_pred_proba # Logistic probability\n",
    "y_test \n",
    "y_test_modificado = y_test + [random.random()/5-0.1 for _ in range(len(y_test))]\n",
    "umbral = 0.5\n",
    "umbral2 = 0.5\n",
    "y_style_log = (y_pred_proba[:,1]>umbral) - y_test == 0\n",
    "y_style_log_2 = (y_pred_proba[:,1]>umbral) - y_test != 0\n",
    "\n",
    "fig, ax = plt.subplots()\n",
    "\n",
    "sns.scatterplot(y_pred_proba[:,1],y_test_modificado, alpha=0.5, style=y_style_log, style_order=[True, False], s=100, ax=ax)\n",
    "plt.xlabel('probabilidad predicha')\n",
    "plt.ylabel('Respuesta correcta')\n",
    "plt.title('Visualizacion alternativa')\n",
    "plt.axvline(x=umbral)\n",
    "plt.axvline(x=umbral2, color='red')\n",
    "\n",
    "\n",
    "print(precision_score(y_test, y_style_log_2))\n",
    "print(recall_score(y_test, y_style_log_2))\n",
    "print('Accuracy=', accuracy_score(y_test, y_style_log_2))"
   ]
  },
  {
   "cell_type": "markdown",
   "metadata": {
    "id": "HSjQ1muJw07e"
   },
   "source": [
    "# Curva ROC"
   ]
  },
  {
   "cell_type": "code",
   "execution_count": 18,
   "metadata": {
    "colab": {
     "base_uri": "https://localhost:8080/",
     "height": 314
    },
    "executionInfo": {
     "elapsed": 415,
     "status": "ok",
     "timestamp": 1632176575316,
     "user": {
      "displayName": "Ionatan Perez",
      "photoUrl": "https://lh3.googleusercontent.com/a-/AOh14Gi0OL56VTB3gzKLRSTM0ncLquyc0sbijsdExOh6GmU=s64",
      "userId": "02737854695965024620"
     },
     "user_tz": 180
    },
    "id": "fEJWpTO2w2su",
    "outputId": "cec62bbf-4d31-43e1-c1c2-ff1f9a620ea0"
   },
   "outputs": [
    {
     "data": {
      "image/png": "[encoded data removed]",
      "text/plain": [
       "<Figure size 432x288 with 1 Axes>"
      ]
     },
     "metadata": {
      "needs_background": "light"
     },
     "output_type": "display_data"
    },
    {
     "name": "stdout",
     "output_type": "stream",
     "text": [
      "AUC= 0.8619675456389453\n"
     ]
    }
   ],
   "source": [
    "# Esto no mide tanto el ajuste en si, sino la capacidad de deteccion del modelo.\n",
    "\n",
    "\n",
    "from sklearn.metrics import roc_curve \n",
    "import matplotlib.pyplot as plt\n",
    "\n",
    "fpr_log,tpr_log,thr_log = roc_curve(y_test, y_pred_proba[:,1]) # Pedimos que haga las cuentas\n",
    "\n",
    "df = pd.DataFrame(dict(fpr=fpr_log, tpr=tpr_log, thr = thr_log))\n",
    "\n",
    "plt.axis([0, 1.01, 0, 1.01])\n",
    "plt.xlabel('1 - Specificty')\n",
    "plt.ylabel('TPR / Sensitivity')\n",
    "plt.title('ROC Curve')\n",
    "plt.plot(df['fpr'],df['tpr'])\n",
    "plt.plot(np.arange(0,1, step =0.01), np.arange(0,1, step =0.01))\n",
    "plt.show()\n",
    "\n",
    "from sklearn.metrics import auc\n",
    "print('AUC=', auc(fpr_log, tpr_log))"
   ]
  },
  {
   "cell_type": "code",
   "execution_count": 19,
   "metadata": {},
   "outputs": [
    {
     "data": {
      "text/plain": [
       "<sklearn.metrics._plot.roc_curve.RocCurveDisplay at 0x1f99fe93a60>"
      ]
     },
     "execution_count": 19,
     "metadata": {},
     "output_type": "execute_result"
    },
    {
     "data": {
      "image/png": "[encoded data removed]",
      "text/plain": [
       "<Figure size 432x288 with 1 Axes>"
      ]
     },
     "metadata": {
      "needs_background": "light"
     },
     "output_type": "display_data"
    }
   ],
   "source": [
    "from sklearn.metrics import RocCurveDisplay\n",
    "RocCurveDisplay.from_estimator(clf, X_test, y_test)\n"
   ]
  },
  {
   "cell_type": "code",
   "execution_count": 15,
   "metadata": {},
   "outputs": [
    {
     "data": {
      "text/plain": [
       "array([1.96779755, 0.96779755, 0.86163719, 0.85394698, 0.79993303,\n",
       "       0.78997251, 0.77836881, 0.7633425 , 0.75342053, 0.75277987,\n",
       "       0.72072408, 0.7169203 , 0.68628833, 0.6693826 , 0.64585181,\n",
       "       0.63263627, 0.62967257, 0.62918543, 0.62351954, 0.60677031,\n",
       "       0.54512291, 0.48876555, 0.4767265 , 0.44967399, 0.38952774,\n",
       "       0.37842355, 0.3737847 , 0.37120726, 0.36928833, 0.34901756,\n",
       "       0.32607245, 0.25283357, 0.24521095, 0.22086603, 0.21621904,\n",
       "       0.1694354 , 0.16463847, 0.15262655, 0.15049434, 0.12720931,\n",
       "       0.12720774, 0.08575785, 0.08163436, 0.07470864, 0.07357003,\n",
       "       0.06179424, 0.06044314, 0.03514154])"
      ]
     },
     "execution_count": 15,
     "metadata": {},
     "output_type": "execute_result"
    }
   ],
   "source": [
    "thr_log"
   ]
  },
  {
   "cell_type": "markdown",
   "metadata": {
    "id": "m95NFfk9xlEF"
   },
   "source": [
    "# Curvas ROC entre modelos"
   ]
  },
  {
   "cell_type": "code",
   "execution_count": 20,
   "metadata": {
    "colab": {
     "base_uri": "https://localhost:8080/",
     "height": 295
    },
    "executionInfo": {
     "elapsed": 425,
     "status": "ok",
     "timestamp": 1632176980175,
     "user": {
      "displayName": "Ionatan Perez",
      "photoUrl": "https://lh3.googleusercontent.com/a-/AOh14Gi0OL56VTB3gzKLRSTM0ncLquyc0sbijsdExOh6GmU=s64",
      "userId": "02737854695965024620"
     },
     "user_tz": 180
    },
    "id": "7P6bfbvWxqcO",
    "outputId": "4ce28410-516c-4902-8076-3c75b52c29fb"
   },
   "outputs": [
    {
     "data": {
      "image/png": "[encoded data removed]",
      "text/plain": [
       "<Figure size 432x288 with 1 Axes>"
      ]
     },
     "metadata": {
      "needs_background": "light"
     },
     "output_type": "display_data"
    }
   ],
   "source": [
    "# Preparamos un modelo Naive Bayes\n",
    "\n",
    "from sklearn.naive_bayes import GaussianNB\n",
    "\n",
    "nbc = GaussianNB()\n",
    "\n",
    "# Lo entrenamos\n",
    "nbc.fit(X_train, y_train)\n",
    "y_preds_nb = nbc.predict(X_test)\n",
    "y_probs_nb = nbc.predict_proba(X_test)\n",
    "\n",
    "# Graficamos ambos juntos\n",
    "\n",
    "fpr_nb,tpr_nb,thr_nb = roc_curve(y_test, y_probs_nb[:,1])\n",
    "fpr_log,tpr_log,thr_log = roc_curve(y_test, y_pred_proba[:,1])\n",
    "\n",
    "plt.axis([0, 1.01, 0, 1.01])\n",
    "plt.xlabel('1 - Specificty')\n",
    "plt.ylabel('TPR / Sensitivity')\n",
    "plt.title('ROC Curve')\n",
    "plt.plot(fpr_nb,tpr_nb)\n",
    "plt.plot(fpr_log,tpr_log)\n",
    "plt.plot(np.arange(0,1, step =0.01), np.arange(0,1, step =0.01))\n",
    "plt.legend(['NB','Logit'])\n",
    "plt.show() "
   ]
  },
  {
   "cell_type": "code",
   "execution_count": 21,
   "metadata": {},
   "outputs": [
    {
     "name": "stdout",
     "output_type": "stream",
     "text": [
      "AUC_log= 0.8619675456389453\n",
      "AUC_nb= 0.8205882352941176\n"
     ]
    }
   ],
   "source": [
    "print('AUC_log=', auc(fpr_log, tpr_log))\n",
    "print('AUC_nb=', auc(fpr_nb, tpr_nb))"
   ]
  },
  {
   "cell_type": "code",
   "execution_count": 22,
   "metadata": {
    "colab": {
     "base_uri": "https://localhost:8080/"
    },
    "executionInfo": {
     "elapsed": 237,
     "status": "ok",
     "timestamp": 1632177000509,
     "user": {
      "displayName": "Ionatan Perez",
      "photoUrl": "https://lh3.googleusercontent.com/a-/AOh14Gi0OL56VTB3gzKLRSTM0ncLquyc0sbijsdExOh6GmU=s64",
      "userId": "02737854695965024620"
     },
     "user_tz": 180
    },
    "id": "WFbwFUG3yBuz",
    "outputId": "285960b0-da8d-4b11-8d6d-c2d863ca9c68"
   },
   "outputs": [
    {
     "name": "stdout",
     "output_type": "stream",
     "text": [
      "Accuracy_logit= 0.8111888111888111\n",
      "Accuracy_NB= 0.7482517482517482\n",
      "f1Score_logit= 0.7652173913043477\n",
      "f1Score_NB= 0.6896551724137931\n"
     ]
    }
   ],
   "source": [
    "# Podemos comparar metricas:\n",
    "\n",
    "print('Accuracy_logit=', accuracy_score(y_test, y_pred))\n",
    "print('Accuracy_NB=', accuracy_score(y_test, y_preds_nb))\n",
    "\n",
    "print('f1Score_logit=', f1_score(y_test, y_pred))\n",
    "print('f1Score_NB=', f1_score(y_test, y_preds_nb))"
   ]
  },
  {
   "cell_type": "code",
   "execution_count": 23,
   "metadata": {},
   "outputs": [
    {
     "name": "stderr",
     "output_type": "stream",
     "text": [
      "c:\\Users\\Ionatan\\anaconda3\\envs\\DH\\lib\\site-packages\\seaborn\\_decorators.py:36: FutureWarning: Pass the following variables as keyword args: x, y. From version 0.12, the only valid positional argument will be `data`, and passing other arguments without an explicit keyword will result in an error or misinterpretation.\n",
      "  warnings.warn(\n",
      "c:\\Users\\Ionatan\\anaconda3\\envs\\DH\\lib\\site-packages\\seaborn\\_decorators.py:36: FutureWarning: Pass the following variables as keyword args: x, y. From version 0.12, the only valid positional argument will be `data`, and passing other arguments without an explicit keyword will result in an error or misinterpretation.\n",
      "  warnings.warn(\n"
     ]
    },
    {
     "data": {
      "text/plain": [
       "<matplotlib.lines.Line2D at 0x1f9a0fc9160>"
      ]
     },
     "execution_count": 23,
     "metadata": {},
     "output_type": "execute_result"
    },
    {
     "data": {
      "image/png": "[encoded data removed]",
      "text/plain": [
       "<Figure size 432x288 with 1 Axes>"
      ]
     },
     "metadata": {
      "needs_background": "light"
     },
     "output_type": "display_data"
    }
   ],
   "source": [
    "# Otra forma de verlo\n",
    "import random\n",
    "\n",
    "random.seed(0)\n",
    "\n",
    "y_probs_nb # NaiveBayes probability\n",
    "y_pred_proba # Logistic probability\n",
    "y_test \n",
    "y_test_modificado = y_test + [random.random()/5-0.1 for _ in range(len(y_test))]\n",
    "umbral = 0.55\n",
    "#umbral2 = 0.4\n",
    "y_style_nb = (y_probs_nb[:,1]>umbral) - y_test == 0\n",
    "y_style_log = (y_pred_proba[:,1]>umbral) - y_test == 0\n",
    "\n",
    "fig, ax = plt.subplots()\n",
    "\n",
    "\n",
    "sns.scatterplot(y_probs_nb[:,1],y_test_modificado, alpha=0.5, style=y_style_nb, style_order=[True, False], s=100, ax=ax)\n",
    "sns.scatterplot(y_pred_proba[:,1],y_test_modificado, alpha=0.5, style=y_style_log, style_order=[True, False], s=100, ax=ax)\n",
    "ax.legend(['NB','Logit'])\n",
    "plt.xlabel('probabilidad predicha')\n",
    "plt.ylabel('Respuesta correcta')\n",
    "plt.title('Visualizacion alternativa')\n",
    "plt.axvline(x=umbral)\n",
    "#plt.axvline(x=umbral2)\n",
    "\n"
   ]
  },
  {
   "cell_type": "markdown",
   "metadata": {
    "id": "Ru6EDRBty6MI"
   },
   "source": [
    "# Ejemplo de GridSearch y Knn\n"
   ]
  },
  {
   "cell_type": "code",
   "execution_count": 20,
   "metadata": {
    "colab": {
     "base_uri": "https://localhost:8080/"
    },
    "executionInfo": {
     "elapsed": 2689,
     "status": "ok",
     "timestamp": 1632177257857,
     "user": {
      "displayName": "Ionatan Perez",
      "photoUrl": "https://lh3.googleusercontent.com/a-/AOh14Gi0OL56VTB3gzKLRSTM0ncLquyc0sbijsdExOh6GmU=s64",
      "userId": "02737854695965024620"
     },
     "user_tz": 180
    },
    "id": "tvwsVyDNy_y6",
    "outputId": "4e604da5-6692-438d-a472-23a5433a8f33"
   },
   "outputs": [
    {
     "data": {
      "text/html": [
       "<style>#sk-container-id-1 {color: black;background-color: white;}#sk-container-id-1 pre{padding: 0;}#sk-container-id-1 div.sk-toggleable {background-color: white;}#sk-container-id-1 label.sk-toggleable__label {cursor: pointer;display: block;width: 100%;margin-bottom: 0;padding: 0.3em;box-sizing: border-box;text-align: center;}#sk-container-id-1 label.sk-toggleable__label-arrow:before {content: \"▸\";float: left;margin-right: 0.25em;color: #696969;}#sk-container-id-1 label.sk-toggleable__label-arrow:hover:before {color: black;}#sk-container-id-1 div.sk-estimator:hover label.sk-toggleable__label-arrow:before {color: black;}#sk-container-id-1 div.sk-toggleable__content {max-height: 0;max-width: 0;overflow: hidden;text-align: left;background-color: #f0f8ff;}#sk-container-id-1 div.sk-toggleable__content pre {margin: 0.2em;color: black;border-radius: 0.25em;background-color: #f0f8ff;}#sk-container-id-1 input.sk-toggleable__control:checked~div.sk-toggleable__content {max-height: 200px;max-width: 100%;overflow: auto;}#sk-container-id-1 input.sk-toggleable__control:checked~label.sk-toggleable__label-arrow:before {content: \"▾\";}#sk-container-id-1 div.sk-estimator input.sk-toggleable__control:checked~label.sk-toggleable__label {background-color: #d4ebff;}#sk-container-id-1 div.sk-label input.sk-toggleable__control:checked~label.sk-toggleable__label {background-color: #d4ebff;}#sk-container-id-1 input.sk-hidden--visually {border: 0;clip: rect(1px 1px 1px 1px);clip: rect(1px, 1px, 1px, 1px);height: 1px;margin: -1px;overflow: hidden;padding: 0;position: absolute;width: 1px;}#sk-container-id-1 div.sk-estimator {font-family: monospace;background-color: #f0f8ff;border: 1px dotted black;border-radius: 0.25em;box-sizing: border-box;margin-bottom: 0.5em;}#sk-container-id-1 div.sk-estimator:hover {background-color: #d4ebff;}#sk-container-id-1 div.sk-parallel-item::after {content: \"\";width: 100%;border-bottom: 1px solid gray;flex-grow: 1;}#sk-container-id-1 div.sk-label:hover label.sk-toggleable__label {background-color: #d4ebff;}#sk-container-id-1 div.sk-serial::before {content: \"\";position: absolute;border-left: 1px solid gray;box-sizing: border-box;top: 0;bottom: 0;left: 50%;z-index: 0;}#sk-container-id-1 div.sk-serial {display: flex;flex-direction: column;align-items: center;background-color: white;padding-right: 0.2em;padding-left: 0.2em;position: relative;}#sk-container-id-1 div.sk-item {position: relative;z-index: 1;}#sk-container-id-1 div.sk-parallel {display: flex;align-items: stretch;justify-content: center;background-color: white;position: relative;}#sk-container-id-1 div.sk-item::before, #sk-container-id-1 div.sk-parallel-item::before {content: \"\";position: absolute;border-left: 1px solid gray;box-sizing: border-box;top: 0;bottom: 0;left: 50%;z-index: -1;}#sk-container-id-1 div.sk-parallel-item {display: flex;flex-direction: column;z-index: 1;position: relative;background-color: white;}#sk-container-id-1 div.sk-parallel-item:first-child::after {align-self: flex-end;width: 50%;}#sk-container-id-1 div.sk-parallel-item:last-child::after {align-self: flex-start;width: 50%;}#sk-container-id-1 div.sk-parallel-item:only-child::after {width: 0;}#sk-container-id-1 div.sk-dashed-wrapped {border: 1px dashed gray;margin: 0 0.4em 0.5em 0.4em;box-sizing: border-box;padding-bottom: 0.4em;background-color: white;}#sk-container-id-1 div.sk-label label {font-family: monospace;font-weight: bold;display: inline-block;line-height: 1.2em;}#sk-container-id-1 div.sk-label-container {text-align: center;}#sk-container-id-1 div.sk-container {/* jupyter's `normalize.less` sets `[hidden] { display: none; }` but bootstrap.min.css set `[hidden] { display: none !important; }` so we also need the `!important` here to be able to override the default hidden behavior on the sphinx rendered scikit-learn.org. See: https://github.com/scikit-learn/scikit-learn/issues/21755 */display: inline-block !important;position: relative;}#sk-container-id-1 div.sk-text-repr-fallback {display: none;}</style><div id=\"sk-container-id-1\" class=\"sk-top-container\"><div class=\"sk-text-repr-fallback\"><pre>GridSearchCV(cv=StratifiedKFold(n_splits=10, random_state=19, shuffle=True),\n",
       "             estimator=KNeighborsClassifier(),\n",
       "             param_grid={&#x27;n_neighbors&#x27;: [1, 2, 3, 4, 5, 6, 7, 8, 9, 10, 11, 12,\n",
       "                                         13, 14, 15, 16, 17, 18, 19, 20, 21, 22,\n",
       "                                         23, 24, 25, 26, 27, 28, 29, 30],\n",
       "                         &#x27;weights&#x27;: [&#x27;uniform&#x27;, &#x27;distance&#x27;]})</pre><b>In a Jupyter environment, please rerun this cell to show the HTML representation or trust the notebook. <br />On GitHub, the HTML representation is unable to render, please try loading this page with nbviewer.org.</b></div><div class=\"sk-container\" hidden><div class=\"sk-item sk-dashed-wrapped\"><div class=\"sk-label-container\"><div class=\"sk-label sk-toggleable\"><input class=\"sk-toggleable__control sk-hidden--visually\" id=\"sk-estimator-id-1\" type=\"checkbox\" ><label for=\"sk-estimator-id-1\" class=\"sk-toggleable__label sk-toggleable__label-arrow\">GridSearchCV</label><div class=\"sk-toggleable__content\"><pre>GridSearchCV(cv=StratifiedKFold(n_splits=10, random_state=19, shuffle=True),\n",
       "             estimator=KNeighborsClassifier(),\n",
       "             param_grid={&#x27;n_neighbors&#x27;: [1, 2, 3, 4, 5, 6, 7, 8, 9, 10, 11, 12,\n",
       "                                         13, 14, 15, 16, 17, 18, 19, 20, 21, 22,\n",
       "                                         23, 24, 25, 26, 27, 28, 29, 30],\n",
       "                         &#x27;weights&#x27;: [&#x27;uniform&#x27;, &#x27;distance&#x27;]})</pre></div></div></div><div class=\"sk-parallel\"><div class=\"sk-parallel-item\"><div class=\"sk-item\"><div class=\"sk-label-container\"><div class=\"sk-label sk-toggleable\"><input class=\"sk-toggleable__control sk-hidden--visually\" id=\"sk-estimator-id-2\" type=\"checkbox\" ><label for=\"sk-estimator-id-2\" class=\"sk-toggleable__label sk-toggleable__label-arrow\">estimator: KNeighborsClassifier</label><div class=\"sk-toggleable__content\"><pre>KNeighborsClassifier()</pre></div></div></div><div class=\"sk-serial\"><div class=\"sk-item\"><div class=\"sk-estimator sk-toggleable\"><input class=\"sk-toggleable__control sk-hidden--visually\" id=\"sk-estimator-id-3\" type=\"checkbox\" ><label for=\"sk-estimator-id-3\" class=\"sk-toggleable__label sk-toggleable__label-arrow\">KNeighborsClassifier</label><div class=\"sk-toggleable__content\"><pre>KNeighborsClassifier()</pre></div></div></div></div></div></div></div></div></div></div>"
      ],
      "text/plain": [
       "GridSearchCV(cv=StratifiedKFold(n_splits=10, random_state=19, shuffle=True),\n",
       "             estimator=KNeighborsClassifier(),\n",
       "             param_grid={'n_neighbors': [1, 2, 3, 4, 5, 6, 7, 8, 9, 10, 11, 12,\n",
       "                                         13, 14, 15, 16, 17, 18, 19, 20, 21, 22,\n",
       "                                         23, 24, 25, 26, 27, 28, 29, 30],\n",
       "                         'weights': ['uniform', 'distance']})"
      ]
     },
     "execution_count": 20,
     "metadata": {},
     "output_type": "execute_result"
    }
   ],
   "source": [
    "from sklearn.neighbors import KNeighborsClassifier\n",
    "from sklearn.model_selection import StratifiedKFold\n",
    "from sklearn.model_selection import GridSearchCV\n",
    "\n",
    "\n",
    "# Seteamos lo que queremos que se pruebe\n",
    "knn = KNeighborsClassifier()\n",
    "k_range = list(range(1, 31))\n",
    "weight_options = ['uniform', 'distance']\n",
    "param_grid = dict(n_neighbors=k_range, weights=weight_options)\n",
    "\n",
    "# Seteamos la validacion cruzada\n",
    "folds=StratifiedKFold(n_splits=10, random_state=19, shuffle=True)\n",
    "\n",
    "# Seteamos el grid\n",
    "grid = GridSearchCV(knn, param_grid, cv=folds)\n",
    "\n",
    "# Entrenamos el modelo en todos los casos\n",
    "grid.fit(X_train, y_train)"
   ]
  },
  {
   "cell_type": "code",
   "execution_count": 21,
   "metadata": {
    "colab": {
     "base_uri": "https://localhost:8080/",
     "height": 111
    },
    "executionInfo": {
     "elapsed": 10,
     "status": "ok",
     "timestamp": 1632177274125,
     "user": {
      "displayName": "Ionatan Perez",
      "photoUrl": "https://lh3.googleusercontent.com/a-/AOh14Gi0OL56VTB3gzKLRSTM0ncLquyc0sbijsdExOh6GmU=s64",
      "userId": "02737854695965024620"
     },
     "user_tz": 180
    },
    "id": "T5j9C4Zg1AcX",
    "outputId": "fceaea65-af5d-489e-d1b3-38ce4373b8dc"
   },
   "outputs": [
    {
     "data": {
      "text/html": [
       "<style>#sk-container-id-2 {color: black;background-color: white;}#sk-container-id-2 pre{padding: 0;}#sk-container-id-2 div.sk-toggleable {background-color: white;}#sk-container-id-2 label.sk-toggleable__label {cursor: pointer;display: block;width: 100%;margin-bottom: 0;padding: 0.3em;box-sizing: border-box;text-align: center;}#sk-container-id-2 label.sk-toggleable__label-arrow:before {content: \"▸\";float: left;margin-right: 0.25em;color: #696969;}#sk-container-id-2 label.sk-toggleable__label-arrow:hover:before {color: black;}#sk-container-id-2 div.sk-estimator:hover label.sk-toggleable__label-arrow:before {color: black;}#sk-container-id-2 div.sk-toggleable__content {max-height: 0;max-width: 0;overflow: hidden;text-align: left;background-color: #f0f8ff;}#sk-container-id-2 div.sk-toggleable__content pre {margin: 0.2em;color: black;border-radius: 0.25em;background-color: #f0f8ff;}#sk-container-id-2 input.sk-toggleable__control:checked~div.sk-toggleable__content {max-height: 200px;max-width: 100%;overflow: auto;}#sk-container-id-2 input.sk-toggleable__control:checked~label.sk-toggleable__label-arrow:before {content: \"▾\";}#sk-container-id-2 div.sk-estimator input.sk-toggleable__control:checked~label.sk-toggleable__label {background-color: #d4ebff;}#sk-container-id-2 div.sk-label input.sk-toggleable__control:checked~label.sk-toggleable__label {background-color: #d4ebff;}#sk-container-id-2 input.sk-hidden--visually {border: 0;clip: rect(1px 1px 1px 1px);clip: rect(1px, 1px, 1px, 1px);height: 1px;margin: -1px;overflow: hidden;padding: 0;position: absolute;width: 1px;}#sk-container-id-2 div.sk-estimator {font-family: monospace;background-color: #f0f8ff;border: 1px dotted black;border-radius: 0.25em;box-sizing: border-box;margin-bottom: 0.5em;}#sk-container-id-2 div.sk-estimator:hover {background-color: #d4ebff;}#sk-container-id-2 div.sk-parallel-item::after {content: \"\";width: 100%;border-bottom: 1px solid gray;flex-grow: 1;}#sk-container-id-2 div.sk-label:hover label.sk-toggleable__label {background-color: #d4ebff;}#sk-container-id-2 div.sk-serial::before {content: \"\";position: absolute;border-left: 1px solid gray;box-sizing: border-box;top: 0;bottom: 0;left: 50%;z-index: 0;}#sk-container-id-2 div.sk-serial {display: flex;flex-direction: column;align-items: center;background-color: white;padding-right: 0.2em;padding-left: 0.2em;position: relative;}#sk-container-id-2 div.sk-item {position: relative;z-index: 1;}#sk-container-id-2 div.sk-parallel {display: flex;align-items: stretch;justify-content: center;background-color: white;position: relative;}#sk-container-id-2 div.sk-item::before, #sk-container-id-2 div.sk-parallel-item::before {content: \"\";position: absolute;border-left: 1px solid gray;box-sizing: border-box;top: 0;bottom: 0;left: 50%;z-index: -1;}#sk-container-id-2 div.sk-parallel-item {display: flex;flex-direction: column;z-index: 1;position: relative;background-color: white;}#sk-container-id-2 div.sk-parallel-item:first-child::after {align-self: flex-end;width: 50%;}#sk-container-id-2 div.sk-parallel-item:last-child::after {align-self: flex-start;width: 50%;}#sk-container-id-2 div.sk-parallel-item:only-child::after {width: 0;}#sk-container-id-2 div.sk-dashed-wrapped {border: 1px dashed gray;margin: 0 0.4em 0.5em 0.4em;box-sizing: border-box;padding-bottom: 0.4em;background-color: white;}#sk-container-id-2 div.sk-label label {font-family: monospace;font-weight: bold;display: inline-block;line-height: 1.2em;}#sk-container-id-2 div.sk-label-container {text-align: center;}#sk-container-id-2 div.sk-container {/* jupyter's `normalize.less` sets `[hidden] { display: none; }` but bootstrap.min.css set `[hidden] { display: none !important; }` so we also need the `!important` here to be able to override the default hidden behavior on the sphinx rendered scikit-learn.org. See: https://github.com/scikit-learn/scikit-learn/issues/21755 */display: inline-block !important;position: relative;}#sk-container-id-2 div.sk-text-repr-fallback {display: none;}</style><div id=\"sk-container-id-2\" class=\"sk-top-container\"><div class=\"sk-text-repr-fallback\"><pre>KNeighborsClassifier(n_neighbors=4)</pre><b>In a Jupyter environment, please rerun this cell to show the HTML representation or trust the notebook. <br />On GitHub, the HTML representation is unable to render, please try loading this page with nbviewer.org.</b></div><div class=\"sk-container\" hidden><div class=\"sk-item\"><div class=\"sk-estimator sk-toggleable\"><input class=\"sk-toggleable__control sk-hidden--visually\" id=\"sk-estimator-id-4\" type=\"checkbox\" checked><label for=\"sk-estimator-id-4\" class=\"sk-toggleable__label sk-toggleable__label-arrow\">KNeighborsClassifier</label><div class=\"sk-toggleable__content\"><pre>KNeighborsClassifier(n_neighbors=4)</pre></div></div></div></div></div>"
      ],
      "text/plain": [
       "KNeighborsClassifier(n_neighbors=4)"
      ]
     },
     "metadata": {},
     "output_type": "display_data"
    },
    {
     "data": {
      "text/plain": [
       "0.8108590441621294"
      ]
     },
     "metadata": {},
     "output_type": "display_data"
    },
    {
     "data": {
      "text/plain": [
       "{'n_neighbors': 4, 'weights': 'uniform'}"
      ]
     },
     "metadata": {},
     "output_type": "display_data"
    }
   ],
   "source": [
    "# Observamos los resultados\n",
    "display(grid.best_estimator_,grid.best_score_,grid.best_params_)"
   ]
  },
  {
   "cell_type": "code",
   "execution_count": 22,
   "metadata": {
    "colab": {
     "base_uri": "https://localhost:8080/"
    },
    "executionInfo": {
     "elapsed": 245,
     "status": "ok",
     "timestamp": 1632177308923,
     "user": {
      "displayName": "Ionatan Perez",
      "photoUrl": "https://lh3.googleusercontent.com/a-/AOh14Gi0OL56VTB3gzKLRSTM0ncLquyc0sbijsdExOh6GmU=s64",
      "userId": "02737854695965024620"
     },
     "user_tz": 180
    },
    "id": "m8c2A_ez1OT_",
    "outputId": "1049b11c-1632-42b2-afd2-368e79b60fc5"
   },
   "outputs": [
    {
     "name": "stdout",
     "output_type": "stream",
     "text": [
      "Accuracy_grid_knn= 0.7622377622377622\n"
     ]
    }
   ],
   "source": [
    "# Aplicamos los resultados al test\n",
    "\n",
    "y_pred_grid = grid.predict(X_test)\n",
    "\n",
    "print('Accuracy_grid_knn=', accuracy_score(y_test, y_pred_grid))\n"
   ]
  }
 ],
 "metadata": {
  "colab": {
   "authorship_tag": "ABX9TyOJ1bBwAeYhCu5q4HxFfx2O",
   "name": "Ejemplo_Titanic.ipynb",
   "provenance": []
  },
  "kernelspec": {
   "display_name": "Python 3.8.13 ('DH')",
   "language": "python",
   "name": "python3"
  },
  "language_info": {
   "codemirror_mode": {
    "name": "ipython",
    "version": 3
   },
   "file_extension": ".py",
   "mimetype": "text/x-python",
   "name": "python",
   "nbconvert_exporter": "python",
   "pygments_lexer": "ipython3",
   "version": "3.8.13"
  },
  "vscode": {
   "interpreter": {
    "hash": "93b1ad9c150e9c4fa5781c5a37e00b91f3d8cfbe17fc5b5e6277144ed0216a69"
   }
  }
 },
 "nbformat": 4,
 "nbformat_minor": 4
}

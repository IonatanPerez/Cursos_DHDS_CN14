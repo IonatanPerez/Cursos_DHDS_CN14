{
 "cells": [
  {
   "cell_type": "code",
   "execution_count": 1,
   "metadata": {
    "slideshow": {
     "slide_type": "skip"
    }
   },
   "outputs": [],
   "source": [
    "# initial setup\n",
    "# %run \"../../../common/0_notebooks_base_setup.py\"\n"
   ]
  },
  {
   "cell_type": "markdown",
   "metadata": {
    "slideshow": {
     "slide_type": "slide"
    }
   },
   "source": [
    "<link rel=\"stylesheet\" href=\"../../../common/dhds.css\">\n",
    "<div class=\"Table\">\n",
    "    <div class=\"Row\">\n",
    "        <div class=\"Cell grey left\"> <img src=\"https://raw.githubusercontent.com/Digital-House-DATA/ds_blend_2021_img/master/M7/CLASE_51_APIs/Presentacion/img/M7_CLASE_51_portada.png\" align=\"center\" width=\"90%\"/></div>                \n",
    "        <div class=\"Cell right\">\n",
    "            <div class=\"div-logo\"><img src=\"https://raw.githubusercontent.com/Digital-House-DATA/ds_blend_2021_img/master/common/logo_DH.png\" align=\"center\" width=70% /></div>\n",
    "            <div class=\"div-curso\">DATA SCIENCE</div>\n",
    "            <div class=\"div-modulo\">MÓDULO 7</div>\n",
    "            <div class=\"div-contenido\">APIs <br/> JSON</div>\n",
    "        </div>\n",
    "    </div>\n",
    "</div>"
   ]
  },
  {
   "cell_type": "markdown",
   "metadata": {
    "slideshow": {
     "slide_type": "slide"
    }
   },
   "source": [
    "## Agenda\n",
    "\n",
    "---\n",
    "\n",
    "- APIs\n",
    "\n",
    "- HTTP\n",
    "\n",
    "- JSON\n"
   ]
  },
  {
   "cell_type": "markdown",
   "metadata": {
    "slideshow": {
     "slide_type": "slide"
    }
   },
   "source": [
    "<div class=\"div-dhds-fondo-1\"> Introducción\n",
    "<img src=\"https://raw.githubusercontent.com/Digital-House-DATA/ds_blend_2021_img/master/M7/CLASE_51_APIs/Presentacion/img/M7_CLASE_51_separador.png\" align=\"center\" />\n",
    "\n",
    "</div>\n"
   ]
  },
  {
   "cell_type": "markdown",
   "metadata": {
    "slideshow": {
     "slide_type": "slide"
    }
   },
   "source": [
    "## Introducción\n",
    "\n",
    "---\n",
    " \n",
    "En esta clase vamos a aprender a hacer **llamadas a APIs para obtener datos y crear los datasets** que vamos a usar en la construcción de modelos de machine learning.\n",
    "\n",
    "**Nuestro objetivo es construir programáticamente datasets a partir de datos disponibilizados por distintos organismos y empresas**.\n",
    "\n",
    "La forma más sencilla de pensar qué es una API es utilizar como analogía a un restaurante. \n",
    "\n",
    "Todo lo que está disponible en el menú del restaurante sería esencialmente la API pública. \n",
    "\n",
    "Dos puntos clave que hacen que la analogía funcione:\n",
    "\n",
    "* el restaurante está repartiendo la comida gratis\n",
    "\n",
    "* podemos usar esa comida para abrir nuestro propio pequeño restaurante.\n",
    "\n"
   ]
  },
  {
   "cell_type": "markdown",
   "metadata": {
    "slideshow": {
     "slide_type": "subslide"
    }
   },
   "source": [
    "¿Por qué es importante una **API pública**? \n",
    "\n",
    "Las API permiten a los desarrolladores crear aplicaciones que consumen recursos desde un servicio. \n",
    "\n",
    "También hay **APIs privadas** que no están expuestas al usuario general. (Sería el menú especial que el chef cocina para el personal que no puede ser ordenado por el público en general.) \n",
    "\n",
    "Las APIs privadas son esencialmente las que se utilizan como backend para construir el servicio que sí es público.\n"
   ]
  },
  {
   "cell_type": "markdown",
   "metadata": {
    "slideshow": {
     "slide_type": "subslide"
    }
   },
   "source": [
    "**API** significa Application Programming Interface, y refiere a cualquier interfaz que se utilice programáticamente. \n",
    "\n",
    "Una **interfaz** (también llamada protocolo) es un \"contrato\" que define cómo se comunican distintos objetos\n",
    "\n",
    "El protocolo es una descripción de:\n",
    "\n",
    "* Los mensajes que el objeto entiende.\n",
    "\n",
    "* Los argumentos con los que estos mensajes pueden ser suministrados.\n",
    "    \n",
    "* Los tipos de resultados que devuelven estos mensajes.\n",
    "    \n",
    "* Los invariantes que se conservan a pesar de las modificaciones en el estado de un objeto.\n",
    "    \n",
    "* Las situaciones excepcionales que serán requeridas para ser manejadas por los clientes al objeto.\n",
    "\n"
   ]
  },
  {
   "cell_type": "markdown",
   "metadata": {
    "slideshow": {
     "slide_type": "subslide"
    }
   },
   "source": [
    "En lo que respecta a la clase de hoy, estudiaremos las **REST API** como una forma de hacer pedidos HTTP a un endpoint, para **enviar y recibir** datos estructurados, donde en vez de recibir páginas HTML, se reciben datos en una variedad de formatos: **JSON**, **XML**, **CSV**, etc.\n",
    "\n",
    "**REST** es actualmente el tipo de arquitectura más común para pasaje de información desde y hacia endpoints (si trabajan con APIs antiguas, pueden tratar también con la arquitectura **SOAP**).\n",
    "\n",
    "Antes de empezar a consumir APIs REST, es importante entender los fundamentos de la capa de comunicación sobre la que REST está montado: **HTTP**.\n"
   ]
  },
  {
   "cell_type": "markdown",
   "metadata": {
    "slideshow": {
     "slide_type": "slide"
    }
   },
   "source": [
    "<div class=\"div-dhds-fondo-1\"> HTTP\n",
    "<img src=\"https://raw.githubusercontent.com/Digital-House-DATA/ds_blend_2021_img/master/M7/CLASE_51_APIs/Presentacion/img/M7_CLASE_51_separador.png\" align=\"center\" />\n",
    "</div>\n"
   ]
  },
  {
   "cell_type": "markdown",
   "metadata": {
    "slideshow": {
     "slide_type": "slide"
    }
   },
   "source": [
    "## HTTP\n",
    "\n",
    "---\n",
    "\n",
    "**HTTP**, de sus siglas en inglés: \"Hypertext Transfer Protocol\", es el nombre de un **protocolo que nos permite realizar una petición de datos y recursos**, como pueden ser documentos HTML. \n",
    "\n",
    "Es la **base de cualquier intercambio de datos en la Web**, y un **protocolo de estructura cliente-servidor**, esto quiere decir que una petición de datos es iniciada por el elemento que recibirá los datos (el cliente), normalmente un navegador Web. \n",
    "\n"
   ]
  },
  {
   "cell_type": "markdown",
   "metadata": {
    "slideshow": {
     "slide_type": "subslide"
    }
   },
   "source": [
    "Así, una página web completa resulta de la unión de distintos sub-documentos recibidos, como por ejemplo: un documento que especifique el estilo de maquetación de la página web (CSS), el texto, las imágenes, vídeos, scripts, etc...    \n",
    "\n",
    "<img src=\"https://raw.githubusercontent.com/Digital-House-DATA/ds_blend_2021_img/master/M7/CLASE_51_APIs/Presentacion/img/M7_CLASE_51_fetching_a_page.png\" align=\"center\"/>\n"
   ]
  },
  {
   "cell_type": "markdown",
   "metadata": {
    "slideshow": {
     "slide_type": "subslide"
    }
   },
   "source": [
    "Clientes y servidores se comunican intercambiando mensajes individuales. \n",
    "\n",
    "Los mensajes que envía el cliente, normalmente un navegador Web, se llaman request (peticiones), y los mensajes enviados por el servidor se llaman response (respuestas).\n",
    "\n",
    "**HTTP** define, entre otras cosas, el formato de los mensajes pasados entre los **clientes HTTP** (Navegadores, programas de lineas de comando… ) y los **servidores HTTP**.\n",
    "\n",
    "Como la web es un servicio, esta funciona mediante la combinación de clientes que hacen pedidos y servidores que reciben los pedidos.\n",
    "\n",
    "<img src=\"https://raw.githubusercontent.com/Digital-House-DATA/ds_blend_2021_img/master/M7/CLASE_51_APIs/Presentacion/img/M7_CLASE_51_http.png\" align=\"center\"/>\n"
   ]
  },
  {
   "cell_type": "markdown",
   "metadata": {
    "slideshow": {
     "slide_type": "slide"
    }
   },
   "source": [
    "## Aplicaciones server-side\n",
    "---\n",
    "\n",
    "Las aplicaciones del lado del servidor son programas que corren en los web servers, procesan las solicitudes que el servidor recibe, y generan respuestas que espera el cliente.\n",
    "\n",
    "<img src=\"https://raw.githubusercontent.com/Digital-House-DATA/ds_blend_2021_img/master/M7/CLASE_51_APIs/Presentacion/img/M7_CLASE_51_aplicacion.png\" align=\"center\"/>\n",
    "\n",
    "\n",
    "1. El cliente envía una solicitud **HTTP Request** al Servidor Web\n",
    "\n",
    "2. El Servidor Web interpreta la solicitud y ejecuta la Aplicación correspondiente\n",
    "\n",
    "3. La Aplicación del lado del servidor accede a la base de datos y genera la respuesta\n",
    "\n",
    "4. El Servidor Web envía la respuesta **HTTP Response** al cliente\n",
    "\n"
   ]
  },
  {
   "cell_type": "markdown",
   "metadata": {
    "slideshow": {
     "slide_type": "slide"
    }
   },
   "source": [
    "## URL\n",
    "\n",
    "---\n",
    "\n",
    "¿Cómo sabe el servidor qué es lo que se está pidiendo en la solicitud? \n",
    "\n",
    "Esto es especificado en la **URL** (Uniform Resource Locator), una especie de ruta que indica donde se puede encontrar un recurso.\n",
    "\n",
    "\n",
    "<img src=\"https://raw.githubusercontent.com/Digital-House-DATA/ds_blend_2021_img/master/M7/CLASE_51_APIs/Presentacion/img/M7_CLASE_51_url.png\" align=\"center\" />\n",
    "\n",
    "* protocol: Indica el protocolo que será utilizado para acceder. ej HTTP, FTP, HTTPS\n",
    "\n",
    "* host: Indica cómo encontrar en la red el servidor que tiene el recurso.\n",
    "\n",
    "* port: Indica en qué puerto TCP/IP está escuchando el servidor\n",
    "\n",
    "* path: Indica la ruta para localizar el recurso dentro del servidor\n",
    "\n",
    "* query: Indica cuál es la consulta que se está realizando\n",
    "\n"
   ]
  },
  {
   "cell_type": "markdown",
   "metadata": {
    "slideshow": {
     "slide_type": "slide"
    }
   },
   "source": [
    "## Mensajes HTTP\n",
    "\n",
    "---\n",
    "\n",
    "### HTTP Request\n",
    "\n",
    "\n",
    "<img src=\"https://raw.githubusercontent.com/Digital-House-DATA/ds_blend_2021_img/master/M7/CLASE_51_APIs/Presentacion/img/M7_CLASE_51_HTTP_Request.png\" align=\"center\" />\n"
   ]
  },
  {
   "cell_type": "markdown",
   "metadata": {
    "slideshow": {
     "slide_type": "subslide"
    }
   },
   "source": [
    "Una petición de HTTP (request), está formado  por los siguientes campos:\n",
    "\n",
    "* Un método HTTP,  normalmente pueden ser un verbo, como: GET, POST o un nombre como: OPTIONS (en-US) o HEAD (en-US), que defina la operación que el cliente quiera realizar. \n",
    "\n",
    "    El objetivo de un cliente, suele ser una petición de recursos, usando GET, o presentar un valor de un formulario HTML, usando POST, aunque en otras ocasiones puede hacer otros tipos de peticiones. \n",
    "\n",
    "* La dirección del recurso pedido; la URL del recurso, sin los elementos obvios por el contexto, como pueden ser: sin el  protocolo (http://),  el dominio (aquí developer.mozilla.org), o el puerto TCP (aquí el 80). \n",
    "\n",
    "* La versión del protocolo HTTP.\n",
    "\n",
    "* Cabeceras HTTP opcionales, que pueden aportar información adicional a los servidores.\n",
    "\n",
    "* O un cuerpo de mensaje, en algún método, como puede ser POST, en el cual envía la información para el servidor.\n"
   ]
  },
  {
   "cell_type": "markdown",
   "metadata": {
    "slideshow": {
     "slide_type": "slide"
    }
   },
   "source": [
    "## Mensajes HTTP\n",
    "\n",
    "---\n",
    "\n",
    "### HTTP Response\n",
    "\n",
    "\n",
    "<img src=\"https://raw.githubusercontent.com/Digital-House-DATA/ds_blend_2021_img/master/M7/CLASE_51_APIs/Presentacion/img/M7_CLASE_51_HTTP_Response.png\" align=\"center\" />\n",
    "\n"
   ]
  },
  {
   "cell_type": "markdown",
   "metadata": {
    "slideshow": {
     "slide_type": "subslide"
    }
   },
   "source": [
    "Las respuestas (response) están formadas por los siguentes campos:\n",
    "\n",
    "* La versión del protocolo HTTP que están usando.\n",
    "Los status codes de HTTP Responses tienen significados estandarizados:\n",
    "\n",
    "* 2XX  Peticiones correctas, procesadas correctamente\n",
    "\n",
    "* 4XX  Errores del cliente\n",
    "\n",
    "* 5XX  Errores del servidor\n",
    "* Un código de estado, indicando si la petición ha sido exitosa, o no, y debido a que.\n",
    "\n",
    "* Un mensaje de estado, una breve descripción del código de estado. \n",
    "\n",
    "* Cabeceras HTTP, como las de las peticiones.\n",
    "\n",
    "* Opcionalmente, el recurso que se ha pedido."
   ]
  },
  {
   "cell_type": "markdown",
   "metadata": {
    "slideshow": {
     "slide_type": "slide"
    }
   },
   "source": [
    "## Status Codes\n",
    "\n",
    "---\n",
    "\n",
    "Los códigos de estado de respuesta HTTP indican si se ha completado satisfactoriamente una solicitud HTTP específica. \n",
    "\n",
    "Las respuestas se agrupan en cinco clases:\n",
    "\n",
    "1. Respuestas informativas (100–199),\n",
    "2. Respuestas satisfactorias (200–299),\n",
    "3. Redirecciones (300–399),\n",
    "4. Errores de los clientes (400–499),\n",
    "5. y errores de los servidores (500–599).\n",
    "\n",
    "Pueden consultar todos los detalles <a href=\"https://developer.mozilla.org/es/docs/Web/HTTP/Status\">aquí</a>\n",
    "\n"
   ]
  },
  {
   "cell_type": "markdown",
   "metadata": {
    "slideshow": {
     "slide_type": "subslide"
    }
   },
   "source": [
    "Los que vamos a ver con frecuencia son \n",
    "\n",
    "* 200 OK: La solicitud ha tenido éxito.\n",
    "\n",
    "* 400 Bad Request: Esta respuesta significa que el servidor no pudo interpretar la solicitud dada una sintaxis inválida.\n",
    "\n",
    "* 401 Unauthorized: Es necesario autenticar para obtener la respuesta solicitada.\n",
    "\n",
    "* 403 Forbidden: El cliente no posee los permisos necesarios para cierto contenido, por lo que el servidor está rechazando otorgar una respuesta apropiada.\n",
    "\n",
    "* 404 Not Found: El servidor no pudo encontrar el contenido solicitado. Este código de respuesta es uno de los más famosos dada su alta ocurrencia en la web.\n",
    "\n",
    "* 500 Internal Server Error: En el servidor se ha producido un error que no sabe cómo manejar.\n",
    "\n"
   ]
  },
  {
   "cell_type": "markdown",
   "metadata": {
    "slideshow": {
     "slide_type": "slide"
    }
   },
   "source": [
    "## HTTP Request Methods (Verbos)\n",
    "\n",
    "---\n",
    "\n",
    "GET => Solicita el recurso especificado.\n",
    "\n",
    "POST => Crea un recurso.\n",
    "\n",
    "PUT => Modifica el recurso especificado\n",
    "\n",
    "PATCH => Modifica partes del recurso especificado.\n",
    "\n",
    "DELETE => Borra el recurso.\n",
    "\n",
    "HEAD => Obtiene los headers del recurso.\n",
    "\n",
    "De los anteriores, GET y POST son los más comúnmente utilizados.\n"
   ]
  },
  {
   "cell_type": "markdown",
   "metadata": {
    "slideshow": {
     "slide_type": "slide"
    }
   },
   "source": [
    "## Autenticación \n",
    "\n",
    "---\n",
    "\n",
    "Muchas APIs no son accesibles de forma libre. \n",
    "\n",
    "Primero hay que registrarse como desarrollador para obtener una clave de autorización. \n",
    "\n",
    "El objetivo detrás de solicitar la identificación y autorización de los clientes es evitar el acceso a datos restringidos, así como poder proteger el servidor de clientes abusivos que pudieran degradar el servicio para otros.\n",
    "\n",
    "Por ejemplo las APIs de twitter y facebook sólo permiten obtener información propia del usuario que se ha identificado, pero no datos de otros. Al mismo tiempo establecen cuotas muy granulares para cada tipo de recurso, impidiendo la degradación del servicio por usuarios abusivos.\n"
   ]
  },
  {
   "cell_type": "markdown",
   "metadata": {
    "slideshow": {
     "slide_type": "slide"
    }
   },
   "source": [
    "<div class=\"div-dhds-fondo-1\"> Demo HTTP\n",
    "<img src=\"https://raw.githubusercontent.com/Digital-House-DATA/ds_blend_2021_img/master/M7/CLASE_51_APIs/Presentacion/img/M7_CLASE_51_separador.png\" align=\"center\" />\n",
    "\n",
    "</div>\n"
   ]
  },
  {
   "cell_type": "markdown",
   "metadata": {
    "slideshow": {
     "slide_type": "slide"
    }
   },
   "source": [
    "## Demo\n",
    "\n",
    "---\n",
    "\n",
    "Exploremos los recursos HTTP, mirando las solicitudes (**HTTP Requests**) y las respuestas (**HTTP Responses**), usando las herramientas para desarrolladores de Chrome (Ctrl + Shit + i).  \n",
    "\n",
    "Seleccionando la tab **Network** y la pestaña **Headers**:\n",
    "\n",
    "Navegamos la url `digitalhouse.com`\n",
    "\n",
    "Observemos\n",
    "\n",
    "* El código de respuesta es 301 que indica que hace una redirección. La url a la que redirige es www.digitalhouse.com (que se ve como segundo pedido en Network)\n",
    "\n",
    "* El request se hizo con el método GET y se uso https\n",
    "\n"
   ]
  },
  {
   "cell_type": "markdown",
   "metadata": {
    "slideshow": {
     "slide_type": "subslide"
    }
   },
   "source": [
    "<img src=\"https://raw.githubusercontent.com/Digital-House-DATA/ds_blend_2021_img/master/M7/CLASE_51_APIs/Presentacion/img/M7_CLASE_51_demo_1.png\" align=\"center\" width=\"100%\"/>"
   ]
  },
  {
   "cell_type": "markdown",
   "metadata": {
    "slideshow": {
     "slide_type": "subslide"
    }
   },
   "source": [
    "Haciendo click sobre la segunda linea (www.digitalhouse.com)\n",
    "\n",
    "Observemos\n",
    "\n",
    "* El código de respuesta es 200\n",
    "\n",
    "* El contenido del response es html con encoding UTF-8\n",
    "\n",
    "* El request se hizo con el método GET y la conexión es segura (https)\n",
    "\n",
    "* Cada linea bajo Name es un recurso solicitado por el cliente (browser) al servidor."
   ]
  },
  {
   "cell_type": "markdown",
   "metadata": {
    "slideshow": {
     "slide_type": "subslide"
    }
   },
   "source": [
    "<img src=\"https://raw.githubusercontent.com/Digital-House-DATA/ds_blend_2021_img/master/M7/CLASE_51_APIs/Presentacion/img/M7_CLASE_51_demo_2.png\" align=\"center\" width=\"100%\"/>"
   ]
  },
  {
   "cell_type": "markdown",
   "metadata": {
    "slideshow": {
     "slide_type": "slide"
    }
   },
   "source": [
    "<div class=\"div-dhds-fondo-1\"> JSON\n",
    "<img src=\"https://raw.githubusercontent.com/Digital-House-DATA/ds_blend_2021_img/master/M7/CLASE_51_APIs/Presentacion/img/M7_CLASE_51_separador.png\" align=\"center\" />\n",
    "</div>\n"
   ]
  },
  {
   "cell_type": "markdown",
   "metadata": {
    "slideshow": {
     "slide_type": "slide"
    }
   },
   "source": [
    "## JSON\n",
    "\n",
    "---\n",
    "\n",
    "**JSON** es el acrónimo de JavaScript Object Notation. \n",
    "\n",
    "Se trata de un formato para guardar e intercambiar información de forma organizada y fácil de interpretar. Básicamente, nos da una colección de datos muy fácil de leer.\n",
    "\n",
    "Los archivos json contienen solo texto y usan la extensión .json.\n",
    "\n",
    "JSON es un formato que almacena información estructurada y se utiliza principalmente para transferir datos entre un servidor y un cliente.\n",
    "\n",
    "El archivo es una alternativa más simple y liviana al XML que cuenta con funciones similares.\n",
    "\n"
   ]
  },
  {
   "cell_type": "markdown",
   "metadata": {
    "slideshow": {
     "slide_type": "subslide"
    }
   },
   "source": [
    "JSON está construído por solo dos estructuras:\n",
    "\n",
    "* **Objetos**: Son colecciones de pares nombre/valor, en muchos lenguajes este tipo de colección se realiza mediante diccionarios, estructuras, tablas de hash, objetos, etc.\n",
    "\n",
    "* **Arrays**: Son una lista ordenada de valores. En muchos lenguajes esto es realizado mediante arreglos, vectores, listas, secuencias, etc.\n",
    "\n",
    "Estas son estructuras de datos universales (prácticamente todos los lenguajes de programación las soportan). \n",
    "\n",
    "Como JSON fue ideado como un formato de intercambio de datos universal, tiene sentido que se utilicen estas estructuras.\n",
    "\n",
    "Además de estas estructuras, JSON define otros tipos básicos: **string**, **número** y **booleanos**.\n"
   ]
  },
  {
   "cell_type": "markdown",
   "metadata": {
    "slideshow": {
     "slide_type": "subslide"
    }
   },
   "source": [
    "* Objetos: Un objeto es un conjunto no ordenado de pares nombre/valor, como en Python un diccionario. \n",
    "    Un objeto comienza con { (llave izquierda) y termina con } (llave derecha). \n",
    "    Cada nombre es seguido por : (dos puntos) y los pares nombre/valor son separados por , (coma).\n",
    "\n",
    "    La sintaxis es la siguiente:\n",
    "    \n",
    "    { nombre : valor,   nombre : valor,  ...}\n",
    "    \n",
    "    ejemplo:\n",
    "    \n",
    "    {\"jugador\": \"Diego\", \"numero\": 10,  ...}\n",
    "\n",
    "\n",
    "* Arrays: Un array es una colección ordenada de valores. Un array comienza con [ y termina con ] (corchetes). \n",
    "    Entre ellos puede haber una cantidad arbitraria de valores separados por ,.\n",
    "\n",
    "    La sintaxis es la siguiente:\n",
    "    \n",
    "    [ valor , valor,  ...]\n",
    "    \n",
    "    ejemplo:\n",
    "    \n",
    "    [2, 3, 5, 7, 11, ...]\n"
   ]
  },
  {
   "cell_type": "markdown",
   "metadata": {
    "slideshow": {
     "slide_type": "slide"
    }
   },
   "source": [
    "## Sintaxis\n",
    "\n",
    "---\n",
    "\n",
    "* Todos los archivos de JSON representan una de estas dos estructuras: 1) un objeto, es decir, una lista de pares clave / valor. 2) una colección de elementos, lo que se conoce como array o arreglo.\n",
    "\n",
    "* Los archivos JSON que representan objetos comienzan siempre con una llave de inicio { y acaban con la llave de cierre }.\n",
    "\n",
    "* Los archivos JSON que representan una lista de valores, es decir, un arreglo, comienzan por [ y terminan por ].\n",
    "\n",
    "* Se deben usar siempre comillas dobles a la hora de encerrar cadenas y nombres de los atributos del objeto.\n",
    "\n",
    "* Todos los nombres de los atributos del objeto deben tener comillas necesariamente.\n",
    "\n",
    "* Cada elemento del objeto JSON se separa del siguiente con una coma (,). Pero no debe haber una coma después del último.\n",
    "\n",
    "* El archivo transferido en un JSON debe ser necesariamente codificado como UTF8"
   ]
  },
  {
   "cell_type": "markdown",
   "metadata": {
    "slideshow": {
     "slide_type": "slide"
    }
   },
   "source": [
    "## Ejemplo JSON\n",
    "\n",
    "---\n",
    "\n",
    "<code>\n",
    "{\n",
    "  \"nombre\":\"Jonh Doe\",\n",
    "  \"profesion\":\"Programador\",\n",
    "  \"edad\":25,\n",
    "  \"lenguajes\":[\"PHP\",\"Javascript\",\"Dart\"],\n",
    "  \"disponibilidadParaViajar\":true,\n",
    "  \"rangoProfesional\": {\n",
    "      \"aniosDeExperiencia\": 12,\n",
    "      \"nivel\": \"Senior\"\n",
    "  }\n",
    "}\n",
    "</code>\n",
    "\n",
    "¿Cuáles son los objetos?\n",
    "\n",
    "¿Identifican objetos anidados?\n",
    "\n",
    "¿Identifican un array?\n",
    "\n",
    "\n",
    "Un recurso para validar la sintaxis (Validate) y dar formato (Beautify) un documento JSON es <a href=\"http://codebeautify.org/jsonviewer\" target = \"_blank\">JSON Viewer</a>. \n",
    "\n",
    "Observen que los valores booleanos en json se representan como `true` y `false` mientras que en python se representan como `True` y `False`\n"
   ]
  },
  {
   "cell_type": "markdown",
   "metadata": {
    "slideshow": {
     "slide_type": "slide"
    }
   },
   "source": [
    "<div class=\"div-dhds-fondo-1\"> Hands-on\n",
    "<img src=\"https://raw.githubusercontent.com/Digital-House-DATA/ds_blend_2021_img/master/M7/CLASE_51_APIs/Presentacion/img/M7_CLASE_51_separador.png\" align=\"center\" />\n",
    "</div>\n"
   ]
  },
  {
   "cell_type": "markdown",
   "metadata": {
    "slideshow": {
     "slide_type": "slide"
    }
   },
   "source": [
    "## Ejercicio\n",
    "\n",
    "---\n",
    "\n",
    "Vamos a ver ahora un ejemplo de uso de una api de mercado libre.\n",
    "\n",
    "La documentación de las APIs disponibles está en \n",
    "\n",
    "https://developers.mercadolibre.com.ar/es_ar/api-docs-es\n",
    "\n",
    "Recursos de la API: https://developers.mercadolibre.com.ar/es_ar/categorias-y-publicaciones Haciendo click en GET vemos un ejemplo \n",
    "    \n",
    "**Queremos saber cuáles fueron las preguntas realizadas sobre determinado item.**\n"
   ]
  },
  {
   "cell_type": "markdown",
   "metadata": {
    "slideshow": {
     "slide_type": "subslide"
    }
   },
   "source": [
    "1) Elijan un producto en mercadolibre y extraigan su id de la url.\n",
    "Por ejemplo \n",
    "\n",
    " * https://articulo.mercadolibre.com.ar/MLA-931469458-todo-eso-que-somos-szela-juan-libro-_JM\n",
    "el id es MLA931469458\n",
    "\n",
    "* https://articulo.mercadolibre.com.ar/MLA-792179822-cemento-el-semillero-del-rock-igarzabal-nicolas-libro-_JM\n",
    "el id es MLA792179822\n",
    "\n",
    "* https://articulo.mercadolibre.com.ar/MLA-910229075-oro-de-rey-herrera-javier-leon-libro-_JM#\n",
    "el id es MLA910229075\n",
    "\n",
    "Nota: si consultan varias veces por el mismo item van a obtenerun código de error en el response por un rato.\n"
   ]
  },
  {
   "cell_type": "markdown",
   "metadata": {
    "slideshow": {
     "slide_type": "subslide"
    }
   },
   "source": [
    "\n",
    "2) Usando \n",
    "\n",
    "* la biblioteca `requests` https://docs.python-requests.org/en/master/ y \n",
    "\n",
    "* la documentación del método que provee mercadolibre en https://developers.mercadolibre.com.ar/es_ar/preguntas-y-respuestas#\n",
    "\n",
    "Construir un dataframe con las preguntas realizadas sobre el item que eligieron.\n",
    "\n",
    "¿Qué tipo de datos tiene la columna `answer`?\n",
    "\n",
    "Usando el método `json_normalize` https://pandas.pydata.org/pandas-docs/version/1.1.3/reference/api/pandas.json_normalize.html construir un DataFrame las preguntas realizadas sobre el item que eligieron. ¿Cómo están representados ahora los datos de `answer`?\n"
   ]
  },
  {
   "cell_type": "markdown",
   "metadata": {
    "slideshow": {
     "slide_type": "subslide"
    }
   },
   "source": [
    "\n",
    "3 ) Determinar \n",
    "\n",
    "* el `status_code` devuelto\n",
    "\n",
    "* la lista de `headers` del response\n",
    "\n",
    "* el valor de `Content-Type` del header del response\n",
    "\n",
    "* el contenido del response en formato json"
   ]
  },
  {
   "cell_type": "code",
   "execution_count": 13,
   "metadata": {
    "slideshow": {
     "slide_type": "fragment"
    }
   },
   "outputs": [],
   "source": [
    "import requests\n",
    "import json\n",
    "import pandas as pd"
   ]
  },
  {
   "cell_type": "markdown",
   "metadata": {
    "slideshow": {
     "slide_type": "slide"
    }
   },
   "source": [
    "## Solución\n",
    "\n",
    "---"
   ]
  },
  {
   "cell_type": "code",
   "execution_count": 14,
   "metadata": {
    "slideshow": {
     "slide_type": "fragment"
    }
   },
   "outputs": [],
   "source": [
    "import requests\n",
    "import json\n",
    "import pandas as pd"
   ]
  },
  {
   "cell_type": "code",
   "execution_count": 24,
   "metadata": {
    "slideshow": {
     "slide_type": "fragment"
    }
   },
   "outputs": [
    {
     "name": "stdout",
     "output_type": "stream",
     "text": [
      "https://api.mercadolibre.com/questions/search?item_id=MLA18577306\n"
     ]
    }
   ],
   "source": [
    "#item_id = \"MLA931469458\"\n",
    "item_id = \"MLA18577306\"\n",
    "#item_id = \"MLA910229075\"\n",
    "url = \"https://api.mercadolibre.com/questions/search?item_id=\" + item_id\n",
    "print(url)\n",
    "response = requests.get(url)"
   ]
  },
  {
   "cell_type": "code",
   "execution_count": 25,
   "metadata": {
    "slideshow": {
     "slide_type": "subslide"
    }
   },
   "outputs": [
    {
     "data": {
      "text/plain": [
       "{'total': 0,\n",
       " 'limit': 50,\n",
       " 'questions': [],\n",
       " 'filters': {'limit': 50,\n",
       "  'offset': 0,\n",
       "  'api_version': '4',\n",
       "  'is_admin': False,\n",
       "  'sorts': [],\n",
       "  'caller': None,\n",
       "  'item': 'MLA18577306'},\n",
       " 'available_filters': [{'id': 'from',\n",
       "   'name': 'From user id',\n",
       "   'type': 'number'},\n",
       "  {'id': 'seller', 'name': 'Seller id', 'type': 'number'},\n",
       "  {'id': 'totalDivisions', 'name': 'total divisions', 'type': 'number'},\n",
       "  {'id': 'division', 'name': 'Division', 'type': 'number'},\n",
       "  {'id': 'status',\n",
       "   'name': 'Status',\n",
       "   'type': 'text',\n",
       "   'values': ['ANSWERED',\n",
       "    'BANNED',\n",
       "    'CLOSED_UNANSWERED',\n",
       "    'DELETED',\n",
       "    'DISABLED',\n",
       "    'UNANSWERED',\n",
       "    'UNDER_REVIEW']}],\n",
       " 'available_sorts': ['item_id', 'from_id', 'date_created', 'seller_id']}"
      ]
     },
     "execution_count": 25,
     "metadata": {},
     "output_type": "execute_result"
    }
   ],
   "source": [
    "data_response = response.json()\n",
    "data_response"
   ]
  },
  {
   "cell_type": "code",
   "execution_count": 17,
   "metadata": {
    "slideshow": {
     "slide_type": "subslide"
    }
   },
   "outputs": [
    {
     "name": "stdout",
     "output_type": "stream",
     "text": [
      "(0, 0)\n"
     ]
    },
    {
     "data": {
      "text/html": [
       "<div>\n",
       "<style scoped>\n",
       "    .dataframe tbody tr th:only-of-type {\n",
       "        vertical-align: middle;\n",
       "    }\n",
       "\n",
       "    .dataframe tbody tr th {\n",
       "        vertical-align: top;\n",
       "    }\n",
       "\n",
       "    .dataframe thead th {\n",
       "        text-align: right;\n",
       "    }\n",
       "</style>\n",
       "<table border=\"1\" class=\"dataframe\">\n",
       "  <thead>\n",
       "    <tr style=\"text-align: right;\">\n",
       "      <th></th>\n",
       "    </tr>\n",
       "  </thead>\n",
       "  <tbody>\n",
       "  </tbody>\n",
       "</table>\n",
       "</div>"
      ],
      "text/plain": [
       "Empty DataFrame\n",
       "Columns: []\n",
       "Index: []"
      ]
     },
     "execution_count": 17,
     "metadata": {},
     "output_type": "execute_result"
    }
   ],
   "source": [
    "questions = data_response[\"questions\"]\n",
    "questions_df = pd.DataFrame(questions)\n",
    "print(questions_df.shape)\n",
    "questions_df"
   ]
  },
  {
   "cell_type": "code",
   "execution_count": 18,
   "metadata": {
    "slideshow": {
     "slide_type": "subslide"
    }
   },
   "outputs": [],
   "source": [
    "if(questions_df.shape[0] > 0):\n",
    "    print(questions_df.answer[0])\n",
    "    print(type(questions_df.answer[0]))"
   ]
  },
  {
   "cell_type": "code",
   "execution_count": 19,
   "metadata": {
    "slideshow": {
     "slide_type": "subslide"
    }
   },
   "outputs": [
    {
     "data": {
      "text/html": [
       "<div>\n",
       "<style scoped>\n",
       "    .dataframe tbody tr th:only-of-type {\n",
       "        vertical-align: middle;\n",
       "    }\n",
       "\n",
       "    .dataframe tbody tr th {\n",
       "        vertical-align: top;\n",
       "    }\n",
       "\n",
       "    .dataframe thead th {\n",
       "        text-align: right;\n",
       "    }\n",
       "</style>\n",
       "<table border=\"1\" class=\"dataframe\">\n",
       "  <thead>\n",
       "    <tr style=\"text-align: right;\">\n",
       "      <th></th>\n",
       "    </tr>\n",
       "  </thead>\n",
       "  <tbody>\n",
       "  </tbody>\n",
       "</table>\n",
       "</div>"
      ],
      "text/plain": [
       "Empty DataFrame\n",
       "Columns: []\n",
       "Index: []"
      ]
     },
     "execution_count": 19,
     "metadata": {},
     "output_type": "execute_result"
    }
   ],
   "source": [
    "pd.json_normalize(questions)"
   ]
  },
  {
   "cell_type": "code",
   "execution_count": 20,
   "metadata": {
    "slideshow": {
     "slide_type": "subslide"
    }
   },
   "outputs": [
    {
     "data": {
      "text/plain": [
       "200"
      ]
     },
     "execution_count": 20,
     "metadata": {},
     "output_type": "execute_result"
    }
   ],
   "source": [
    "response.status_code"
   ]
  },
  {
   "cell_type": "code",
   "execution_count": 21,
   "metadata": {
    "slideshow": {
     "slide_type": "fragment"
    }
   },
   "outputs": [
    {
     "data": {
      "text/plain": [
       "{'Content-Type': 'application/json;charset=UTF-8', 'Transfer-Encoding': 'chunked', 'Connection': 'keep-alive', 'Date': 'Fri, 27 Jan 2023 15:53:20 GMT', 'cache-control': 'max-age=0, stale-while-revalidate=0, stale-if-error=0', 'vary': 'Accept,Accept-Encoding', 'etag': '2fb70e279e33b17c2306343ee8bbb432', 'X-Content-Type-Options': 'nosniff', 'X-Request-Id': 'c2057829-3cda-487e-95ea-8e60d53face0', 'X-Frame-Options': 'DENY', 'X-XSS-Protection': '1; mode=block', 'Access-Control-Allow-Origin': '*', 'Access-Control-Allow-Headers': 'Content-Type', 'Access-Control-Allow-Methods': 'PUT, GET, POST, DELETE, OPTIONS', 'Access-Control-Max-Age': '86400', 'X-Cache': 'Miss from cloudfront', 'Via': '1.1 1f60c66f5a68e4f3bcea1b8427b33b12.cloudfront.net (CloudFront)', 'X-Amz-Cf-Pop': 'EZE50-P1', 'X-Amz-Cf-Id': 'YCuaWbHRksKLppHqPj9k3cNHZJ4CMdnKyetfXArLRtl5dt6szwGO1g=='}"
      ]
     },
     "execution_count": 21,
     "metadata": {},
     "output_type": "execute_result"
    }
   ],
   "source": [
    "response.headers"
   ]
  },
  {
   "cell_type": "code",
   "execution_count": 22,
   "metadata": {
    "slideshow": {
     "slide_type": "fragment"
    }
   },
   "outputs": [
    {
     "data": {
      "text/plain": [
       "'application/json;charset=UTF-8'"
      ]
     },
     "execution_count": 22,
     "metadata": {},
     "output_type": "execute_result"
    }
   ],
   "source": [
    "response.headers[\"Content-Type\"]"
   ]
  },
  {
   "cell_type": "code",
   "execution_count": 23,
   "metadata": {
    "slideshow": {
     "slide_type": "subslide"
    }
   },
   "outputs": [
    {
     "data": {
      "text/plain": [
       "{'total': 0,\n",
       " 'limit': 50,\n",
       " 'questions': [],\n",
       " 'filters': {'limit': 50,\n",
       "  'offset': 0,\n",
       "  'api_version': '4',\n",
       "  'is_admin': False,\n",
       "  'sorts': [],\n",
       "  'caller': None,\n",
       "  'item': 'MLA792179822'},\n",
       " 'available_filters': [{'id': 'from',\n",
       "   'name': 'From user id',\n",
       "   'type': 'number'},\n",
       "  {'id': 'seller', 'name': 'Seller id', 'type': 'number'},\n",
       "  {'id': 'totalDivisions', 'name': 'total divisions', 'type': 'number'},\n",
       "  {'id': 'division', 'name': 'Division', 'type': 'number'},\n",
       "  {'id': 'status',\n",
       "   'name': 'Status',\n",
       "   'type': 'text',\n",
       "   'values': ['ANSWERED',\n",
       "    'BANNED',\n",
       "    'CLOSED_UNANSWERED',\n",
       "    'DELETED',\n",
       "    'DISABLED',\n",
       "    'UNANSWERED',\n",
       "    'UNDER_REVIEW']}],\n",
       " 'available_sorts': ['item_id', 'from_id', 'date_created', 'seller_id']}"
      ]
     },
     "execution_count": 23,
     "metadata": {},
     "output_type": "execute_result"
    }
   ],
   "source": [
    "response.json()"
   ]
  },
  {
   "cell_type": "markdown",
   "metadata": {
    "slideshow": {
     "slide_type": "slide"
    }
   },
   "source": [
    "<div class=\"div-dhds-fondo-1\"> Referencias\n",
    "<img src=\"https://raw.githubusercontent.com/Digital-House-DATA/ds_blend_2021_img/master/M7/CLASE_51_APIs/Presentacion/img/M7_CLASE_51_separador.png\" align=\"center\" />\n",
    "\n",
    "</div>\n"
   ]
  },
  {
   "cell_type": "markdown",
   "metadata": {
    "slideshow": {
     "slide_type": "slide"
    }
   },
   "source": [
    "## Referencias \n",
    "\n",
    "---\n",
    "\n",
    "<a href=\"https://www.youtube.com/watch?v=OVvTv9Hy91Q\"> What Are APIs? - Simply Explained</a>\n",
    "\n",
    "<a href=\"https://developer.mozilla.org/es/docs/Web/HTTP/Overview\">HTTP</a>\n",
    "\n",
    "<a href=\"https://www.geeksforgeeks.org/get-post-requests-using-python/\">GET and POST requests using Python</a>\n",
    "\n",
    "<a href=\"http://codebeautify.org/jsonviewer\">jsonviewer</a>\n",
    "\n",
    "<a href=\"https://medium.com/edureka/what-is-rest-api-d26ea9000ee6\">What is REST API? — A Comprehensive Guide To RESTful APIs</a>"
   ]
  }
 ],
 "metadata": {
  "kernelspec": {
   "display_name": "base",
   "language": "python",
   "name": "python3"
  },
  "language_info": {
   "codemirror_mode": {
    "name": "ipython",
    "version": 3
   },
   "file_extension": ".py",
   "mimetype": "text/x-python",
   "name": "python",
   "nbconvert_exporter": "python",
   "pygments_lexer": "ipython3",
   "version": "3.9.12 (main, Apr  4 2022, 05:22:27) [MSC v.1916 64 bit (AMD64)]"
  },
  "vscode": {
   "interpreter": {
    "hash": "499a1cf83386e9cdb50680be6c4b00d5e02a649406be4f417a406efedf754313"
   }
  }
 },
 "nbformat": 4,
 "nbformat_minor": 4
}

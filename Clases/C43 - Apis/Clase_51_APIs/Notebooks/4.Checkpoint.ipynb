{
 "cells": [
  {
   "cell_type": "code",
   "execution_count": null,
   "id": "handed-baseline",
   "metadata": {},
   "outputs": [],
   "source": [
    "%run \"../../../common/0_notebooks_base_setup.py\"\n",
    "\n",
    "! pip install uk-covid19"
   ]
  },
  {
   "cell_type": "markdown",
   "id": "behind-motor",
   "metadata": {},
   "source": [
    "<img src='../../../common/logo_DH.png' align='left' width=35%/>"
   ]
  },
  {
   "cell_type": "markdown",
   "id": "significant-mounting",
   "metadata": {},
   "source": [
    "# Checkpoint APIs\n",
    "\n",
    "---\n",
    "\n",
    "En esta práctica vamos a usar una api que disponibiliza datos de COVID-19 en Reino Unido\n",
    "\n",
    "La documentación de la API está disponible en https://coronavirus.data.gov.uk/details/developers-guide\n",
    "\n",
    "Todos los pedidos (requests) a la API son sobre HTTPS.\n",
    "\n",
    "También proveen una biblioteca para acceso a los datos https://github.com/publichealthengland/coronavirus-dashboard-api-python-sdk\n",
    "\n",
    "En la primera parte de esta práctica vamos a usar un request para consultar cierta información (<a href=\"https://coronavirus.data.gov.uk/details/developers-guide#sdks\">documentación</a>), y en la segunda parte vamos a consultar la misma info usando la bilbioteca que provee <a href=\"https://github.com/publichealthengland/coronavirus-dashboard-api-python-sdk\">Public Health England</a>\n"
   ]
  },
  {
   "cell_type": "markdown",
   "id": "affiliated-congo",
   "metadata": {},
   "source": [
    "## Imports\n"
   ]
  },
  {
   "cell_type": "code",
   "execution_count": null,
   "id": "naughty-richmond",
   "metadata": {},
   "outputs": [],
   "source": [
    "import pandas as pd\n",
    "import numpy as np\n",
    "from requests import get\n",
    "from json import dumps\n",
    "from datetime import date, timedelta\n",
    "\n",
    "from uk_covid19 import Cov19API"
   ]
  },
  {
   "cell_type": "markdown",
   "id": "extreme-difficulty",
   "metadata": {},
   "source": [
    "## Ejercicio 1\n",
    "\n",
    "Usando un web request construir un DataFrame con información sobre casos nuevos y muertes en Inglaterra (\"england\") el día de ayer:\n",
    "\n",
    "Los valores de metricName que queremos obtener en la respuesta son:\n",
    "\n",
    "* date,\n",
    "* areaName,\n",
    "* areaCode,\n",
    "* newCasesByPublishDate,\n",
    "* cumCasesByPublishDate,\n",
    "* newDeaths28DaysByPublishDate,\n",
    "* cumDeaths28DaysByPublishDate\n",
    "\n",
    "Para ver qué filtros podemos aplicar en la consulta:\n",
    "\n",
    "https://coronavirus.data.gov.uk/details/developers-guide#params-filters\n",
    "\n",
    "Según la documentación, la estructura de la respuesta queda definida por \n",
    "\n",
    "`structure={[responseName]:[metricName], [responseName]:[metricName]}`\n",
    "\n",
    "Para ver los valores disponibles para metricName:\n",
    "\n",
    "https://coronavirus.data.gov.uk/details/developers-guide `See a list of valid metrics for structure`\n",
    "\n",
    "**Vemos en la documentación que el filtro areaType es requerido para todas las consultas:**\n",
    "\n",
    "`The areaType metric is mandatory and must be defined in all queries.`\n",
    "\n",
    "\n",
    "\n"
   ]
  },
  {
   "cell_type": "code",
   "execution_count": null,
   "id": "focused-cosmetic",
   "metadata": {},
   "outputs": [],
   "source": []
  },
  {
   "cell_type": "markdown",
   "id": "restricted-hierarchy",
   "metadata": {},
   "source": [
    "# Ejercicio 2\n",
    "\n",
    "Obtener todos los datos que obtuvimos en el ejercicio anterior para los últimos 30 días.\n"
   ]
  },
  {
   "cell_type": "markdown",
   "id": "weekly-twins",
   "metadata": {},
   "source": [
    "Ayuda: Quitamos el valor de `date` de los filtros y vemos que la primera página trae en orden decreciente de fecha más de treinta días"
   ]
  },
  {
   "cell_type": "code",
   "execution_count": null,
   "id": "smaller-electron",
   "metadata": {},
   "outputs": [],
   "source": []
  },
  {
   "cell_type": "markdown",
   "id": "appropriate-affiliate",
   "metadata": {},
   "source": [
    "Alternativa: \n",
    "\n",
    "Hacer un ciclo iterando sobre cada fecha de interés. Usar sleep entre consultas sucesivas https://www.programiz.com/python-programming/time/sleep\n",
    "    "
   ]
  },
  {
   "cell_type": "markdown",
   "id": "armed-breakfast",
   "metadata": {},
   "source": [
    "## Ejercicio 3\n",
    "\n",
    "Repetir el ejercicio 1 usando la bilbioteca que provee Public Health England\n",
    "\n",
    "Documentación: https://publichealthengland.github.io/coronavirus-dashboard-api-python-sdk/pages/examples/general_use.html#"
   ]
  },
  {
   "cell_type": "code",
   "execution_count": null,
   "id": "strange-mobility",
   "metadata": {},
   "outputs": [],
   "source": []
  },
  {
   "cell_type": "markdown",
   "id": "first-request",
   "metadata": {},
   "source": [
    "## Ejercicio 4\n",
    "\n",
    "Repetir el ejercicio 2 usando la bilbioteca que provee Public Health England\n"
   ]
  },
  {
   "cell_type": "code",
   "execution_count": null,
   "id": "brave-seating",
   "metadata": {},
   "outputs": [],
   "source": []
  },
  {
   "cell_type": "markdown",
   "id": "physical-struggle",
   "metadata": {},
   "source": [
    "## Referencias y Material Adicional\n",
    "---\n",
    "\n",
    "https://coronavirus.data.gov.uk/details/developers-guide\n",
    "\n",
    "https://github.com/publichealthengland/coronavirus-dashboard-api-python-sdk\n",
    "\n",
    "https://apidocs.data.world/toolkit/api/clients\n",
    "\n",
    "https://apidocs.data.world/toolkit/rest-api\n",
    "\n",
    "https://github.com/datadotworld/data.world-py\n",
    "\n",
    "https://datosgobar.github.io/series-tiempo-ar-api/\n",
    "\n",
    "https://datosgobar.github.io/series-tiempo-ar-api/python-usage/"
   ]
  }
 ],
 "metadata": {
  "kernelspec": {
   "display_name": "Python 3",
   "language": "python",
   "name": "python3"
  },
  "language_info": {
   "codemirror_mode": {
    "name": "ipython",
    "version": 3
   },
   "file_extension": ".py",
   "mimetype": "text/x-python",
   "name": "python",
   "nbconvert_exporter": "python",
   "pygments_lexer": "ipython3",
   "version": "3.8.5"
  }
 },
 "nbformat": 4,
 "nbformat_minor": 5
}

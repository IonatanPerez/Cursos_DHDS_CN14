{
 "cells": [
  {
   "cell_type": "code",
   "execution_count": null,
   "metadata": {},
   "outputs": [],
   "source": [
    "# initial setup\n",
    "%run \"../../../common/0_notebooks_base_setup.py\"\n",
    "\n",
    "!pip install pandas-datareader==0.10.0"
   ]
  },
  {
   "cell_type": "markdown",
   "metadata": {},
   "source": [
    "<img src='../../../common/logo_DH.png' align='left' width=35%/>"
   ]
  },
  {
   "cell_type": "markdown",
   "metadata": {},
   "source": [
    "# APIs - Práctica Guiada II\n",
    "\n",
    "**Nota**: Esta notebook a veces no funciona por problemas en la API de yahoo.\n",
    "\n",
    "Si aprece como error \"No data fetched using 'YahooDailyReader'\" prueben ejecutarla en otro momento."
   ]
  },
  {
   "cell_type": "markdown",
   "metadata": {},
   "source": [
    "<a id=\"section_toc\"></a> \n",
    "## Tabla de Contenidos\n",
    "\n",
    "[1- `pandas_datareader`](#section_pdr)\n",
    "\n",
    "[2- Graficando la Serie de una acción](#section_series)\n",
    "\n",
    "$\\hspace{.5cm}$[2.1- Ejemplo: YPF](#section_ejemplo)\n",
    "\n",
    "---"
   ]
  },
  {
   "cell_type": "markdown",
   "metadata": {},
   "source": [
    "<a id=\"section_pdr\"></a> \n",
    "###  1- `pandas_datareader`\n",
    "[volver a TOC](#section_toc)\n",
    "\n",
    "Para esta práctica usaremos [pandas_datareader](https://github.com/pydata/pandas-datareader), una librería que permite descargar directamente a los formatos (a esta altura muy conocidos) que ofrece Pandas.\n",
    "\n",
    "La librería permite consumir datos de múltiples fuentes y armar DataFrames completos y con distintos formatos útiles. En esta práctica estudiaremos las series de distintas acciones de empresas conocidas, y estudiaremos gráficamente su comportamiento.\n",
    "\n",
    "https://pydata.github.io/pandas-datareader/remote_data.html#remote-data-yahoo"
   ]
  },
  {
   "cell_type": "code",
   "execution_count": null,
   "metadata": {},
   "outputs": [],
   "source": [
    "import datetime\n",
    "\n",
    "import matplotlib.pyplot as plt\n",
    "import pandas as pd\n",
    "from pandas_datareader import data\n",
    "\n",
    "plt.style.use('seaborn')"
   ]
  },
  {
   "cell_type": "code",
   "execution_count": null,
   "metadata": {},
   "outputs": [],
   "source": [
    "# Si se precisa alguna otra acción, editar esta lista.\n",
    "tickers = ['AAPL', 'MSFT', '^GSPC', 'PAMP.BA','PAM','YPF','YPFD.BA']"
   ]
  },
  {
   "cell_type": "code",
   "execution_count": null,
   "metadata": {},
   "outputs": [],
   "source": [
    "start_date = '2010-01-01'\n",
    "end_date = datetime.datetime.now().strftime('%Y%m%d')"
   ]
  },
  {
   "cell_type": "code",
   "execution_count": null,
   "metadata": {},
   "outputs": [],
   "source": [
    "df = data.DataReader(tickers, data_source='yahoo', start=start_date, end=end_date)"
   ]
  },
  {
   "cell_type": "markdown",
   "metadata": {},
   "source": [
    "Como podemos ver, obtenemos un DataFrame con MultiIndex en columnas, en el cual podemos ver distintos valores de precio para cada acción seleccionada (apertura, cierre, etc.). El formato es el de una serie de tiempo, con distintas posibles variables a regresionar (si quisiéramos hacerlo).\n",
    "\n",
    "Para esta práctica, vamos a tomar como unidad de análisis el precio de cierre, de modo de quedar con un DataFrame cuya unidad observacional sea el cierre de un día, para cada una de las empresas observadas."
   ]
  },
  {
   "cell_type": "code",
   "execution_count": null,
   "metadata": {},
   "outputs": [],
   "source": [
    "close = df['Close']"
   ]
  },
  {
   "cell_type": "code",
   "execution_count": null,
   "metadata": {},
   "outputs": [],
   "source": [
    "# freq='B' representa sólo los días de semana (business days).\n",
    "all_weekdays = pd.date_range(start=start_date, end=end_date, freq='B')\n",
    "\n",
    "close = close.reindex(all_weekdays)\n",
    "\n",
    "close = close.fillna(method='ffill')"
   ]
  },
  {
   "cell_type": "markdown",
   "metadata": {},
   "source": [
    "Observemos un poco cómo se distribuyen estos precios:"
   ]
  },
  {
   "cell_type": "code",
   "execution_count": null,
   "metadata": {},
   "outputs": [],
   "source": [
    "close.describe()"
   ]
  },
  {
   "cell_type": "markdown",
   "metadata": {},
   "source": [
    "<a id=\"section_series\"></a> \n",
    "###  2- Graficando la Serie de una acción.\n",
    "[volver a TOC](#section_toc)\n",
    "\n",
    "Ahora vamos a elegir una empresa de las que observamos, y vamos a observar la serie de tiempo de sus precios de cierre. Para ello vamos a armar una pequeña función, que con la sigla de la empresa nos genere las visualizaciones que necesitamos."
   ]
  },
  {
   "cell_type": "code",
   "execution_count": null,
   "metadata": {},
   "outputs": [],
   "source": [
    "def graph_time_series(name):\n",
    "    \"\"\"\n",
    "    Función para graficar los precios de cierre.\n",
    "    \n",
    "    Parameters\n",
    "    ----------\n",
    "    name : str\n",
    "        Nombre de la acción a rastrear.\n",
    "\n",
    "    \"\"\"\n",
    "    stock = close.loc[:, name]\n",
    "\n",
    "    short_rolling_stock = stock.rolling(window=20).mean()\n",
    "    long_rolling_stock = stock.rolling(window=100).mean()\n",
    "\n",
    "    fig, ax = plt.subplots(figsize=(16,9))\n",
    "\n",
    "    ax.plot(stock.index, stock, label=name)\n",
    "    ax.set_title(f\"Rolling means and actual value for stock {name}\\n\", fontsize=26)\n",
    "    ax.tick_params(labelsize=14)\n",
    "    ax.plot(short_rolling_stock.index, short_rolling_stock, label='20 days rolling')\n",
    "    ax.plot(long_rolling_stock.index, long_rolling_stock, label='100 days rolling')\n",
    "    ax.legend(fontsize=14)"
   ]
  },
  {
   "cell_type": "markdown",
   "metadata": {},
   "source": [
    "<a id=\"section_ejemplo\"></a> \n",
    "####  2.1- Ejemplo: YPF.\n",
    "[volver a TOC](#section_toc)\n",
    "\n",
    "Vamos a usar nuestra función para generar una visualización para una empresa.\n",
    "\n",
    "**BONUS:** intentar usar la serie de alguna empresa para predecir los precios de la acción."
   ]
  },
  {
   "cell_type": "code",
   "execution_count": null,
   "metadata": {},
   "outputs": [],
   "source": [
    "graph_time_series(\"YPF\")"
   ]
  }
 ],
 "metadata": {
  "kernelspec": {
   "display_name": "Python 3",
   "language": "python",
   "name": "python3"
  },
  "language_info": {
   "codemirror_mode": {
    "name": "ipython",
    "version": 3
   },
   "file_extension": ".py",
   "mimetype": "text/x-python",
   "name": "python",
   "nbconvert_exporter": "python",
   "pygments_lexer": "ipython3",
   "version": "3.8.5"
  }
 },
 "nbformat": 4,
 "nbformat_minor": 4
}

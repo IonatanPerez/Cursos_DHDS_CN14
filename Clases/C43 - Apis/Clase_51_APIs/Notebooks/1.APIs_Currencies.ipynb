{
 "cells": [
  {
   "cell_type": "code",
   "execution_count": null,
   "metadata": {},
   "outputs": [],
   "source": [
    "# initial setup\n",
    "%run \"../../../common/0_notebooks_base_setup.py\"\n",
    "\n",
    "!pip install forex-python"
   ]
  },
  {
   "cell_type": "markdown",
   "metadata": {},
   "source": [
    "<img src='../../../common/logo_DH.png' align='left' width=35%/>"
   ]
  },
  {
   "cell_type": "markdown",
   "metadata": {},
   "source": [
    "# APIs - Práctica Guiada"
   ]
  },
  {
   "cell_type": "markdown",
   "metadata": {},
   "source": [
    "<a id=\"section_toc\"></a> \n",
    "## Tabla de Contenidos\n",
    "\n",
    "[1- Intro](#section_intro)\n",
    "\n",
    "[2- `forex_python`](#section_Forex)\n",
    "\n",
    "$\\hspace{.5cm}$[2.1- Currency Rates](#section_currency)\n",
    "\n",
    "[3- Bitcoin Tracking](#section_bitcoin)\n",
    "\n",
    "[4- Bitcoin Tracker Continuo](#section_bitcoinscript)\n",
    "\n",
    "[5- BONUS: Bitcoin Tracker Continuo a CSV](#section_bitcointocsv)\n",
    "\n",
    "\n",
    "---"
   ]
  },
  {
   "cell_type": "markdown",
   "metadata": {},
   "source": [
    "<a id=\"section_intro\"></a> \n",
    "###  1- Intro\n",
    "[volver a TOC](#section_toc)\n",
    "\n",
    "#### ¿Qué es una API?\n",
    "\n",
    "Como vimos en la introducción teórica, una API es una interfaz que se expone por parte de el equipo propietario de determinada información, con el fin de disponibilizarla para ser consumida programáticamente.\n",
    "\n",
    "Existen APIs de muchos tipos y para muchas aplicaciones comunes (o no tanto). Este ejemplo ilustra muy sencillamente cómo podemos usar la API de Forex para armar un tracker de Bitcoin, en la moneda que elijamos.\n",
    "\n",
    "Es importante destacar que dentro de lo que son REST APIs, podemos encontrar aquellas que disponibilizan endpoints para accederse mandando requests genéricas (usando la librería requests, o incluso nuestro navegador para obtener jsons de datos), como también aquellas que tienen su propia librería para consumirse. Este segundo tipo tiene la desventaja que nos limita a lo que esté implementado en la librería, que puede no ser todo lo que la API ofrece, pero tiene la gran ventaja de que nos habilita métodos sencillos y directos para obtener la información."
   ]
  },
  {
   "cell_type": "markdown",
   "metadata": {},
   "source": [
    "<a id=\"section_Forex\"></a> \n",
    "###  2- `forex_python`\n",
    "[volver a TOC](#section_toc)\n",
    "\n",
    "La práctica de hoy usará la librería [forex_python](https://github.com/MicroPyramid/forex-python), que nos permite utilizar la API del European Central Bank con el fin de obtener distintas conversiones entre divisas o incluso criptomonedas. Independientemente del nombre de la librería, no usaremos la plataforma Forex, que requiere una cuenta, ya que nuestro objetivo es un tracker sencillo y no un algoritmo de trading en toda regla."
   ]
  },
  {
   "cell_type": "markdown",
   "metadata": {},
   "source": [
    "<a id=\"section_currency\"></a> \n",
    "#### 2.1- Currency Rates\n",
    "[volver a TOC](#section_toc)\n",
    "\n",
    "Una de las comodidades que ofrece el European Central Bank en su API, es un convertidor de divisas. Vamos a utilizarlo para ver cómo se encuentra el dólar respecto de las principales monedas que intercambia este banco.\n",
    "\n",
    "Es muy importante notar que esta librería no es oficial, y que por lo tanto no está demasiado bien documentada fuera de los ejemplos que pueden ver en el README en Github."
   ]
  },
  {
   "cell_type": "code",
   "execution_count": null,
   "metadata": {},
   "outputs": [],
   "source": [
    "from forex_python.converter import CurrencyRates"
   ]
  },
  {
   "cell_type": "code",
   "execution_count": null,
   "metadata": {},
   "outputs": [],
   "source": [
    "# Instanciamos la clase que usa la librería para valores de moneda.\n",
    "c = CurrencyRates()"
   ]
  },
  {
   "cell_type": "markdown",
   "metadata": {},
   "source": [
    "Veamos cómo se ubica el Euro respecto de las principales divisas que mueve el European Central Bank. No parece sorprendente no ver el ARS entre ellas:"
   ]
  },
  {
   "cell_type": "code",
   "execution_count": null,
   "metadata": {},
   "outputs": [],
   "source": [
    "# Veamos cómo se ubica el Euro respecto de las principales divisas que mueve\n",
    "# el European Central Bank. No parece sorprendente no ver el ARS entre ellas.\n",
    "c.get_rates(\"\")"
   ]
  },
  {
   "cell_type": "markdown",
   "metadata": {},
   "source": [
    "<a id=\"section_bitcoin\"></a> \n",
    "###  3- Bitcoin Tracking\n",
    "[volver a TOC](#section_toc)\n",
    "\n",
    "Durante el último par de años, se volvieron extremadamente preponderantes las criptomonedas en los mercados financieros, debido a la facilidad relativa para intercambiar estos activos, y a una enorme volatilidad que permitió algunos arbitrajes realmente fascinantes.\n",
    "\n",
    "La práctica de hoy se centra específicamente en el Bitcoin, y su precio en distintas monedas, así como la relación entre las mismas."
   ]
  },
  {
   "cell_type": "markdown",
   "metadata": {},
   "source": [
    "Usaremos el método `get_latest_price` del tracker de bitcoin, con el fin de ver en \"tiempo real\" la cotización."
   ]
  },
  {
   "cell_type": "code",
   "execution_count": null,
   "metadata": {},
   "outputs": [],
   "source": [
    "from forex_python.bitcoin import BtcConverter\n",
    "b = BtcConverter() # force_decimal=True to get Decimal rates\n",
    "round(b.get_latest_price('USD'), 2)"
   ]
  },
  {
   "cell_type": "markdown",
   "metadata": {},
   "source": [
    "Veamos ahora el mismo método, pero usando como moneda el peso argentino:"
   ]
  },
  {
   "cell_type": "code",
   "execution_count": null,
   "metadata": {},
   "outputs": [],
   "source": [
    "round(b.get_latest_price('ARS'), 2)"
   ]
  },
  {
   "cell_type": "markdown",
   "metadata": {},
   "source": [
    "Teniendo ambos precios, veamos si podemos obtener el valor del \"dólar oficial\":"
   ]
  },
  {
   "cell_type": "code",
   "execution_count": null,
   "metadata": {},
   "outputs": [],
   "source": [
    "round((b.get_latest_price('ARS'))/b.get_latest_price('USD'), 2)"
   ]
  },
  {
   "cell_type": "markdown",
   "metadata": {},
   "source": [
    "La API también nos permite efectuar una conversión, al precio actual, de una cantidad de divisa determinada:"
   ]
  },
  {
   "cell_type": "code",
   "execution_count": null,
   "metadata": {},
   "outputs": [],
   "source": [
    "b.convert_to_btc(400, 'USD')"
   ]
  },
  {
   "cell_type": "markdown",
   "metadata": {},
   "source": [
    "<a id=\"section_bitcoinscript\"></a> \n",
    "###  4- Bitcoin Tracking Continuo\n",
    "[volver a TOC](#section_toc)\n",
    "\n",
    "Hemos explorado hasta aquí distintas posibilidades que nos permite esta API. Vamos a intentar generar un tracker continuo de bitcoin, que nos devuelva para un dado tiempo la cotización, que efectúe chequeos por minuto, y que tenga una duración máxima opcional.\n",
    "\n",
    "Noten que si no se le especifica duración máxima, el loop será infinito y habrá que frenarlo manualmente (con el botón de `stop` de la interfaz de Jupyter, o mandando una señal de `KeyboardInterrupt` de algún otro modo)."
   ]
  },
  {
   "cell_type": "code",
   "execution_count": null,
   "metadata": {},
   "outputs": [],
   "source": [
    "import time\n",
    "\n",
    "def bitcoin_tracking(currency=\"USD\", time_between_values=1, total_times=None):\n",
    "    \"\"\"\n",
    "    Función para rastrear el tiempo en bitcoins.\n",
    "    \n",
    "    Parameters\n",
    "    ----------\n",
    "    currency : str\n",
    "        Código de la moneda a usar. Por default 'USD'.\n",
    "    time_between_values: int\n",
    "        Cantidad de minutos entre lecturas. Default cada un minuto.\n",
    "    total_times: int or None\n",
    "        Cantidad máxima de lecturas que se harán si no ocurre un error. Por default\n",
    "        loop infinito.\n",
    "    \"\"\"\n",
    "    step = 1\n",
    "    b = BtcConverter()\n",
    "    while True:\n",
    "        price = round(b.get_latest_price(currency), 2)\n",
    "        print(price, currency, \"for 1 bitcoin\")\n",
    "        if total_times is not None:\n",
    "            if step == total_times:\n",
    "                break\n",
    "            else:\n",
    "                step += 1\n",
    "        time.sleep(60 * time_between_values)\n",
    "    print(f\"Ejecutada la lectura {total_times} veces.\")"
   ]
  },
  {
   "cell_type": "code",
   "execution_count": null,
   "metadata": {},
   "outputs": [],
   "source": [
    "# WARNING: EJECUTAR ESTA CELDA IMPIDE CONTINUAR EJECUTANDO POR 2 MINUTOS!\n",
    "bitcoin_tracking(total_times=2)"
   ]
  },
  {
   "cell_type": "markdown",
   "metadata": {},
   "source": [
    "<a id=\"section_bitcointocsv\"></a> \n",
    "###  5- BONUS: Bitcoin Tracking Continuo a CSV\n",
    "[volver a TOC](#section_toc)\n",
    "\n",
    "Vamos a mejorar nuestro tracker para poder almacenar la data en formato csv, sin depender de pandas (para no colmar la memoria de nuestra computadora, aunque para eso tardaríamos mucho tiempo).\n",
    "\n",
    "Notar que lo ideal para este tipo de funciones sería correrse con un script desde terminal, para evitar tener activo un kernel de Jupyter (pueden guardar esta función con los imports pertinentes en un archivo `.py` y probarlo, pero para la clase lo vamos a correr desde la notebook)."
   ]
  },
  {
   "cell_type": "code",
   "execution_count": null,
   "metadata": {},
   "outputs": [],
   "source": [
    "import csv\n",
    "import datetime\n",
    "\n",
    "def bitcoin_tracking_csv(currency=\"USD\", time_between_values=1, total_times=None):\n",
    "    \"\"\"\n",
    "    Función para rastrear el tiempo en bitcoins.\n",
    "    \n",
    "    Parameters\n",
    "    ----------\n",
    "    currency : str\n",
    "        Código de la moneda a usar. Por default 'USD'.\n",
    "    time_between_values: int\n",
    "        Cantidad de minutos entre lecturas. Default cada un minuto.\n",
    "    total_times:\n",
    "        Cantidad máxima de lecturas que se harán si no ocurre un error. Por default\n",
    "        loop infinito.\n",
    "    \"\"\"\n",
    "    lines = 1\n",
    "    b = BtcConverter()\n",
    "    date = datetime.datetime.now()\n",
    "    fname = f\"../Data/Bitcoin-{date.strftime('%Y%m%d')}.csv\"\n",
    "    with open(fname, \"w\", newline=\"\") as csvfile:\n",
    "        writer = csv.DictWriter(csvfile, fieldnames=[\"date\", f\"bitcoin_price_{currency}\"])\n",
    "        writer.writeheader()\n",
    "        while True:\n",
    "            try:\n",
    "                price = b.get_latest_price(currency)\n",
    "                date = datetime.datetime.now()\n",
    "                dict_price = {\n",
    "                    \"date\": date.strftime(\"%Y-%m-%d %H:%M:%S\"),\n",
    "                    f\"bitcoin_price_{currency}\": price\n",
    "                }\n",
    "                writer.writerow(dict_price)\n",
    "                if total_times is not None:\n",
    "                    if lines == total_times:\n",
    "                        print(f\"Ejecutada la lectura {total_times} veces.\")                        \n",
    "                        break\n",
    "                lines += 1\n",
    "                time.sleep(60 * time_between_values)\n",
    "            except KeyboardInterrupt:\n",
    "                print(f\"Ejecución interrumpida. {lines} líneas registradas.\")\n",
    "                break"
   ]
  },
  {
   "cell_type": "code",
   "execution_count": null,
   "metadata": {},
   "outputs": [],
   "source": [
    "bitcoin_tracking_csv()"
   ]
  }
 ],
 "metadata": {
  "kernelspec": {
   "display_name": "Python 3",
   "language": "python",
   "name": "python3"
  },
  "language_info": {
   "codemirror_mode": {
    "name": "ipython",
    "version": 3
   },
   "file_extension": ".py",
   "mimetype": "text/x-python",
   "name": "python",
   "nbconvert_exporter": "python",
   "pygments_lexer": "ipython3",
   "version": "3.8.5"
  }
 },
 "nbformat": 4,
 "nbformat_minor": 4
}

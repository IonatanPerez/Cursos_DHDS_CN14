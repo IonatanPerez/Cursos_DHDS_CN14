{
 "cells": [
  {
   "cell_type": "code",
   "execution_count": null,
   "id": "thrown-gardening",
   "metadata": {},
   "outputs": [],
   "source": [
    "%run \"../../../common/0_notebooks_base_setup.py\"\n",
    "\n",
    "! pip install uk-covid19"
   ]
  },
  {
   "cell_type": "markdown",
   "id": "patent-wagon",
   "metadata": {},
   "source": [
    "<img src='../../../common/logo_DH.png' align='left' width=35%/>"
   ]
  },
  {
   "cell_type": "markdown",
   "id": "classical-mother",
   "metadata": {},
   "source": [
    "# Checkpoint APIs\n",
    "\n",
    "---\n",
    "\n",
    "En esta práctica vamos a usar una api que disponibiliza datos de COVID-19 en Reino Unido\n",
    "\n",
    "La documentación de la API está disponible en https://coronavirus.data.gov.uk/details/developers-guide\n",
    "\n",
    "Todos los pedidos (requests) a la API son sobre HTTPS.\n",
    "\n",
    "También proveen una biblioteca para acceso a los datos https://github.com/publichealthengland/coronavirus-dashboard-api-python-sdk\n",
    "\n",
    "En la primera parte de esta práctica vamos a usar un request para consultar cierta información (<a href=\"https://coronavirus.data.gov.uk/details/developers-guide#sdks\">documentación</a>), y en la segunda parte vamos a consultar la misma info usando la bilbioteca que provee <a href=\"https://github.com/publichealthengland/coronavirus-dashboard-api-python-sdk\">Public Health England</a>\n"
   ]
  },
  {
   "cell_type": "markdown",
   "id": "spiritual-commission",
   "metadata": {},
   "source": [
    "## Imports\n"
   ]
  },
  {
   "cell_type": "code",
   "execution_count": null,
   "id": "french-structure",
   "metadata": {},
   "outputs": [],
   "source": [
    "import pandas as pd\n",
    "import numpy as np\n",
    "from requests import get\n",
    "from json import dumps\n",
    "from datetime import date, timedelta\n",
    "\n",
    "from uk_covid19 import Cov19API"
   ]
  },
  {
   "cell_type": "markdown",
   "id": "iraqi-smith",
   "metadata": {},
   "source": [
    "## Ejercicio 1\n",
    "\n",
    "Usando un web request construir un DataFrame con información sobre casos nuevos y muertes en Inglaterra (\"england\") el día de ayer:\n",
    "\n",
    "Los valores de metricName que queremos obtener en la respuesta son:\n",
    "\n",
    "* date,\n",
    "* areaName,\n",
    "* areaCode,\n",
    "* newCasesByPublishDate,\n",
    "* cumCasesByPublishDate,\n",
    "* newDeaths28DaysByPublishDate,\n",
    "* cumDeaths28DaysByPublishDate\n",
    "\n",
    "Para ver qué filtros podemos aplicar en la consulta:\n",
    "\n",
    "https://coronavirus.data.gov.uk/details/developers-guide#params-filters\n",
    "\n",
    "Según la documentación, la estructura de la respuesta queda definida por \n",
    "\n",
    "`structure={[responseName]:[metricName], [responseName]:[metricName]}`\n",
    "\n",
    "Para ver los valores disponibles para metricName:\n",
    "\n",
    "https://coronavirus.data.gov.uk/details/developers-guide `See a list of valid metrics for structure`\n",
    "\n",
    "**Vemos en la documentación que el filtro areaType es requerido para todas las consultas:**\n",
    "\n",
    "`The areaType metric is mandatory and must be defined in all queries.`\n",
    "\n",
    "\n",
    "\n"
   ]
  },
  {
   "cell_type": "code",
   "execution_count": null,
   "id": "apart-johnston",
   "metadata": {},
   "outputs": [],
   "source": [
    "hoy = date.today()\n",
    "ayer = hoy + timedelta(days=-1)\n",
    "print(ayer)\n",
    "print(str(ayer))\n"
   ]
  },
  {
   "cell_type": "code",
   "execution_count": null,
   "id": "magnetic-turkish",
   "metadata": {},
   "outputs": [],
   "source": [
    "ENDPOINT = \"https://api.coronavirus.data.gov.uk/v1/data\"\n",
    "\n",
    "#valores para los filtros:\n",
    "\n",
    "AREA_TYPE = \"nation\"\n",
    "AREA_NAME = \"england\"\n",
    "DATE = str(ayer)\n",
    "\n",
    "filters = [\n",
    "    f\"areaType={ AREA_TYPE }\",\n",
    "    f\"areaName={ AREA_NAME }\",\n",
    "    f\"date={ DATE }\"\n",
    "]\n",
    "\n",
    "# estructura de la respuesta\n",
    "\n",
    "structure = {\n",
    "    \"date\": \"date\",\n",
    "    \"name\": \"areaName\",\n",
    "    \"code\": \"areaCode\",\n",
    "    \"dailyCases\": \"newCasesByPublishDate\",\n",
    "    \"cumulativeCases\": \"cumCasesByPublishDate\",\n",
    "    \"dailyDeaths\": \"newDeaths28DaysByPublishDate\",\n",
    "    \"cumulativeDeaths\": \"cumDeaths28DaysByPublishDate\"\n",
    "}\n",
    "\n",
    "api_params = {\n",
    "    \"filters\": str.join(\";\", filters),\n",
    "    \"structure\": dumps(structure, separators=(\",\", \":\")),\n",
    "    \"format\":\"json\"\n",
    "}\n",
    "\n",
    "\n",
    "response = get(ENDPOINT, params = api_params, timeout=10)\n",
    "\n",
    "if response.status_code >= 400:\n",
    "    raise RuntimeError(f'Request failed: { response.text }')\n",
    "\n",
    "print(response.url)\n",
    "print(\"---\")\n",
    "print(response.json())\n"
   ]
  },
  {
   "cell_type": "markdown",
   "id": "contrary-teddy",
   "metadata": {},
   "source": [
    "Veamos qué datos vienen en el response"
   ]
  },
  {
   "cell_type": "code",
   "execution_count": null,
   "id": "inside-dressing",
   "metadata": {},
   "outputs": [],
   "source": [
    "response_dict = response.json()\n",
    "response_dict.keys()"
   ]
  },
  {
   "cell_type": "code",
   "execution_count": null,
   "id": "chronic-shell",
   "metadata": {},
   "outputs": [],
   "source": [
    "# cantidad de registros\n",
    "\n",
    "response_dict['length']"
   ]
  },
  {
   "cell_type": "code",
   "execution_count": null,
   "id": "divine-weapon",
   "metadata": {},
   "outputs": [],
   "source": [
    "response_dict['maxPageLimit']"
   ]
  },
  {
   "cell_type": "code",
   "execution_count": null,
   "id": "bearing-desert",
   "metadata": {},
   "outputs": [],
   "source": [
    "response_dict['data']"
   ]
  },
  {
   "cell_type": "code",
   "execution_count": null,
   "id": "advisory-quarterly",
   "metadata": {},
   "outputs": [],
   "source": [
    "# qué llega al server en el request:\n",
    "\n",
    "response_dict['requestPayload']"
   ]
  },
  {
   "cell_type": "code",
   "execution_count": null,
   "id": "dying-rachel",
   "metadata": {},
   "outputs": [],
   "source": [
    "response_dict['pagination']"
   ]
  },
  {
   "cell_type": "code",
   "execution_count": null,
   "id": "affected-target",
   "metadata": {},
   "outputs": [],
   "source": [
    "response_df = pd.DataFrame(response.json()[\"data\"])\n",
    "response_df"
   ]
  },
  {
   "cell_type": "code",
   "execution_count": null,
   "id": "exclusive-english",
   "metadata": {},
   "outputs": [],
   "source": [
    "response.json()[\"data\"]"
   ]
  },
  {
   "cell_type": "markdown",
   "id": "resistant-patient",
   "metadata": {},
   "source": [
    "# Ejercicio 2\n",
    "\n",
    "Obtener todos los datos que obtuvimos en el ejercicio anterior para los últimos 30 días.\n"
   ]
  },
  {
   "cell_type": "markdown",
   "id": "promising-paraguay",
   "metadata": {},
   "source": [
    "Quitamos el valor de `date` de los filtros y vemos que la primera página trae en orden decreciente de fecha más de treinta días"
   ]
  },
  {
   "cell_type": "code",
   "execution_count": null,
   "id": "disturbed-tooth",
   "metadata": {},
   "outputs": [],
   "source": [
    "ENDPOINT = \"https://api.coronavirus.data.gov.uk/v1/data\"\n",
    "\n",
    "#valores para los filtros:\n",
    "\n",
    "AREA_TYPE = \"nation\"\n",
    "AREA_NAME = \"england\"\n",
    "\n",
    "filters = [\n",
    "    f\"areaType={ AREA_TYPE }\",\n",
    "    f\"areaName={ AREA_NAME }\"\n",
    "]\n",
    "\n",
    "# estructura de la respuesta\n",
    "\n",
    "structure = {\n",
    "    \"date\": \"date\",\n",
    "    \"name\": \"areaName\",\n",
    "    \"code\": \"areaCode\",\n",
    "    \"dailyCases\": \"newCasesByPublishDate\",\n",
    "    \"cumulativeCases\": \"cumCasesByPublishDate\",\n",
    "    \"dailyDeaths\": \"newDeaths28DaysByPublishDate\",\n",
    "    \"cumulativeDeaths\": \"cumDeaths28DaysByPublishDate\"\n",
    "}\n",
    "\n",
    "api_params = {\n",
    "    \"filters\": str.join(\";\", filters),\n",
    "    \"structure\": dumps(structure, separators=(\",\", \":\")),\n",
    "    \"format\": \"json\",\n",
    "    \"page\": \"1\"\n",
    "}\n",
    "\n",
    "\n",
    "response = get(ENDPOINT, params = api_params, timeout=10)\n",
    "\n",
    "if response.status_code >= 400:\n",
    "    raise RuntimeError(f'Request failed: { response.text }')\n",
    "\n",
    "print(response.url)\n",
    "print(\"---\")\n",
    "#print(response.json())"
   ]
  },
  {
   "cell_type": "code",
   "execution_count": null,
   "id": "descending-latex",
   "metadata": {},
   "outputs": [],
   "source": [
    "response_df = pd.DataFrame(response.json()[\"data\"])\n",
    "response_df"
   ]
  },
  {
   "cell_type": "markdown",
   "id": "crude-authority",
   "metadata": {},
   "source": [
    "Filtramos por las fechas de interés"
   ]
  },
  {
   "cell_type": "code",
   "execution_count": null,
   "id": "radio-karaoke",
   "metadata": {},
   "outputs": [],
   "source": [
    "max_date = date.today()\n",
    "min_date = max_date + timedelta(days=-30)\n",
    "\n",
    "mask = np.logical_and(pd.to_datetime(response_df.date) <= np.datetime64(max_date), pd.to_datetime(response_df.date) >= np.datetime64(min_date))\n",
    "\n",
    "response_df_last_month = response_df.loc[mask, :]\n",
    "\n",
    "response_df_last_month.sort_values(\"date\")"
   ]
  },
  {
   "cell_type": "code",
   "execution_count": null,
   "id": "potential-greek",
   "metadata": {},
   "outputs": [],
   "source": [
    "response_dict = response.json()\n",
    "response_dict.keys()"
   ]
  },
  {
   "cell_type": "code",
   "execution_count": null,
   "id": "sought-directive",
   "metadata": {},
   "outputs": [],
   "source": [
    "response_df.shape[0] == response_dict['length']"
   ]
  },
  {
   "cell_type": "code",
   "execution_count": null,
   "id": "satisfactory-arctic",
   "metadata": {},
   "outputs": [],
   "source": [
    "response_dict['maxPageLimit']"
   ]
  },
  {
   "cell_type": "code",
   "execution_count": null,
   "id": "alternative-moscow",
   "metadata": {},
   "outputs": [],
   "source": [
    "response_dict['requestPayload']"
   ]
  },
  {
   "cell_type": "markdown",
   "id": "dense-madagascar",
   "metadata": {},
   "source": [
    "Vemos que el response trajo el resultado de la consulta en una única página porque vemos que `response_dict['pagination'][\"next\"]` es nulo"
   ]
  },
  {
   "cell_type": "code",
   "execution_count": null,
   "id": "contained-festival",
   "metadata": {},
   "outputs": [],
   "source": [
    "response_dict['pagination']"
   ]
  },
  {
   "cell_type": "code",
   "execution_count": null,
   "id": "unknown-procedure",
   "metadata": {},
   "outputs": [],
   "source": [
    "response_dict['pagination'][\"next\"] is None"
   ]
  },
  {
   "cell_type": "markdown",
   "id": "aggressive-campbell",
   "metadata": {},
   "source": [
    "Alternativa: \n",
    "\n",
    "Hacer un ciclo iterando sobre cada fecha de interés. Usar sleep entre consultas sucesivas https://www.programiz.com/python-programming/time/sleep\n",
    "    "
   ]
  },
  {
   "cell_type": "markdown",
   "id": "dried-watson",
   "metadata": {},
   "source": [
    "## Ejercicio 3\n",
    "\n",
    "Repetir el ejercicio 1 usando la bilbioteca que provee Public Health England\n",
    "\n",
    "Documentación: https://publichealthengland.github.io/coronavirus-dashboard-api-python-sdk/pages/examples/general_use.html#"
   ]
  },
  {
   "cell_type": "code",
   "execution_count": null,
   "id": "significant-diabetes",
   "metadata": {},
   "outputs": [],
   "source": [
    "AREA_TYPE = \"nation\"\n",
    "AREA_NAME = \"england\"\n",
    "DATE = str(ayer)\n",
    "\n",
    "ej3_filters = [\n",
    "    f\"areaType={ AREA_TYPE }\",\n",
    "    f\"areaName={ AREA_NAME }\",\n",
    "    f\"date={ DATE }\"\n",
    "]\n",
    "\n",
    "#print(ej3_filters)\n",
    "\n",
    "# estructura de la respuesta\n",
    "\n",
    "ej3_structure = {\n",
    "    \"date\": \"date\",\n",
    "    \"name\": \"areaName\",\n",
    "    \"code\": \"areaCode\",\n",
    "    \"dailyCases\": \"newCasesByPublishDate\",\n",
    "    \"cumulativeCases\": \"cumCasesByPublishDate\",\n",
    "    \"dailyDeaths\": \"newDeaths28DaysByPublishDate\",\n",
    "    \"cumulativeDeaths\": \"cumDeaths28DaysByPublishDate\"\n",
    "}\n",
    "\n",
    "api = Cov19API(filters = ej3_filters, structure = ej3_structure)\n",
    "\n",
    "data_df = api.get_dataframe()\n",
    "\n",
    "data_df"
   ]
  },
  {
   "cell_type": "code",
   "execution_count": null,
   "id": "prepared-ticket",
   "metadata": {},
   "outputs": [],
   "source": [
    "data_json = api.get_json()\n",
    "data_json"
   ]
  },
  {
   "cell_type": "code",
   "execution_count": null,
   "id": "thirty-packet",
   "metadata": {},
   "outputs": [],
   "source": [
    "data_csv = api.get_csv()\n",
    "data_csv"
   ]
  },
  {
   "cell_type": "markdown",
   "id": "olympic-darwin",
   "metadata": {},
   "source": [
    "## Ejercicio 4\n",
    "\n",
    "Repetir el ejercicio 2 usando la bilbioteca que provee Public Health England\n"
   ]
  },
  {
   "cell_type": "code",
   "execution_count": null,
   "id": "beneficial-detail",
   "metadata": {},
   "outputs": [],
   "source": [
    "AREA_TYPE = \"nation\"\n",
    "AREA_NAME = \"england\"\n",
    "\n",
    "ej4_filters = [\n",
    "    f\"areaType={ AREA_TYPE }\",\n",
    "    f\"areaName={ AREA_NAME }\"\n",
    "]\n",
    "\n",
    "# estructura de la respuesta\n",
    "\n",
    "ej4_structure = {\n",
    "    \"date\": \"date\",\n",
    "    \"name\": \"areaName\",\n",
    "    \"code\": \"areaCode\",\n",
    "    \"dailyCases\": \"newCasesByPublishDate\",\n",
    "    \"cumulativeCases\": \"cumCasesByPublishDate\",\n",
    "    \"dailyDeaths\": \"newDeaths28DaysByPublishDate\",\n",
    "    \"cumulativeDeaths\": \"cumDeaths28DaysByPublishDate\"\n",
    "}\n",
    "\n",
    "api = Cov19API(filters = ej4_filters, structure = ej4_structure)\n",
    "\n",
    "data_df = api.get_dataframe()\n",
    "\n",
    "data_df"
   ]
  },
  {
   "cell_type": "markdown",
   "id": "young-wrapping",
   "metadata": {},
   "source": [
    "Filtramos por las fechas de interés"
   ]
  },
  {
   "cell_type": "code",
   "execution_count": null,
   "id": "orange-carnival",
   "metadata": {},
   "outputs": [],
   "source": [
    "max_date = date.today()\n",
    "min_date = max_date + timedelta(days=-30)\n",
    "\n",
    "mask = np.logical_and(pd.to_datetime(data_df.date) <= np.datetime64(max_date), pd.to_datetime(data_df.date) >= np.datetime64(min_date))\n",
    "\n",
    "data_df_last_month = data_df.loc[mask, :]\n",
    "\n",
    "data_df_last_month.sort_values(\"date\")"
   ]
  },
  {
   "cell_type": "markdown",
   "id": "lightweight-highlight",
   "metadata": {},
   "source": [
    "## Referencias y Material Adicional\n",
    "---\n",
    "\n",
    "https://coronavirus.data.gov.uk/details/developers-guide\n",
    "\n",
    "https://github.com/publichealthengland/coronavirus-dashboard-api-python-sdk\n",
    "\n",
    "https://apidocs.data.world/toolkit/api/clients\n",
    "\n",
    "https://apidocs.data.world/toolkit/rest-api\n",
    "\n",
    "https://github.com/datadotworld/data.world-py\n",
    "\n",
    "https://datosgobar.github.io/series-tiempo-ar-api/\n",
    "\n",
    "https://datosgobar.github.io/series-tiempo-ar-api/python-usage/"
   ]
  }
 ],
 "metadata": {
  "kernelspec": {
   "display_name": "Python 3",
   "language": "python",
   "name": "python3"
  },
  "language_info": {
   "codemirror_mode": {
    "name": "ipython",
    "version": 3
   },
   "file_extension": ".py",
   "mimetype": "text/x-python",
   "name": "python",
   "nbconvert_exporter": "python",
   "pygments_lexer": "ipython3",
   "version": "3.8.5"
  }
 },
 "nbformat": 4,
 "nbformat_minor": 5
}

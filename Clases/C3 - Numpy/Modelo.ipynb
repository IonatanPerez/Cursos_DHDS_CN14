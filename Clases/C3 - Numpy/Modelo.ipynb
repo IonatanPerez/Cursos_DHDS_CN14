{
 "cells": [
  {
   "cell_type": "markdown",
   "metadata": {},
   "source": [
    "# Clase C3 - Numpy\n",
    "\n",
    "## Temario\n",
    "\n",
    "- Que es numpy (presentacion)\n",
    "- ND-Arrays (presentacion)\n",
    "- Indexing (Ejemplo con presentacion)\n",
    "- Bradcasting\n",
    "- Cambiar tipo de datos\n",
    "- Funciones especificas\n",
    "    - np.genfromtxt()\n",
    "    - cumprod()\n",
    "    - enumerate()\n",
    "    - np.reshape()\n",
    "    - np.diff()\n",
    "\n",
    "## Temario extra practica\n",
    "\n",
    "- Metodos de inicializacion de arrays\n",
    "- Random (lo vamos a retomar proxima clase)\n",
    "- Eficiencia de numpy\n",
    "\n",
    "## Organizacion prevista para la clase de hoy\n",
    "\n",
    "- Consultas y puesta en comun de dudas o repaso de los temas de la clase pasada (15mins)\n",
    "- Presentacion de Numpy con ejemplo (45mins)\n",
    "- Hands-On (15mins)\n",
    "- Ejemplo mas completo (1h)\n",
    "\n",
    "\n"
   ]
  },
  {
   "cell_type": "markdown",
   "metadata": {},
   "source": [
    "# Presentación"
   ]
  },
  {
   "cell_type": "markdown",
   "metadata": {},
   "source": [
    "# Hands-On\n",
    "\n",
    "Ejercicios extra:\n",
    "\n",
    "- Hacer un codigo que arme los primeros m elementos las tablas de multiplicar de un numero arbitrario N usando broadcasting y np.narray()\n",
    "    - Leer la documentacion: https://numpy.org/doc/stable/reference/generated/numpy.arange.html\n",
    "\n",
    "- Hacer una funcion que acepte un entero o una lista de enteros y arme sus tablas de multiplicar hasta el 10\n",
    "    - Leer la documentacion de reshape https://numpy.org/doc/stable/reference/generated/numpy.reshape.html y https://stackoverflow.com/questions/18691084/what-does-1-mean-in-numpy-reshape"
   ]
  },
  {
   "cell_type": "code",
   "execution_count": 36,
   "metadata": {},
   "outputs": [
    {
     "data": {
      "text/plain": [
       "array([ 7, 14, 21, 28, 35, 42, 49, 56, 63, 70])"
      ]
     },
     "metadata": {},
     "output_type": "display_data"
    },
    {
     "data": {
      "text/plain": [
       "array([[ 1],\n",
       "       [ 2],\n",
       "       [ 3],\n",
       "       [ 4],\n",
       "       [ 5],\n",
       "       [ 6],\n",
       "       [ 7],\n",
       "       [ 8],\n",
       "       [ 9],\n",
       "       [10]])"
      ]
     },
     "metadata": {},
     "output_type": "display_data"
    },
    {
     "ename": "ValueError",
     "evalue": "Se espera que el parametro numeros sea un entero o una lista de enteros. El valor \"1.5\" no cumple esa condición.",
     "output_type": "error",
     "traceback": [
      "\u001b[1;31m---------------------------------------------------------------------------\u001b[0m",
      "\u001b[1;31mValueError\u001b[0m                                Traceback (most recent call last)",
      "\u001b[1;32md:\\Trabajos\\DH\\Cursos_DHDS_CN14\\Clases\\C3 - Numpy\\Modelo.ipynb Cell 4\u001b[0m in \u001b[0;36m<cell line: 35>\u001b[1;34m()\u001b[0m\n\u001b[0;32m     <a href='vscode-notebook-cell:/d%3A/Trabajos/DH/Cursos_DHDS_CN14/Clases/C3%20-%20Numpy/Modelo.ipynb#X26sZmlsZQ%3D%3D?line=31'>32</a>\u001b[0m     \u001b[39mreturn\u001b[39;00m numeros\u001b[39m*\u001b[39mmultiplos\n\u001b[0;32m     <a href='vscode-notebook-cell:/d%3A/Trabajos/DH/Cursos_DHDS_CN14/Clases/C3%20-%20Numpy/Modelo.ipynb#X26sZmlsZQ%3D%3D?line=33'>34</a>\u001b[0m display (tablas_op1(\u001b[39m1\u001b[39m))\n\u001b[1;32m---> <a href='vscode-notebook-cell:/d%3A/Trabajos/DH/Cursos_DHDS_CN14/Clases/C3%20-%20Numpy/Modelo.ipynb#X26sZmlsZQ%3D%3D?line=34'>35</a>\u001b[0m display (tablas_op2(\u001b[39m1.5\u001b[39;49m))\n\u001b[0;32m     <a href='vscode-notebook-cell:/d%3A/Trabajos/DH/Cursos_DHDS_CN14/Clases/C3%20-%20Numpy/Modelo.ipynb#X26sZmlsZQ%3D%3D?line=36'>37</a>\u001b[0m \u001b[39mtry\u001b[39;00m:\n\u001b[0;32m     <a href='vscode-notebook-cell:/d%3A/Trabajos/DH/Cursos_DHDS_CN14/Clases/C3%20-%20Numpy/Modelo.ipynb#X26sZmlsZQ%3D%3D?line=37'>38</a>\u001b[0m     display (tablas_op1(\u001b[39m1\u001b[39m))\n",
      "\u001b[1;32md:\\Trabajos\\DH\\Cursos_DHDS_CN14\\Clases\\C3 - Numpy\\Modelo.ipynb Cell 4\u001b[0m in \u001b[0;36mtablas_op2\u001b[1;34m(numeros)\u001b[0m\n\u001b[0;32m     <a href='vscode-notebook-cell:/d%3A/Trabajos/DH/Cursos_DHDS_CN14/Clases/C3%20-%20Numpy/Modelo.ipynb#X26sZmlsZQ%3D%3D?line=23'>24</a>\u001b[0m     numeros \u001b[39m=\u001b[39m [numeros]\n\u001b[0;32m     <a href='vscode-notebook-cell:/d%3A/Trabajos/DH/Cursos_DHDS_CN14/Clases/C3%20-%20Numpy/Modelo.ipynb#X26sZmlsZQ%3D%3D?line=24'>25</a>\u001b[0m \u001b[39mif\u001b[39;00m \u001b[39mnot\u001b[39;00m \u001b[39mtype\u001b[39m(numeros) \u001b[39m==\u001b[39m \u001b[39mlist\u001b[39m:\n\u001b[1;32m---> <a href='vscode-notebook-cell:/d%3A/Trabajos/DH/Cursos_DHDS_CN14/Clases/C3%20-%20Numpy/Modelo.ipynb#X26sZmlsZQ%3D%3D?line=25'>26</a>\u001b[0m     \u001b[39mraise\u001b[39;00m \u001b[39mValueError\u001b[39;00m(\u001b[39mf\u001b[39m\u001b[39m'\u001b[39m\u001b[39mSe espera que el parametro numeros sea un entero o una lista de enteros. El valor \u001b[39m\u001b[39m\"\u001b[39m\u001b[39m{\u001b[39;00mnumeros\u001b[39m}\u001b[39;00m\u001b[39m\"\u001b[39m\u001b[39m no cumple esa condición.\u001b[39m\u001b[39m'\u001b[39m)\n\u001b[0;32m     <a href='vscode-notebook-cell:/d%3A/Trabajos/DH/Cursos_DHDS_CN14/Clases/C3%20-%20Numpy/Modelo.ipynb#X26sZmlsZQ%3D%3D?line=26'>27</a>\u001b[0m \u001b[39mfor\u001b[39;00m elemento \u001b[39min\u001b[39;00m numeros:\n\u001b[0;32m     <a href='vscode-notebook-cell:/d%3A/Trabajos/DH/Cursos_DHDS_CN14/Clases/C3%20-%20Numpy/Modelo.ipynb#X26sZmlsZQ%3D%3D?line=27'>28</a>\u001b[0m     \u001b[39mif\u001b[39;00m \u001b[39mtype\u001b[39m(elemento) \u001b[39m!=\u001b[39m \u001b[39mint\u001b[39m:\n",
      "\u001b[1;31mValueError\u001b[0m: Se espera que el parametro numeros sea un entero o una lista de enteros. El valor \"1.5\" no cumple esa condición."
     ]
    }
   ],
   "source": [
    "# Soluciones posibles\n",
    "\n",
    "import numpy as np\n",
    "\n",
    "m = 10\n",
    "N = 7\n",
    "escala = np.arange(1,m+1)\n",
    "multiplos = escala * N\n",
    "display (multiplos)\n",
    "\n",
    "def tablas_op1(numeros: list):\n",
    "    if not (type(numeros) == list or type(numeros) == int):\n",
    "        raise ValueError(f'Se espera que el parametro numeros sea un entero o una lista de enteros. El valor \"{numeros}\" no cumple esa condición.')\n",
    "    if type(numeros) == list:\n",
    "        for elemento in numeros:\n",
    "            if type(elemento) != int:\n",
    "                raise ValueError(f'Se espera que el parametro numeros sea un entero o una lista de enteros. El valor \"{elemento}\" no cumple esa condición.')\n",
    "    numeros = np.array(numeros)\n",
    "    multiplos = np.arange(1,11).reshape(-1,1)\n",
    "    return numeros*multiplos\n",
    "\n",
    "def tablas_op2(numeros: list):\n",
    "    if type(numeros) == int:\n",
    "        numeros = [numeros]\n",
    "    if not type(numeros) == list:\n",
    "        raise ValueError(f'Se espera que el parametro numeros sea un entero o una lista de enteros. El valor \"{numeros}\" no cumple esa condición.')\n",
    "    for elemento in numeros:\n",
    "        if type(elemento) != int:\n",
    "            raise ValueError(f'Se espera que el parametro numeros sea un entero o una lista de enteros. El valor \"{elemento}\" no cumple esa condición.')\n",
    "    numeros = np.array(numeros)\n",
    "    multiplos = np.arange(1,11).reshape(-1,1)\n",
    "    return numeros*multiplos\n",
    "\n",
    "display (tablas_op1(1))\n",
    "display (tablas_op2(1.5))\n",
    "\n",
    "try:\n",
    "    display (tablas_op1(1))\n",
    "except:\n",
    "    print ('Hay un error en la funcion que se utilizo, pero no nos importa, no sabemos cual es y seguimos adelante como si nada.')\n",
    "\n",
    "print ('Fin del código.')"
   ]
  },
  {
   "cell_type": "markdown",
   "metadata": {},
   "source": [
    "# Problema de ejemplo de uso\n",
    "\n",
    "Tenemos datos de la inflación mes a mes en termino porcentuales. Y tenemos la serie de precios correspondientes a cada mes de 6 productos. Queremos saber:\n",
    "\n",
    "- Si cada producto aumento su precio mas, igual o menos que la inflacion tomando los doce meses en su conjunto.\n",
    "- En que meses que productos aumentaron mas que la inflacion o menos. \n",
    "- Durante que periodos los productos tuvieron sus precios por debajo de lo que corresponderia segun la inflacion y cuales por encima. \n",
    "- Lo mismo para una canasta compuesta por: 10 producto 1, 1 producto 2, 500 productos 3, 5 productos 4, 0.25 producto 5 y 1200 productos 6 (este queda de ejecicio)\n",
    "\n",
    "![datos del problema](datos.png)"
   ]
  },
  {
   "cell_type": "code",
   "execution_count": 82,
   "metadata": {},
   "outputs": [],
   "source": [
    "# Lo primero que vamos a hacer es cargar los datos. No vamos a usar pandas porque hoy queremos limitarnos a numpy\n",
    "\n",
    "import numpy as np"
   ]
  },
  {
   "cell_type": "code",
   "execution_count": 83,
   "metadata": {},
   "outputs": [
    {
     "data": {
      "text/plain": [
       "array([['', '', '', '', '', '', '', '', '', '', '', '', ''],\n",
       "       ['Mes', 'Enero', 'Febrero', 'Marzo', 'Abril', 'Mayo', 'Junio',\n",
       "        'Julio', 'Agosto', 'Septiembre', 'Octubre', 'Noviembre',\n",
       "        'Diciembre'],\n",
       "       ['Inflacion mensual (%)', '1', '1.5', '3', '2.3', '2', '1.9',\n",
       "        '1.8', '2.5', '1', '0.5', '1', '1.1'],\n",
       "       ['Producto 1', '123', '124.845', '129.8388', '132.8250924',\n",
       "        '135.4815942', '139.4105605', '144.7081618', '148.3258658',\n",
       "        '152.7756418', '153.53952', '158.1457056', '163.0482225'],\n",
       "       ['Producto 2', '5563', '5646.445', '5759.3739', '5891.8395',\n",
       "        '5950.757895', '6004.314716', '6172.435528', '6265.022061',\n",
       "        '6327.672281', '6296.03392', '6296.03392', '6428.250632'],\n",
       "       ['Producto 3', '12.4', '12.586', '12.83772', '13.00461036',\n",
       "        '13.13465646', '13.25286837', '13.49142', '13.8287055',\n",
       "        '13.8287055', '13.89784903', '13.89784903', '14.05072537'],\n",
       "       ['Producto 4', '108', '106.38', '104.2524', '111.8628252',\n",
       "        '104.0324274', '102.8880707', '115.0288631', '121.3554506',\n",
       "        '120.141896', '114.7355107', '125.0617067', '117.683066'],\n",
       "       ['Pruducto 5', '13234', '14094.21', '14376.0942', '15569.31002',\n",
       "        '16347.77552', '16331.42774', '16625.39344', '17706.04402',\n",
       "        '17528.98358', '19018.94718', '20540.46296', '21177.21731'],\n",
       "       ['Producto 6', '3', '3.045', '3.045', '3.145485', '3.11403015',\n",
       "        '3.204337024', '3.326101831', '3.475776414', '3.406260885',\n",
       "        '3.321104363', '3.321104363', '3.357636511']], dtype='<U21')"
      ]
     },
     "execution_count": 83,
     "metadata": {},
     "output_type": "execute_result"
    }
   ],
   "source": [
    "filename = \"./C3-Ejemplo.csv\"\n",
    "\n",
    "data_cruda = np.genfromtxt(filename, delimiter=',', dtype = str) # Notar que si no ponemos el separador correcto tira error. Y si no ponemos dtype lee todo como vacio.\n",
    "\n",
    "data_cruda"
   ]
  },
  {
   "cell_type": "code",
   "execution_count": 84,
   "metadata": {},
   "outputs": [
    {
     "data": {
      "text/plain": [
       "array(['Enero', 'Febrero', 'Marzo', 'Abril', 'Mayo', 'Junio', 'Julio',\n",
       "       'Agosto', 'Septiembre', 'Octubre', 'Noviembre', 'Diciembre'],\n",
       "      dtype='<U21')"
      ]
     },
     "metadata": {},
     "output_type": "display_data"
    },
    {
     "data": {
      "text/plain": [
       "array(['Producto 1', 'Producto 2', 'Producto 3', 'Producto 4',\n",
       "       'Pruducto 5', 'Producto 6'], dtype='<U21')"
      ]
     },
     "metadata": {},
     "output_type": "display_data"
    },
    {
     "data": {
      "text/plain": [
       "array([1. , 1.5, 3. , 2.3, 2. , 1.9, 1.8, 2.5, 1. , 0.5, 1. , 1.1])"
      ]
     },
     "metadata": {},
     "output_type": "display_data"
    },
    {
     "data": {
      "text/plain": [
       "array([[  123.        ,   124.845     ,   129.8388    ,   132.8250924 ,\n",
       "          135.4815942 ,   139.4105605 ,   144.7081618 ,   148.3258658 ,\n",
       "          152.7756418 ,   153.53952   ,   158.1457056 ,   163.0482225 ],\n",
       "       [ 5563.        ,  5646.445     ,  5759.3739    ,  5891.8395    ,\n",
       "         5950.757895  ,  6004.314716  ,  6172.435528  ,  6265.022061  ,\n",
       "         6327.672281  ,  6296.03392   ,  6296.03392   ,  6428.250632  ],\n",
       "       [   12.4       ,    12.586     ,    12.83772   ,    13.00461036,\n",
       "           13.13465646,    13.25286837,    13.49142   ,    13.8287055 ,\n",
       "           13.8287055 ,    13.89784903,    13.89784903,    14.05072537],\n",
       "       [  108.        ,   106.38      ,   104.2524    ,   111.8628252 ,\n",
       "          104.0324274 ,   102.8880707 ,   115.0288631 ,   121.3554506 ,\n",
       "          120.141896  ,   114.7355107 ,   125.0617067 ,   117.683066  ],\n",
       "       [13234.        , 14094.21      , 14376.0942    , 15569.31002   ,\n",
       "        16347.77552   , 16331.42774   , 16625.39344   , 17706.04402   ,\n",
       "        17528.98358   , 19018.94718   , 20540.46296   , 21177.21731   ],\n",
       "       [    3.        ,     3.045     ,     3.045     ,     3.145485  ,\n",
       "            3.11403015,     3.20433702,     3.32610183,     3.47577641,\n",
       "            3.40626089,     3.32110436,     3.32110436,     3.35763651]])"
      ]
     },
     "metadata": {},
     "output_type": "display_data"
    },
    {
     "data": {
      "text/plain": [
       "array([[  123.        ,   124.845     ,   129.8388    ,   132.8250924 ,\n",
       "          135.4815942 ,   139.4105605 ,   144.7081618 ,   148.3258658 ,\n",
       "          152.7756418 ,   153.53952   ,   158.1457056 ,   163.0482225 ],\n",
       "       [ 5563.        ,  5646.445     ,  5759.3739    ,  5891.8395    ,\n",
       "         5950.757895  ,  6004.314716  ,  6172.435528  ,  6265.022061  ,\n",
       "         6327.672281  ,  6296.03392   ,  6296.03392   ,  6428.250632  ],\n",
       "       [   12.4       ,    12.586     ,    12.83772   ,    13.00461036,\n",
       "           13.13465646,    13.25286837,    13.49142   ,    13.8287055 ,\n",
       "           13.8287055 ,    13.89784903,    13.89784903,    14.05072537],\n",
       "       [  108.        ,   106.38      ,   104.2524    ,   111.8628252 ,\n",
       "          104.0324274 ,   102.8880707 ,   115.0288631 ,   121.3554506 ,\n",
       "          120.141896  ,   114.7355107 ,   125.0617067 ,   117.683066  ],\n",
       "       [13234.        , 14094.21      , 14376.0942    , 15569.31002   ,\n",
       "        16347.77552   , 16331.42774   , 16625.39344   , 17706.04402   ,\n",
       "        17528.98358   , 19018.94718   , 20540.46296   , 21177.21731   ],\n",
       "       [    3.        ,     3.045     ,     3.045     ,     3.145485  ,\n",
       "            3.11403015,     3.20433702,     3.32610183,     3.47577641,\n",
       "            3.40626089,     3.32110436,     3.32110436,     3.35763651]])"
      ]
     },
     "metadata": {},
     "output_type": "display_data"
    }
   ],
   "source": [
    "# Mirando los datos vamos a separar la parte de etiquetas que son texto de los numeros. Y los numeros los vamos a transformar a ese tipo.\n",
    "\n",
    "etiqueta_meses = data_cruda[1,1:]\n",
    "display (etiqueta_meses)\n",
    "\n",
    "etiqueta_productos = data_cruda[3:,0]\n",
    "display (etiqueta_productos)\n",
    "\n",
    "serie_inflacion_mensual = data_cruda[2,1:].astype(float) # Notar como se ve si no ponemos as float\n",
    "display (serie_inflacion_mensual)\n",
    "\n",
    "precios = data_cruda[3:,1:].astype(float)\n",
    "display (precios)\n",
    "\n",
    "# Con https://numpy.org/doc/stable/reference/generated/numpy.set_printoptions.html podemos configurar como se imprime. Vamos a sacarle el punto flotante.\n",
    "\n",
    "np.set_printoptions(suppress=True)\n",
    "\n",
    "display (precios)"
   ]
  },
  {
   "cell_type": "markdown",
   "metadata": {},
   "source": [
    "# Pensar la matematica que necesitamos resolver\n",
    "\n",
    "Tenemos la inflacion mes a mes en termino porcentuales. Si en un periodo hay 5% de inflacion y el precio original de algo es X entonces al finalizar el periodo la cuenta que debemos hacer es $X_f = X_i \\cdot (\\frac{5}{100} + 1 )$ Y debemos repetir esa cuenta tomando en cada periodo el resultado del periodo anterior.\n",
    "\n",
    "Veamos como hacer esa transformacion con y cuenta de forma piola con numpy"
   ]
  },
  {
   "cell_type": "code",
   "execution_count": 85,
   "metadata": {},
   "outputs": [
    {
     "data": {
      "text/plain": [
       "array([1.01 , 1.015, 1.03 , 1.023, 1.02 , 1.019, 1.018, 1.025, 1.01 ,\n",
       "       1.005, 1.01 , 1.011])"
      ]
     },
     "metadata": {},
     "output_type": "display_data"
    },
    {
     "data": {
      "text/plain": [
       "array([1.   , 1.015, 1.03 , 1.023, 1.02 , 1.019, 1.018, 1.025, 1.01 ,\n",
       "       1.005, 1.01 , 1.011])"
      ]
     },
     "metadata": {},
     "output_type": "display_data"
    },
    {
     "name": "stdout",
     "output_type": "stream",
     "text": [
      "1.0\n",
      "1.015\n",
      "1.04545\n",
      "1.06949535\n",
      "1.090885257\n",
      "1.111612076883\n",
      "1.131621094266894\n",
      "1.1599116216235663\n",
      "1.171510737839802\n",
      "1.177368291529001\n",
      "1.189141974444291\n",
      "1.2022225361631782\n"
     ]
    },
    {
     "data": {
      "text/plain": [
       "array([1.        , 1.015     , 1.04545   , 1.06949535, 1.09088526,\n",
       "       1.11161208, 1.13162109, 1.15991162, 1.17151074, 1.17736829,\n",
       "       1.18914197, 1.20222254])"
      ]
     },
     "metadata": {},
     "output_type": "display_data"
    }
   ],
   "source": [
    "inflacion_multiplicativa = serie_inflacion_mensual/100 + 1 # Aca entra en juego el tema de broadcasting. Como dividimos un vector por un numero divide elemento a elemento (esto no funciona con listas), y lo mismo al sumar un numero\n",
    "display (inflacion_multiplicativa)\n",
    "\n",
    "# De esta serie vamos a formzar el primer valor porque es el valor de referencia y no tenemos valor de los productos antes de ese periodo. Tiene sentido que el precio relativo al iniciar la serie sea 1\n",
    "\n",
    "inflacion_multiplicativa[0] = 1\n",
    "display (inflacion_multiplicativa)\n",
    "\n",
    "# Ahora queremos que multiplique un numero arbitrario (que vamos a tomar como 1 que es lo mismo que no ponerlo) primero por 1.01 y a ese resultado por 1.015 y asi sucesivamente\n",
    "\n",
    "# Podemos implementarlo a mano:\n",
    "valor = 1\n",
    "for factor in inflacion_multiplicativa:\n",
    "    valor = valor * factor\n",
    "    print (valor)\n",
    "\n",
    "# Pero numpy tiene eso resuelto\n",
    "\n",
    "inflacion_acumulada = inflacion_multiplicativa.cumprod()\n",
    "display (inflacion_acumulada)\n",
    "\n",
    "# Contra estos valores tenemos que comparar la variacion de precio de los productos."
   ]
  },
  {
   "cell_type": "markdown",
   "metadata": {},
   "source": [
    "## Como responder la primer pregunta\n",
    "\n",
    "Queremos saber cual hubiese sido el precio del producto 1 si hubiese incrementado su precio segun la inflacion.\n",
    "\n",
    "Para eso el primer mes tenemos que multiplicar el precio 123 por 1,01 el segundo por 1.02515 y asi... Con esa cuenta tenemos cuanto deberia costar el producto cada mes si siguiera la inflacion, y despues hay que comparar con la variacion real del precio.\n"
   ]
  },
  {
   "cell_type": "code",
   "execution_count": 86,
   "metadata": {},
   "outputs": [
    {
     "name": "stdout",
     "output_type": "stream",
     "text": [
      "[123.         124.845      128.59035    131.54792805 134.17888661\n",
      " 136.72828546 139.18939459 142.66912946 144.09582075 144.81629986\n",
      " 146.26446286 147.87337195]\n",
      "La inflacion acumulada de todo el periodo segun el indice de inflación es 20.222253616317822%\n",
      "La inflacion acumulada de todo el periodo para el producto 1 es 32.55953048780489%\n"
     ]
    }
   ],
   "source": [
    "precio_prod1 = precios[0]\n",
    "#display (precio_prod1)\n",
    "precio_teorico_prod1 = precios[0,0] * inflacion_acumulada\n",
    "\n",
    "print (precio_teorico_prod1)\n",
    "\n",
    "# Si queremos saber la inflacion acumulada en todo el periodo lo que hay que hacer es dividir el precio final de las cosas sobre el del primer mes\n",
    "\n",
    "print (f'La inflacion acumulada de todo el periodo segun el indice de inflación es {(inflacion_acumulada[-1] - 1) * 100}%') # Aca no dividimos por uno porque es redundante\n",
    "print (f'La inflacion acumulada de todo el periodo para el producto 1 es {(precio_prod1[-1]/precio_prod1[0] - 1) * 100}%') \n",
    "\n",
    "# Vemos que el producto 1 subio por encima de la inflacion. "
   ]
  },
  {
   "cell_type": "markdown",
   "metadata": {},
   "source": [
    "Ahora automaticemos esta logica en una serie de cuentas que lo resuelva en unos pocos pasos para todos los productos."
   ]
  },
  {
   "cell_type": "code",
   "execution_count": 87,
   "metadata": {},
   "outputs": [
    {
     "name": "stdout",
     "output_type": "stream",
     "text": [
      "La inflacion acumulada de todo el periodo segun el indice de inflación es 20.22%\n",
      "El producto Producto 1 aumento por encima de la inflación\n",
      "El producto Producto 2 aumento por debajo de la inflación\n",
      "El producto Producto 3 aumento por debajo de la inflación\n",
      "El producto Producto 4 aumento por debajo de la inflación\n",
      "El producto Pruducto 5 aumento por encima de la inflación\n",
      "El producto Producto 6 aumento por debajo de la inflación\n"
     ]
    }
   ],
   "source": [
    "valor_referencia = (inflacion_acumulada[-1] - 1) * 100\n",
    "print (f'La inflacion acumulada de todo el periodo segun el indice de inflación es {valor_referencia:.2f}%') # Aplicamos formato para que muestre dos decimales\n",
    "# Buscamos el indice para el cociente de los precios reales\n",
    "# display (precios[:,-1]/precios[:,0])\n",
    "for nombre, aumento in zip(etiqueta_productos, precios[:,-1]/precios[:,0]):\n",
    "    #print (f'La inflacion acumulada de todo el periodo para {nombre} es {(aumento - 1) * 100:.2f}%') \n",
    "    if aumento > inflacion_acumulada[-1]:\n",
    "        print (f'El producto {nombre} aumento por encima de la inflación')\n",
    "    else:\n",
    "        print (f'El producto {nombre} aumento por debajo de la inflación')\n"
   ]
  },
  {
   "cell_type": "markdown",
   "metadata": {},
   "source": [
    "Vamos ahora a responder la pregunta 3, es decir, queremos saber que meses los precios de los productos obervados se mantienen por encima o por debajo de lo que deberian valor si hubiesen acompañado a la inflación.\n",
    "\n",
    "Para eso tenemos que tomar el precio inicial de cada producto, calcular cuanto deberian valer mes a mes segun la inflacion y comparar con el valor real. Comparar esos dos valores e informar en que meses fue menor y cuales mayor."
   ]
  },
  {
   "cell_type": "code",
   "execution_count": 88,
   "metadata": {},
   "outputs": [
    {
     "data": {
      "text/plain": [
       "(6,)"
      ]
     },
     "metadata": {},
     "output_type": "display_data"
    },
    {
     "data": {
      "text/plain": [
       "(12,)"
      ]
     },
     "metadata": {},
     "output_type": "display_data"
    },
    {
     "data": {
      "text/plain": [
       "array([  123. ,  5563. ,    12.4,   108. , 13234. ,     3. ])"
      ]
     },
     "metadata": {},
     "output_type": "display_data"
    },
    {
     "data": {
      "text/plain": [
       "array([[  123. ],\n",
       "       [ 5563. ],\n",
       "       [   12.4],\n",
       "       [  108. ],\n",
       "       [13234. ],\n",
       "       [    3. ]])"
      ]
     },
     "metadata": {},
     "output_type": "display_data"
    },
    {
     "data": {
      "text/plain": [
       "array([[  123.        ,   124.845     ,   128.59035   ,   131.54792805,\n",
       "          134.17888661,   136.72828546,   139.18939459,   142.66912946,\n",
       "          144.09582075,   144.81629986,   146.26446286,   147.87337195],\n",
       "       [ 5563.        ,  5646.445     ,  5815.83835   ,  5949.60263205,\n",
       "         6068.59468469,  6183.8979837 ,  6295.20814741,  6452.58835109,\n",
       "         6517.1142346 ,  6549.69980578,  6615.19680383,  6687.96396868],\n",
       "       [   12.4       ,    12.586     ,    12.96358   ,    13.26174234,\n",
       "           13.52697719,    13.78398975,    14.03210157,    14.38290411,\n",
       "           14.52673315,    14.59936681,    14.74536048,    14.90755945],\n",
       "       [  108.        ,   109.62      ,   112.9086    ,   115.5054978 ,\n",
       "          117.81560776,   120.0541043 ,   122.21507818,   125.27045514,\n",
       "          126.52315969,   127.15577549,   128.42733324,   129.84003391],\n",
       "       [13234.        , 13432.51      , 13835.4853    , 14153.7014619 ,\n",
       "        14436.77549114, 14711.07422547, 14975.87356153, 15350.27040057,\n",
       "        15503.77310457, 15581.29197009, 15737.1048898 , 15910.21304358],\n",
       "       [    3.        ,     3.045     ,     3.13635   ,     3.20848605,\n",
       "            3.27265577,     3.33483623,     3.39486328,     3.47973486,\n",
       "            3.51453221,     3.53210487,     3.56742592,     3.60666761]])"
      ]
     },
     "metadata": {},
     "output_type": "display_data"
    }
   ],
   "source": [
    "# Para empezar queremos tomar los precios iniciales de cada producto y multiplicar cada uno de ellos por toda la serie de inflacion. \n",
    "# Veamos las dimencionalidades de los elementos que queremos multiplicar\n",
    "display (precios[:,0].shape)\n",
    "display (inflacion_acumulada.shape)\n",
    "\n",
    "# No sirve, queremos que uno sea de 1x6 y el otro de 12x1 para que nos quede una cosa de 12x6 que es el precio los doce meses de los 6 productos\n",
    "\n",
    "# https://stackoverflow.com/questions/36384760/transforming-a-row-vector-into-a-column-vector-in-numpy\n",
    "\n",
    "display (precios[:,0])\n",
    "display (precios[:,0].reshape(-1,1))\n",
    "precios_teoricos = precios[:,0].reshape(-1,1) * inflacion_acumulada\n",
    "display (precios_teoricos)"
   ]
  },
  {
   "cell_type": "code",
   "execution_count": 89,
   "metadata": {},
   "outputs": [
    {
     "data": {
      "text/plain": [
       "array([[False,  True,  True,  True,  True,  True,  True,  True,  True,\n",
       "         True,  True,  True],\n",
       "       [False, False, False, False, False, False, False, False, False,\n",
       "        False, False, False],\n",
       "       [False,  True, False, False, False, False, False, False, False,\n",
       "        False, False, False],\n",
       "       [False, False, False, False, False, False, False, False, False,\n",
       "        False, False, False],\n",
       "       [False,  True,  True,  True,  True,  True,  True,  True,  True,\n",
       "         True,  True,  True],\n",
       "       [False, False, False, False, False, False, False, False, False,\n",
       "        False, False, False]])"
      ]
     },
     "metadata": {},
     "output_type": "display_data"
    },
    {
     "data": {
      "text/plain": [
       "array([[1.        , 1.        , 0.99038462, 0.99038462, 0.99038462,\n",
       "        0.98075989, 0.96186278, 0.96186278, 0.94318583, 0.94318583,\n",
       "        0.92487154, 0.90693029],\n",
       "       [1.        , 1.        , 1.00980392, 1.00980392, 1.01980198,\n",
       "        1.02990904, 1.01989047, 1.02993865, 1.02993865, 1.04028979,\n",
       "        1.05069269, 1.04040187],\n",
       "       [1.        , 1.        , 1.00980392, 1.01977237, 1.02986913,\n",
       "        1.04007596, 1.04007596, 1.04007596, 1.05047672, 1.05047672,\n",
       "        1.06098148, 1.06098148],\n",
       "       [1.        , 1.03045685, 1.08303118, 1.03256375, 1.13248927,\n",
       "        1.16684183, 1.06247315, 1.03226064, 1.05311439, 1.10825127,\n",
       "        1.02691173, 1.10330261],\n",
       "       [1.        , 0.95305164, 0.96239529, 0.90907699, 0.88310336,\n",
       "        0.90078311, 0.90078311, 0.86695088, 0.88446504, 0.81925102,\n",
       "        0.76615142, 0.75128912],\n",
       "       [1.        , 1.        , 1.03      , 1.02002904, 1.05093901,\n",
       "        1.04072581, 1.02067329, 1.00113887, 1.03178598, 1.06353324,\n",
       "        1.07416857, 1.07416857]])"
      ]
     },
     "metadata": {},
     "output_type": "display_data"
    }
   ],
   "source": [
    "# Ahora vamos a comparar\n",
    "\n",
    "precio_producto_atrasado = precios_teoricos < precios\n",
    "\n",
    "display (precio_producto_atrasado)\n",
    "\n",
    "# Tambien podriamos ver el nivel de atraso\n",
    "\n",
    "atraso_productos = precios_teoricos / precios\n",
    "\n",
    "display (atraso_productos)\n",
    "\n",
    "\n",
    "# Notar que el 1 es engañoso!!! Eso es porque si hay una diferencia muy sutil puede haber cuestiones de redondeo!"
   ]
  },
  {
   "cell_type": "code",
   "execution_count": 90,
   "metadata": {},
   "outputs": [
    {
     "name": "stdout",
     "output_type": "stream",
     "text": [
      "Tomando como referencia el mes de enero, el mes Febrero el producto Producto 1 mantuvo su precio retrasado respecto a la inflación\n",
      "Tomando como referencia el mes de enero, el mes Marzo el producto Producto 1 mantuvo su precio retrasado respecto a la inflación\n",
      "Tomando como referencia el mes de enero, el mes Abril el producto Producto 1 mantuvo su precio retrasado respecto a la inflación\n",
      "Tomando como referencia el mes de enero, el mes Mayo el producto Producto 1 mantuvo su precio retrasado respecto a la inflación\n",
      "Tomando como referencia el mes de enero, el mes Junio el producto Producto 1 mantuvo su precio retrasado respecto a la inflación\n",
      "Tomando como referencia el mes de enero, el mes Julio el producto Producto 1 mantuvo su precio retrasado respecto a la inflación\n",
      "Tomando como referencia el mes de enero, el mes Agosto el producto Producto 1 mantuvo su precio retrasado respecto a la inflación\n",
      "Tomando como referencia el mes de enero, el mes Septiembre el producto Producto 1 mantuvo su precio retrasado respecto a la inflación\n",
      "Tomando como referencia el mes de enero, el mes Octubre el producto Producto 1 mantuvo su precio retrasado respecto a la inflación\n",
      "Tomando como referencia el mes de enero, el mes Noviembre el producto Producto 1 mantuvo su precio retrasado respecto a la inflación\n",
      "Tomando como referencia el mes de enero, el mes Diciembre el producto Producto 1 mantuvo su precio retrasado respecto a la inflación\n",
      "Tomando como referencia el mes de enero, el mes Febrero el producto Producto 3 mantuvo su precio retrasado respecto a la inflación\n",
      "Tomando como referencia el mes de enero, el mes Febrero el producto Pruducto 5 mantuvo su precio retrasado respecto a la inflación\n",
      "Tomando como referencia el mes de enero, el mes Marzo el producto Pruducto 5 mantuvo su precio retrasado respecto a la inflación\n",
      "Tomando como referencia el mes de enero, el mes Abril el producto Pruducto 5 mantuvo su precio retrasado respecto a la inflación\n",
      "Tomando como referencia el mes de enero, el mes Mayo el producto Pruducto 5 mantuvo su precio retrasado respecto a la inflación\n",
      "Tomando como referencia el mes de enero, el mes Junio el producto Pruducto 5 mantuvo su precio retrasado respecto a la inflación\n",
      "Tomando como referencia el mes de enero, el mes Julio el producto Pruducto 5 mantuvo su precio retrasado respecto a la inflación\n",
      "Tomando como referencia el mes de enero, el mes Agosto el producto Pruducto 5 mantuvo su precio retrasado respecto a la inflación\n",
      "Tomando como referencia el mes de enero, el mes Septiembre el producto Pruducto 5 mantuvo su precio retrasado respecto a la inflación\n",
      "Tomando como referencia el mes de enero, el mes Octubre el producto Pruducto 5 mantuvo su precio retrasado respecto a la inflación\n",
      "Tomando como referencia el mes de enero, el mes Noviembre el producto Pruducto 5 mantuvo su precio retrasado respecto a la inflación\n",
      "Tomando como referencia el mes de enero, el mes Diciembre el producto Pruducto 5 mantuvo su precio retrasado respecto a la inflación\n"
     ]
    }
   ],
   "source": [
    "# Vamos a reportar los meses en que hubo atraso para cada producto\n",
    "\n",
    "for i, nombre in enumerate(etiqueta_productos):\n",
    "    #print (i)\n",
    "    mascara = precio_producto_atrasado[i]\n",
    "    #print (etiqueta_meses[mascara])\n",
    "    for mes in etiqueta_meses[mascara]:\n",
    "        print (f'Tomando como referencia el mes de enero, el mes {mes} el producto {nombre} mantuvo su precio retrasado respecto a la inflación')"
   ]
  },
  {
   "cell_type": "markdown",
   "metadata": {},
   "source": [
    "Veamos ahora como responder la segunda pregunta donde lo que hay que resolver si ese mes el producto aumento respecto al mes anterior mas o menos que la inflacion (que no es lo mismo que tomar enero por referencia y ver la acumulación desde enero)\n",
    "\n",
    "Para eso hay que ver cual fue la variacion intermensual y dividir respecto al mes justo anterior (y sumar 1). No es la unica manera de hacerlo pero lo vamos a hacer asi "
   ]
  },
  {
   "cell_type": "code",
   "execution_count": 91,
   "metadata": {},
   "outputs": [
    {
     "data": {
      "text/plain": [
       "array([[   1.845     ,    4.9938    ,    2.9862924 ,    2.6565018 ,\n",
       "           3.9289663 ,    5.2976013 ,    3.617704  ,    4.449776  ,\n",
       "           0.7638782 ,    4.6061856 ,    4.9025169 ],\n",
       "       [  83.445     ,  112.9289    ,  132.4656    ,   58.918395  ,\n",
       "          53.556821  ,  168.120812  ,   92.586533  ,   62.65022   ,\n",
       "         -31.638361  ,    0.        ,  132.216712  ],\n",
       "       [   0.186     ,    0.25172   ,    0.16689036,    0.1300461 ,\n",
       "           0.11821191,    0.23855163,    0.3372855 ,    0.        ,\n",
       "           0.06914353,    0.        ,    0.15287634],\n",
       "       [  -1.62      ,   -2.1276    ,    7.6104252 ,   -7.8303978 ,\n",
       "          -1.1443567 ,   12.1407924 ,    6.3265875 ,   -1.2135546 ,\n",
       "          -5.4063853 ,   10.326196  ,   -7.3786407 ],\n",
       "       [ 860.21      ,  281.8842    , 1193.21582   ,  778.4655    ,\n",
       "         -16.34778   ,  293.9657    , 1080.65058   , -177.06044   ,\n",
       "        1489.9636    , 1521.51578   ,  636.75435   ],\n",
       "       [   0.045     ,    0.        ,    0.100485  ,   -0.03145485,\n",
       "           0.09030687,    0.12176481,    0.14967458,   -0.06951553,\n",
       "          -0.08515652,    0.        ,    0.03653215]])"
      ]
     },
     "metadata": {},
     "output_type": "display_data"
    },
    {
     "data": {
      "text/plain": [
       "array([[ 0.015,  0.04 ,  0.023,  0.02 ,  0.029,  0.038,  0.025,  0.03 ,\n",
       "         0.005,  0.03 ,  0.031],\n",
       "       [ 0.015,  0.02 ,  0.023,  0.01 ,  0.009,  0.028,  0.015,  0.01 ,\n",
       "        -0.005,  0.   ,  0.021],\n",
       "       [ 0.015,  0.02 ,  0.013,  0.01 ,  0.009,  0.018,  0.025,  0.   ,\n",
       "         0.005,  0.   ,  0.011],\n",
       "       [-0.015, -0.02 ,  0.073, -0.07 , -0.011,  0.118,  0.055, -0.01 ,\n",
       "        -0.045,  0.09 , -0.059],\n",
       "       [ 0.065,  0.02 ,  0.083,  0.05 , -0.001,  0.018,  0.065, -0.01 ,\n",
       "         0.085,  0.08 ,  0.031],\n",
       "       [ 0.015,  0.   ,  0.033, -0.01 ,  0.029,  0.038,  0.045, -0.02 ,\n",
       "        -0.025,  0.   ,  0.011]])"
      ]
     },
     "metadata": {},
     "output_type": "display_data"
    },
    {
     "data": {
      "text/plain": [
       "array([[ 1.5       ,  4.        ,  2.3       ,  1.99999996,  2.90000005,\n",
       "         3.8       ,  2.49999997,  3.00000002,  0.49999999,  3.        ,\n",
       "         3.10000002],\n",
       "       [ 1.5       ,  2.        ,  2.30000001,  1.        ,  0.9       ,\n",
       "         2.8       ,  1.5       ,  0.99999999, -0.49999999,  0.        ,\n",
       "         2.09999999],\n",
       "       [ 1.5       ,  2.        ,  1.3       ,  0.99999997,  0.90000001,\n",
       "         1.8       ,  2.5       ,  0.        ,  0.50000002,  0.        ,\n",
       "         1.1       ],\n",
       "       [-1.5       , -2.        ,  7.3       , -7.00000003, -1.1       ,\n",
       "        11.80000006,  5.50000003, -1.00000008, -4.49999998,  9.00000003,\n",
       "        -5.9       ],\n",
       "       [ 6.5       ,  2.        ,  8.30000001,  4.99999999, -0.10000003,\n",
       "         1.8       ,  6.50000004, -1.        ,  8.49999998,  8.00000003,\n",
       "         3.09999999],\n",
       "       [ 1.5       ,  0.        ,  3.3       , -1.        ,  2.89999999,\n",
       "         3.8       ,  4.50000002, -2.00000002, -2.5       ,  0.        ,\n",
       "         1.1       ]])"
      ]
     },
     "metadata": {},
     "output_type": "display_data"
    },
    {
     "data": {
      "text/plain": [
       "array([[ 1.        ,  1.33333333,  1.        ,  0.99999998,  1.52631582,\n",
       "         2.11111111,  0.99999999,  3.00000002,  0.99999999,  3.        ,\n",
       "         2.81818183],\n",
       "       [ 1.        ,  0.66666667,  1.        ,  0.5       ,  0.47368421,\n",
       "         1.55555556,  0.6       ,  0.99999999, -0.99999999,  0.        ,\n",
       "         1.9090909 ],\n",
       "       [ 1.        ,  0.66666667,  0.56521739,  0.49999999,  0.47368422,\n",
       "         1.        ,  1.        ,  0.        ,  1.00000004,  0.        ,\n",
       "         1.        ],\n",
       "       [-1.        , -0.66666667,  3.17391304, -3.50000002, -0.57894737,\n",
       "         6.55555559,  2.20000001, -1.00000008, -8.99999997,  9.00000003,\n",
       "        -5.36363637],\n",
       "       [ 4.33333333,  0.66666667,  3.60869566,  2.5       , -0.05263159,\n",
       "         1.        ,  2.60000002, -1.        , 16.99999995,  8.00000003,\n",
       "         2.81818181],\n",
       "       [ 1.        ,  0.        ,  1.43478261, -0.5       ,  1.52631578,\n",
       "         2.11111111,  1.80000001, -2.00000002, -4.99999999,  0.        ,\n",
       "         1.        ]])"
      ]
     },
     "metadata": {},
     "output_type": "display_data"
    }
   ],
   "source": [
    "variaciones_precio = np.diff(precios)\n",
    "display (variaciones_precio) # Vemos que por ejemplo algunos meses bajo el precio\n",
    "porcentaje_aumento = variaciones_precio/precios[:,:-1]\n",
    "display (porcentaje_aumento)\n",
    "porcentaje_aumento = porcentaje_aumento * 100\n",
    "display (porcentaje_aumento)\n",
    "# Ahora comparamos con el aumento de la inflacion \n",
    "porcentaje_aumento_relativo = (porcentaje_aumento) / serie_inflacion_mensual[1:]\n",
    "display (porcentaje_aumento_relativo)"
   ]
  },
  {
   "cell_type": "code",
   "execution_count": 92,
   "metadata": {},
   "outputs": [
    {
     "name": "stdout",
     "output_type": "stream",
     "text": [
      "La lista de productos que aumentaron mas que la inflación en el mes de Febrero son: ['Pruducto 5']\n",
      "La lista de productos que aumentaron mas que la inflación en el mes de Marzo son: ['Producto 1']\n",
      "La lista de productos que aumentaron mas que la inflación en el mes de Abril son: ['Producto 2' 'Producto 4' 'Pruducto 5' 'Producto 6']\n",
      "La lista de productos que aumentaron mas que la inflación en el mes de Mayo son: ['Pruducto 5']\n",
      "La lista de productos que aumentaron mas que la inflación en el mes de Junio son: ['Producto 1' 'Producto 6']\n",
      "La lista de productos que aumentaron mas que la inflación en el mes de Julio son: ['Producto 1' 'Producto 2' 'Producto 4' 'Pruducto 5' 'Producto 6']\n",
      "La lista de productos que aumentaron mas que la inflación en el mes de Agosto son: ['Producto 3' 'Producto 4' 'Pruducto 5' 'Producto 6']\n",
      "La lista de productos que aumentaron mas que la inflación en el mes de Septiembre son: ['Producto 1']\n",
      "La lista de productos que aumentaron mas que la inflación en el mes de Octubre son: ['Producto 3' 'Pruducto 5']\n",
      "La lista de productos que aumentaron mas que la inflación en el mes de Noviembre son: ['Producto 1' 'Producto 4' 'Pruducto 5']\n",
      "La lista de productos que aumentaron mas que la inflación en el mes de Diciembre son: ['Producto 1' 'Producto 2' 'Producto 3' 'Pruducto 5' 'Producto 6']\n"
     ]
    }
   ],
   "source": [
    "# Ahora hacemos el reporte\n",
    "\n",
    "for i, mes in enumerate(etiqueta_meses[1:]): # a proposito lo recorro diferente para practicar. Probar porque ponemos 1:\n",
    "    mascara_productos_aumento_excesivo = porcentaje_aumento_relativo[:,i] > 1\n",
    "    # print (mascara_productos_aumento_excesivo)\n",
    "    print (f'La lista de productos que aumentaron mas que la inflación en el mes de {mes} son: {etiqueta_productos[mascara_productos_aumento_excesivo]}')\n"
   ]
  }
 ],
 "metadata": {
  "kernelspec": {
   "display_name": "Python 3.9.12 ('base')",
   "language": "python",
   "name": "python3"
  },
  "language_info": {
   "codemirror_mode": {
    "name": "ipython",
    "version": 3
   },
   "file_extension": ".py",
   "mimetype": "text/x-python",
   "name": "python",
   "nbconvert_exporter": "python",
   "pygments_lexer": "ipython3",
   "version": "3.9.12"
  },
  "orig_nbformat": 4,
  "vscode": {
   "interpreter": {
    "hash": "499a1cf83386e9cdb50680be6c4b00d5e02a649406be4f417a406efedf754313"
   }
  }
 },
 "nbformat": 4,
 "nbformat_minor": 2
}

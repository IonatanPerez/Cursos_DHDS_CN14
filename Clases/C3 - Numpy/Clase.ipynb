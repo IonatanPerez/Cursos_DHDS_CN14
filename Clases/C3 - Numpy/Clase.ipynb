{
 "cells": [
  {
   "cell_type": "markdown",
   "metadata": {},
   "source": [
    "# Clase C3 - Numpy\n",
    "\n",
    "## Temario\n",
    "\n",
    "- Que es numpy (presentacion)\n",
    "- ND-Arrays (presentacion)\n",
    "- Indexing (Ejemplo con presentacion)\n",
    "- Bradcasting (presentacion)\n",
    "- Cambiar tipo de datos\n",
    "- Funciones especificas en el ejemplo final\n",
    "    - np.genfromtxt()\n",
    "    - cumprod()\n",
    "    - enumerate()\n",
    "    - np.reshape()\n",
    "    - np.diff()\n",
    "\n",
    "## Temario extra practica\n",
    "\n",
    "- Metodos de inicializacion de arrays\n",
    "- Random (lo vamos a retomar proxima clase)\n",
    "- Eficiencia de numpy\n",
    "\n",
    "## Organizacion prevista para la clase de hoy\n",
    "\n",
    "- Consultas y puesta en comun de dudas o repaso de los temas de la clase pasada (15 mins)\n",
    "- Presentacion de Numpy con ejemplo (45 mins)\n",
    "- Hands-On (15-30 mins)\n",
    "- Ejemplo mas completo (1 h)\n",
    "\n"
   ]
  },
  {
   "cell_type": "code",
   "execution_count": 1,
   "metadata": {},
   "outputs": [],
   "source": [
    "# ejemplos de la presentacion\n",
    "\n",
    "import numpy as np\n"
   ]
  },
  {
   "cell_type": "code",
   "execution_count": 18,
   "metadata": {},
   "outputs": [
    {
     "name": "stdout",
     "output_type": "stream",
     "text": [
      "['Esto es una frase muy larga, vamos a ver si la acepta' '3.0' '5' '7'\n",
      " '10']\n"
     ]
    },
    {
     "data": {
      "text/plain": [
       "array(['Esto es ', '5'], dtype='<U53')"
      ]
     },
     "execution_count": 18,
     "metadata": {},
     "output_type": "execute_result"
    }
   ],
   "source": [
    "datos = np.array(['Esto es una frase muy larga, vamos a ver si la acepta',3.0,5,7,10])\n",
    "print (datos)\n",
    "datos[1] = 'Esto es '\n",
    "datos[1:3]"
   ]
  },
  {
   "cell_type": "code",
   "execution_count": 86,
   "metadata": {},
   "outputs": [
    {
     "name": "stdout",
     "output_type": "stream",
     "text": [
      "[2 2 2 1 1 0]\n"
     ]
    },
    {
     "data": {
      "text/plain": [
       "1"
      ]
     },
     "execution_count": 86,
     "metadata": {},
     "output_type": "execute_result"
    }
   ],
   "source": [
    "mat = np.array([[2,3,4],[1,1,1],[0,0,0]])\n",
    "A = mat[[0,0,0,1,1,2],0]\n",
    "\n",
    "print (A)\n",
    "A.ndim\n"
   ]
  },
  {
   "cell_type": "code",
   "execution_count": 62,
   "metadata": {},
   "outputs": [
    {
     "name": "stdout",
     "output_type": "stream",
     "text": [
      "[False False  True False False  True False False  True]\n",
      "[]\n"
     ]
    }
   ],
   "source": [
    "vec = np.array([1,2,3,4,5,6,7,8,9])\n",
    "\n",
    "mascara = vec % 3 == 0 \n",
    "\n",
    "print (mascara)\n",
    "print (vec[3:-8])"
   ]
  },
  {
   "cell_type": "code",
   "execution_count": 65,
   "metadata": {},
   "outputs": [
    {
     "data": {
      "text/plain": [
       "array([13, 11,  9])"
      ]
     },
     "execution_count": 65,
     "metadata": {},
     "output_type": "execute_result"
    }
   ],
   "source": [
    "np.arange(13,8,-2)"
   ]
  },
  {
   "cell_type": "code",
   "execution_count": 78,
   "metadata": {},
   "outputs": [
    {
     "ename": "ValueError",
     "evalue": "operands could not be broadcast together with shapes (4,) (3,) ",
     "output_type": "error",
     "traceback": [
      "\u001b[1;31m---------------------------------------------------------------------------\u001b[0m",
      "\u001b[1;31mValueError\u001b[0m                                Traceback (most recent call last)",
      "\u001b[1;32m~\\AppData\\Local\\Temp\\ipykernel_15908\\3697905155.py\u001b[0m in \u001b[0;36m<module>\u001b[1;34m\u001b[0m\n\u001b[0;32m      3\u001b[0m \u001b[0mproduccion\u001b[0m \u001b[1;33m=\u001b[0m \u001b[1;33m[\u001b[0m\u001b[1;36m203\u001b[0m\u001b[1;33m,\u001b[0m\u001b[1;36m0\u001b[0m\u001b[1;33m,\u001b[0m\u001b[1;36m0\u001b[0m\u001b[1;33m]\u001b[0m\u001b[1;33m\u001b[0m\u001b[1;33m\u001b[0m\u001b[0m\n\u001b[0;32m      4\u001b[0m \u001b[1;33m\u001b[0m\u001b[0m\n\u001b[1;32m----> 5\u001b[1;33m \u001b[0mcostototal\u001b[0m \u001b[1;33m=\u001b[0m \u001b[0mcostofijo\u001b[0m \u001b[1;33m+\u001b[0m \u001b[0mcostovariable\u001b[0m \u001b[1;33m*\u001b[0m \u001b[0mproduccion\u001b[0m\u001b[1;33m\u001b[0m\u001b[1;33m\u001b[0m\u001b[0m\n\u001b[0m\u001b[0;32m      6\u001b[0m \u001b[0mprint\u001b[0m \u001b[1;33m(\u001b[0m\u001b[0mcostototal\u001b[0m\u001b[1;33m)\u001b[0m\u001b[1;33m\u001b[0m\u001b[1;33m\u001b[0m\u001b[0m\n",
      "\u001b[1;31mValueError\u001b[0m: operands could not be broadcast together with shapes (4,) (3,) "
     ]
    }
   ],
   "source": [
    "costofijo = np.array([1,3,5,7])\n",
    "costovariable = np.array([2,4,6,8])\n",
    "produccion = [203,0,0]\n",
    "\n",
    "costototal = costofijo + costovariable * produccion\n",
    "print (costototal)\n",
    "\n"
   ]
  },
  {
   "cell_type": "markdown",
   "metadata": {},
   "source": [
    "# Hands-On\n",
    "\n",
    "Ejercicios extra:\n",
    "\n",
    "- Hacer un codigo que arme los primeros m elementos las tablas de multiplicar de un numero arbitrario N usando broadcasting y np.narray()\n",
    "    - Leer la documentacion: https://numpy.org/doc/stable/reference/generated/numpy.arange.html\n",
    "\n",
    "- Hacer una funcion que acepte un entero o una lista de enteros y arme sus tablas de multiplicar hasta el 10\n",
    "    - Leer la documentacion de reshape https://numpy.org/doc/stable/reference/generated/numpy.reshape.html y https://stackoverflow.com/questions/18691084/what-does-1-mean-in-numpy-reshape"
   ]
  },
  {
   "cell_type": "code",
   "execution_count": 88,
   "metadata": {},
   "outputs": [
    {
     "data": {
      "text/plain": [
       "array([ 8, 16, 24, 32, 40])"
      ]
     },
     "metadata": {},
     "output_type": "display_data"
    }
   ],
   "source": [
    "# Soluciones posibles\n",
    "\n",
    "import numpy as np\n",
    "\n",
    "m = 5\n",
    "N = 8\n",
    "escala = np.arange(1,m+1)\n",
    "multiplos = escala * N\n",
    "display (multiplos)\n"
   ]
  },
  {
   "cell_type": "code",
   "execution_count": 110,
   "metadata": {},
   "outputs": [],
   "source": [
    "def tabla1(numeros):\n",
    "    if type(numeros) == int:\n",
    "        numeros = [numeros]\n",
    "    if type(numeros) != list:\n",
    "        raise ValueError(f'Se espera como argumento un entero o una lista de enteros y se recibio un dato tipo {type(numeros)}')\n",
    "    return numeros * np.arange(10).reshape(-1,1)\n",
    "    "
   ]
  },
  {
   "cell_type": "code",
   "execution_count": 113,
   "metadata": {},
   "outputs": [
    {
     "name": "stdout",
     "output_type": "stream",
     "text": [
      "Fallamos!\n"
     ]
    }
   ],
   "source": [
    "try:\n",
    "    tabla = tabla1('Hola')\n",
    "except ValueError:\n",
    "    print ('Fallamos!')\n"
   ]
  },
  {
   "cell_type": "code",
   "execution_count": 101,
   "metadata": {},
   "outputs": [
    {
     "name": "stdout",
     "output_type": "stream",
     "text": [
      "[[0]\n",
      " [1]\n",
      " [2]\n",
      " [3]\n",
      " [4]\n",
      " [5]\n",
      " [6]\n",
      " [7]\n",
      " [8]]\n"
     ]
    }
   ],
   "source": [
    "datos = np.arange(9)\n",
    "datos = datos.reshape(-1,1)\n",
    "print (datos)"
   ]
  }
 ],
 "metadata": {
  "kernelspec": {
   "display_name": "Python 3.8.13 ('DH')",
   "language": "python",
   "name": "python3"
  },
  "language_info": {
   "codemirror_mode": {
    "name": "ipython",
    "version": 3
   },
   "file_extension": ".py",
   "mimetype": "text/x-python",
   "name": "python",
   "nbconvert_exporter": "python",
   "pygments_lexer": "ipython3",
   "version": "3.8.13"
  },
  "orig_nbformat": 4,
  "vscode": {
   "interpreter": {
    "hash": "93b1ad9c150e9c4fa5781c5a37e00b91f3d8cfbe17fc5b5e6277144ed0216a69"
   }
  }
 },
 "nbformat": 4,
 "nbformat_minor": 2
}

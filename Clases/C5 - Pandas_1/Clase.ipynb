{
 "cells": [
  {
   "cell_type": "code",
   "execution_count": 47,
   "metadata": {},
   "outputs": [
    {
     "name": "stdout",
     "output_type": "stream",
     "text": [
      "<class 'int'>\n"
     ]
    },
    {
     "data": {
      "text/plain": [
       "0    0.25\n",
       "1    0.50\n",
       "2    0.75\n",
       "3    1.00\n",
       "Name: 3, dtype: float64"
      ]
     },
     "execution_count": 47,
     "metadata": {},
     "output_type": "execute_result"
    }
   ],
   "source": [
    "import pandas as pd\n",
    "\n",
    "lista = [0.25, 0.5, 0.75, 1.0]\n",
    "data = pd.Series(lista, name=3)\n",
    "print (type(data.name))\n",
    "data"
   ]
  },
  {
   "cell_type": "code",
   "execution_count": 49,
   "metadata": {},
   "outputs": [
    {
     "data": {
      "text/html": [
       "<div>\n",
       "<style scoped>\n",
       "    .dataframe tbody tr th:only-of-type {\n",
       "        vertical-align: middle;\n",
       "    }\n",
       "\n",
       "    .dataframe tbody tr th {\n",
       "        vertical-align: top;\n",
       "    }\n",
       "\n",
       "    .dataframe thead th {\n",
       "        text-align: right;\n",
       "    }\n",
       "</style>\n",
       "<table border=\"1\" class=\"dataframe\">\n",
       "  <thead>\n",
       "    <tr style=\"text-align: right;\">\n",
       "      <th></th>\n",
       "      <th>population</th>\n",
       "      <th>area</th>\n",
       "    </tr>\n",
       "  </thead>\n",
       "  <tbody>\n",
       "    <tr>\n",
       "      <th>California</th>\n",
       "      <td>NaN</td>\n",
       "      <td>423967.0</td>\n",
       "    </tr>\n",
       "    <tr>\n",
       "      <th>California2</th>\n",
       "      <td>38332521.0</td>\n",
       "      <td>NaN</td>\n",
       "    </tr>\n",
       "    <tr>\n",
       "      <th>Florida</th>\n",
       "      <td>19552860.0</td>\n",
       "      <td>170312.0</td>\n",
       "    </tr>\n",
       "    <tr>\n",
       "      <th>Illinois</th>\n",
       "      <td>12882135.0</td>\n",
       "      <td>149995.0</td>\n",
       "    </tr>\n",
       "    <tr>\n",
       "      <th>New York</th>\n",
       "      <td>19651127.0</td>\n",
       "      <td>141297.0</td>\n",
       "    </tr>\n",
       "    <tr>\n",
       "      <th>Texas</th>\n",
       "      <td>26448193.0</td>\n",
       "      <td>695662.0</td>\n",
       "    </tr>\n",
       "  </tbody>\n",
       "</table>\n",
       "</div>"
      ],
      "text/plain": [
       "             population      area\n",
       "California          NaN  423967.0\n",
       "California2  38332521.0       NaN\n",
       "Florida      19552860.0  170312.0\n",
       "Illinois     12882135.0  149995.0\n",
       "New York     19651127.0  141297.0\n",
       "Texas        26448193.0  695662.0"
      ]
     },
     "metadata": {},
     "output_type": "display_data"
    },
    {
     "data": {
      "text/plain": [
       "Florida    170312.0\n",
       "Name: area, dtype: float64"
      ]
     },
     "execution_count": 49,
     "metadata": {},
     "output_type": "execute_result"
    }
   ],
   "source": [
    "import pandas as pd\n",
    "import numpy as np\n",
    "\n",
    "area_dict = {'California': 423967, 'Texas': 695662, 'New York': 141297,'Florida': 170312, 'Illinois': 149995}\n",
    "area = pd.Series(area_dict)\n",
    "\n",
    "states_list = ['Illinois','Texas','New York', 'Florida', 'California2']\n",
    "states_pop = [12882135, 26448193, 19651127, 19552860, 38332521]\n",
    "population = pd.Series(states_pop, index= states_list)\n",
    "\n",
    "states = pd.DataFrame({'population': population,'area': area})\n",
    "#print (area)\n",
    "#print (population)\n",
    "display (states)\n",
    "states['area'].iloc[2:3:2]"
   ]
  },
  {
   "cell_type": "code",
   "execution_count": 57,
   "metadata": {},
   "outputs": [
    {
     "data": {
      "text/plain": [
       "<bound method NDFrame._add_numeric_operations.<locals>.sum of              population      area    densidad\n",
       "California          NaN  423967.0         NaN\n",
       "California2  38332521.0       NaN         NaN\n",
       "Florida      19552860.0  170312.0  114.806121\n",
       "Illinois     12882135.0  149995.0   85.883763\n",
       "New York     19651127.0  141297.0  139.076746\n",
       "Texas        26448193.0  695662.0   38.018740>"
      ]
     },
     "execution_count": 57,
     "metadata": {},
     "output_type": "execute_result"
    }
   ],
   "source": [
    "states['densidad'] = states['population']/states['area']\n",
    "#states\n",
    "states.sum"
   ]
  },
  {
   "cell_type": "code",
   "execution_count": 73,
   "metadata": {},
   "outputs": [
    {
     "data": {
      "text/plain": [
       "Index(['Florida', 'New York'], dtype='object')"
      ]
     },
     "execution_count": 73,
     "metadata": {},
     "output_type": "execute_result"
    }
   ],
   "source": [
    "mascara = states['densidad']>100\n",
    "\n",
    "states.loc[mascara].index\n"
   ]
  },
  {
   "cell_type": "code",
   "execution_count": 76,
   "metadata": {},
   "outputs": [
    {
     "name": "stderr",
     "output_type": "stream",
     "text": [
      "C:\\Users\\Ionatan\\AppData\\Local\\Temp\\ipykernel_11800\\4136908733.py:4: DtypeWarning: Columns (2,7,8) have mixed types. Specify dtype option on import or set low_memory=False.\n",
      "  arbolado = pd.read_csv('https://cdn.buenosaires.gob.ar/datosabiertos/datasets/atencion-ciudadana/arbolado-publico-lineal/arbolado-publico-lineal-2017-2018.csv')\n"
     ]
    }
   ],
   "source": [
    "# Como leer un dataset\n",
    "import pandas as pd\n",
    "\n",
    "arbolado = pd.read_csv('https://cdn.buenosaires.gob.ar/datosabiertos/datasets/atencion-ciudadana/arbolado-publico-lineal/arbolado-publico-lineal-2017-2018.csv')"
   ]
  },
  {
   "cell_type": "code",
   "execution_count": 80,
   "metadata": {},
   "outputs": [
    {
     "data": {
      "text/html": [
       "<div>\n",
       "<style scoped>\n",
       "    .dataframe tbody tr th:only-of-type {\n",
       "        vertical-align: middle;\n",
       "    }\n",
       "\n",
       "    .dataframe tbody tr th {\n",
       "        vertical-align: top;\n",
       "    }\n",
       "\n",
       "    .dataframe thead th {\n",
       "        text-align: right;\n",
       "    }\n",
       "</style>\n",
       "<table border=\"1\" class=\"dataframe\">\n",
       "  <thead>\n",
       "    <tr style=\"text-align: right;\">\n",
       "      <th></th>\n",
       "      <th>long</th>\n",
       "      <th>lat</th>\n",
       "      <th>nro_registro</th>\n",
       "      <th>tipo_activ</th>\n",
       "      <th>comuna</th>\n",
       "      <th>manzana</th>\n",
       "      <th>calle_nombre</th>\n",
       "      <th>calle_altura</th>\n",
       "      <th>calle_chapa</th>\n",
       "      <th>direccion_normalizada</th>\n",
       "      <th>ubicacion</th>\n",
       "      <th>nombre_cientifico</th>\n",
       "      <th>ancho_acera</th>\n",
       "      <th>estado_plantera</th>\n",
       "      <th>ubicacion_plantera</th>\n",
       "      <th>nivel_plantera</th>\n",
       "      <th>diametro_altura_pecho</th>\n",
       "      <th>altura_arbol</th>\n",
       "    </tr>\n",
       "  </thead>\n",
       "  <tbody>\n",
       "    <tr>\n",
       "      <th>0</th>\n",
       "      <td>-58.378563</td>\n",
       "      <td>-34.594902</td>\n",
       "      <td>26779</td>\n",
       "      <td>Lineal</td>\n",
       "      <td>1</td>\n",
       "      <td>NaN</td>\n",
       "      <td>Esmeralda</td>\n",
       "      <td>1000.0</td>\n",
       "      <td>1120.0</td>\n",
       "      <td>ESMERALDA 1120</td>\n",
       "      <td>NaN</td>\n",
       "      <td>Tipuana tipu</td>\n",
       "      <td>5.5</td>\n",
       "      <td>Ocupada</td>\n",
       "      <td>Regular</td>\n",
       "      <td>A nivel</td>\n",
       "      <td>88.0</td>\n",
       "      <td>34.0</td>\n",
       "    </tr>\n",
       "    <tr>\n",
       "      <th>1</th>\n",
       "      <td>-58.381532</td>\n",
       "      <td>-34.592319</td>\n",
       "      <td>30887</td>\n",
       "      <td>Lineal</td>\n",
       "      <td>1</td>\n",
       "      <td>NaN</td>\n",
       "      <td>Pellegrini Carlos</td>\n",
       "      <td>1300.0</td>\n",
       "      <td>1345.0</td>\n",
       "      <td>PELLEGRINI, CARLOS 1345</td>\n",
       "      <td>Exacta</td>\n",
       "      <td>Peltophorum dubium</td>\n",
       "      <td>4.5</td>\n",
       "      <td>Ocupada</td>\n",
       "      <td>Regular</td>\n",
       "      <td>Elevada</td>\n",
       "      <td>6.0</td>\n",
       "      <td>5.0</td>\n",
       "    </tr>\n",
       "    <tr>\n",
       "      <th>2</th>\n",
       "      <td>-58.379103</td>\n",
       "      <td>-34.591939</td>\n",
       "      <td>30904</td>\n",
       "      <td>Lineal</td>\n",
       "      <td>1</td>\n",
       "      <td>NaN</td>\n",
       "      <td>Arroyo</td>\n",
       "      <td>800.0</td>\n",
       "      <td>848.0</td>\n",
       "      <td>ARROYO 848</td>\n",
       "      <td>Exacta</td>\n",
       "      <td>Fraxinus pennsylvanica</td>\n",
       "      <td>4</td>\n",
       "      <td>Ocupada</td>\n",
       "      <td>Regular</td>\n",
       "      <td>A nivel</td>\n",
       "      <td>7.0</td>\n",
       "      <td>6.0</td>\n",
       "    </tr>\n",
       "    <tr>\n",
       "      <th>3</th>\n",
       "      <td>-58.380710</td>\n",
       "      <td>-34.591548</td>\n",
       "      <td>31336</td>\n",
       "      <td>Lineal</td>\n",
       "      <td>1</td>\n",
       "      <td>NaN</td>\n",
       "      <td>Arroyo</td>\n",
       "      <td>900.0</td>\n",
       "      <td>932.0</td>\n",
       "      <td>ARROYO 932</td>\n",
       "      <td>LD</td>\n",
       "      <td>Fraxinus pennsylvanica</td>\n",
       "      <td>NaN</td>\n",
       "      <td>Ocupada</td>\n",
       "      <td>Regular</td>\n",
       "      <td>A nivel</td>\n",
       "      <td>9.0</td>\n",
       "      <td>29.0</td>\n",
       "    </tr>\n",
       "    <tr>\n",
       "      <th>4</th>\n",
       "      <td>-58.380710</td>\n",
       "      <td>-34.591548</td>\n",
       "      <td>31337</td>\n",
       "      <td>Lineal</td>\n",
       "      <td>1</td>\n",
       "      <td>NaN</td>\n",
       "      <td>Arroyo</td>\n",
       "      <td>900.0</td>\n",
       "      <td>932.0</td>\n",
       "      <td>ARROYO 932</td>\n",
       "      <td>LA</td>\n",
       "      <td>Jacaranda mimosifolia</td>\n",
       "      <td>NaN</td>\n",
       "      <td>Ocupada</td>\n",
       "      <td>Regular</td>\n",
       "      <td>A nivel</td>\n",
       "      <td>13.0</td>\n",
       "      <td>8.0</td>\n",
       "    </tr>\n",
       "    <tr>\n",
       "      <th>...</th>\n",
       "      <td>...</td>\n",
       "      <td>...</td>\n",
       "      <td>...</td>\n",
       "      <td>...</td>\n",
       "      <td>...</td>\n",
       "      <td>...</td>\n",
       "      <td>...</td>\n",
       "      <td>...</td>\n",
       "      <td>...</td>\n",
       "      <td>...</td>\n",
       "      <td>...</td>\n",
       "      <td>...</td>\n",
       "      <td>...</td>\n",
       "      <td>...</td>\n",
       "      <td>...</td>\n",
       "      <td>...</td>\n",
       "      <td>...</td>\n",
       "      <td>...</td>\n",
       "    </tr>\n",
       "    <tr>\n",
       "      <th>370175</th>\n",
       "      <td>NaN</td>\n",
       "      <td>NaN</td>\n",
       "      <td>546140</td>\n",
       "      <td>Lineal</td>\n",
       "      <td>15</td>\n",
       "      <td>919</td>\n",
       "      <td>Guevara</td>\n",
       "      <td>1000.0</td>\n",
       "      <td>1000.0</td>\n",
       "      <td>NaN</td>\n",
       "      <td>LD3</td>\n",
       "      <td>Ceiba speciosa</td>\n",
       "      <td>3.3</td>\n",
       "      <td>Ocupada</td>\n",
       "      <td>Regular</td>\n",
       "      <td>A nivel</td>\n",
       "      <td>34.0</td>\n",
       "      <td>7.0</td>\n",
       "    </tr>\n",
       "    <tr>\n",
       "      <th>370176</th>\n",
       "      <td>NaN</td>\n",
       "      <td>NaN</td>\n",
       "      <td>546141</td>\n",
       "      <td>Lineal</td>\n",
       "      <td>15</td>\n",
       "      <td>919</td>\n",
       "      <td>Guevara</td>\n",
       "      <td>1000.0</td>\n",
       "      <td>1000.0</td>\n",
       "      <td>NaN</td>\n",
       "      <td>LD4</td>\n",
       "      <td>Melia azedarach</td>\n",
       "      <td>3.3</td>\n",
       "      <td>Ocupada</td>\n",
       "      <td>Regular</td>\n",
       "      <td>A nivel</td>\n",
       "      <td>45.0</td>\n",
       "      <td>8.0</td>\n",
       "    </tr>\n",
       "    <tr>\n",
       "      <th>370177</th>\n",
       "      <td>NaN</td>\n",
       "      <td>NaN</td>\n",
       "      <td>546142</td>\n",
       "      <td>Lineal</td>\n",
       "      <td>15</td>\n",
       "      <td>919</td>\n",
       "      <td>Guevara</td>\n",
       "      <td>1000.0</td>\n",
       "      <td>1000.0</td>\n",
       "      <td>NaN</td>\n",
       "      <td>LD5</td>\n",
       "      <td>Ceiba speciosa</td>\n",
       "      <td>3.3</td>\n",
       "      <td>Ocupada</td>\n",
       "      <td>Regular</td>\n",
       "      <td>A nivel</td>\n",
       "      <td>60.0</td>\n",
       "      <td>8.0</td>\n",
       "    </tr>\n",
       "    <tr>\n",
       "      <th>370178</th>\n",
       "      <td>NaN</td>\n",
       "      <td>NaN</td>\n",
       "      <td>546143</td>\n",
       "      <td>Lineal</td>\n",
       "      <td>15</td>\n",
       "      <td>919</td>\n",
       "      <td>Guevara</td>\n",
       "      <td>1000.0</td>\n",
       "      <td>1000.0</td>\n",
       "      <td>NaN</td>\n",
       "      <td>LD6</td>\n",
       "      <td>Ceiba speciosa</td>\n",
       "      <td>3.3</td>\n",
       "      <td>Ocupada</td>\n",
       "      <td>Regular</td>\n",
       "      <td>A nivel</td>\n",
       "      <td>64.0</td>\n",
       "      <td>8.0</td>\n",
       "    </tr>\n",
       "    <tr>\n",
       "      <th>370179</th>\n",
       "      <td>NaN</td>\n",
       "      <td>NaN</td>\n",
       "      <td>546144</td>\n",
       "      <td>Lineal</td>\n",
       "      <td>15</td>\n",
       "      <td>919</td>\n",
       "      <td>Guevara</td>\n",
       "      <td>1000.0</td>\n",
       "      <td>1000.0</td>\n",
       "      <td>NaN</td>\n",
       "      <td>LD7</td>\n",
       "      <td>Ceiba speciosa</td>\n",
       "      <td>3.3</td>\n",
       "      <td>Ocupada</td>\n",
       "      <td>Regular</td>\n",
       "      <td>A nivel</td>\n",
       "      <td>61.0</td>\n",
       "      <td>8.0</td>\n",
       "    </tr>\n",
       "  </tbody>\n",
       "</table>\n",
       "<p>370180 rows × 18 columns</p>\n",
       "</div>"
      ],
      "text/plain": [
       "             long        lat nro_registro tipo_activ  comuna manzana  \\\n",
       "0      -58.378563 -34.594902        26779     Lineal       1     NaN   \n",
       "1      -58.381532 -34.592319        30887     Lineal       1     NaN   \n",
       "2      -58.379103 -34.591939        30904     Lineal       1     NaN   \n",
       "3      -58.380710 -34.591548        31336     Lineal       1     NaN   \n",
       "4      -58.380710 -34.591548        31337     Lineal       1     NaN   \n",
       "...           ...        ...          ...        ...     ...     ...   \n",
       "370175        NaN        NaN       546140    Lineal       15     919   \n",
       "370176        NaN        NaN       546141    Lineal       15     919   \n",
       "370177        NaN        NaN       546142    Lineal       15     919   \n",
       "370178        NaN        NaN       546143    Lineal       15     919   \n",
       "370179        NaN        NaN       546144    Lineal       15     919   \n",
       "\n",
       "             calle_nombre calle_altura calle_chapa    direccion_normalizada  \\\n",
       "0               Esmeralda       1000.0      1120.0           ESMERALDA 1120   \n",
       "1       Pellegrini Carlos       1300.0      1345.0  PELLEGRINI, CARLOS 1345   \n",
       "2                  Arroyo        800.0       848.0               ARROYO 848   \n",
       "3                  Arroyo        900.0       932.0               ARROYO 932   \n",
       "4                  Arroyo        900.0       932.0               ARROYO 932   \n",
       "...                   ...          ...         ...                      ...   \n",
       "370175            Guevara       1000.0      1000.0                      NaN   \n",
       "370176            Guevara       1000.0      1000.0                      NaN   \n",
       "370177            Guevara       1000.0      1000.0                      NaN   \n",
       "370178            Guevara       1000.0      1000.0                      NaN   \n",
       "370179            Guevara       1000.0      1000.0                      NaN   \n",
       "\n",
       "       ubicacion       nombre_cientifico ancho_acera estado_plantera  \\\n",
       "0            NaN            Tipuana tipu         5.5         Ocupada   \n",
       "1         Exacta      Peltophorum dubium         4.5         Ocupada   \n",
       "2         Exacta  Fraxinus pennsylvanica           4         Ocupada   \n",
       "3             LD  Fraxinus pennsylvanica         NaN         Ocupada   \n",
       "4             LA   Jacaranda mimosifolia         NaN         Ocupada   \n",
       "...          ...                     ...         ...             ...   \n",
       "370175       LD3          Ceiba speciosa         3.3         Ocupada   \n",
       "370176       LD4         Melia azedarach         3.3         Ocupada   \n",
       "370177       LD5          Ceiba speciosa         3.3         Ocupada   \n",
       "370178       LD6          Ceiba speciosa         3.3         Ocupada   \n",
       "370179       LD7          Ceiba speciosa         3.3         Ocupada   \n",
       "\n",
       "       ubicacion_plantera nivel_plantera  diametro_altura_pecho  altura_arbol  \n",
       "0                 Regular        A nivel                   88.0          34.0  \n",
       "1                 Regular        Elevada                    6.0           5.0  \n",
       "2                 Regular        A nivel                    7.0           6.0  \n",
       "3                 Regular        A nivel                    9.0          29.0  \n",
       "4                 Regular        A nivel                   13.0           8.0  \n",
       "...                   ...            ...                    ...           ...  \n",
       "370175            Regular        A nivel                   34.0           7.0  \n",
       "370176            Regular        A nivel                   45.0           8.0  \n",
       "370177            Regular        A nivel                   60.0           8.0  \n",
       "370178            Regular        A nivel                   64.0           8.0  \n",
       "370179            Regular        A nivel                   61.0           8.0  \n",
       "\n",
       "[370180 rows x 18 columns]"
      ]
     },
     "execution_count": 80,
     "metadata": {},
     "output_type": "execute_result"
    }
   ],
   "source": [
    "arbolado"
   ]
  },
  {
   "cell_type": "code",
   "execution_count": 81,
   "metadata": {},
   "outputs": [
    {
     "name": "stdout",
     "output_type": "stream",
     "text": [
      "<class 'pandas.core.frame.DataFrame'>\n",
      "RangeIndex: 370180 entries, 0 to 370179\n",
      "Data columns (total 18 columns):\n",
      " #   Column                 Non-Null Count   Dtype  \n",
      "---  ------                 --------------   -----  \n",
      " 0   long                   354838 non-null  float64\n",
      " 1   lat                    354838 non-null  float64\n",
      " 2   nro_registro           370180 non-null  object \n",
      " 3   tipo_activ             370180 non-null  object \n",
      " 4   comuna                 370180 non-null  int64  \n",
      " 5   manzana                224140 non-null  object \n",
      " 6   calle_nombre           370087 non-null  object \n",
      " 7   calle_altura           364677 non-null  object \n",
      " 8   calle_chapa            363721 non-null  object \n",
      " 9   direccion_normalizada  355941 non-null  object \n",
      " 10  ubicacion              361884 non-null  object \n",
      " 11  nombre_cientifico      370180 non-null  object \n",
      " 12  ancho_acera            367083 non-null  object \n",
      " 13  estado_plantera        370180 non-null  object \n",
      " 14  ubicacion_plantera     368776 non-null  object \n",
      " 15  nivel_plantera         368828 non-null  object \n",
      " 16  diametro_altura_pecho  369894 non-null  float64\n",
      " 17  altura_arbol           365858 non-null  float64\n",
      "dtypes: float64(4), int64(1), object(13)\n",
      "memory usage: 50.8+ MB\n"
     ]
    }
   ],
   "source": [
    "arbolado.info()"
   ]
  },
  {
   "cell_type": "code",
   "execution_count": 86,
   "metadata": {},
   "outputs": [
    {
     "data": {
      "text/plain": [
       "count     370180\n",
       "unique         6\n",
       "top       Lineal\n",
       "freq      365629\n",
       "Name: tipo_activ, dtype: object"
      ]
     },
     "execution_count": 86,
     "metadata": {},
     "output_type": "execute_result"
    }
   ],
   "source": [
    "arbolado['tipo_activ'].describe()"
   ]
  },
  {
   "cell_type": "code",
   "execution_count": 85,
   "metadata": {},
   "outputs": [
    {
     "data": {
      "text/html": [
       "<div>\n",
       "<style scoped>\n",
       "    .dataframe tbody tr th:only-of-type {\n",
       "        vertical-align: middle;\n",
       "    }\n",
       "\n",
       "    .dataframe tbody tr th {\n",
       "        vertical-align: top;\n",
       "    }\n",
       "\n",
       "    .dataframe thead th {\n",
       "        text-align: right;\n",
       "    }\n",
       "</style>\n",
       "<table border=\"1\" class=\"dataframe\">\n",
       "  <thead>\n",
       "    <tr style=\"text-align: right;\">\n",
       "      <th></th>\n",
       "      <th>long</th>\n",
       "      <th>lat</th>\n",
       "      <th>comuna</th>\n",
       "      <th>diametro_altura_pecho</th>\n",
       "      <th>altura_arbol</th>\n",
       "    </tr>\n",
       "  </thead>\n",
       "  <tbody>\n",
       "    <tr>\n",
       "      <th>count</th>\n",
       "      <td>354838.000000</td>\n",
       "      <td>354838.000000</td>\n",
       "      <td>370180.000000</td>\n",
       "      <td>369894.000000</td>\n",
       "      <td>365858.000000</td>\n",
       "    </tr>\n",
       "    <tr>\n",
       "      <th>mean</th>\n",
       "      <td>-58.458791</td>\n",
       "      <td>-34.612473</td>\n",
       "      <td>9.143735</td>\n",
       "      <td>31.986864</td>\n",
       "      <td>9.036132</td>\n",
       "    </tr>\n",
       "    <tr>\n",
       "      <th>std</th>\n",
       "      <td>0.041514</td>\n",
       "      <td>0.033695</td>\n",
       "      <td>3.876242</td>\n",
       "      <td>21.267623</td>\n",
       "      <td>4.894625</td>\n",
       "    </tr>\n",
       "    <tr>\n",
       "      <th>min</th>\n",
       "      <td>-58.530458</td>\n",
       "      <td>-34.697333</td>\n",
       "      <td>1.000000</td>\n",
       "      <td>0.000000</td>\n",
       "      <td>1.000000</td>\n",
       "    </tr>\n",
       "    <tr>\n",
       "      <th>25%</th>\n",
       "      <td>-58.491269</td>\n",
       "      <td>-34.637834</td>\n",
       "      <td>6.000000</td>\n",
       "      <td>17.000000</td>\n",
       "      <td>6.000000</td>\n",
       "    </tr>\n",
       "    <tr>\n",
       "      <th>50%</th>\n",
       "      <td>-58.465865</td>\n",
       "      <td>-34.615023</td>\n",
       "      <td>10.000000</td>\n",
       "      <td>29.000000</td>\n",
       "      <td>8.000000</td>\n",
       "    </tr>\n",
       "    <tr>\n",
       "      <th>75%</th>\n",
       "      <td>-58.428583</td>\n",
       "      <td>-34.586580</td>\n",
       "      <td>12.000000</td>\n",
       "      <td>43.000000</td>\n",
       "      <td>12.000000</td>\n",
       "    </tr>\n",
       "    <tr>\n",
       "      <th>max</th>\n",
       "      <td>-58.354003</td>\n",
       "      <td>-34.535972</td>\n",
       "      <td>15.000000</td>\n",
       "      <td>199.000000</td>\n",
       "      <td>40.000000</td>\n",
       "    </tr>\n",
       "  </tbody>\n",
       "</table>\n",
       "</div>"
      ],
      "text/plain": [
       "                long            lat         comuna  diametro_altura_pecho  \\\n",
       "count  354838.000000  354838.000000  370180.000000          369894.000000   \n",
       "mean      -58.458791     -34.612473       9.143735              31.986864   \n",
       "std         0.041514       0.033695       3.876242              21.267623   \n",
       "min       -58.530458     -34.697333       1.000000               0.000000   \n",
       "25%       -58.491269     -34.637834       6.000000              17.000000   \n",
       "50%       -58.465865     -34.615023      10.000000              29.000000   \n",
       "75%       -58.428583     -34.586580      12.000000              43.000000   \n",
       "max       -58.354003     -34.535972      15.000000             199.000000   \n",
       "\n",
       "        altura_arbol  \n",
       "count  365858.000000  \n",
       "mean        9.036132  \n",
       "std         4.894625  \n",
       "min         1.000000  \n",
       "25%         6.000000  \n",
       "50%         8.000000  \n",
       "75%        12.000000  \n",
       "max        40.000000  "
      ]
     },
     "execution_count": 85,
     "metadata": {},
     "output_type": "execute_result"
    }
   ],
   "source": [
    "arbolado.describe()"
   ]
  },
  {
   "cell_type": "code",
   "execution_count": 87,
   "metadata": {},
   "outputs": [
    {
     "name": "stdout",
     "output_type": "stream",
     "text": [
      "Vamos a mostrar la info de la columna long\n"
     ]
    },
    {
     "data": {
      "text/plain": [
       "count    354838.000000\n",
       "mean        -58.458791\n",
       "std           0.041514\n",
       "min         -58.530458\n",
       "25%         -58.491269\n",
       "50%         -58.465865\n",
       "75%         -58.428583\n",
       "max         -58.354003\n",
       "Name: long, dtype: float64"
      ]
     },
     "metadata": {},
     "output_type": "display_data"
    },
    {
     "name": "stdout",
     "output_type": "stream",
     "text": [
      "Vamos a mostrar la info de la columna lat\n"
     ]
    },
    {
     "data": {
      "text/plain": [
       "count    354838.000000\n",
       "mean        -34.612473\n",
       "std           0.033695\n",
       "min         -34.697333\n",
       "25%         -34.637834\n",
       "50%         -34.615023\n",
       "75%         -34.586580\n",
       "max         -34.535972\n",
       "Name: lat, dtype: float64"
      ]
     },
     "metadata": {},
     "output_type": "display_data"
    },
    {
     "name": "stdout",
     "output_type": "stream",
     "text": [
      "Vamos a mostrar la info de la columna nro_registro\n"
     ]
    },
    {
     "data": {
      "text/plain": [
       "count     370180\n",
       "unique    370180\n",
       "top        26779\n",
       "freq           1\n",
       "Name: nro_registro, dtype: int64"
      ]
     },
     "metadata": {},
     "output_type": "display_data"
    },
    {
     "name": "stdout",
     "output_type": "stream",
     "text": [
      "Vamos a mostrar la info de la columna tipo_activ\n"
     ]
    },
    {
     "data": {
      "text/plain": [
       "count     370180\n",
       "unique         6\n",
       "top       Lineal\n",
       "freq      365629\n",
       "Name: tipo_activ, dtype: object"
      ]
     },
     "metadata": {},
     "output_type": "display_data"
    },
    {
     "name": "stdout",
     "output_type": "stream",
     "text": [
      "Vamos a mostrar la info de la columna comuna\n"
     ]
    },
    {
     "data": {
      "text/plain": [
       "count    370180.000000\n",
       "mean          9.143735\n",
       "std           3.876242\n",
       "min           1.000000\n",
       "25%           6.000000\n",
       "50%          10.000000\n",
       "75%          12.000000\n",
       "max          15.000000\n",
       "Name: comuna, dtype: float64"
      ]
     },
     "metadata": {},
     "output_type": "display_data"
    },
    {
     "name": "stdout",
     "output_type": "stream",
     "text": [
      "Vamos a mostrar la info de la columna manzana\n"
     ]
    },
    {
     "data": {
      "text/plain": [
       "count     224140\n",
       "unique      1843\n",
       "top          568\n",
       "freq        1102\n",
       "Name: manzana, dtype: object"
      ]
     },
     "metadata": {},
     "output_type": "display_data"
    },
    {
     "name": "stdout",
     "output_type": "stream",
     "text": [
      "Vamos a mostrar la info de la columna calle_nombre\n"
     ]
    },
    {
     "data": {
      "text/plain": [
       "count                 370087\n",
       "unique                  2334\n",
       "top       Del Libertador, Av\n",
       "freq                    1267\n",
       "Name: calle_nombre, dtype: object"
      ]
     },
     "metadata": {},
     "output_type": "display_data"
    },
    {
     "name": "stdout",
     "output_type": "stream",
     "text": [
      "Vamos a mostrar la info de la columna calle_altura\n"
     ]
    },
    {
     "data": {
      "text/plain": [
       "count     364677.0\n",
       "unique      1828.0\n",
       "top         1400.0\n",
       "freq        5483.0\n",
       "Name: calle_altura, dtype: float64"
      ]
     },
     "metadata": {},
     "output_type": "display_data"
    },
    {
     "name": "stdout",
     "output_type": "stream",
     "text": [
      "Vamos a mostrar la info de la columna calle_chapa\n"
     ]
    },
    {
     "data": {
      "text/plain": [
       "count     363721\n",
       "unique     17004\n",
       "top         3300\n",
       "freq         386\n",
       "Name: calle_chapa, dtype: object"
      ]
     },
     "metadata": {},
     "output_type": "display_data"
    },
    {
     "name": "stdout",
     "output_type": "stream",
     "text": [
      "Vamos a mostrar la info de la columna direccion_normalizada\n"
     ]
    },
    {
     "data": {
      "text/plain": [
       "count         355941\n",
       "unique        248939\n",
       "top       ESPAÑA AV.\n",
       "freq             351\n",
       "Name: direccion_normalizada, dtype: object"
      ]
     },
     "metadata": {},
     "output_type": "display_data"
    },
    {
     "name": "stdout",
     "output_type": "stream",
     "text": [
      "Vamos a mostrar la info de la columna ubicacion\n"
     ]
    },
    {
     "data": {
      "text/plain": [
       "count     361884\n",
       "unique       544\n",
       "top       Exacta\n",
       "freq      242660\n",
       "Name: ubicacion, dtype: object"
      ]
     },
     "metadata": {},
     "output_type": "display_data"
    },
    {
     "name": "stdout",
     "output_type": "stream",
     "text": [
      "Vamos a mostrar la info de la columna nombre_cientifico\n"
     ]
    },
    {
     "data": {
      "text/plain": [
       "count                     370180\n",
       "unique                       431\n",
       "top       Fraxinus pennsylvanica\n",
       "freq                      133609\n",
       "Name: nombre_cientifico, dtype: object"
      ]
     },
     "metadata": {},
     "output_type": "display_data"
    },
    {
     "name": "stdout",
     "output_type": "stream",
     "text": [
      "Vamos a mostrar la info de la columna ancho_acera\n"
     ]
    },
    {
     "data": {
      "text/plain": [
       "count     367083\n",
       "unique       431\n",
       "top          4.4\n",
       "freq       94936\n",
       "Name: ancho_acera, dtype: object"
      ]
     },
     "metadata": {},
     "output_type": "display_data"
    },
    {
     "name": "stdout",
     "output_type": "stream",
     "text": [
      "Vamos a mostrar la info de la columna estado_plantera\n"
     ]
    },
    {
     "data": {
      "text/plain": [
       "count      370180\n",
       "unique         12\n",
       "top       Ocupada\n",
       "freq       330887\n",
       "Name: estado_plantera, dtype: object"
      ]
     },
     "metadata": {},
     "output_type": "display_data"
    },
    {
     "name": "stdout",
     "output_type": "stream",
     "text": [
      "Vamos a mostrar la info de la columna ubicacion_plantera\n"
     ]
    },
    {
     "data": {
      "text/plain": [
       "count      368776\n",
       "unique         20\n",
       "top       Regular\n",
       "freq       340432\n",
       "Name: ubicacion_plantera, dtype: object"
      ]
     },
     "metadata": {},
     "output_type": "display_data"
    },
    {
     "name": "stdout",
     "output_type": "stream",
     "text": [
      "Vamos a mostrar la info de la columna nivel_plantera\n"
     ]
    },
    {
     "data": {
      "text/plain": [
       "count      368828\n",
       "unique         26\n",
       "top       A nivel\n",
       "freq       232099\n",
       "Name: nivel_plantera, dtype: object"
      ]
     },
     "metadata": {},
     "output_type": "display_data"
    },
    {
     "name": "stdout",
     "output_type": "stream",
     "text": [
      "Vamos a mostrar la info de la columna diametro_altura_pecho\n"
     ]
    },
    {
     "data": {
      "text/plain": [
       "count    369894.000000\n",
       "mean         31.986864\n",
       "std          21.267623\n",
       "min           0.000000\n",
       "25%          17.000000\n",
       "50%          29.000000\n",
       "75%          43.000000\n",
       "max         199.000000\n",
       "Name: diametro_altura_pecho, dtype: float64"
      ]
     },
     "metadata": {},
     "output_type": "display_data"
    },
    {
     "name": "stdout",
     "output_type": "stream",
     "text": [
      "Vamos a mostrar la info de la columna altura_arbol\n"
     ]
    },
    {
     "data": {
      "text/plain": [
       "count    365858.000000\n",
       "mean          9.036132\n",
       "std           4.894625\n",
       "min           1.000000\n",
       "25%           6.000000\n",
       "50%           8.000000\n",
       "75%          12.000000\n",
       "max          40.000000\n",
       "Name: altura_arbol, dtype: float64"
      ]
     },
     "metadata": {},
     "output_type": "display_data"
    }
   ],
   "source": [
    "for columna in arbolado.columns:\n",
    "    print (f'Vamos a mostrar la info de la columna {columna}')\n",
    "    display (arbolado[columna].describe())"
   ]
  },
  {
   "cell_type": "code",
   "execution_count": 88,
   "metadata": {},
   "outputs": [],
   "source": [
    "# Vamos a ver como complementar pandas con otras herramientas \n",
    "\n",
    "import seaborn as sns"
   ]
  },
  {
   "cell_type": "code",
   "execution_count": 95,
   "metadata": {},
   "outputs": [
    {
     "data": {
      "text/plain": [
       "<AxesSubplot:xlabel='long', ylabel='lat'>"
      ]
     },
     "execution_count": 95,
     "metadata": {},
     "output_type": "execute_result"
    },
    {
     "data": {
      "image/png": "[encoded data removed]",
      "text/plain": [
       "<Figure size 432x288 with 1 Axes>"
      ]
     },
     "metadata": {
      "needs_background": "light"
     },
     "output_type": "display_data"
    }
   ],
   "source": [
    "sns.scatterplot(data=arbolado.sample(1000), y='lat', x='long', hue='comuna')"
   ]
  },
  {
   "cell_type": "code",
   "execution_count": 94,
   "metadata": {},
   "outputs": [
    {
     "data": {
      "text/html": [
       "<div>\n",
       "<style scoped>\n",
       "    .dataframe tbody tr th:only-of-type {\n",
       "        vertical-align: middle;\n",
       "    }\n",
       "\n",
       "    .dataframe tbody tr th {\n",
       "        vertical-align: top;\n",
       "    }\n",
       "\n",
       "    .dataframe thead th {\n",
       "        text-align: right;\n",
       "    }\n",
       "</style>\n",
       "<table border=\"1\" class=\"dataframe\">\n",
       "  <thead>\n",
       "    <tr style=\"text-align: right;\">\n",
       "      <th></th>\n",
       "      <th>long</th>\n",
       "      <th>lat</th>\n",
       "      <th>nro_registro</th>\n",
       "      <th>tipo_activ</th>\n",
       "      <th>comuna</th>\n",
       "      <th>manzana</th>\n",
       "      <th>calle_nombre</th>\n",
       "      <th>calle_altura</th>\n",
       "      <th>calle_chapa</th>\n",
       "      <th>direccion_normalizada</th>\n",
       "      <th>ubicacion</th>\n",
       "      <th>nombre_cientifico</th>\n",
       "      <th>ancho_acera</th>\n",
       "      <th>estado_plantera</th>\n",
       "      <th>ubicacion_plantera</th>\n",
       "      <th>nivel_plantera</th>\n",
       "      <th>diametro_altura_pecho</th>\n",
       "      <th>altura_arbol</th>\n",
       "    </tr>\n",
       "  </thead>\n",
       "  <tbody>\n",
       "    <tr>\n",
       "      <th>181327</th>\n",
       "      <td>-58.502642</td>\n",
       "      <td>-34.625765</td>\n",
       "      <td>323193</td>\n",
       "      <td>Lineal</td>\n",
       "      <td>10</td>\n",
       "      <td>519</td>\n",
       "      <td>Carranza Carlos</td>\n",
       "      <td>4800.0</td>\n",
       "      <td>4851.0</td>\n",
       "      <td>CARRANZA, CARLOS 4851</td>\n",
       "      <td>LA</td>\n",
       "      <td>Lagerstroemia indica</td>\n",
       "      <td>1.8</td>\n",
       "      <td>Ocupada</td>\n",
       "      <td>Regular</td>\n",
       "      <td>A nivel</td>\n",
       "      <td>9.0</td>\n",
       "      <td>3.0</td>\n",
       "    </tr>\n",
       "    <tr>\n",
       "      <th>38743</th>\n",
       "      <td>-58.373243</td>\n",
       "      <td>-34.637027</td>\n",
       "      <td>361792</td>\n",
       "      <td>Lineal</td>\n",
       "      <td>4</td>\n",
       "      <td>423</td>\n",
       "      <td>Pinzón</td>\n",
       "      <td>1500</td>\n",
       "      <td>1550.0</td>\n",
       "      <td>PINZON 1550</td>\n",
       "      <td>LA</td>\n",
       "      <td>Fraxinus pennsylvanica</td>\n",
       "      <td>2.4</td>\n",
       "      <td>Ocupada</td>\n",
       "      <td>Regular</td>\n",
       "      <td>A nivel</td>\n",
       "      <td>30.0</td>\n",
       "      <td>13.0</td>\n",
       "    </tr>\n",
       "    <tr>\n",
       "      <th>35474</th>\n",
       "      <td>-58.397429</td>\n",
       "      <td>-34.630678</td>\n",
       "      <td>343303</td>\n",
       "      <td>Lineal</td>\n",
       "      <td>4</td>\n",
       "      <td>234</td>\n",
       "      <td>Brasil Av.</td>\n",
       "      <td>2300</td>\n",
       "      <td>2394.0</td>\n",
       "      <td>BRASIL 2394</td>\n",
       "      <td>Exacta</td>\n",
       "      <td>Fraxinus pennsylvanica</td>\n",
       "      <td>3.4</td>\n",
       "      <td>Ocupada</td>\n",
       "      <td>Regular</td>\n",
       "      <td>A nivel</td>\n",
       "      <td>25.0</td>\n",
       "      <td>9.0</td>\n",
       "    </tr>\n",
       "    <tr>\n",
       "      <th>83756</th>\n",
       "      <td>-58.439753</td>\n",
       "      <td>-34.621741</td>\n",
       "      <td>55432</td>\n",
       "      <td>Lineal</td>\n",
       "      <td>6</td>\n",
       "      <td>NaN</td>\n",
       "      <td>Guayaquil</td>\n",
       "      <td>800.0</td>\n",
       "      <td>825.0</td>\n",
       "      <td>GUAYAQUIL 825</td>\n",
       "      <td>Exacta</td>\n",
       "      <td>Fraxinus pennsylvanica</td>\n",
       "      <td>3.2</td>\n",
       "      <td>Ocupada</td>\n",
       "      <td>Regular</td>\n",
       "      <td>Elevada</td>\n",
       "      <td>17.0</td>\n",
       "      <td>15.0</td>\n",
       "    </tr>\n",
       "    <tr>\n",
       "      <th>310325</th>\n",
       "      <td>-58.403345</td>\n",
       "      <td>-34.579885</td>\n",
       "      <td>85293</td>\n",
       "      <td>Lineal</td>\n",
       "      <td>14</td>\n",
       "      <td>NaN</td>\n",
       "      <td>Zenteno</td>\n",
       "      <td>3100.0</td>\n",
       "      <td>3131.0</td>\n",
       "      <td>ZENTENO 3131</td>\n",
       "      <td>LA</td>\n",
       "      <td>Tipuana tipu</td>\n",
       "      <td>3.2</td>\n",
       "      <td>Ocupada</td>\n",
       "      <td>Regular</td>\n",
       "      <td>Bajo nivel</td>\n",
       "      <td>58.0</td>\n",
       "      <td>25.0</td>\n",
       "    </tr>\n",
       "    <tr>\n",
       "      <th>121345</th>\n",
       "      <td>-58.479071</td>\n",
       "      <td>-34.687320</td>\n",
       "      <td>402488</td>\n",
       "      <td>Lineal</td>\n",
       "      <td>8</td>\n",
       "      <td>529</td>\n",
       "      <td>Montiel</td>\n",
       "      <td>5000.0</td>\n",
       "      <td>5009</td>\n",
       "      <td>MONTIEL 5009</td>\n",
       "      <td>Exacta</td>\n",
       "      <td>Callistemon citrinus</td>\n",
       "      <td>4.5</td>\n",
       "      <td>Ocupada</td>\n",
       "      <td>Regular</td>\n",
       "      <td>A nivel</td>\n",
       "      <td>4.0</td>\n",
       "      <td>4.0</td>\n",
       "    </tr>\n",
       "    <tr>\n",
       "      <th>237202</th>\n",
       "      <td>-58.518319</td>\n",
       "      <td>-34.593502</td>\n",
       "      <td>433583</td>\n",
       "      <td>Lineal</td>\n",
       "      <td>11</td>\n",
       "      <td>800</td>\n",
       "      <td>Griveo</td>\n",
       "      <td>4000.0</td>\n",
       "      <td>4059.0</td>\n",
       "      <td>GRIVEO 4059</td>\n",
       "      <td>Exacta</td>\n",
       "      <td>Fraxinus pennsylvanica</td>\n",
       "      <td>4</td>\n",
       "      <td>Ocupada</td>\n",
       "      <td>Regular</td>\n",
       "      <td>A nivel</td>\n",
       "      <td>31.0</td>\n",
       "      <td>10.0</td>\n",
       "    </tr>\n",
       "    <tr>\n",
       "      <th>342191</th>\n",
       "      <td>-58.442503</td>\n",
       "      <td>-34.598235</td>\n",
       "      <td>256270</td>\n",
       "      <td>Lineal</td>\n",
       "      <td>15</td>\n",
       "      <td>716</td>\n",
       "      <td>Camargo</td>\n",
       "      <td>700.0</td>\n",
       "      <td>787.0</td>\n",
       "      <td>CAMARGO 787</td>\n",
       "      <td>Exacta</td>\n",
       "      <td>Ficus benjamina</td>\n",
       "      <td>3.2</td>\n",
       "      <td>Ocupada</td>\n",
       "      <td>Regular</td>\n",
       "      <td>A nivel</td>\n",
       "      <td>45.0</td>\n",
       "      <td>6.0</td>\n",
       "    </tr>\n",
       "    <tr>\n",
       "      <th>323954</th>\n",
       "      <td>-58.474503</td>\n",
       "      <td>-34.583386</td>\n",
       "      <td>190928</td>\n",
       "      <td>Lineal</td>\n",
       "      <td>15</td>\n",
       "      <td>181</td>\n",
       "      <td>Torrent</td>\n",
       "      <td>1200.0</td>\n",
       "      <td>1280.0</td>\n",
       "      <td>TORRENT 1280</td>\n",
       "      <td>Exacta</td>\n",
       "      <td>Fraxinus pennsylvanica</td>\n",
       "      <td>4.2</td>\n",
       "      <td>Ocupada</td>\n",
       "      <td>Regular</td>\n",
       "      <td>A nivel</td>\n",
       "      <td>35.0</td>\n",
       "      <td>12.0</td>\n",
       "    </tr>\n",
       "    <tr>\n",
       "      <th>183890</th>\n",
       "      <td>-58.491824</td>\n",
       "      <td>-34.623912</td>\n",
       "      <td>347811</td>\n",
       "      <td>Lineal</td>\n",
       "      <td>10</td>\n",
       "      <td>490</td>\n",
       "      <td>Miramar</td>\n",
       "      <td>4200.0</td>\n",
       "      <td>4239.0</td>\n",
       "      <td>MIRAMAR 4239</td>\n",
       "      <td>Exacta</td>\n",
       "      <td>Fraxinus pennsylvanica</td>\n",
       "      <td>2.8</td>\n",
       "      <td>Ocupada</td>\n",
       "      <td>Regular</td>\n",
       "      <td>A nivel</td>\n",
       "      <td>46.0</td>\n",
       "      <td>9.0</td>\n",
       "    </tr>\n",
       "  </tbody>\n",
       "</table>\n",
       "</div>"
      ],
      "text/plain": [
       "             long        lat nro_registro tipo_activ  comuna manzana  \\\n",
       "181327 -58.502642 -34.625765       323193     Lineal      10     519   \n",
       "38743  -58.373243 -34.637027       361792     Lineal       4     423   \n",
       "35474  -58.397429 -34.630678       343303     Lineal       4     234   \n",
       "83756  -58.439753 -34.621741        55432     Lineal       6     NaN   \n",
       "310325 -58.403345 -34.579885        85293     Lineal      14     NaN   \n",
       "121345 -58.479071 -34.687320       402488     Lineal       8     529   \n",
       "237202 -58.518319 -34.593502       433583     Lineal      11     800   \n",
       "342191 -58.442503 -34.598235       256270     Lineal      15     716   \n",
       "323954 -58.474503 -34.583386       190928     Lineal      15     181   \n",
       "183890 -58.491824 -34.623912       347811     Lineal      10     490   \n",
       "\n",
       "           calle_nombre calle_altura calle_chapa  direccion_normalizada  \\\n",
       "181327  Carranza Carlos       4800.0      4851.0  CARRANZA, CARLOS 4851   \n",
       "38743            Pinzón         1500      1550.0            PINZON 1550   \n",
       "35474        Brasil Av.         2300      2394.0            BRASIL 2394   \n",
       "83756         Guayaquil        800.0       825.0          GUAYAQUIL 825   \n",
       "310325          Zenteno       3100.0      3131.0           ZENTENO 3131   \n",
       "121345          Montiel       5000.0        5009           MONTIEL 5009   \n",
       "237202           Griveo       4000.0      4059.0            GRIVEO 4059   \n",
       "342191          Camargo        700.0       787.0            CAMARGO 787   \n",
       "323954          Torrent       1200.0      1280.0           TORRENT 1280   \n",
       "183890          Miramar       4200.0      4239.0           MIRAMAR 4239   \n",
       "\n",
       "       ubicacion       nombre_cientifico ancho_acera estado_plantera  \\\n",
       "181327        LA    Lagerstroemia indica         1.8         Ocupada   \n",
       "38743         LA  Fraxinus pennsylvanica         2.4         Ocupada   \n",
       "35474     Exacta  Fraxinus pennsylvanica         3.4         Ocupada   \n",
       "83756     Exacta  Fraxinus pennsylvanica         3.2         Ocupada   \n",
       "310325        LA            Tipuana tipu         3.2         Ocupada   \n",
       "121345    Exacta    Callistemon citrinus         4.5         Ocupada   \n",
       "237202    Exacta  Fraxinus pennsylvanica           4         Ocupada   \n",
       "342191    Exacta         Ficus benjamina         3.2         Ocupada   \n",
       "323954    Exacta  Fraxinus pennsylvanica         4.2         Ocupada   \n",
       "183890    Exacta  Fraxinus pennsylvanica         2.8         Ocupada   \n",
       "\n",
       "       ubicacion_plantera nivel_plantera  diametro_altura_pecho  altura_arbol  \n",
       "181327            Regular        A nivel                    9.0           3.0  \n",
       "38743             Regular        A nivel                   30.0          13.0  \n",
       "35474             Regular        A nivel                   25.0           9.0  \n",
       "83756             Regular        Elevada                   17.0          15.0  \n",
       "310325            Regular     Bajo nivel                   58.0          25.0  \n",
       "121345            Regular        A nivel                    4.0           4.0  \n",
       "237202            Regular        A nivel                   31.0          10.0  \n",
       "342191            Regular        A nivel                   45.0           6.0  \n",
       "323954            Regular        A nivel                   35.0          12.0  \n",
       "183890            Regular        A nivel                   46.0           9.0  "
      ]
     },
     "execution_count": 94,
     "metadata": {},
     "output_type": "execute_result"
    }
   ],
   "source": [
    "arbolado.sample(10)"
   ]
  },
  {
   "cell_type": "code",
   "execution_count": 98,
   "metadata": {},
   "outputs": [
    {
     "data": {
      "text/plain": [
       "0         False\n",
       "1         False\n",
       "2         False\n",
       "3         False\n",
       "4         False\n",
       "          ...  \n",
       "370175    False\n",
       "370176    False\n",
       "370177    False\n",
       "370178    False\n",
       "370179    False\n",
       "Name: nombre_cientifico, Length: 370180, dtype: bool"
      ]
     },
     "execution_count": 98,
     "metadata": {},
     "output_type": "execute_result"
    }
   ],
   "source": [
    "arbolado['nombre_cientifico'].value_counts()\n",
    "\n",
    "mascara = arbolado['nombre_cientifico'] == 'Platanus x acerifolia'\n",
    "\n",
    "mascara"
   ]
  },
  {
   "cell_type": "code",
   "execution_count": 99,
   "metadata": {},
   "outputs": [
    {
     "data": {
      "text/plain": [
       "<AxesSubplot:xlabel='long', ylabel='lat'>"
      ]
     },
     "execution_count": 99,
     "metadata": {},
     "output_type": "execute_result"
    },
    {
     "data": {
      "image/png": "[encoded data removed]",
      "text/plain": [
       "<Figure size 432x288 with 1 Axes>"
      ]
     },
     "metadata": {
      "needs_background": "light"
     },
     "output_type": "display_data"
    }
   ],
   "source": [
    "sns.scatterplot(data=arbolado[arbolado['nombre_cientifico'] == 'Platanus x acerifolia'], y='lat', x='long', hue='comuna')"
   ]
  },
  {
   "cell_type": "code",
   "execution_count": 100,
   "metadata": {},
   "outputs": [],
   "source": [
    "arbolado.index = arbolado['nombre_cientifico']"
   ]
  },
  {
   "cell_type": "code",
   "execution_count": 107,
   "metadata": {},
   "outputs": [
    {
     "ename": "KeyError",
     "evalue": "'Peltophorum'",
     "output_type": "error",
     "traceback": [
      "\u001b[1;31m---------------------------------------------------------------------------\u001b[0m",
      "\u001b[1;31mKeyError\u001b[0m                                  Traceback (most recent call last)",
      "\u001b[1;32mc:\\Users\\Ionatan\\anaconda3\\envs\\DH\\lib\\site-packages\\pandas\\core\\indexes\\base.py\u001b[0m in \u001b[0;36mget_loc\u001b[1;34m(self, key, method, tolerance)\u001b[0m\n\u001b[0;32m   3620\u001b[0m             \u001b[1;32mtry\u001b[0m\u001b[1;33m:\u001b[0m\u001b[1;33m\u001b[0m\u001b[1;33m\u001b[0m\u001b[0m\n\u001b[1;32m-> 3621\u001b[1;33m                 \u001b[1;32mreturn\u001b[0m \u001b[0mself\u001b[0m\u001b[1;33m.\u001b[0m\u001b[0m_engine\u001b[0m\u001b[1;33m.\u001b[0m\u001b[0mget_loc\u001b[0m\u001b[1;33m(\u001b[0m\u001b[0mcasted_key\u001b[0m\u001b[1;33m)\u001b[0m\u001b[1;33m\u001b[0m\u001b[1;33m\u001b[0m\u001b[0m\n\u001b[0m\u001b[0;32m   3622\u001b[0m             \u001b[1;32mexcept\u001b[0m \u001b[0mKeyError\u001b[0m \u001b[1;32mas\u001b[0m \u001b[0merr\u001b[0m\u001b[1;33m:\u001b[0m\u001b[1;33m\u001b[0m\u001b[1;33m\u001b[0m\u001b[0m\n",
      "\u001b[1;32mc:\\Users\\Ionatan\\anaconda3\\envs\\DH\\lib\\site-packages\\pandas\\_libs\\index.pyx\u001b[0m in \u001b[0;36mpandas._libs.index.IndexEngine.get_loc\u001b[1;34m()\u001b[0m\n",
      "\u001b[1;32mc:\\Users\\Ionatan\\anaconda3\\envs\\DH\\lib\\site-packages\\pandas\\_libs\\index.pyx\u001b[0m in \u001b[0;36mpandas._libs.index.IndexEngine.get_loc\u001b[1;34m()\u001b[0m\n",
      "\u001b[1;32mc:\\Users\\Ionatan\\anaconda3\\envs\\DH\\lib\\site-packages\\pandas\\_libs\\index.pyx\u001b[0m in \u001b[0;36mpandas._libs.index.IndexEngine._get_loc_duplicates\u001b[1;34m()\u001b[0m\n",
      "\u001b[1;32mc:\\Users\\Ionatan\\anaconda3\\envs\\DH\\lib\\site-packages\\pandas\\_libs\\index.pyx\u001b[0m in \u001b[0;36mpandas._libs.index.IndexEngine._maybe_get_bool_indexer\u001b[1;34m()\u001b[0m\n",
      "\u001b[1;32mc:\\Users\\Ionatan\\anaconda3\\envs\\DH\\lib\\site-packages\\pandas\\_libs\\index.pyx\u001b[0m in \u001b[0;36mpandas._libs.index._unpack_bool_indexer\u001b[1;34m()\u001b[0m\n",
      "\u001b[1;31mKeyError\u001b[0m: 'Peltophorum'",
      "\nThe above exception was the direct cause of the following exception:\n",
      "\u001b[1;31mKeyError\u001b[0m                                  Traceback (most recent call last)",
      "\u001b[1;32m~\\AppData\\Local\\Temp\\ipykernel_11800\\1013779895.py\u001b[0m in \u001b[0;36m<module>\u001b[1;34m\u001b[0m\n\u001b[0;32m      1\u001b[0m \u001b[0marbolado\u001b[0m\u001b[1;33m.\u001b[0m\u001b[0mhead\u001b[0m\u001b[1;33m(\u001b[0m\u001b[1;33m)\u001b[0m\u001b[1;33m\u001b[0m\u001b[1;33m\u001b[0m\u001b[0m\n\u001b[1;32m----> 2\u001b[1;33m \u001b[0marbolado\u001b[0m\u001b[1;33m.\u001b[0m\u001b[0mloc\u001b[0m\u001b[1;33m[\u001b[0m\u001b[1;34m'Peltophorum'\u001b[0m\u001b[1;33m]\u001b[0m\u001b[1;33m[\u001b[0m\u001b[1;34m'altura_arbol'\u001b[0m\u001b[1;33m]\u001b[0m\u001b[1;33m.\u001b[0m\u001b[0mdescribe\u001b[0m\u001b[1;33m(\u001b[0m\u001b[1;33m)\u001b[0m\u001b[1;33m\u001b[0m\u001b[1;33m\u001b[0m\u001b[0m\n\u001b[0m",
      "\u001b[1;32mc:\\Users\\Ionatan\\anaconda3\\envs\\DH\\lib\\site-packages\\pandas\\core\\indexing.py\u001b[0m in \u001b[0;36m__getitem__\u001b[1;34m(self, key)\u001b[0m\n\u001b[0;32m    965\u001b[0m \u001b[1;33m\u001b[0m\u001b[0m\n\u001b[0;32m    966\u001b[0m             \u001b[0mmaybe_callable\u001b[0m \u001b[1;33m=\u001b[0m \u001b[0mcom\u001b[0m\u001b[1;33m.\u001b[0m\u001b[0mapply_if_callable\u001b[0m\u001b[1;33m(\u001b[0m\u001b[0mkey\u001b[0m\u001b[1;33m,\u001b[0m \u001b[0mself\u001b[0m\u001b[1;33m.\u001b[0m\u001b[0mobj\u001b[0m\u001b[1;33m)\u001b[0m\u001b[1;33m\u001b[0m\u001b[1;33m\u001b[0m\u001b[0m\n\u001b[1;32m--> 967\u001b[1;33m             \u001b[1;32mreturn\u001b[0m \u001b[0mself\u001b[0m\u001b[1;33m.\u001b[0m\u001b[0m_getitem_axis\u001b[0m\u001b[1;33m(\u001b[0m\u001b[0mmaybe_callable\u001b[0m\u001b[1;33m,\u001b[0m \u001b[0maxis\u001b[0m\u001b[1;33m=\u001b[0m\u001b[0maxis\u001b[0m\u001b[1;33m)\u001b[0m\u001b[1;33m\u001b[0m\u001b[1;33m\u001b[0m\u001b[0m\n\u001b[0m\u001b[0;32m    968\u001b[0m \u001b[1;33m\u001b[0m\u001b[0m\n\u001b[0;32m    969\u001b[0m     \u001b[1;32mdef\u001b[0m \u001b[0m_is_scalar_access\u001b[0m\u001b[1;33m(\u001b[0m\u001b[0mself\u001b[0m\u001b[1;33m,\u001b[0m \u001b[0mkey\u001b[0m\u001b[1;33m:\u001b[0m \u001b[0mtuple\u001b[0m\u001b[1;33m)\u001b[0m\u001b[1;33m:\u001b[0m\u001b[1;33m\u001b[0m\u001b[1;33m\u001b[0m\u001b[0m\n",
      "\u001b[1;32mc:\\Users\\Ionatan\\anaconda3\\envs\\DH\\lib\\site-packages\\pandas\\core\\indexing.py\u001b[0m in \u001b[0;36m_getitem_axis\u001b[1;34m(self, key, axis)\u001b[0m\n\u001b[0;32m   1200\u001b[0m         \u001b[1;31m# fall thru to straight lookup\u001b[0m\u001b[1;33m\u001b[0m\u001b[1;33m\u001b[0m\u001b[1;33m\u001b[0m\u001b[0m\n\u001b[0;32m   1201\u001b[0m         \u001b[0mself\u001b[0m\u001b[1;33m.\u001b[0m\u001b[0m_validate_key\u001b[0m\u001b[1;33m(\u001b[0m\u001b[0mkey\u001b[0m\u001b[1;33m,\u001b[0m \u001b[0maxis\u001b[0m\u001b[1;33m)\u001b[0m\u001b[1;33m\u001b[0m\u001b[1;33m\u001b[0m\u001b[0m\n\u001b[1;32m-> 1202\u001b[1;33m         \u001b[1;32mreturn\u001b[0m \u001b[0mself\u001b[0m\u001b[1;33m.\u001b[0m\u001b[0m_get_label\u001b[0m\u001b[1;33m(\u001b[0m\u001b[0mkey\u001b[0m\u001b[1;33m,\u001b[0m \u001b[0maxis\u001b[0m\u001b[1;33m=\u001b[0m\u001b[0maxis\u001b[0m\u001b[1;33m)\u001b[0m\u001b[1;33m\u001b[0m\u001b[1;33m\u001b[0m\u001b[0m\n\u001b[0m\u001b[0;32m   1203\u001b[0m \u001b[1;33m\u001b[0m\u001b[0m\n\u001b[0;32m   1204\u001b[0m     \u001b[1;32mdef\u001b[0m \u001b[0m_get_slice_axis\u001b[0m\u001b[1;33m(\u001b[0m\u001b[0mself\u001b[0m\u001b[1;33m,\u001b[0m \u001b[0mslice_obj\u001b[0m\u001b[1;33m:\u001b[0m \u001b[0mslice\u001b[0m\u001b[1;33m,\u001b[0m \u001b[0maxis\u001b[0m\u001b[1;33m:\u001b[0m \u001b[0mint\u001b[0m\u001b[1;33m)\u001b[0m\u001b[1;33m:\u001b[0m\u001b[1;33m\u001b[0m\u001b[1;33m\u001b[0m\u001b[0m\n",
      "\u001b[1;32mc:\\Users\\Ionatan\\anaconda3\\envs\\DH\\lib\\site-packages\\pandas\\core\\indexing.py\u001b[0m in \u001b[0;36m_get_label\u001b[1;34m(self, label, axis)\u001b[0m\n\u001b[0;32m   1151\u001b[0m     \u001b[1;32mdef\u001b[0m \u001b[0m_get_label\u001b[0m\u001b[1;33m(\u001b[0m\u001b[0mself\u001b[0m\u001b[1;33m,\u001b[0m \u001b[0mlabel\u001b[0m\u001b[1;33m,\u001b[0m \u001b[0maxis\u001b[0m\u001b[1;33m:\u001b[0m \u001b[0mint\u001b[0m\u001b[1;33m)\u001b[0m\u001b[1;33m:\u001b[0m\u001b[1;33m\u001b[0m\u001b[1;33m\u001b[0m\u001b[0m\n\u001b[0;32m   1152\u001b[0m         \u001b[1;31m# GH#5667 this will fail if the label is not present in the axis.\u001b[0m\u001b[1;33m\u001b[0m\u001b[1;33m\u001b[0m\u001b[1;33m\u001b[0m\u001b[0m\n\u001b[1;32m-> 1153\u001b[1;33m         \u001b[1;32mreturn\u001b[0m \u001b[0mself\u001b[0m\u001b[1;33m.\u001b[0m\u001b[0mobj\u001b[0m\u001b[1;33m.\u001b[0m\u001b[0mxs\u001b[0m\u001b[1;33m(\u001b[0m\u001b[0mlabel\u001b[0m\u001b[1;33m,\u001b[0m \u001b[0maxis\u001b[0m\u001b[1;33m=\u001b[0m\u001b[0maxis\u001b[0m\u001b[1;33m)\u001b[0m\u001b[1;33m\u001b[0m\u001b[1;33m\u001b[0m\u001b[0m\n\u001b[0m\u001b[0;32m   1154\u001b[0m \u001b[1;33m\u001b[0m\u001b[0m\n\u001b[0;32m   1155\u001b[0m     \u001b[1;32mdef\u001b[0m \u001b[0m_handle_lowerdim_multi_index_axis0\u001b[0m\u001b[1;33m(\u001b[0m\u001b[0mself\u001b[0m\u001b[1;33m,\u001b[0m \u001b[0mtup\u001b[0m\u001b[1;33m:\u001b[0m \u001b[0mtuple\u001b[0m\u001b[1;33m)\u001b[0m\u001b[1;33m:\u001b[0m\u001b[1;33m\u001b[0m\u001b[1;33m\u001b[0m\u001b[0m\n",
      "\u001b[1;32mc:\\Users\\Ionatan\\anaconda3\\envs\\DH\\lib\\site-packages\\pandas\\core\\generic.py\u001b[0m in \u001b[0;36mxs\u001b[1;34m(self, key, axis, level, drop_level)\u001b[0m\n\u001b[0;32m   3862\u001b[0m                     \u001b[0mnew_index\u001b[0m \u001b[1;33m=\u001b[0m \u001b[0mindex\u001b[0m\u001b[1;33m[\u001b[0m\u001b[0mloc\u001b[0m\u001b[1;33m]\u001b[0m\u001b[1;33m\u001b[0m\u001b[1;33m\u001b[0m\u001b[0m\n\u001b[0;32m   3863\u001b[0m         \u001b[1;32melse\u001b[0m\u001b[1;33m:\u001b[0m\u001b[1;33m\u001b[0m\u001b[1;33m\u001b[0m\u001b[0m\n\u001b[1;32m-> 3864\u001b[1;33m             \u001b[0mloc\u001b[0m \u001b[1;33m=\u001b[0m \u001b[0mindex\u001b[0m\u001b[1;33m.\u001b[0m\u001b[0mget_loc\u001b[0m\u001b[1;33m(\u001b[0m\u001b[0mkey\u001b[0m\u001b[1;33m)\u001b[0m\u001b[1;33m\u001b[0m\u001b[1;33m\u001b[0m\u001b[0m\n\u001b[0m\u001b[0;32m   3865\u001b[0m \u001b[1;33m\u001b[0m\u001b[0m\n\u001b[0;32m   3866\u001b[0m             \u001b[1;32mif\u001b[0m \u001b[0misinstance\u001b[0m\u001b[1;33m(\u001b[0m\u001b[0mloc\u001b[0m\u001b[1;33m,\u001b[0m \u001b[0mnp\u001b[0m\u001b[1;33m.\u001b[0m\u001b[0mndarray\u001b[0m\u001b[1;33m)\u001b[0m\u001b[1;33m:\u001b[0m\u001b[1;33m\u001b[0m\u001b[1;33m\u001b[0m\u001b[0m\n",
      "\u001b[1;32mc:\\Users\\Ionatan\\anaconda3\\envs\\DH\\lib\\site-packages\\pandas\\core\\indexes\\base.py\u001b[0m in \u001b[0;36mget_loc\u001b[1;34m(self, key, method, tolerance)\u001b[0m\n\u001b[0;32m   3621\u001b[0m                 \u001b[1;32mreturn\u001b[0m \u001b[0mself\u001b[0m\u001b[1;33m.\u001b[0m\u001b[0m_engine\u001b[0m\u001b[1;33m.\u001b[0m\u001b[0mget_loc\u001b[0m\u001b[1;33m(\u001b[0m\u001b[0mcasted_key\u001b[0m\u001b[1;33m)\u001b[0m\u001b[1;33m\u001b[0m\u001b[1;33m\u001b[0m\u001b[0m\n\u001b[0;32m   3622\u001b[0m             \u001b[1;32mexcept\u001b[0m \u001b[0mKeyError\u001b[0m \u001b[1;32mas\u001b[0m \u001b[0merr\u001b[0m\u001b[1;33m:\u001b[0m\u001b[1;33m\u001b[0m\u001b[1;33m\u001b[0m\u001b[0m\n\u001b[1;32m-> 3623\u001b[1;33m                 \u001b[1;32mraise\u001b[0m \u001b[0mKeyError\u001b[0m\u001b[1;33m(\u001b[0m\u001b[0mkey\u001b[0m\u001b[1;33m)\u001b[0m \u001b[1;32mfrom\u001b[0m \u001b[0merr\u001b[0m\u001b[1;33m\u001b[0m\u001b[1;33m\u001b[0m\u001b[0m\n\u001b[0m\u001b[0;32m   3624\u001b[0m             \u001b[1;32mexcept\u001b[0m \u001b[0mTypeError\u001b[0m\u001b[1;33m:\u001b[0m\u001b[1;33m\u001b[0m\u001b[1;33m\u001b[0m\u001b[0m\n\u001b[0;32m   3625\u001b[0m                 \u001b[1;31m# If we have a listlike key, _check_indexing_error will raise\u001b[0m\u001b[1;33m\u001b[0m\u001b[1;33m\u001b[0m\u001b[1;33m\u001b[0m\u001b[0m\n",
      "\u001b[1;31mKeyError\u001b[0m: 'Peltophorum'"
     ]
    }
   ],
   "source": [
    "arbolado.head()\n",
    "arbolado.loc['Peltophorum']['altura_arbol'].describe()"
   ]
  }
 ],
 "metadata": {
  "kernelspec": {
   "display_name": "Python 3.8.13 ('DH')",
   "language": "python",
   "name": "python3"
  },
  "language_info": {
   "codemirror_mode": {
    "name": "ipython",
    "version": 3
   },
   "file_extension": ".py",
   "mimetype": "text/x-python",
   "name": "python",
   "nbconvert_exporter": "python",
   "pygments_lexer": "ipython3",
   "version": "3.8.13"
  },
  "orig_nbformat": 4,
  "vscode": {
   "interpreter": {
    "hash": "93b1ad9c150e9c4fa5781c5a37e00b91f3d8cfbe17fc5b5e6277144ed0216a69"
   }
  }
 },
 "nbformat": 4,
 "nbformat_minor": 2
}

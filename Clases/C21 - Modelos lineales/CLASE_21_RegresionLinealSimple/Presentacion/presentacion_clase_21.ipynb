{
 "cells": [
  {
   "cell_type": "code",
   "execution_count": 1,
   "metadata": {
    "slideshow": {
     "slide_type": "skip"
    }
   },
   "outputs": [
    {
     "name": "stdout",
     "output_type": "stream",
     "text": [
      "/media/paulati/Nuevo vol/paula/dh/2021/dsad_2021/common\n",
      "default checking\n",
      "Running command `conda list`... ok\n",
      "jupyterlab=2.2.6 already installed\n",
      "pandas=1.1.5 already installed\n",
      "bokeh=2.2.3 already installed\n",
      "seaborn=0.11.0 already installed\n",
      "matplotlib=3.3.2 already installed\n",
      "ipywidgets=7.5.1 already installed\n",
      "pytest=6.2.1 already installed\n",
      "chardet=4.0.0 already installed\n",
      "psutil=5.7.2 already installed\n",
      "scipy=1.5.2 already installed\n",
      "statsmodels=0.12.1 already installed\n",
      "scikit-learn=0.23.2 already installed\n",
      "xlrd=2.0.1 already installed\n",
      "Running command `conda install --yes nltk=3.5.0`... ok\n",
      "Collecting package metadata (current_repodata.json): ...working... done\n",
      "Solving environment: ...working... done\n",
      "\n",
      "# All requested packages already installed.\n",
      "\n",
      "\n",
      "unidecode=1.1.1 already installed\n",
      "pydotplus=2.0.2 already installed\n",
      "pandas-datareader=0.9.0 already installed\n",
      "flask=1.1.2 already installed\n"
     ]
    }
   ],
   "source": [
    "# initial setup\n",
    "#%run \"../../../common/0_notebooks_base_setup.py\"\n"
   ]
  },
  {
   "cell_type": "markdown",
   "metadata": {
    "slideshow": {
     "slide_type": "slide"
    }
   },
   "source": [
    "<link rel=\"stylesheet\" href=\"../../../common/dhds.css\">\n",
    "<div class=\"Table\">\n",
    "    <div class=\"Row\">\n",
    "        <div class=\"Cell grey left\"> <img src=\"https://raw.githubusercontent.com/Digital-House-DATA/ds_blend_2021_img/master/M3/CLASE_21_Regresion_Lineal_Simple/Presentacion/img/M3_CLASE_21_portada.jpg\" align=\"center\" width=\"90%\"/></div>\n",
    "        <div class=\"Cell right\">\n",
    "            <div class=\"div-logo\"><img src=\"https://raw.githubusercontent.com/Digital-House-DATA/ds_blend_2021_img/master/common/logo_DH.png\" align=\"center\" width=70% /></div>\n",
    "            <div class=\"div-curso\">DATA SCIENCE</div>\n",
    "            <div class=\"div-modulo\">MÓDULO 3</div>\n",
    "            <div class=\"div-contenido\">Regresión Lineal Simple</div>\n",
    "        </div>\n",
    "    </div>\n",
    "</div>"
   ]
  },
  {
   "cell_type": "markdown",
   "metadata": {
    "slideshow": {
     "slide_type": "slide"
    }
   },
   "source": [
    "### Agenda\n",
    "\n",
    "---\n",
    "\n",
    "- Regresión lineal simple\n",
    "\n",
    "- Estimación de coeficientes\n",
    "\n",
    "- Evaluación del modelo\n",
    "\n",
    "-  Supuestos del modelo de regresión\n"
   ]
  },
  {
   "cell_type": "markdown",
   "metadata": {
    "slideshow": {
     "slide_type": "subslide"
    }
   },
   "source": [
    "Introducimos la **regresión lineal**, un modelo muy simple para **aprendizaje supervisado**.\n",
    "\n",
    "En particular, la regresión lineal es una herramienta útil para predecir una **respuesta cuantitativa**. \n",
    "\n",
    "Predecir una cantidad:\n",
    "- Tiempo de demora de un vuelo\n",
    "- El precio de una propiedad\n",
    "\n",
    "<img src=\"https://raw.githubusercontent.com/Digital-House-DATA/ds_blend_2021_img/master/M3/CLASE_21_Regresion_Lineal_Simple/Presentacion/img/M3_CLASE_21_intro.png\" align=\"center\"/>\n",
    "\n"
   ]
  },
  {
   "cell_type": "markdown",
   "metadata": {
    "slideshow": {
     "slide_type": "subslide"
    }
   },
   "source": [
    "¿Puede usarse para predecir variables cualitativas, quizá calcular la probabilidad de pertenecer a cierta clase?\n",
    "\n",
    "**Veremos algunas de las ideas claves que soportan a los modelos de regresión lineal, así como la estimación mediante mínimos cuadrados.**"
   ]
  },
  {
   "cell_type": "markdown",
   "metadata": {
    "slideshow": {
     "slide_type": "slide"
    }
   },
   "source": [
    "### Dataset Advertising\n",
    "\n",
    "---\n",
    "\n",
    "Supongamos que somos consultores estadísticos, y nos contratan con el objetivo de aumentar las **ventas** de un determinado producto.\n",
    "\n",
    "Analizaremos el caso del dataset Advertising que consiste en las ventas del producto en 200 mercados (en miles de unidades), y el **presupuesto dedicado en publicidad** en 3 medios: TV, radio y diario (en miles de USD).\n",
    "\n",
    "Si logramos identificar una **relación entre la inversión en publicidad y las ventas**, podremos recomendarle a nuestro cliente hacia dónde debe dirigir su inversión en publicidad."
   ]
  },
  {
   "cell_type": "code",
   "execution_count": 2,
   "metadata": {
    "slideshow": {
     "slide_type": "skip"
    }
   },
   "outputs": [],
   "source": [
    "import pandas as pd\n",
    "import numpy as np\n",
    "import seaborn as sns"
   ]
  },
  {
   "cell_type": "code",
   "execution_count": 3,
   "metadata": {
    "slideshow": {
     "slide_type": "fragment"
    }
   },
   "outputs": [
    {
     "data": {
      "text/html": [
       "<div>\n",
       "<style scoped>\n",
       "    .dataframe tbody tr th:only-of-type {\n",
       "        vertical-align: middle;\n",
       "    }\n",
       "\n",
       "    .dataframe tbody tr th {\n",
       "        vertical-align: top;\n",
       "    }\n",
       "\n",
       "    .dataframe thead th {\n",
       "        text-align: right;\n",
       "    }\n",
       "</style>\n",
       "<table border=\"1\" class=\"dataframe\">\n",
       "  <thead>\n",
       "    <tr style=\"text-align: right;\">\n",
       "      <th></th>\n",
       "      <th>TV</th>\n",
       "      <th>Radio</th>\n",
       "      <th>Newspaper</th>\n",
       "      <th>Sales</th>\n",
       "    </tr>\n",
       "  </thead>\n",
       "  <tbody>\n",
       "    <tr>\n",
       "      <th>0</th>\n",
       "      <td>230.1</td>\n",
       "      <td>37.8</td>\n",
       "      <td>69.2</td>\n",
       "      <td>22.1</td>\n",
       "    </tr>\n",
       "    <tr>\n",
       "      <th>1</th>\n",
       "      <td>44.5</td>\n",
       "      <td>39.3</td>\n",
       "      <td>45.1</td>\n",
       "      <td>10.4</td>\n",
       "    </tr>\n",
       "    <tr>\n",
       "      <th>2</th>\n",
       "      <td>17.2</td>\n",
       "      <td>45.9</td>\n",
       "      <td>69.3</td>\n",
       "      <td>12.0</td>\n",
       "    </tr>\n",
       "    <tr>\n",
       "      <th>3</th>\n",
       "      <td>151.5</td>\n",
       "      <td>41.3</td>\n",
       "      <td>58.5</td>\n",
       "      <td>16.5</td>\n",
       "    </tr>\n",
       "    <tr>\n",
       "      <th>4</th>\n",
       "      <td>180.8</td>\n",
       "      <td>10.8</td>\n",
       "      <td>58.4</td>\n",
       "      <td>17.9</td>\n",
       "    </tr>\n",
       "  </tbody>\n",
       "</table>\n",
       "</div>"
      ],
      "text/plain": [
       "      TV  Radio  Newspaper  Sales\n",
       "0  230.1   37.8       69.2   22.1\n",
       "1   44.5   39.3       45.1   10.4\n",
       "2   17.2   45.9       69.3   12.0\n",
       "3  151.5   41.3       58.5   16.5\n",
       "4  180.8   10.8       58.4   17.9"
      ]
     },
     "execution_count": 3,
     "metadata": {},
     "output_type": "execute_result"
    }
   ],
   "source": [
    "advertising_file_path = \"../Data/advertising.csv\"\n",
    "advertising = pd.read_csv(advertising_file_path)\n",
    "advertising.head()"
   ]
  },
  {
   "cell_type": "code",
   "execution_count": 4,
   "metadata": {
    "slideshow": {
     "slide_type": "fragment"
    }
   },
   "outputs": [
    {
     "data": {
      "text/plain": [
       "(200, 4)"
      ]
     },
     "execution_count": 4,
     "metadata": {},
     "output_type": "execute_result"
    }
   ],
   "source": [
    "advertising.shape"
   ]
  },
  {
   "cell_type": "markdown",
   "metadata": {
    "slideshow": {
     "slide_type": "slide"
    }
   },
   "source": [
    "### Dataset Advertising - Intervalos de Confianza\n",
    "\n",
    "---\n",
    "\n",
    "<a href=\"https://seaborn.pydata.org/generated/seaborn.regplot.html\" target=\"_blank\">seaborn.regplot</a>"
   ]
  },
  {
   "cell_type": "code",
   "execution_count": 5,
   "metadata": {
    "slideshow": {
     "slide_type": "fragment"
    }
   },
   "outputs": [
    {
     "data": {
      "image/png": "[encoded data removed]",
      "text/plain": [
       "<Figure size 648x216 with 3 Axes>"
      ]
     },
     "metadata": {
      "needs_background": "light"
     },
     "output_type": "display_data"
    }
   ],
   "source": [
    "advertising_grid = pd.melt(advertising, id_vars=\"Sales\", value_vars = [\"TV\", \"Radio\", \"Newspaper\"])\n",
    "g = sns.FacetGrid(advertising_grid, col=\"variable\")\n",
    "g.map(sns.regplot, \"value\", \"Sales\",  \n",
    "      ci = 95,\n",
    "      scatter_kws = {\"color\": \"blue\", 's': 10}, \n",
    "      line_kws = {\"color\": \"red\"});"
   ]
  },
  {
   "cell_type": "markdown",
   "metadata": {
    "slideshow": {
     "slide_type": "subslide"
    }
   },
   "source": [
    "O mirando en detalle:"
   ]
  },
  {
   "cell_type": "code",
   "execution_count": 6,
   "metadata": {
    "slideshow": {
     "slide_type": "fragment"
    }
   },
   "outputs": [
    {
     "data": {
      "image/png": "[encoded data removed]",
      "text/plain": [
       "<Figure size 432x288 with 1 Axes>"
      ]
     },
     "metadata": {
      "needs_background": "light"
     },
     "output_type": "display_data"
    }
   ],
   "source": [
    "sns.regplot(data = advertising, x = \"TV\", y = \"Sales\", \n",
    "            ci = 95,\n",
    "            scatter_kws = {\"color\": \"blue\", 's': 10},\n",
    "            line_kws = {\"color\": \"red\"});                        "
   ]
  },
  {
   "cell_type": "code",
   "execution_count": 7,
   "metadata": {
    "slideshow": {
     "slide_type": "subslide"
    }
   },
   "outputs": [
    {
     "data": {
      "image/png": "[encoded data removed]",
      "text/plain": [
       "<Figure size 432x288 with 1 Axes>"
      ]
     },
     "metadata": {
      "needs_background": "light"
     },
     "output_type": "display_data"
    }
   ],
   "source": [
    "sns.regplot(data = advertising, x = \"Radio\", y = \"Sales\", \n",
    "            ci = 95,\n",
    "            scatter_kws = {\"color\": \"blue\", 's': 10},\n",
    "            line_kws = {\"color\": \"red\"});                        "
   ]
  },
  {
   "cell_type": "code",
   "execution_count": 8,
   "metadata": {
    "slideshow": {
     "slide_type": "subslide"
    }
   },
   "outputs": [
    {
     "data": {
      "image/png": "[encoded data removed]",
      "text/plain": [
       "<Figure size 432x288 with 1 Axes>"
      ]
     },
     "metadata": {
      "needs_background": "light"
     },
     "output_type": "display_data"
    }
   ],
   "source": [
    "sns.regplot(data = advertising, x = \"Newspaper\", y = \"Sales\", \n",
    "            ci = 95,\n",
    "            scatter_kws = {\"color\": \"blue\", 's': 10},\n",
    "            line_kws = {\"color\": \"red\"});                        "
   ]
  },
  {
   "cell_type": "markdown",
   "metadata": {
    "slideshow": {
     "slide_type": "slide"
    }
   },
   "source": [
    "### Introducción\n",
    "\n",
    "---\n",
    "\n",
    "Pensemos en los datos que vimos recién. \n",
    "\n",
    "Algunas preguntas que podrían surgir son:\n",
    "\n",
    "- ¿**Cuáles** de los medios mencionados contribuyen a las ventas?\n",
    "\n",
    "- ¿**Qué tan fuerte** es esa relación?\n",
    "\n",
    "- ¿Con qué **precisión** podemos predecir las ventas futuras?\n",
    "\n",
    "- ¿Es esta **relación lineal**?\n",
    "\n",
    "\n"
   ]
  },
  {
   "cell_type": "markdown",
   "metadata": {
    "slideshow": {
     "slide_type": "slide"
    }
   },
   "source": [
    "<div class=\"div-dhds-fondo-1\"> Regresión Lineal Simple\n",
    "<img src=\"https://raw.githubusercontent.com/Digital-House-DATA/ds_blend_2021_img/master/M3/CLASE_21_Regresion_Lineal_Simple/Presentacion/img/M3_CLASE_21_separador.png\" align=\"center\" />\n",
    "\n",
    "</div>"
   ]
  },
  {
   "cell_type": "markdown",
   "metadata": {
    "slideshow": {
     "slide_type": "slide"
    }
   },
   "source": [
    "### Regresión Lineal Simple\n",
    "\n",
    "---\n",
    "\n",
    "La **regresión lineal simple** intenta predecir una respuesta cuantitativa **Y** en base a una única variable predictora **X**. \n",
    "\n",
    "Asume que hay aproximadamente una relación lineal entre X e Y. Matemáticamente:\n",
    "\n",
    "<p style=\"font-size:25px;\">\n",
    "\\begin{equation}\n",
    "Y = \\beta_0 + \\beta_1 . X\n",
    "\\end{equation}\n",
    "</p>\n",
    "Podemos leer esta expresión como \"se modela aproximadamente como\".\n",
    "\n",
    "Por ejemplo, X puede representar el presupuesto en publicidad en **TV** e Y las ventas (**Sales**)\n",
    "\n",
    "<p style=\"font-size:25px;\">\n",
    "\\begin{equation}\n",
    "Sales = \\beta_0 + \\beta_1 . TV\n",
    "\\end{equation}\n",
    "</p>\n",
    "\n",
    "\n",
    "\n"
   ]
  },
  {
   "cell_type": "markdown",
   "metadata": {
    "slideshow": {
     "slide_type": "slide"
    }
   },
   "source": [
    "$\\beta_0$ y $\\beta_1$ son dos constantes que representan el **intercepto** y la **pendiente** en el modelo lineal. \n",
    "\n",
    "$\\beta_0$ y $\\beta_1$  son conocidos como los **parámetros del modelo**. \n",
    "\n",
    "Una vez que hemos usado nuestro conjunto de entrenamiento para entrenar el modelo podemos **predecir futuras ventas en base a un valor particular** de TV.\n",
    "\n",
    "Entrenar el modelo equivale a calcular sus parámetros, que para la regresión lineal son los **estimadores** $\\hat{\\beta_0}$ y $\\hat{\\beta_1}$ de los coeficientes de la regresión.\n",
    "\n",
    "<p style=\"font-size:25px;\">\n",
    "\\begin{equation}\n",
    "\\hat{y} = \\hat{\\beta_0} + \\hat{\\beta_1} . x\n",
    "\\end{equation}\n",
    "</p>\n",
    "\n",
    "donde $\\hat{y}$ indica una predicción de Y basada en un valor particular $x$.\n",
    "\n",
    "Aquí usamos un símbolo $\\hat{}$ para denotar el valor estimado para un parámetro o coeficiente desconocido, o para denotar el valor predicho de la respuesta.\n",
    "\n"
   ]
  },
  {
   "cell_type": "markdown",
   "metadata": {
    "slideshow": {
     "slide_type": "slide"
    }
   },
   "source": [
    "### En resumen\n",
    "\n",
    "---\n",
    "\n",
    "**Regresión Lineal Simple** consiste en predecir una respuesta cuantitativa Y en base a una única variable predictora X:\n",
    "\n",
    "<p style=\"font-size:16px;\">\n",
    "\\begin{equation}\n",
    "Y \\approx \\beta_0 + \\beta_1 . X\n",
    "\\end{equation}\n",
    "</p>\n",
    "\n",
    "Ejemplo:\n",
    "\n",
    "<img src=\"https://raw.githubusercontent.com/Digital-House-DATA/ds_blend_2021_img/master/M3/CLASE_21_Regresion_Lineal_Simple/Presentacion/img/M3_CLASE_21_ordenada_pendiente.png\" align=\"center\"/>\n",
    "\n",
    "$\\beta_0$ y $\\beta_1$ son los coeficientes desconocidos que vamos a estimar, o ajustar en base a los datos de entrenamiento. \n",
    "\n",
    "Una vez estimados, los podemos usar para predecir:\n",
    "\n",
    "<img src=\"https://raw.githubusercontent.com/Digital-House-DATA/ds_blend_2021_img/master/M3/CLASE_21_Regresion_Lineal_Simple/Presentacion/img/M3_CLASE_21_predicho.png\"  align=\"center\"/>"
   ]
  },
  {
   "cell_type": "markdown",
   "metadata": {
    "slideshow": {
     "slide_type": "slide"
    }
   },
   "source": [
    "<div class=\"div-dhds-fondo-1\"> Estimación de los coeficientes\n",
    "<img src=\"https://raw.githubusercontent.com/Digital-House-DATA/ds_blend_2021_img/master/M3/CLASE_21_Regresion_Lineal_Simple/Presentacion/img/M3_CLASE_21_separador.png\" align=\"center\" />\n",
    "\n",
    "</div>"
   ]
  },
  {
   "cell_type": "markdown",
   "metadata": {
    "slideshow": {
     "slide_type": "slide"
    }
   },
   "source": [
    "### Estimación de los coeficientes\n",
    "\n",
    "---\n",
    "\n",
    "\n",
    "\n",
    "<div class = \"Table\" style=\"font-size:20px;\" > \n",
    "<div class = \"Row\">\n",
    "<div class = \"Cell\" style=\"width:70%;line-height:3.5;\">\n",
    "<b>Definiciones</b>\n",
    "<br/>        \n",
    "Residuo o error de predicción: $e_i = y_i - \\hat{y_i}$\n",
    "<br/>    \n",
    "Residual sum of squares: $RSS = \\sum_{i=1}^{n} e_i^2 = \\sum_{i=1}^{n} (y_i - \\hat{\\beta_0} - \\hat{\\beta_1} . x_i)^2$\n",
    "<br/>    \n",
    "$\\hat{\\beta_1} = \\frac{\\sum_{i=1}^{n}(x_i - \\bar{x})(y_i - \\bar{y})}{\\sum_{i=1}^{n}(x_i - \\bar{x})^2}$    \n",
    "<br/>    \n",
    "$\\hat{\\beta_0} = \\bar{y} - \\hat{\\beta_1}\\bar{x}$    \n",
    "<br/>        \n",
    "$\\bar{y} \\equiv \\frac{1}{n}\\sum_{i=1}^{n} y_i$ \n",
    "<br/>            \n",
    "$\\bar{x} \\equiv \\frac{1}{n}\\sum_{i=1}^{n} x_i$    \n",
    "</div>\n",
    "<div class = \"Cell\" style=\"vertical-align: middle;\">\n",
    "    <img src=\"https://raw.githubusercontent.com/Digital-House-DATA/ds_blend_2021_img/master/M3/CLASE_21_Regresion_Lineal_Simple/Presentacion/img/M3_CLASE_21_residuos.png\" align=\"middle\" />\n",
    "</div>\n",
    "</div>\n",
    "</div>\n",
    "\n",
    "   \n",
    "\n"
   ]
  },
  {
   "cell_type": "markdown",
   "metadata": {
    "slideshow": {
     "slide_type": "slide"
    }
   },
   "source": [
    "### Siguiendo con el ejemplo\n",
    "\n",
    "---\n",
    "\n",
    "La figura muestra el ajuste de una regresión lineal simple al dataset Advertising, donde:\n",
    "\n",
    "$\\hat{\\beta_0} = 6.975$ y $\\hat{\\beta_1} = 0.055$\n",
    "\n",
    "\n",
    "De acuerdo a esta aproximación, un adicional de $1000 gastados en publicidad en TV está asociado con vender aproximadamente 55 unidades adicionales del producto. \n",
    "\n",
    "<img src=\"https://raw.githubusercontent.com/Digital-House-DATA/ds_blend_2021_img/master/M3/CLASE_21_Regresion_Lineal_Simple/Presentacion/img/M3_CLASE_21_regresion_lineal_simple_ejemplo1.png\" align=\"center\" width=\"70%\"/>\n",
    "\n",
    "¿En qué unidades están expresados los coeficientes del modelo?"
   ]
  },
  {
   "cell_type": "markdown",
   "metadata": {
    "slideshow": {
     "slide_type": "slide"
    }
   },
   "source": [
    "<div class=\"div-dhds-fondo-1\"> Evaluación del Modelo\n",
    "<img src=\"https://raw.githubusercontent.com/Digital-House-DATA/ds_blend_2021_img/master/M3/CLASE_21_Regresion_Lineal_Simple/Presentacion/img/M3_CLASE_21_separador.png\" align=\"center\" />\n",
    "\n",
    "</div>"
   ]
  },
  {
   "cell_type": "markdown",
   "metadata": {
    "slideshow": {
     "slide_type": "slide"
    }
   },
   "source": [
    "### Evaluación del Modelo\n",
    "\n",
    "---\n",
    "\n",
    "Supongamos que nuestros datos están representados por los puntos azules de este gráfico.\n",
    "\n",
    "<img src=\"https://raw.githubusercontent.com/Digital-House-DATA/ds_blend_2021_img/master/M3/CLASE_21_Regresion_Lineal_Simple/Presentacion/img/M3_CLASE_21_R2_1.png\" align=\"center\"/>\n",
    "\n",
    "\n",
    "Y el modelo más simple que podemos plantear para ajustar estos datos es una constante, es decir intentamos predecir los valores de $Y$ independiente de los valores que tome $X$.\n",
    "\n",
    "**¿Qué valor debe tomar esa constante para minimizar el error cuadrático?**\n",
    "\n",
    "La recta de color rojo en este gráfico representa en modelo \n",
    "\n",
    "\n",
    "\n"
   ]
  },
  {
   "cell_type": "markdown",
   "metadata": {
    "slideshow": {
     "slide_type": "subslide"
    }
   },
   "source": [
    "Predecir los valores de $Y$ independiente de los valores que tome $X$ pododemos representarlo de este modo\n",
    "\n",
    "<img src=\"https://raw.githubusercontent.com/Digital-House-DATA/ds_blend_2021_img/master/M3/CLASE_21_Regresion_Lineal_Simple/Presentacion/img/M3_CLASE_21_R2_2.png\" align=\"center\"/>"
   ]
  },
  {
   "cell_type": "markdown",
   "metadata": {
    "slideshow": {
     "slide_type": "subslide"
    }
   },
   "source": [
    "El valor que minimiza el error cuadrático es el valor de la media de los puntos azules, representado por el triángulo rojo. \n",
    "\n",
    "**Teniendo la posibilidad de usar los valores de $X$ de los datos, podríamos hacer una mejor aproximación que la media de los puntos? $R^2$ responde esta pregunta.**\n"
   ]
  },
  {
   "cell_type": "markdown",
   "metadata": {
    "slideshow": {
     "slide_type": "slide"
    }
   },
   "source": [
    "#### $R²$\n",
    "\n",
    "---\n",
    "\n",
    "\n",
    "$TSS$ (Total Sum of Squares): Variabilidad total de los datos\n",
    "\n",
    "$TSS = \\sum_{i = 1}^{n}(y_i - \\bar{y})^2$\n",
    "\n",
    "<img src=\"https://raw.githubusercontent.com/Digital-House-DATA/ds_blend_2021_img/master/M3/CLASE_21_Regresion_Lineal_Simple/Presentacion/img/M3_CLASE_21_R2_3.png\" align=\"center\"/>"
   ]
  },
  {
   "cell_type": "markdown",
   "metadata": {
    "slideshow": {
     "slide_type": "subslide"
    }
   },
   "source": [
    "Ahora queremos calcular el error en los valores de la regresión respecto de los verdaderos valores. Este es el error de la regresión. Idealmente el error de la regresión es muy bajo, cercano a cero.\n",
    "\n",
    "$RSS$ (Residual Sum of Squares): Variabilidad no explicada por el modelo\n",
    "\n",
    "$RSS = \\sum_{i = 1}^{n}(y_i - \\hat{y_i})^2$\n",
    "\n",
    "<img src=\"https://raw.githubusercontent.com/Digital-House-DATA/ds_blend_2021_img/master/M3/CLASE_21_Regresion_Lineal_Simple/Presentacion/img/M3_CLASE_21_R2_4.png\" align=\"center\"/>\n"
   ]
  },
  {
   "cell_type": "markdown",
   "metadata": {
    "slideshow": {
     "slide_type": "subslide"
    }
   },
   "source": [
    "El cociente entre el error de la regresión y el error total (respecto de la media) $\\frac{RSS}{TSS}$ nos dice qué proporción del error total **se mantiene** en el modelo de regresión.\n",
    "\n",
    "Restando este cociente de 1, se obtiene la proporción de error que **es eliminada** usando una regresión.\n",
    "\n",
    "$R^2$: Proporción de la variabilidad explicada por el modelo\n",
    "\n",
    "$$R^2 = \\frac{TSS - RSS}{TSS}$$\n",
    "\n",
    "$R^2 \\to 0$ cuando el modelo explica poco de la variabilidad de los datos, o la proporción de error que es eliminada usando una regresión es muy baja\n",
    "\n",
    "$R^2 \\to 1$ cuando el modelo explica mucho de la variabilidad de los datos, o la proporción de error que es eliminada usando una regresión es muy alta\n"
   ]
  },
  {
   "cell_type": "markdown",
   "metadata": {
    "slideshow": {
     "slide_type": "slide"
    }
   },
   "source": [
    "#### Ejemplo\n",
    "\n",
    "Volvamos a los datos de `advertising`, sabiendo que los coeficientes de la regresión lineal donde $X$ es $TV$ e $Y$ es $Sales$ son \n",
    "\n",
    "$\\hat{\\beta_0} = 6.975$ y $\\hat{\\beta_1} = 0.055$\n",
    "\n",
    "\n",
    "Calculemos el valor de $R^2$\n"
   ]
  },
  {
   "cell_type": "code",
   "execution_count": 9,
   "metadata": {
    "slideshow": {
     "slide_type": "fragment"
    }
   },
   "outputs": [
    {
     "name": "stdout",
     "output_type": "stream",
     "text": [
      "R2:  0.812\n"
     ]
    }
   ],
   "source": [
    "beta_0 = 6.975\n",
    "beta_1 = 0.055\n",
    "\n",
    "mean_y = advertising.Sales.mean()\n",
    "mean_y\n",
    "\n",
    "tss_i = advertising.Sales.apply(lambda yi: (yi - mean_y) ** 2)\n",
    "tss = tss_i.sum()\n",
    "tss\n",
    "\n",
    "y_hat_i = beta_0 + beta_1 * advertising.TV\n",
    "y_hat_i\n",
    "\n",
    "i_count = advertising.shape[0]\n",
    "rss_i = [(advertising.Sales[i] - y_hat_i[i]) ** 2 for i in range(i_count)]\n",
    "    \n",
    "rss = sum(rss_i)\n",
    "rss\n",
    "\n",
    "r2 = (tss - rss) / tss\n",
    "print(\"R2: \", np.round(r2, 3))\n"
   ]
  },
  {
   "cell_type": "markdown",
   "metadata": {
    "slideshow": {
     "slide_type": "slide"
    }
   },
   "source": [
    "#### Entonces\n",
    "\n",
    "---\n",
    "\n",
    "* Un estadístico $R^2$ cercano a 1 indica que una gran proporción de la variabilidad en la respuesta ha sido explicada por la regresión. \n",
    "\n",
    "* Un valor de $R^2$ cercano a 0 indica que la regresión no explicó gran parte de la variabilidad en la respuesta; esto podría ocurrir porque el modelo lineal está mal, o porque el error inherente $\\sigma^2$ es alto, o ambas. \n",
    "\n",
    "\n",
    "Por ejemplo, en la regresión del ejemplo anterior, el $R^2$ fue 0.812, y por lo tanto más del 80% de la variabilidad en sales está explicada por una regresión lineal sobre TV. \n"
   ]
  },
  {
   "cell_type": "markdown",
   "metadata": {
    "slideshow": {
     "slide_type": "slide"
    }
   },
   "source": [
    "#### ¿$R²$ negativo?\n",
    "\n",
    "---\n",
    "\n",
    "Para fines prácticos, el mínimo $R^2$ que vamos a obtener es cero, pero sólo porque asumimos que si la regresión no mejora la estimación de la media, vamos a estimar con la media. \n",
    "\n",
    "Sin embargo, si la regresión es peor que usar la media, el valor de $R^2$ calculado es negativo.\n",
    "\n",
    "<img src=\"https://raw.githubusercontent.com/Digital-House-DATA/ds_blend_2021_img/master/M3/CLASE_21_Regresion_Lineal_Simple/Presentacion/img/M3_CLASE_21_R2_5.png\" align=\"center\" width=\"60%\"/>\n"
   ]
  },
  {
   "cell_type": "markdown",
   "metadata": {
    "slideshow": {
     "slide_type": "slide"
    }
   },
   "source": [
    "#### ¿$R²$ indefinido?\n",
    "\n",
    "---\n",
    "\n",
    "<img src=\"https://raw.githubusercontent.com/Digital-House-DATA/ds_blend_2021_img/master/M3/CLASE_21_Regresion_Lineal_Simple/Presentacion/img/M3_CLASE_21_R2_6.png\" align=\"center\"/>\n",
    "\n",
    "$TSS = 0$\n",
    "\n",
    "$RSS = 0$\n",
    "\n",
    "$R^2 = \\frac{0 - 0}{0} = indefinido$\n"
   ]
  },
  {
   "cell_type": "markdown",
   "metadata": {
    "slideshow": {
     "slide_type": "slide"
    }
   },
   "source": [
    "\n",
    "#### $R²$ en resumen\n",
    "\n",
    "---\n",
    "\n",
    "* Un valor de $R^2$ de 1.0 es lo mejor que podemos conseguir. Indica que no hay ningún error en la regresión.\n",
    "\n",
    "* Un valor de $R^2$ de 0 significa que la regresión no es mejor que tomar el valor medio, es decir no estamos usando ninguna información de otras variables.\n",
    "\n",
    "* Un valor negativo de $R^2$, significa que estamos estimando peor que usando la media.  \n"
   ]
  },
  {
   "cell_type": "markdown",
   "metadata": {
    "slideshow": {
     "slide_type": "slide"
    }
   },
   "source": [
    "<div class=\"div-dhds-fondo-1\"> Precisión de los coeficientes estimados\n",
    "<img src=\"https://raw.githubusercontent.com/Digital-House-DATA/ds_blend_2021_img/master/M3/CLASE_21_Regresion_Lineal_Simple/Presentacion/img/M3_CLASE_21_separador.png\" align=\"center\" />\n",
    "\n",
    "</div>"
   ]
  },
  {
   "cell_type": "markdown",
   "metadata": {
    "slideshow": {
     "slide_type": "slide"
    }
   },
   "source": [
    "### Función de Regresión Poblacional y Muestral\n",
    "\n",
    "---\n",
    "\n",
    "**\"Essentially, all models are wrong, but some are useful\", George Box**\n",
    "\n",
    "<img src=\"https://raw.githubusercontent.com/Digital-House-DATA/ds_blend_2021_img/master/M3/CLASE_21_Regresion_Lineal_Simple/Presentacion/img/M3_CLASE_21_regresion_poblacional_muestral.png\" align=\"center\" />\n",
    "\n"
   ]
  },
  {
   "cell_type": "markdown",
   "metadata": {
    "slideshow": {
     "slide_type": "subslide"
    }
   },
   "source": [
    "En el gráfico anterior se muestran datos generados a partir de una función conocida y ruido aleatorio con media cero. \n",
    "\n",
    "* En el gráfico de la Izquierda\n",
    "\n",
    "    - La línea roja representa la <a style=\"color:red;\">verdadera relación</a> $f(x)=2+3X$, que es llamada la **\"función de regresión poblacional\"**. \n",
    "\n",
    "    - La línea azul representa la función de <a style=\"color:blue;\">estimación por mínimos cuadrados</a> de $f(x)$ estimada en base a los datos.\n",
    "\n",
    "* En el gráfico de la Derecha\n",
    "\n",
    "    - La función de <a style=\"color:red;\">regresión poblacional</a> está en rojo y la de <a style=\"color:blue;\">mínimos cuadrados</a> en azul oscuro. \n",
    "    \n",
    "    - En azul claro, hay 10 funciones de mínimos cuadrados basadas en <a style=\"color:#6495ED;\">submuestras independientes y aleatorias de los datos</a>. Cada línea de mínimos cuadrados es diferente pero en promedio, las líneas están cerca de la función de regresión poblacional.\n",
    "\n"
   ]
  },
  {
   "cell_type": "markdown",
   "metadata": {
    "slideshow": {
     "slide_type": "slide"
    }
   },
   "source": [
    "### Error estandar de los coeficientes\n",
    "\n",
    "---\n",
    "Recordemos que \n",
    "\n",
    "<p style=\"font-size:20px;\">\n",
    "$$Y = \\hat{\\beta_0} + \\hat{\\beta_1}. X + \\epsilon$$\n",
    "</p>\n",
    "\n",
    "y queremos calcular \n",
    "\n",
    "<p style=\"font-size:20px;\">\n",
    "$Var(\\hat{\\beta_0})$ \n",
    "</p>    \n",
    "<p style=\"font-size:20px;\">\n",
    "$Var(\\hat{\\beta_1})$\n",
    "</p>\n",
    "    \n",
    "Resulta\n",
    "\n",
    "<p style=\"font-size:20px;\">\n",
    "$Var(\\hat{\\beta_0}) = \\frac{\\sigma^2 . \\sum{x_i^2}}{n. \\sum{x_i^2} - (\\sum{x_i})^2}$\n",
    "</p>\n",
    "\n",
    "<p style=\"font-size:20px;\">\n",
    "$Var(\\hat{\\beta_1}) = \\frac{n. \\sigma^2}{n. \\sum{x_i^2} - (\\sum{x_i})^2}$\n",
    "</p>\n",
    "\n",
    "**Sabemos que $\\sigma^2$ es la varianza del error $\\epsilon$ y es desconocido.**\n"
   ]
  },
  {
   "cell_type": "markdown",
   "metadata": {
    "slideshow": {
     "slide_type": "subslide"
    }
   },
   "source": [
    "Estimamos el valor de $\\sigma^2$, que es la varianza del error $\\epsilon$ \n",
    "\n",
    "<p style=\"font-size:20px;\">\n",
    "$\\hat{\\sigma^2} = \\frac{RSS}{n-2}$\n",
    "</p>    \n",
    "\n",
    "Entonces quedan\n",
    "\n",
    "\n",
    "<p style=\"font-size:20px;\">\n",
    "$\\hat{Var(\\hat{\\beta_0})} = \\frac{\\hat{\\sigma^2} . \\sum{x_i^2}}{n. \\sum{x_i^2} - (\\sum{x_i})^2}$\n",
    "</p>\n",
    "\n",
    "<p style=\"font-size:20px;\">\n",
    "$\\hat{Var(\\hat{\\beta_1})} = \\frac{n. \\hat{\\sigma^2}}{n. \\sum{x_i^2} - (\\sum{x_i})^2}$\n",
    "</p>\n",
    "\n",
    "Tomando la raiz cuadrada obtenemos los errores estandar de los coeficientes de la estimación.\n"
   ]
  },
  {
   "cell_type": "markdown",
   "metadata": {
    "slideshow": {
     "slide_type": "subslide"
    }
   },
   "source": [
    "Entonces el error estandar de los coeficientes se calculan como\n",
    "\n",
    "<p style=\"font-size:20px;\">\n",
    "$SE(\\hat{\\beta_0}) = \\sqrt{\\frac{\\hat{\\sigma^2} . \\sum{x_i^2}}{n. \\sum{x_i^2} - (\\sum{x_i})^2}}$\n",
    "</p>\n",
    "\n",
    "<p style=\"font-size:20px;\">\n",
    "$SE(\\hat{\\beta_1}) = \\sqrt{\\frac{n. \\hat{\\sigma^2}}{n. \\sum{x_i^2} - (\\sum{x_i})^2}}$\n",
    "</p>\n",
    "\n",
    "... (cuentas)\n",
    "\n",
    "<p style=\"font-size:20px;\">\n",
    "$$SE(\\hat{\\beta_1}) = \\sqrt{\\frac{\\hat{\\sigma^2}}{\\sum_{i=1}^{n}{(x_i - \\bar{x})^2}}}$$\n",
    "</p>\n",
    "\n",
    "<p style=\"font-size:20px;\">\n",
    "$$\\hat{\\sigma^2} = \\frac{RSS}{n-2}$$\n",
    "</p>    \n",
    "\n"
   ]
  },
  {
   "cell_type": "markdown",
   "metadata": {
    "slideshow": {
     "slide_type": "slide"
    }
   },
   "source": [
    "### Intervalo de confianza para $\\beta_1$\n",
    "\n",
    "---\n",
    "\n",
    "Expresión para un intervalo de confianza de aproximadamente 95% para $\\beta_1$ :\n",
    "\n",
    "<p style=\"font-size:20px;\">\n",
    "$$IC = [\\hat{\\beta_1} - 2. SE(\\hat{\\beta_1}), \\hat{\\beta_1} + 2. SE(\\hat{\\beta_1})] $$\n",
    "</p>"
   ]
  },
  {
   "cell_type": "markdown",
   "metadata": {
    "slideshow": {
     "slide_type": "slide"
    }
   },
   "source": [
    "### Test de hipótesis sobre los coeficientes estimados\n",
    "\n",
    "---\n",
    "\n",
    "**¿Existe  evidencias para afirmar que hay relación entre X e Y?**\n",
    "\n",
    "<p style=\"font-size:16px;\">\n",
    "$$Y = \\beta_0 + \\beta_1. X + \\epsilon$$\n",
    "</p>\n",
    "\n",
    "El test de significación individual tiene las siguientes hipótesis \n",
    "\n",
    "Hipótesis nula: No hay relación entre X e Y; entonces\n",
    "\n",
    "$H_0: \\beta_1 = 0$\n",
    "\n",
    "Hipótesis alternativa: Hay alguna relación entre X e Y; entonces\n",
    "\n",
    "$H_1: \\beta_1 \\ne 0$\n",
    "\n",
    "\n",
    "\n",
    "\n"
   ]
  },
  {
   "cell_type": "markdown",
   "metadata": {
    "slideshow": {
     "slide_type": "subslide"
    }
   },
   "source": [
    "Si $\\beta_1 = 0$, entonces el modelo se reduce a $Y = \\beta_0 + \\epsilon$\n",
    "\n",
    "Por lo tanto $X$ no estaría asociado a $Y$\n",
    "\n",
    "Necesitamos determinar si nuestro estimador para $\\beta_1$ está lo suficientemente lejos de cero, de forma que podamos estar seguros de que $\\beta_1$ no es cero. \n",
    "\n",
    "¿Cuánto creen que es \"suficientemente lejos de cero\"?\n",
    "\n",
    "Esto depende de la precisión de $\\hat{\\beta_1}$, es decir **depende del error estándar de nuestro estimador del coeficiente**, que a su vez depende entre otras cosas del tamaño muestral n.  "
   ]
  },
  {
   "cell_type": "markdown",
   "metadata": {
    "slideshow": {
     "slide_type": "subslide"
    }
   },
   "source": [
    "En la práctica, se computa el **estadístico t** que mide la cantidad de desvios estándar a las que el estimador se encuentra del cero. \n",
    "\n",
    "$$t = \\frac{\\hat{\\beta_1} - 0}{SE(\\hat{\\beta_1})}$$\n",
    "\n",
    "con **n-2 grados de libertad**. \n",
    "\n",
    "En general, cuando tengamos más variables, los grados de libertad van a ser $n - p - 1$, es decir la cantidad de observaciones menos la cantidad de parámetros que estamos estimando."
   ]
  },
  {
   "cell_type": "markdown",
   "metadata": {
    "slideshow": {
     "slide_type": "subslide"
    }
   },
   "source": [
    "Calculamos la probabilidad de observar cualquier valor igual a |t| o mayor asumiendo que $\\beta_1 = 0$, por lo que bajo $H_0$ el estadístico de prueba es una variable con distribución T-Student con n-p-1 grados de libertad.  \n",
    "\n",
    "Recordemos que llamamos a esta probabilidad p-value. \n",
    "\n",
    "**Un p-value pequeño indica que es poco probable observar un valor del estadístico como el observado o más extremo asumiendo que $H_0$ es verdadera.** \n",
    "\n",
    "Por lo tanto, si el p-value es chico podemos rechazar $H_0$ con baja probabilidad de equivocarnos.\n"
   ]
  },
  {
   "cell_type": "markdown",
   "metadata": {
    "slideshow": {
     "slide_type": "slide"
    }
   },
   "source": [
    "### En resumen\n",
    "\n",
    "---\n",
    "\n",
    "Al ajustar una regresión lineal, es común reportar el error estándar de cada estimador: $SE(\\hat{\\beta_0})$ y $SE(\\hat{\\beta_1})$\n",
    "\n",
    "Esto es útil para \n",
    "\n",
    "* Construir intervalos de confianza de los estimadores de los coeficientes.\n",
    "\n",
    "* Evaluar la significatividad de cada estimador, mediante un test estadístico.\n",
    "\n",
    "    - p-valor bajo (típicamente, $p<0.05$ ó $p<0.01$): es improbable observar al azar una asociación semejante entre $X$ e $Y$.\n",
    "    \n",
    "    - p-valor alto: es probable que la asociación observada sea sólo consecuencia del azar.\n"
   ]
  },
  {
   "cell_type": "markdown",
   "metadata": {
    "slideshow": {
     "slide_type": "slide"
    }
   },
   "source": [
    "### Ejemplo\n",
    "\n",
    "Siguiendo el ejemplo de `advertising` vamos a calcular los intervalos de confianza para $\\beta_0$ y $\\beta_1$\n",
    "\n",
    "Para eso vamos a usar la bilioteca  <a href=\"https://www.statsmodels.org/stable/index.html\" target=\"_blank\">statsmodels</a> que provee estadísticas sobre el ajuste.\n",
    "\n"
   ]
  },
  {
   "cell_type": "code",
   "execution_count": 10,
   "metadata": {
    "slideshow": {
     "slide_type": "subslide"
    }
   },
   "outputs": [
    {
     "name": "stdout",
     "output_type": "stream",
     "text": [
      "                            OLS Regression Results                            \n",
      "==============================================================================\n",
      "Dep. Variable:                  Sales   R-squared:                       0.812\n",
      "Model:                            OLS   Adj. R-squared:                  0.811\n",
      "Method:                 Least Squares   F-statistic:                     856.2\n",
      "Date:                Sat, 10 Apr 2021   Prob (F-statistic):           7.93e-74\n",
      "Time:                        18:30:59   Log-Likelihood:                -448.99\n",
      "No. Observations:                 200   AIC:                             902.0\n",
      "Df Residuals:                     198   BIC:                             908.6\n",
      "Df Model:                           1                                         \n",
      "Covariance Type:            nonrobust                                         \n",
      "==============================================================================\n",
      "                 coef    std err          t      P>|t|      [0.025      0.975]\n",
      "------------------------------------------------------------------------------\n",
      "const          6.9748      0.323     21.624      0.000       6.339       7.611\n",
      "x1             0.0555      0.002     29.260      0.000       0.052       0.059\n",
      "==============================================================================\n",
      "Omnibus:                        0.013   Durbin-Watson:                   2.029\n",
      "Prob(Omnibus):                  0.993   Jarque-Bera (JB):                0.043\n",
      "Skew:                          -0.018   Prob(JB):                        0.979\n",
      "Kurtosis:                       2.938   Cond. No.                         338.\n",
      "==============================================================================\n",
      "\n",
      "Notes:\n",
      "[1] Standard Errors assume that the covariance matrix of the errors is correctly specified.\n"
     ]
    }
   ],
   "source": [
    "import statsmodels.api as sm\n",
    "\n",
    "X_t = np.array(advertising.TV, ndmin=2)\n",
    "X = np.transpose(X_t)\n",
    "y = advertising.Sales\n",
    "\n",
    "# Tenemos que agregar explícitamente a una constante:\n",
    "X = sm.add_constant(X)\n",
    "\n",
    "model = sm.OLS(y, X).fit()\n",
    "print (model.summary())"
   ]
  },
  {
   "cell_type": "markdown",
   "metadata": {
    "slideshow": {
     "slide_type": "subslide"
    }
   },
   "source": [
    "La información que nos brinda el método `summary()` incluye:\n",
    "\n",
    "* El nombre de la variable dependiente (y) `Dep. Variable` que en este caso es `Sales`\n",
    "\n",
    "* Los grados de libertad (n-2) `Df Residuals` que en este caso es $198$\n",
    "\n",
    "* El valor de $R^2$ `R-squared`  que en este caso es $0.812$\n",
    "\n",
    "* Los valores de los coeficientes \n",
    "\n",
    "    - $\\hat{\\beta_0}$ `const`, para este ejemplo $6.9748$\n",
    "    \n",
    "    - $\\hat{\\beta_1}$ `x1`, para este ejemplo $0.0555$\n",
    "    \n",
    "* Los valores de los estadísticos t y su p-value que nos permiten determinar la significancia estadística de cada coeficiente calculado. En este ejemplo tanto el intercepto como la pendiente tienen p-value 0, por lo tanto son significativos (equivale a decir que rechazan las hipótesis nulas $H_0: \\hat{\\beta_0} = 0$ y $H_0: \\hat{\\beta_1} = 0$)\n",
    "\n",
    "* El intervalor de confianza para $\\hat{\\beta_0}$ y $\\hat{\\beta_1}$. en este caso $IC_{\\beta_0, 0.95} = [ 6.339, 7.611]$ y $IC_{\\beta_1, 0.95} = [ 0.052, 0.059]$"
   ]
  },
  {
   "cell_type": "markdown",
   "metadata": {
    "slideshow": {
     "slide_type": "slide"
    }
   },
   "source": [
    "<div class=\"div-dhds-fondo-1\"> Supuestos de Gauss-Markov\n",
    "<img src=\"https://raw.githubusercontent.com/Digital-House-DATA/ds_blend_2021_img/master/M3/CLASE_21_Regresion_Lineal_Simple/Presentacion/img/M3_CLASE_21_separador.png\" align=\"center\" />\n",
    "\n",
    "</div>"
   ]
  },
  {
   "cell_type": "markdown",
   "metadata": {
    "slideshow": {
     "slide_type": "slide"
    }
   },
   "source": [
    "###  Supuestos de Gauss-Markov\n",
    "\n",
    "---\n",
    "\n",
    "Antes de utilizar el análisis de regresión y considerar medidas de incerteza o dispersión, es necesario conocer los supuestos en los que se basa el método. Veremos primero cuáles son esos supuestos y luego qué procedimientos pueden utilizarse para validarlos.\n",
    "\n",
    "1\\. El modelo es lineal en los parámetros. $$Y = \\beta_0 + \\beta_1 . X_1 + \\beta_2 . X_2 + \\beta_p . X_p + \\epsilon$$\n",
    "\n",
    "2\\. Los estimadores de los parámetros poblacionales se estiman a partir de una muestra aleatoria.\n",
    "\n",
    "3\\. No hay colinealidad perfecta entre las variables explicativas.\n",
    "\n",
    "4\\. El valor esperado del error es 0 para cualquier valor de la variable explicativa.\n",
    "    "
   ]
  },
  {
   "cell_type": "markdown",
   "metadata": {
    "slideshow": {
     "slide_type": "subslide"
    }
   },
   "source": [
    "5\\. Homocedasticidad\n",
    "\n",
    "Para cualquier valor de la variable explicativa, el error tienen la misma varianza\n",
    "\n",
    "6\\. Normalidad de los errores.\n",
    "\n",
    "Para cada valor $x$, de la variable predictora $X$, la variable respuesta $Y$ debe tener distribución Normal $\\epsilon \\sim N (0,\\sigma_\\epsilon)$\n",
    "\n",
    "7\\. Independencia de los errores\n",
    "\n",
    "Cuando dos variables son independientes su correlación es cero, en general la recíproca no es cierta pero bajo el supuesto de normalidad el supuesto de independencia de los errores se reduce a que no estén correlacionados ($corr(\\varepsilon_i, \\varepsilon_j ) = 0$ $\\forall i \\ne j$ ). \n"
   ]
  },
  {
   "cell_type": "markdown",
   "metadata": {
    "slideshow": {
     "slide_type": "slide"
    }
   },
   "source": [
    "##### Normalidad, Linealidad, Homocedasticidad\n",
    "\n",
    "$E(y|x) = \\beta_0 + \\beta_1 . x$\n",
    "\n",
    "$Var(y|x) = \\sigma^2$\n",
    "\n",
    "<img src=\"https://raw.githubusercontent.com/Digital-House-DATA/ds_blend_2021_img/master/M3/CLASE_21_Regresion_Lineal_Simple/Presentacion/img/M3_CLASE_21_normalidad_linealidad_homocedasticidad.png\" align=\"center\" />\n",
    "\n",
    "\n"
   ]
  },
  {
   "cell_type": "markdown",
   "metadata": {
    "slideshow": {
     "slide_type": "slide"
    }
   },
   "source": [
    "<div class=\"div-dhds-fondo-1\"> Análisis de Residuos\n",
    "<img src=\"https://raw.githubusercontent.com/Digital-House-DATA/ds_blend_2021_img/master/M3/CLASE_21_Regresion_Lineal_Simple/Presentacion/img/M3_CLASE_21_separador.png\" align=\"center\" />\n",
    "\n",
    "</div>"
   ]
  },
  {
   "cell_type": "markdown",
   "metadata": {
    "slideshow": {
     "slide_type": "slide"
    }
   },
   "source": [
    "#### Validación de los supuestos de Gauss-Markov\n",
    "\n",
    "---\n",
    "\n",
    "La validación de los supuestos se realiza en base a los datos y a los residuos de los mismos respecto de la recta ajustada. \n",
    "\n",
    "El diagrama de dispersión de los datos permite obtener una impresión sobre el supuesto de linealidad y homocedasticidad. \n",
    "\n",
    "El análisis posterior de residuos permitirá confirmar la impresión inicial y validar los supuestos de normalidad e independencia.\n",
    "\n",
    "Veamos algunas estructuras que suelen verse en los diagramas de dispersión de los residuos\n"
   ]
  },
  {
   "cell_type": "markdown",
   "metadata": {
    "slideshow": {
     "slide_type": "slide"
    }
   },
   "source": [
    "Si graficamos los residuos contra cada una de las variables predictoras los puntos deberían estar distribuidos en forma de nube alrededor del valor 0 del residuo y no formar clusters, para considera válido el supuesto de independencia de los errores. En este ejemplo en particular observamos algunos clusters.\n",
    "\n",
    "<img src=\"https://raw.githubusercontent.com/Digital-House-DATA/ds_blend_2021_img/master/M3/CLASE_21_Regresion_Lineal_Simple/Presentacion/img/M3_CLASE_21_homocedasticidad.png\" align=\"center\" />\n",
    "\n"
   ]
  },
  {
   "cell_type": "markdown",
   "metadata": {
    "slideshow": {
     "slide_type": "slide"
    }
   },
   "source": [
    "En esta figura no se satisface el supuesto de homocedasticidad, ya que los residuos tienen variabilidad creciente a medida que crece el valor de los predichos\n",
    "\n",
    "<img src=\"https://raw.githubusercontent.com/Digital-House-DATA/ds_blend_2021_img/master/M3/CLASE_21_Regresion_Lineal_Simple/Presentacion/img/M3_CLASE_21_no_homocedasticidad.png\" align=\"center\" />\n",
    "\n"
   ]
  },
  {
   "cell_type": "markdown",
   "metadata": {
    "slideshow": {
     "slide_type": "slide"
    }
   },
   "source": [
    "Usamos un scatterplot para verificar si se cumple o no el supuesto de linealidad.\n",
    "\n",
    "<img src=\"https://raw.githubusercontent.com/Digital-House-DATA/ds_blend_2021_img/master/M3/CLASE_21_Regresion_Lineal_Simple/Presentacion/img/M3_CLASE_21_linealidad.png\" align=\"center\" />\n",
    "\n",
    "\n"
   ]
  },
  {
   "cell_type": "markdown",
   "metadata": {
    "slideshow": {
     "slide_type": "slide"
    }
   },
   "source": [
    "Cuando se satisfacen los supuestos de \n",
    "\n",
    "* normalidad de los errores.\n",
    "\n",
    "* linealidad\n",
    "\n",
    "* homocedasticidad \n",
    "\n",
    "* independencia de los errores \n",
    "\n",
    "los errores no están correlacionados y tienen una distribución normal con media 0 y varianza constante. "
   ]
  },
  {
   "cell_type": "markdown",
   "metadata": {
    "slideshow": {
     "slide_type": "slide"
    }
   },
   "source": [
    "### Ejemplo\n",
    "\n",
    "---\n",
    "\n",
    "Siguiendo el ejemplo de `advertising` vamos a testear los supuestos de Gauss Markov sobre los datos.\n",
    "\n",
    "\n",
    "\n"
   ]
  },
  {
   "cell_type": "markdown",
   "metadata": {
    "slideshow": {
     "slide_type": "slide"
    }
   },
   "source": [
    "1\\. El modelo es lineal en los parámetros. $$Y = \\beta_0 + \\beta_1 . X_1 + \\beta_2 . X_2 + \\beta_p . X_p + \\epsilon$$\n",
    "    "
   ]
  },
  {
   "cell_type": "code",
   "execution_count": 11,
   "metadata": {
    "slideshow": {
     "slide_type": "fragment"
    }
   },
   "outputs": [
    {
     "data": {
      "image/png": "[encoded data removed]",
      "text/plain": [
       "<Figure size 432x288 with 1 Axes>"
      ]
     },
     "metadata": {
      "needs_background": "light"
     },
     "output_type": "display_data"
    }
   ],
   "source": [
    "sns.scatterplot(data = advertising, x = \"TV\", y = \"Sales\");"
   ]
  },
  {
   "cell_type": "markdown",
   "metadata": {
    "slideshow": {
     "slide_type": "slide"
    }
   },
   "source": [
    "2\\. Los estimadores de los parámetros poblacionales se estiman a partir de una muestra aleatoria.\n",
    "\n",
    "Consideramos que las observaciones que conforman el dataset provienen de una muestra aleatoria de la población.\n",
    "\n",
    "3\\. No hay colinealidad perfecta entre las variables explicativas.\n",
    "\n",
    "La regresión lineal simple tiene sólo una variable explicativa, por lo tanto no hay posibilidad de colinealidad con ninguna otra.\n"
   ]
  },
  {
   "cell_type": "markdown",
   "metadata": {
    "slideshow": {
     "slide_type": "slide"
    }
   },
   "source": [
    "4\\. El valor esperado del error es 0 para cualquier valor de la variable explicativa.\n"
   ]
  },
  {
   "cell_type": "code",
   "execution_count": 12,
   "metadata": {
    "slideshow": {
     "slide_type": "fragment"
    }
   },
   "outputs": [
    {
     "data": {
      "image/png": "[encoded data removed]",
      "text/plain": [
       "<Figure size 432x288 with 1 Axes>"
      ]
     },
     "metadata": {
      "needs_background": "light"
     },
     "output_type": "display_data"
    }
   ],
   "source": [
    "X_t = np.array(advertising.TV, ndmin=2)\n",
    "X = np.transpose(X_t)\n",
    "y = advertising.Sales\n",
    "\n",
    "# Tenemos que agregar explícitamente a una constante:\n",
    "X = sm.add_constant(X)\n",
    "\n",
    "model = sm.OLS(y, X).fit()\n",
    "residuals = model.resid\n",
    "\n",
    "p = sns.scatterplot(data = advertising, x = \"TV\", y = residuals);\n",
    "p.axhline(0, color = \"green\")\n",
    "p.set(ylabel = \"Residuals\");\n",
    "\n",
    "# otra opción:\n",
    "#sns.residplot(data = advertising, x = \"TV\", y = \"Sales\");"
   ]
  },
  {
   "cell_type": "markdown",
   "metadata": {
    "slideshow": {
     "slide_type": "slide"
    }
   },
   "source": [
    "5\\. Homocedasticidad\n",
    "\n",
    "Para cualquier valor de la variable explicativa, el error tienen la misma varianza\n",
    "\n",
    "\n"
   ]
  },
  {
   "cell_type": "code",
   "execution_count": 13,
   "metadata": {},
   "outputs": [
    {
     "data": {
      "image/png": "[encoded data removed]",
      "text/plain": [
       "<Figure size 432x288 with 1 Axes>"
      ]
     },
     "metadata": {
      "needs_background": "light"
     },
     "output_type": "display_data"
    }
   ],
   "source": [
    "y_hat = model.predict(X)\n",
    "p = sns.scatterplot(x = y_hat, y = residuals)\n",
    "p.set(xlabel = \"Fitted values\",\n",
    "      ylabel = \"Residuals\");\n"
   ]
  },
  {
   "cell_type": "markdown",
   "metadata": {
    "slideshow": {
     "slide_type": "slide"
    }
   },
   "source": [
    "6\\. Normalidad de los errores.\n",
    "\n",
    "Para cada valor $x$, de la variable predictora $X$, la variable respuesta $Y$ debe tener distribución Normal $\\epsilon \\sim N (0,\\sigma_\\epsilon)$\n",
    "\n",
    "Usando el método `ProbPlot` vamos a graficar un QQplot para testear la normalidad de los residuos \n",
    "<a href=\"https://www.statsmodels.org/stable/generated/statsmodels.graphics.gofplots.ProbPlot.html\" target=\"_blank\">ProbPlot</a>"
   ]
  },
  {
   "cell_type": "code",
   "execution_count": 14,
   "metadata": {
    "slideshow": {
     "slide_type": "fragment"
    }
   },
   "outputs": [
    {
     "data": {
      "image/png": "[encoded data removed]",
      "text/plain": [
       "<Figure size 432x288 with 1 Axes>"
      ]
     },
     "metadata": {
      "needs_background": "light"
     },
     "output_type": "display_data"
    }
   ],
   "source": [
    "sns.histplot(residuals, kde = False, stat = 'density', line_kws={'linewidth':5});"
   ]
  },
  {
   "cell_type": "code",
   "execution_count": 15,
   "metadata": {
    "slideshow": {
     "slide_type": "subslide"
    }
   },
   "outputs": [
    {
     "data": {
      "image/png": "[encoded data removed]",
      "text/plain": [
       "<Figure size 432x288 with 1 Axes>"
      ]
     },
     "metadata": {
      "needs_background": "light"
     },
     "output_type": "display_data"
    }
   ],
   "source": [
    "sm.ProbPlot(model.resid).qqplot(line='s');"
   ]
  },
  {
   "cell_type": "markdown",
   "metadata": {
    "slideshow": {
     "slide_type": "slide"
    }
   },
   "source": [
    "7\\. Independencia de los errores\n",
    "\n",
    "Cuando dos variables son independientes su correlación es cero, en general la recíproca no es cierta pero bajo el supuesto de normalidad el supuesto de independencia de los errores se reduce a que no estén correlacionados ($corr(\\varepsilon_i, \\varepsilon_j ) = 0$ $\\forall i \\ne j$ ). "
   ]
  },
  {
   "cell_type": "markdown",
   "metadata": {
    "slideshow": {
     "slide_type": "slide"
    }
   },
   "source": [
    "<div class=\"div-dhds-fondo-1\"> Conclusiones \n",
    "<img src=\"https://raw.githubusercontent.com/Digital-House-DATA/ds_blend_2021_img/master/M3/CLASE_21_Regresion_Lineal_Simple/Presentacion/img/M3_CLASE_21_separador.png\" align=\"center\" />\n",
    "\n",
    "</div>"
   ]
  },
  {
   "cell_type": "markdown",
   "metadata": {
    "slideshow": {
     "slide_type": "slide"
    }
   },
   "source": [
    "### Conclusiones\n",
    "\n",
    "---\n",
    "\n",
    "El modelo de regresión lineal:\n",
    "\n",
    "* Nos permite relacionar linealmente una variable explicativa con un variable objetivo de tipo cualitativa.\n",
    "\n",
    "* Podemos determinar la significancia estadística de cada coeficiente encontrado. \n",
    "\n",
    "* El valor de $R^2$ es una medida de la variabilidad explicada por el modelo.\n",
    "\n",
    "* Una vez estimado nuestro modelo verificamos si se cumplen o no los supuestos de Gauss Markov, ya que si se cumplen podemos decir que nuestro estimador $\\beta_1$ es el mejor estimador lineal insesgado\n"
   ]
  },
  {
   "cell_type": "markdown",
   "metadata": {
    "slideshow": {
     "slide_type": "slide"
    }
   },
   "source": [
    "<div class=\"div-dhds-fondo-1\"> Hands-on\n",
    "<img src=\"https://raw.githubusercontent.com/Digital-House-DATA/ds_blend_2021_img/master/M3/CLASE_21_Regresion_Lineal_Simple/Presentacion/img/M3_CLASE_21_separador.png\" align=\"center\" />\n",
    "\n",
    "</div>"
   ]
  },
  {
   "cell_type": "markdown",
   "metadata": {
    "slideshow": {
     "slide_type": "slide"
    }
   },
   "source": [
    "### Ejercicio\n",
    "\n",
    "----\n",
    "\n",
    "Usando el dataset `advertising` calculemos los intervalos de confianza para $\\beta_0$ y $\\beta_1$ de la regresión lineal simple que relaciona `Sales` con `Newspapers` usando su definición, y comparemos este resultado con los valores devueltos por <a href=\"https://www.statsmodels.org/stable/index.html\" target=\"_blank\">statsmodels</a> \n",
    "\n",
    "¿Qué pueden decir del nivel de significancia de $\\beta_1$?\n",
    "\n",
    "<p style=\"font-size:20px;\">\n",
    "$\\hat{\\beta_1} = \\frac{\\sum_{i=1}^{n}(x_i - \\bar{x})(y_i - \\bar{y})}{\\sum_{i=1}^{n}(x_i - \\bar{x})^2}$    \n",
    "</p>\n",
    "\n",
    "<p style=\"font-size:20px;\">\n",
    "$\\hat{\\beta_0} = \\bar{y} - \\hat{\\beta_1}\\bar{x}$    \n",
    "</p>\n",
    "\n",
    "<p style=\"font-size:20px;\">\n",
    "$\\bar{y} \\equiv \\frac{1}{n}\\sum_{i=1}^{n} y_i$ \n",
    "</p>\n",
    "\n",
    "<p style=\"font-size:20px;\">\n",
    "$\\bar{x} \\equiv \\frac{1}{n}\\sum_{i=1}^{n} x_i$    \n",
    "</p>\n"
   ]
  },
  {
   "cell_type": "markdown",
   "metadata": {
    "slideshow": {
     "slide_type": "subslide"
    }
   },
   "source": [
    "\n",
    "<p style=\"font-size:20px;\">\n",
    "$IC = [\\hat{\\beta_i} - 2. SE(\\hat{\\beta_i}), \\hat{\\beta_1} + 2. SE(\\hat{\\beta_i})] $\n",
    "</p>\n",
    "\n",
    "<p style=\"font-size:20px;\">\n",
    "$SE(\\hat{\\beta_0}) = \\sqrt{\\frac{\\hat{\\sigma^2} . \\sum{x_i^2}}{n. \\sum{x_i^2} - (\\sum{x_i})^2}}$\n",
    "</p>\n",
    "\n",
    "<p style=\"font-size:20px;\">\n",
    "$SE(\\hat{\\beta_1}) = \\sqrt{\\frac{\\hat{\\sigma^2}}{\\sum_{i=1}^{n}{(x_i - \\bar{x})^2}}}$\n",
    "</p>\n",
    "\n",
    "<p style=\"font-size:20px;\">\n",
    "$\\hat{\\sigma^2} = \\frac{RSS}{n-2}$\n",
    "</p>    \n",
    "\n",
    "<p style=\"font-size:20px;\">\n",
    "$RSS = \\sum_{i=1}^{n} e_i^2 = \\sum_{i=1}^{n} (y_i - \\hat{\\beta_0} - \\hat{\\beta_1} . x_i)^2$\n",
    "</p>    \n"
   ]
  },
  {
   "cell_type": "markdown",
   "metadata": {
    "slideshow": {
     "slide_type": "slide"
    }
   },
   "source": [
    "### Solución\n",
    "\n",
    "---"
   ]
  },
  {
   "cell_type": "markdown",
   "metadata": {
    "slideshow": {
     "slide_type": "slide"
    }
   },
   "source": [
    "$\\beta_1$"
   ]
  },
  {
   "cell_type": "code",
   "execution_count": 16,
   "metadata": {
    "slideshow": {
     "slide_type": "fragment"
    }
   },
   "outputs": [
    {
     "data": {
      "text/plain": [
       "0.03832399510524258"
      ]
     },
     "execution_count": 16,
     "metadata": {},
     "output_type": "execute_result"
    }
   ],
   "source": [
    "x_is = advertising.Newspaper\n",
    "y_is =  advertising.Sales\n",
    "\n",
    "x_bar = np.mean(x_is)\n",
    "\n",
    "y_bar = np.mean(y_is)\n",
    "x_is_minus_x_bar = x_is - x_bar\n",
    "\n",
    "y_is_minus_y_bar = y_is - x_bar\n",
    "y_is_minus_y_bar\n",
    "\n",
    "denom_1 = x_is_minus_x_bar ** 2\n",
    "denom = np.sum(denom_1)\n",
    "\n",
    "num_1 = x_is_minus_x_bar * y_is_minus_y_bar\n",
    "num = np.sum(num_1)\n",
    "\n",
    "beta_1_hat = num / denom\n",
    "beta_1_hat"
   ]
  },
  {
   "cell_type": "markdown",
   "metadata": {
    "slideshow": {
     "slide_type": "subslide"
    }
   },
   "source": [
    "$\\beta_0$"
   ]
  },
  {
   "cell_type": "code",
   "execution_count": 17,
   "metadata": {
    "slideshow": {
     "slide_type": "fragment"
    }
   },
   "outputs": [
    {
     "data": {
      "text/plain": [
       "13.95954865355442"
      ]
     },
     "execution_count": 17,
     "metadata": {},
     "output_type": "execute_result"
    }
   ],
   "source": [
    "beta_0_hat = y_bar - beta_1_hat *  x_bar\n",
    "beta_0_hat"
   ]
  },
  {
   "cell_type": "markdown",
   "metadata": {
    "slideshow": {
     "slide_type": "subslide"
    }
   },
   "source": [
    "$RSS$"
   ]
  },
  {
   "cell_type": "code",
   "execution_count": 18,
   "metadata": {
    "slideshow": {
     "slide_type": "fragment"
    }
   },
   "outputs": [
    {
     "data": {
      "text/plain": [
       "5417.354539511408"
      ]
     },
     "execution_count": 18,
     "metadata": {},
     "output_type": "execute_result"
    }
   ],
   "source": [
    "y_is_hat = beta_0_hat + beta_1_hat * x_is\n",
    "rss = np.sum((y_is - y_is_hat) ** 2)\n",
    "rss"
   ]
  },
  {
   "cell_type": "markdown",
   "metadata": {
    "slideshow": {
     "slide_type": "subslide"
    }
   },
   "source": [
    "$SE(\\hat{\\beta_1})$"
   ]
  },
  {
   "cell_type": "code",
   "execution_count": 19,
   "metadata": {
    "slideshow": {
     "slide_type": "fragment"
    }
   },
   "outputs": [],
   "source": [
    "n = advertising.shape[0]\n",
    "sigma_sq_hat = rss / (n - 2)"
   ]
  },
  {
   "cell_type": "code",
   "execution_count": 20,
   "metadata": {
    "slideshow": {
     "slide_type": "fragment"
    }
   },
   "outputs": [
    {
     "data": {
      "text/plain": [
       "0.017025666500722073"
      ]
     },
     "execution_count": 20,
     "metadata": {},
     "output_type": "execute_result"
    }
   ],
   "source": [
    "se_beta_1_hat = np.sqrt(sigma_sq_hat / denom)\n",
    "se_beta_1_hat"
   ]
  },
  {
   "cell_type": "markdown",
   "metadata": {
    "slideshow": {
     "slide_type": "subslide"
    }
   },
   "source": [
    "$CI(\\beta_1)$"
   ]
  },
  {
   "cell_type": "code",
   "execution_count": 21,
   "metadata": {
    "slideshow": {
     "slide_type": "fragment"
    }
   },
   "outputs": [
    {
     "data": {
      "text/plain": [
       "(0.004, 0.072)"
      ]
     },
     "execution_count": 21,
     "metadata": {},
     "output_type": "execute_result"
    }
   ],
   "source": [
    "min_ci = beta_1_hat - 2 * se_beta_1_hat\n",
    "max_ci = beta_1_hat + 2 * se_beta_1_hat\n",
    "\n",
    "round(min_ci, 3), round(max_ci, 3)"
   ]
  },
  {
   "cell_type": "markdown",
   "metadata": {
    "slideshow": {
     "slide_type": "subslide"
    }
   },
   "source": [
    "$SE(\\hat{\\beta_0})$"
   ]
  },
  {
   "cell_type": "code",
   "execution_count": 22,
   "metadata": {
    "slideshow": {
     "slide_type": "fragment"
    }
   },
   "outputs": [
    {
     "data": {
      "text/plain": [
       "0.6382885131624153"
      ]
     },
     "execution_count": 22,
     "metadata": {},
     "output_type": "execute_result"
    }
   ],
   "source": [
    "num = sigma_sq_hat * np.sum(x_is ** 2)\n",
    "\n",
    "denom = n * np.sum(x_is ** 2) - np.sum(x_is)**2\n",
    "\n",
    "se_beta_0_hat = np.sqrt(num / denom)\n",
    "\n",
    "se_beta_0_hat"
   ]
  },
  {
   "cell_type": "markdown",
   "metadata": {
    "slideshow": {
     "slide_type": "subslide"
    }
   },
   "source": [
    "$CI(\\beta_0)$"
   ]
  },
  {
   "cell_type": "code",
   "execution_count": 23,
   "metadata": {
    "slideshow": {
     "slide_type": "fragment"
    }
   },
   "outputs": [
    {
     "data": {
      "text/plain": [
       "(12.683, 15.236)"
      ]
     },
     "execution_count": 23,
     "metadata": {},
     "output_type": "execute_result"
    }
   ],
   "source": [
    "min_ci = beta_0_hat - 2 * se_beta_0_hat\n",
    "max_ci = beta_0_hat + 2 * se_beta_0_hat\n",
    "\n",
    "round(min_ci, 3), round(max_ci, 3)"
   ]
  },
  {
   "cell_type": "markdown",
   "metadata": {
    "slideshow": {
     "slide_type": "subslide"
    }
   },
   "source": [
    "Usando statsmodels obtenemos"
   ]
  },
  {
   "cell_type": "code",
   "execution_count": 24,
   "metadata": {
    "slideshow": {
     "slide_type": "fragment"
    }
   },
   "outputs": [
    {
     "name": "stdout",
     "output_type": "stream",
     "text": [
      "                            OLS Regression Results                            \n",
      "==============================================================================\n",
      "Dep. Variable:                  Sales   R-squared:                       0.025\n",
      "Model:                            OLS   Adj. R-squared:                  0.020\n",
      "Method:                 Least Squares   F-statistic:                     5.067\n",
      "Date:                Sat, 10 Apr 2021   Prob (F-statistic):             0.0255\n",
      "Time:                        18:30:59   Log-Likelihood:                -613.69\n",
      "No. Observations:                 200   AIC:                             1231.\n",
      "Df Residuals:                     198   BIC:                             1238.\n",
      "Df Model:                           1                                         \n",
      "Covariance Type:            nonrobust                                         \n",
      "==============================================================================\n",
      "                 coef    std err          t      P>|t|      [0.025      0.975]\n",
      "------------------------------------------------------------------------------\n",
      "const         13.9595      0.638     21.870      0.000      12.701      15.218\n",
      "x1             0.0383      0.017      2.251      0.025       0.005       0.072\n",
      "==============================================================================\n",
      "Omnibus:                       10.252   Durbin-Watson:                   2.017\n",
      "Prob(Omnibus):                  0.006   Jarque-Bera (JB):                4.808\n",
      "Skew:                          -0.111   Prob(JB):                       0.0903\n",
      "Kurtosis:                       2.273   Cond. No.                         64.7\n",
      "==============================================================================\n",
      "\n",
      "Notes:\n",
      "[1] Standard Errors assume that the covariance matrix of the errors is correctly specified.\n"
     ]
    }
   ],
   "source": [
    "X_t = np.array(advertising.Newspaper, ndmin=2)\n",
    "X = np.transpose(X_t)\n",
    "y = advertising.Sales\n",
    "\n",
    "# Tenemos que agregar explícitamente a una constante:\n",
    "X = sm.add_constant(X)\n",
    "\n",
    "model = sm.OLS(y, X).fit()\n",
    "print(model.summary())"
   ]
  },
  {
   "cell_type": "markdown",
   "metadata": {
    "slideshow": {
     "slide_type": "subslide"
    }
   },
   "source": [
    "$\\beta_1$ : x1 = $0.0383$\n",
    "\n",
    "$\\beta_0$ : const = $13.9595$\n",
    "\n",
    "$CI(\\beta_1)$:  [$0.005$, $0.072$]\n",
    "\n",
    "$CI(\\beta_0)$:  [$12.701$, $15.218$]       "
   ]
  },
  {
   "cell_type": "markdown",
   "metadata": {
    "slideshow": {
     "slide_type": "subslide"
    }
   },
   "source": [
    "El p-value de $\\beta_1$ es 0.025. \n",
    "\n",
    "Si definimos el nivel del test en 0.05 entonces con este valor de p-value rechazamos $H_0$.\n",
    "\n",
    "Si definimos el nivel del test en 0.01 entonces no podemos rechazar $H_0$ y esto implica que no podemos afirmar $\\beta_1$ sea distinto de cero.\n",
    "\n"
   ]
  },
  {
   "cell_type": "markdown",
   "metadata": {
    "slideshow": {
     "slide_type": "slide"
    }
   },
   "source": [
    "<div class=\"div-dhds-fondo-1\"> Referencias y Material Adicional\n",
    "<img src=\"https://raw.githubusercontent.com/Digital-House-DATA/ds_blend_2021_img/master/M3/CLASE_21_Regresion_Lineal_Simple/Presentacion/img/M3_CLASE_21_separador.png\" align=\"center\" />\n",
    "\n",
    "</div>"
   ]
  },
  {
   "cell_type": "markdown",
   "metadata": {
    "slideshow": {
     "slide_type": "slide"
    }
   },
   "source": [
    "### Referencias y Material Adicional\n",
    "\n",
    "---\n",
    "\n",
    "<a href=\"https://www.statlearning.com/\" target=\"_blank\">An Introduction to Statistical Learning</a>\n",
    "\n",
    "<a href=\"https://www.kaggle.com/ashydv/advertising-dataset\" target=\"_blank\">advertising dataset</a>\n",
    "\n",
    "<a href=\"http://www.fairlynerdy.com/what-is-r-squared/\" target=\"_blank\">What Is R Squared And Negative R Squared?</a>\n",
    "\n",
    "<a href=\"https://www.kdnuggets.com/2019/07/check-quality-regression-model-python.html\" target=\"_blank\">How do you check the quality of your regression model in Python?</a>\n",
    "\n",
    "<a href=\"https://www.econometrics-with-r.org/4-lrwor.html\" target=\"_blank\">Linear Regression with One Regressor</a>\n",
    "\n",
    "<a href=\"https://www.youtube.com/playlist?list=PL03F4F3BE94EB5CE9\" target=\"_blank\">Modelo Lineal</a>\n",
    "\n",
    "<a href=\"https://www.youtube.com/watch?v=ReXRUDYUyeo\" target=\"_blank\">Errores estándar de los coeficientes</a>\n"
   ]
  }
 ],
 "metadata": {
  "kernelspec": {
   "display_name": "Python 3",
   "language": "python",
   "name": "python3"
  },
  "language_info": {
   "codemirror_mode": {
    "name": "ipython",
    "version": 3
   },
   "file_extension": ".py",
   "mimetype": "text/x-python",
   "name": "python",
   "nbconvert_exporter": "python",
   "pygments_lexer": "ipython3",
   "version": "3.8.5"
  }
 },
 "nbformat": 4,
 "nbformat_minor": 4
}

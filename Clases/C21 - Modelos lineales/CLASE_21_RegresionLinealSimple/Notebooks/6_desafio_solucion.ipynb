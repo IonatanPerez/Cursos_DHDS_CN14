{
 "cells": [
  {
   "cell_type": "code",
   "execution_count": null,
   "metadata": {},
   "outputs": [],
   "source": [
    "# initial setup\n",
    "%run \"../../../common/0_notebooks_base_setup.py\"\n"
   ]
  },
  {
   "cell_type": "markdown",
   "metadata": {},
   "source": [
    "[<img src=\"https://www.digitalhouse.com/ar/logo-DH.png\" width=\"400\" height=\"200\" align='right'>](http://digitalhouse.com.ar/)"
   ]
  },
  {
   "cell_type": "markdown",
   "metadata": {},
   "source": [
    "# Regresión Lineal con scikit-learn y statsmodels  "
   ]
  },
  {
   "cell_type": "markdown",
   "metadata": {},
   "source": [
    "## Resumen\n",
    "\n",
    "\n",
    "<div>\n",
    "<img src=\"https://www.aboutbrasil.com/modules/images/Soccer_fans_Beer_Brazil.jpg\" width=\"200\"/>\n",
    "</div>\n",
    "\n",
    "La cerveza es una de las bebidas más consumidas del mundo, perfecta para casi cualquier situación. Alrededor del mundo miles de personas la consumen regularmente. Sin embargo, ¿alguna vez te has detenido a pensar qué países son la cerveza más consumidora del mundo? ¿El primero que se te ocurrió fue **Alemania**? Bueno, sé que no es así.\n",
    "\n",
    "\n",
    "\n",
    "La respuesta a esa pregunta es rotunda: la República Checa. Según una investigación de la compañía de bebidas japonesa [Kirin](https://www.kirinholdings.co.jp/english/news/2019/1224_01.html), el país ha encabezado la tabla de consumo de cerveza per cápita durante 26 años consecutivos.\n",
    "En 2019, el año más reciente para el que hay estadísticas disponibles, los checos bebieron 191 litros por persona!!! **CASI 200 litros!!!!**\n",
    "\n",
    "### Acerca del dataset\n",
    "\n",
    "\n",
    "Los datos (muestra) fueron recolectados en São Paulo - Brasil, en un área universitaria, donde hay algunas fiestas con grupos de estudiantes de 18 a 28 años de edad (promedio). El conjunto de datos utilizado para esta actividad tiene 7 atributos, siendo un Objetivo, con un período de un año. Los datos o recursos te los podes descarfar desde [aqui](https://www.kaggle.com/dongeorge/beer-consumption-sao-paulo)\n"
   ]
  },
  {
   "cell_type": "code",
   "execution_count": null,
   "metadata": {
    "_cell_guid": "b1076dfc-b9ad-4769-8c92-a6c4dae69d19",
    "_uuid": "8f2839f25d086af736a60e9eeb907d3b93b6e0e5"
   },
   "outputs": [],
   "source": [
    "import numpy as np # linear algebra\n",
    "import pandas as pd # data processing, CSV file I/O (e.g. pd.read_csv)\n",
    "import seaborn as sns\n",
    "import matplotlib.pyplot as plt\n",
    "from collections import Counter\n",
    "%matplotlib inline\n",
    "from plotly.offline import download_plotlyjs, init_notebook_mode, plot, iplot\n",
    "import plotly as py\n",
    "import plotly.graph_objs as go\n",
    "init_notebook_mode(connected=True) #do not miss this line\n",
    "import warnings\n",
    "\n",
    "warnings.filterwarnings('ignore')\n",
    "\n"
   ]
  },
  {
   "cell_type": "code",
   "execution_count": null,
   "metadata": {
    "_cell_guid": "79c7e3d0-c299-4dcb-8224-4455121ee9b0",
    "_uuid": "d629ff2d2480ee46fbb7e2d37f6b5fab8052498a"
   },
   "outputs": [],
   "source": [
    "data=pd.read_csv(\"../Data/Consumo_cerveja.csv\",parse_dates=['Fecha'])"
   ]
  },
  {
   "cell_type": "code",
   "execution_count": null,
   "metadata": {},
   "outputs": [],
   "source": [
    "data.info()"
   ]
  },
  {
   "cell_type": "code",
   "execution_count": null,
   "metadata": {},
   "outputs": [],
   "source": [
    "data.head()"
   ]
  },
  {
   "cell_type": "code",
   "execution_count": null,
   "metadata": {},
   "outputs": [],
   "source": [
    "data.corr()"
   ]
  },
  {
   "cell_type": "markdown",
   "metadata": {},
   "source": [
    "### ¿ Qué dia de la semana ?"
   ]
  },
  {
   "cell_type": "code",
   "execution_count": null,
   "metadata": {},
   "outputs": [],
   "source": [
    "data['dia_semana']=data.Fin_de_Semana.apply(lambda x: 'Dia_de_Semana' if x==0 else 'Fin_de_semana')"
   ]
  },
  {
   "cell_type": "code",
   "execution_count": null,
   "metadata": {},
   "outputs": [],
   "source": [
    "# violin plot\n",
    "\n",
    "sns.violinplot(x=\"dia_semana\", y=\"Consumo_de_cerveza\",data=data)\n",
    "plt.title(\"Consumo de cervaza por segun dia de la semana.\")\n",
    "plt.xlabel('dia_semana vs fin_de_semana')\n",
    "plt.ylabel(\"Consumo de cerveza\")"
   ]
  },
  {
   "cell_type": "markdown",
   "metadata": {},
   "source": [
    "## Distribución del consumo semanal.\n",
    "\n",
    "Representemos en un gráfico de torta la distribución del consumo semanal en la categorías semana y fin de semana."
   ]
  },
  {
   "cell_type": "code",
   "execution_count": null,
   "metadata": {},
   "outputs": [],
   "source": [
    "# grafico de torta.\n",
    "dow=sum(data.Consumo_de_cerveza[data.Fin_de_Semana==0])/5\n",
    "weekend=sum(data.Consumo_de_cerveza[data.Fin_de_Semana==1])/2\n",
    "labels = ['Consumo dia de semana','Consumo Fin de semana']\n",
    "values = [dow,weekend]\n",
    "\n",
    "fig = go.Figure(data=[go.Pie(labels=labels, values=values)])\n",
    "fig.update_layout(title='Distribucion de consumo semanal.')\n"
   ]
  },
  {
   "cell_type": "markdown",
   "metadata": {},
   "source": [
    "## Relacion entre el consumo y la temperatura\n",
    "\n",
    "### Influencia de la temperatura. \n",
    "Nuestra intuicion nos señala que probablemente el consumo de cerveza aumente conforme aumente la temperatura. \n",
    "* ¿Cómo es cambia la temperatura en brasil segun las estaciones del año?\n",
    "\n",
    "Datos climaticos de brasil sugieren que la misma sigue la siguiente tendencia.\n",
    "\n",
    "<div>\n",
    "<img src=\"https://images.climate-data.org/location/655/temperature-graph.png\" width=\"600\"/>\n",
    "</div>\n",
    "\n",
    "### Variación del consumo de cerveza por mes.\n",
    "\n",
    "Representemos, usando boxplots para cada mes, el consumo de cerveza en litros."
   ]
  },
  {
   "cell_type": "code",
   "execution_count": null,
   "metadata": {},
   "outputs": [],
   "source": [
    "data['month'] = pd.to_datetime(data['Fecha']).dt.month\n",
    "fig = go.Figure(data=go.Box(x=data.month,y=data.Consumo_de_cerveza.values))\n",
    "fig.update_layout(title='Consumo de cerveza por mes',\n",
    "                   xaxis_title='Mes',\n",
    "                   yaxis_title='Consumo (L)')\n",
    "\n",
    "fig.show()"
   ]
  },
  {
   "cell_type": "markdown",
   "metadata": {},
   "source": [
    "Parece que existe una relacion entre la temperatura y el consumo. ¿Será que tomamos cerveza para refrescarnos?\n",
    "\n",
    "Usemos un heatmap para representar la matriz de correlaciones"
   ]
  },
  {
   "cell_type": "code",
   "execution_count": null,
   "metadata": {},
   "outputs": [],
   "source": [
    "plt.figure(figsize=(13,10))\n",
    "sns.heatmap(data.corr(),annot=True)\n",
    "plt.title(\"Correlation Heatmap\")\n",
    "plt.show()"
   ]
  },
  {
   "cell_type": "code",
   "execution_count": null,
   "metadata": {},
   "outputs": [],
   "source": [
    "data.columns\n"
   ]
  },
  {
   "cell_type": "code",
   "execution_count": null,
   "metadata": {},
   "outputs": [],
   "source": [
    "sns.lmplot(x=\"Consumo_de_cerveza\", y=\"Temperatura_Maxima\", data=data)\n",
    "plt.title(\"Cuanto tomamos en relacion a la temperatura? \")\n",
    "plt.show()"
   ]
  },
  {
   "cell_type": "markdown",
   "metadata": {},
   "source": [
    "<div class=\"alert alert-block alert-success\">\n",
    "<b>Conclusiones:</b> \n",
    "    Encontramos algunas relaciones lógicas entre el consumo de cerveza y la temperatura o el momento de la semana.\n",
    "    Dado que encontramos tal vez una relacion lineal entre la temperatura maxima y el consumo podemos entrenar un modelo lineal para predecir el consumo dado la temperatura.\n",
    "</div>"
   ]
  },
  {
   "cell_type": "markdown",
   "metadata": {},
   "source": [
    "### Modelo Lineal\n",
    "\n",
    "Calculemos una regresión lineal ajustando el modelo con la variable predictora temperatura máxima.\n",
    "\n",
    "Grafiquemos usando un scatterplot los datos y la recta resultado del ajuste.\n",
    "\n",
    "Usando la regresión lineal construida, cuál es el valor predicho cuando la temperatura máxima es 30 grados?"
   ]
  },
  {
   "cell_type": "code",
   "execution_count": null,
   "metadata": {},
   "outputs": [],
   "source": [
    "# Separo el dataset en X e y.\n",
    "x=data.Consumo_de_cerveza.values.reshape(-1,1)\n",
    "y=data.Temperatura_Maxima.values.reshape(-1,1)\n",
    "x.shape,y.shape\n"
   ]
  },
  {
   "cell_type": "code",
   "execution_count": null,
   "metadata": {},
   "outputs": [],
   "source": [
    "from sklearn.linear_model import LinearRegression\n",
    "# Instancio el modelo.\n",
    "lr=LinearRegression()\n",
    "# Fiteo el modelo con la variable predictora temperatura máxima.\n",
    "lr.fit(x,y)"
   ]
  },
  {
   "cell_type": "code",
   "execution_count": null,
   "metadata": {},
   "outputs": [],
   "source": [
    "array=np.arange(50).reshape(-1,1)\n",
    "y_head=lr.predict(array)"
   ]
  },
  {
   "cell_type": "code",
   "execution_count": null,
   "metadata": {},
   "outputs": [],
   "source": [
    "plt.figure(figsize=(10,10))\n",
    "plt.plot(array,y_head,color=\"red\",label=\"Predict line\")\n",
    "plt.scatter(x,y)\n",
    "plt.title(\"Predict with Linear Regression\")\n",
    "plt.xlabel(\"Beer consumption\")\n",
    "plt.ylabel(\"Max Temperature\")\n",
    "plt.legend()\n",
    "plt.show()"
   ]
  },
  {
   "cell_type": "code",
   "execution_count": null,
   "metadata": {},
   "outputs": [],
   "source": [
    "lr.predict([[30]])"
   ]
  }
 ],
 "metadata": {
  "kernelspec": {
   "display_name": "Python 3",
   "language": "python",
   "name": "python3"
  },
  "language_info": {
   "codemirror_mode": {
    "name": "ipython",
    "version": 3
   },
   "file_extension": ".py",
   "mimetype": "text/x-python",
   "name": "python",
   "nbconvert_exporter": "python",
   "pygments_lexer": "ipython3",
   "version": "3.8.5"
  }
 },
 "nbformat": 4,
 "nbformat_minor": 4
}

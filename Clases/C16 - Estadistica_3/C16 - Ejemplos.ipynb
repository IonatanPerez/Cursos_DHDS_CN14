{
 "cells": [
  {
   "cell_type": "code",
   "execution_count": 1,
   "metadata": {},
   "outputs": [],
   "source": [
    "# Como calcular Z criticos y significancias\n",
    "import scipy.stats as stats"
   ]
  },
  {
   "cell_type": "code",
   "execution_count": 7,
   "metadata": {},
   "outputs": [
    {
     "name": "stdout",
     "output_type": "stream",
     "text": [
      "Para tener una significancia de al menos 0.05 a una cola, el valor de z debe diferir de 0 en 1.6448536269514729\n"
     ]
    }
   ],
   "source": [
    "alpha = 0.05 # Que haya un 95% de probabilidad de que el valor estimado sea mayor (o menor) que el real\n",
    "z_alfa = stats.norm.ppf(alpha)\n",
    "print (f'Para tener una significancia de al menos {alpha} a una cola, el valor de z debe diferir de 0 en {abs(z_alfa)}')"
   ]
  },
  {
   "cell_type": "code",
   "execution_count": 9,
   "metadata": {},
   "outputs": [
    {
     "name": "stdout",
     "output_type": "stream",
     "text": [
      "Para el valor de z: -2.92, el p-valor es 0.0017501569286760992\n"
     ]
    }
   ],
   "source": [
    "z = -2.92\n",
    "p_value = stats.norm.cdf(z)\n",
    "print (f'Para el valor de z: {z}, el p-valor es {p_value}')"
   ]
  },
  {
   "cell_type": "code",
   "execution_count": 8,
   "metadata": {},
   "outputs": [
    {
     "name": "stdout",
     "output_type": "stream",
     "text": [
      "Para tener una significancia de al menos 0.025 a una cola con un test de students y 99 grados de libertad, el valor de z debe diferir de 0 en 1.9842169515086832\n",
      "Con 99 grados de libertad y t de 1.984216, el valor de significancias es 0.9749999461207265\n"
     ]
    }
   ],
   "source": [
    "# Podemos hacer lo mismo para T-Student\n",
    "n = 100\n",
    "alpha = 0.025 # Que haya un 95% de probabilidad de que el valor estimado sea mayor (o menor) que el real\n",
    "df = n-1\n",
    "t_alpha = stats.t.ppf(alpha,df)\n",
    "print (f'Para tener una significancia de al menos {alpha} a una cola con un test de students y {df} grados de libertad, el valor de z debe diferir de 0 en {abs(t_alpha)}')\n",
    "\n",
    "t = 1.984216\n",
    "print (f'Con {df} grados de libertad y t de {t}, el valor de significancias es {stats.t.cdf(t,df)}')\n",
    "\n"
   ]
  },
  {
   "cell_type": "markdown",
   "metadata": {},
   "source": [
    "# Notas\n",
    "\n",
    "El desvio estandar para una poblacion binomial se calcula de forma teorica como:\n",
    "\n",
    "$$\\sqrt{\\frac{p\\cdot(1-p)}{n}}$$"
   ]
  }
 ],
 "metadata": {
  "kernelspec": {
   "display_name": "Python 3.9.12 ('base')",
   "language": "python",
   "name": "python3"
  },
  "language_info": {
   "codemirror_mode": {
    "name": "ipython",
    "version": 3
   },
   "file_extension": ".py",
   "mimetype": "text/x-python",
   "name": "python",
   "nbconvert_exporter": "python",
   "pygments_lexer": "ipython3",
   "version": "3.9.12"
  },
  "orig_nbformat": 4,
  "vscode": {
   "interpreter": {
    "hash": "499a1cf83386e9cdb50680be6c4b00d5e02a649406be4f417a406efedf754313"
   }
  }
 },
 "nbformat": 4,
 "nbformat_minor": 2
}

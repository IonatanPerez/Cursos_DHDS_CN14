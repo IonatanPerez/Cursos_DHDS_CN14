{
 "cells": [
  {
   "cell_type": "markdown",
   "metadata": {
    "id": "Be_5IZ1h1f2T"
   },
   "source": [
    "# Redes Neuronales\n",
    " \n",
    "Las redes neuronales son uno de los modelos más usados por su versatilidad y gran rendimiento, sin embargo son de los modelos más complejos, con muchos parámetros que se deben calcular por lo que requieren de mucho tiempo y poder de cómputo para su entrenamiento. De hecho, los algoritmos en los que se basan las redes neuronales no son nuevos, sin embargo, el auge de las mismas es mucho más reciente debido de que ahora se posee suficiente poder de cómputo como para entrenar a las redes neuronales. \n",
    " \n",
    "Para el entrenamiento de las redes neuronales no se usa el CPU, en su lugar usamos el GPU, estos son los procesadores de tarjetas gráficas, esto se debe a que, por su estructura, tienen una capacidad mayor para procesar más operaciones pequeñas simultáneamente. \n",
    " \n",
    "En este campo las grandes empresas de tecnología son pioneras en la investigación y desarrollo de nuevas herramientas, y, la mayoría de estas son abiertas, como lo es [PyTorch](https://pytorch.org/) de Facebook y [TensorFlow](https://www.tensorflow.org/?hl=es-419) de Google, ambos son marcos de trabajo (frameworks) especializados en redes neuronales artificiales de todo tipo.\n",
    " \n",
    "# PyTorch\n",
    " \n",
    "PyTorch es un framework desarrollado por Facebook para el procesamiento de redes neuronales artificiales, se basa en la creación de tensores los cuales son similares en estructura y capacidad a los array de numpy, sin embargo estos tienen algunas características adicionales, como el procesamiento en GPU y otras propiedades que facilitan la implementación del algoritmo de _Backpropagation_. \n",
    " \n",
    "Para poder usar GPU en Colab debemos activarlo primero, para esto debemos abrir el menú _Entorno de ejecución_ y seleccionar _Cambiar tipo de entorno de ejcución_, en la opción _acelerador de software_ colocar GPU y hacer clic en Guardar. \n",
    " \n",
    "En este ejemplo vamos a implementar una red neuronal para predecir precios de inmuebles usando uno de los datos pre cargados de scikit-learn. Este conjunto contiene información de diferentes barrios de la ciudad de Boston, con información agregada sobre la población en esos barrios, adicionalmente se cuenta con la información del precio promedio de las viviendas en el barrio, el cual es nuestra variable objetivo.  "
   ]
  },
  {
   "cell_type": "code",
   "execution_count": null,
   "metadata": {
    "colab": {
     "base_uri": "https://localhost:8080/"
    },
    "executionInfo": {
     "elapsed": 2456,
     "status": "ok",
     "timestamp": 1616873778388,
     "user": {
      "displayName": "Eloy Chang",
      "photoUrl": "https://lh3.googleusercontent.com/a-/AOh14GgRLNSQZH7KrWXAG7wddBuXed5jES-gkKQFaBTCVw=s64",
      "userId": "17300197049172320354"
     },
     "user_tz": 180
    },
    "id": "5wb0IP3C5CKo",
    "outputId": "b17ff2f6-8a81-4df2-c562-272c21d11003"
   },
   "outputs": [
    {
     "name": "stdout",
     "output_type": "stream",
     "text": [
      "['CRIM' 'ZN' 'INDUS' 'CHAS' 'NOX' 'RM' 'AGE' 'DIS' 'RAD' 'TAX' 'PTRATIO'\n",
      " 'B' 'LSTAT']\n"
     ]
    }
   ],
   "source": [
    "from sklearn.datasets import load_boston\n",
    "import numpy as np\n",
    "\n",
    "boston = load_boston()\n",
    "print(boston.feature_names)\n",
    "prices = np.expand_dims(boston['target'], axis=1).astype(np.float32)\n",
    "boston = boston.data.astype(np.float32)"
   ]
  },
  {
   "cell_type": "markdown",
   "metadata": {
    "id": "hRO-4KqV7McL"
   },
   "source": [
    "Como en todo proyecto de ML lo primero que debemos hacer es dividir los datos en entrenamiento y prueba. "
   ]
  },
  {
   "cell_type": "code",
   "execution_count": null,
   "metadata": {
    "id": "P9rUOnIU5wTh"
   },
   "outputs": [],
   "source": [
    "from sklearn.model_selection import train_test_split\n",
    " \n",
    "X_train, X_test, y_train, y_test = train_test_split(boston, prices, test_size=0.3, random_state=1)"
   ]
  },
  {
   "cell_type": "markdown",
   "metadata": {
    "id": "PJFu-fC27ZLe"
   },
   "source": [
    "A continuación definiremos la arquitectura de la red a utilizar, cuantas capas se van a colocar y cuantas neuronas tendrá cada capa. Lamentablemente no existe una \"receta\" para definir estos parámetros, lo que se aconseja es buscar algún estudio previo sobre el campo en el que se va a trabajar para ver qué estructura se ha usado antes y partir de allí. \n",
    " \n",
    "En este caso vamos a entrenar un perceptrón multicapa, con dos capas ocultas, cuya función de activación será una ReLu, más la capa de salida que tendrá una función de activación lineal, definiremos la arquitectura base parametrizando la cantidad de neuronas en cada capa, de forma que se puedan realizar múltiples pruebas hasta encontrar el número de neuronas más eficiente. "
   ]
  },
  {
   "cell_type": "code",
   "execution_count": null,
   "metadata": {
    "id": "9lZaL4m27xoJ"
   },
   "outputs": [],
   "source": [
    "# Importamos varias instancias de pytorch a diferentes niveles para facilitar el llamado de las funciones.  \n",
    "import torch\n",
    "import torch.nn as nn\n",
    "import torch.nn.functional as F\n",
    "from torch.utils.data import TensorDataset, DataLoader\n",
    "\n",
    "# Definimos la red neuronal, esto lo hacemos como si se definiera una clase.\n",
    "# Colocamos como parámetro nn.module para que esta clase herede todas las funcionalidades de la clase nn.Module\n",
    "class Net(nn.Module):\n",
    "    # Definimos la función de instanciación de la clase, esta función es ejecutada cuando se crea una instancia de la clase. \n",
    "    def __init__(self, data_features, hidden_neurons, output_size):\n",
    "        super(Net, self).__init__()\n",
    "        # En esta sección se crea la estructura de la red, seran dos capas ocultas más la capa de salida. \n",
    "        self.hidden1 = nn.Linear(data_features, hidden_neurons)\n",
    "        self.hidden2 = nn.Linear(hidden_neurons, hidden_neurons)\n",
    "        self.out = nn.Linear(hidden_neurons, output_size)\n",
    "\n",
    "    # Este método es necesario para el entrenamiento, lo que hace es evaluar la salida de la red con los datos x\n",
    "    # Notar que las funciones de activación se colocan en esta etapa. \n",
    "    def forward(self, x):\n",
    "        x = F.relu(self.hidden1(x)) \n",
    "        x = F.relu(self.hidden2(x))     \n",
    "        return self.out(x)"
   ]
  },
  {
   "cell_type": "markdown",
   "metadata": {
    "id": "aljTBi9c-J_I"
   },
   "source": [
    "Para el entrenamiento haremos una de las versiones más comunes de _backpropagation_ conocida como _minibatch_,. Esta versión modifica los parámetros del modelo tras procesar una cantidad pequeña de datos, de esta forma se acelera el proceso de entrenamiento, a cambio de agregar un hyper parámetro al modelo: la cantidad de datos a procesar antes de modificar los parámetros de la red. \n",
    " \n",
    "El entrenamiento de las redes se realiza a través de épocas. Una época se define como cada vez que todos los datos de entrenamiento son vistos por el modelo, luego, debemos decidir cuántas iteraciones dejaremos que realice el algoritmo de entrenamiento.\n",
    " \n",
    "Otro hyper parámetro a seleccionar es la tasa de aprendizaje o learning rate, este valor define la rapidez con la que el algoritmo intentará acercarse al punto óptimo Un valor muy chico hará que el algoritmo sea muy lento y tarde en llegar  al valor óptimo. Un valor muy grande puede hacer que el algoritmo no consiga un valor óptimo. \n",
    "\n",
    "![Learning Decay Rate](http://cs231n.github.io/assets/nn3/learningrates.jpeg?w=640)\n",
    " \n",
    "En nuestro ejemplo tenemos 13 variables en los datos de entrada, y las capas ocultas tendrán 100 neuronas cada una. \n"
   ]
  },
  {
   "cell_type": "code",
   "execution_count": null,
   "metadata": {
    "id": "8BzxqCBoAJMy"
   },
   "outputs": [],
   "source": [
    "# Tamaño del batch de entrenamiento\n",
    "batch_size = 50\n",
    "\n",
    "# Número de épocas\n",
    "num_epochs = 5000\n",
    "\n",
    "# Tasa de aprendizaje \n",
    "learning_rate = 0.00001\n",
    "\n",
    "# Creamos nuestra red, la cual tiene 13 variable sde entrada, y 100 neuronas en las capas ocultas\n",
    "# Como es un problema de regresión la capa de salida debe de tener solo una neurona.\n",
    "net = Net(13 ,100 ,1)"
   ]
  },
  {
   "cell_type": "markdown",
   "metadata": {
    "id": "rIWvkhzJA-x0"
   },
   "source": [
    "Luego debemos definir algunas otras cosas propias del framework, como lo son:\n",
    "* **La función de pérdida a usar**. Esta es la métrica usada para evaluar el desempeño de la red, en este caso usaremos el error cuadrático medio como función de pérdida.  \n",
    "* **El optimizador**. Es la metodología a usar para minimizar la función de pérdida.\n",
    "* **Dataset**. estos son los datos con los que se entrenaran las redes pero convertidos en tensores. \n",
    "* **DataLoader**. Este objeto facilita el suministro de datos a la red en función de los _minibatches_ definidos. "
   ]
  },
  {
   "cell_type": "code",
   "execution_count": null,
   "metadata": {
    "id": "K9C4iYBsA8_E"
   },
   "outputs": [],
   "source": [
    "# Función de perdida\n",
    "loss_function = nn.MSELoss()\n",
    "\n",
    "# Optimizador\n",
    "optimizer = torch.optim.Adam(net.parameters() , lr=learning_rate)\n",
    "\n",
    "# Datos convertidos en tensores\n",
    "dataset = TensorDataset(torch.from_numpy(X_train).clone(), torch.from_numpy(y_train).clone())\n",
    "\n",
    "# Objeto auxiliar para facilitar el suministro de datos\n",
    "loader = DataLoader(dataset=dataset, batch_size=batch_size, shuffle=True)\n",
    "\n",
    "# En esta lista mantendremos registro del valor de la función de perdida para ver su evolución\n",
    "loss_list = []"
   ]
  },
  {
   "cell_type": "markdown",
   "metadata": {
    "id": "KAptOYTkDy4p"
   },
   "source": [
    "Finalmente entrenamos nuestra red neuronal artificial. \n",
    " \n",
    "Como sabemos este es un proceso iterativo basado en el número de épocas previamente definidas, por lo que el uso de un ”_for_” es natural. Luego se itera por los _minibatches_ formados por el dataloader.\n",
    " \n",
    "En cada _minibatch_ se realiza lo que denominamos la pasada _forward_ o hacia adelante, la cual es la evaluación de la red con los datos del _minibatch_. Luego en la pasada _backward_ o hacia atrás, se actualizan los parámetros de la red. \n",
    " \n",
    "Por último guardamos el valor de la función de pérdida e imprimimos el estado del entrenamiento cada 100 épocas. "
   ]
  },
  {
   "cell_type": "code",
   "execution_count": null,
   "metadata": {
    "colab": {
     "base_uri": "https://localhost:8080/"
    },
    "executionInfo": {
     "elapsed": 39620,
     "status": "ok",
     "timestamp": 1616873841250,
     "user": {
      "displayName": "Eloy Chang",
      "photoUrl": "https://lh3.googleusercontent.com/a-/AOh14GgRLNSQZH7KrWXAG7wddBuXed5jES-gkKQFaBTCVw=s64",
      "userId": "17300197049172320354"
     },
     "user_tz": 180
    },
    "id": "g5Yn3IM5DyaM",
    "outputId": "65c41700-3390-4631-8632-f2229b41c7d7"
   },
   "outputs": [
    {
     "name": "stdout",
     "output_type": "stream",
     "text": [
      "Epoch 100, loss = 27.3764\n",
      "Epoch 200, loss = 40.4098\n",
      "Epoch 300, loss = 81.4497\n",
      "Epoch 400, loss = 175.016\n",
      "Epoch 500, loss = 9.27248\n",
      "Epoch 600, loss = 230.434\n",
      "Epoch 700, loss = 68.7615\n",
      "Epoch 800, loss = 39.0757\n",
      "Epoch 900, loss = 41.9607\n",
      "Epoch 1000, loss = 14.037\n",
      "Epoch 1100, loss = 9.41991\n",
      "Epoch 1200, loss = 79.5394\n",
      "Epoch 1300, loss = 19.9151\n",
      "Epoch 1400, loss = 35.3241\n",
      "Epoch 1500, loss = 81.5444\n",
      "Epoch 1600, loss = 24.7592\n",
      "Epoch 1700, loss = 2.83331\n",
      "Epoch 1800, loss = 19.7417\n",
      "Epoch 1900, loss = 17.6709\n",
      "Epoch 2000, loss = 14.4349\n",
      "Epoch 2100, loss = 8.02654\n",
      "Epoch 2200, loss = 10.807\n",
      "Epoch 2300, loss = 45.0713\n",
      "Epoch 2400, loss = 167.647\n",
      "Epoch 2500, loss = 3.22181\n",
      "Epoch 2600, loss = 18.7374\n",
      "Epoch 2700, loss = 16.234\n",
      "Epoch 2800, loss = 64.1794\n",
      "Epoch 2900, loss = 7.89524\n",
      "Epoch 3000, loss = 9.38609\n",
      "Epoch 3100, loss = 22.1742\n",
      "Epoch 3200, loss = 8.36633\n",
      "Epoch 3300, loss = 11.1566\n",
      "Epoch 3400, loss = 30.8305\n",
      "Epoch 3500, loss = 36.9436\n",
      "Epoch 3600, loss = 19.9957\n",
      "Epoch 3700, loss = 5.00431\n",
      "Epoch 3800, loss = 20.699\n",
      "Epoch 3900, loss = 4.63515\n",
      "Epoch 4000, loss = 15.6121\n",
      "Epoch 4100, loss = 14.1076\n",
      "Epoch 4200, loss = 20.1361\n",
      "Epoch 4300, loss = 10.2785\n",
      "Epoch 4400, loss = 7.19288\n",
      "Epoch 4500, loss = 59.7562\n",
      "Epoch 4600, loss = 15.8237\n",
      "Epoch 4700, loss = 12.6043\n",
      "Epoch 4800, loss = 12.3289\n",
      "Epoch 4900, loss = 16.9489\n"
     ]
    }
   ],
   "source": [
    "# Bucle de entrenamiento\n",
    "for i in range(num_epochs):\n",
    "\n",
    "    # Iteramos sobre todos los minibatches\n",
    "    for x, y in loader:\n",
    "        \n",
    "        # Pasada forward\n",
    "        optimizer.zero_grad()\n",
    "        loss = loss_function(net(x), y)  \n",
    "        \n",
    "        # Pasada backward         \n",
    "        loss.backward()\n",
    "        \n",
    "        # Se actualizan los pesos de la red\n",
    "        optimizer.step()\n",
    "        loss_list.append(loss.data.item())\n",
    "\n",
    "    # Mostramos el estado del entrenamiento cada 100 epcocas       \n",
    "    if i > 0 and i % 100 == 0:\n",
    "        print('Epoch %d, loss = %g' % (i, loss))"
   ]
  },
  {
   "cell_type": "code",
   "execution_count": null,
   "metadata": {
    "colab": {
     "base_uri": "https://localhost:8080/",
     "height": 298
    },
    "executionInfo": {
     "elapsed": 37887,
     "status": "ok",
     "timestamp": 1616873841251,
     "user": {
      "displayName": "Eloy Chang",
      "photoUrl": "https://lh3.googleusercontent.com/a-/AOh14GgRLNSQZH7KrWXAG7wddBuXed5jES-gkKQFaBTCVw=s64",
      "userId": "17300197049172320354"
     },
     "user_tz": 180
    },
    "id": "yjbcKSTCFUkS",
    "outputId": "8ff3d2c0-d920-447d-cc03-288a3b6adbdb"
   },
   "outputs": [
    {
     "data": {
      "text/plain": [
       "Text(0.5, 1.0, 'Función de pérdida durante el entrenamiento')"
      ]
     },
     "execution_count": 9,
     "metadata": {
      "tags": []
     },
     "output_type": "execute_result"
    },
    {
     "data": {
      "image/png": "[encoded data removed]",
      "text/plain": [
       "<Figure size 432x288 with 1 Axes>"
      ]
     },
     "metadata": {
      "needs_background": "light",
      "tags": []
     },
     "output_type": "display_data"
    }
   ],
   "source": [
    "import matplotlib.pyplot as plt\n",
    "plt.figure()\n",
    "loss_np_array = np.array(loss_list)\n",
    "plt.plot(loss_np_array, alpha = 0.3)\n",
    "N = 60\n",
    "running_avg_loss = np.convolve(loss_np_array, np.ones((N,))/N, mode='valid')\n",
    "plt.plot(running_avg_loss, color='red')\n",
    "plt.title(\"Función de pérdida durante el entrenamiento\")"
   ]
  },
  {
   "cell_type": "markdown",
   "metadata": {
    "id": "sZx2Zs4NGYk6"
   },
   "source": [
    "Podemos ver como la función de pérdida tiende a disminuir hasta que a partir de un punto se mantiene estable. Esto quiere decir que ya se alcanzó el valor mínimo de la función de pérdida. "
   ]
  },
  {
   "cell_type": "markdown",
   "metadata": {
    "id": "GCCDp_5EHnx8"
   },
   "source": [
    "## Ejercicios:\n",
    " \n",
    "1. Complete el código para evaluar el desempeño de la red neuronal. \n",
    "2. Cambie la estructura de la red neuronal y mide como varía el desempeño y tiempo de entrenamiento."
   ]
  },
  {
   "cell_type": "code",
   "execution_count": null,
   "metadata": {
    "colab": {
     "base_uri": "https://localhost:8080/",
     "height": 286
    },
    "executionInfo": {
     "elapsed": 1649,
     "status": "ok",
     "timestamp": 1616873842909,
     "user": {
      "displayName": "Eloy Chang",
      "photoUrl": "https://lh3.googleusercontent.com/a-/AOh14GgRLNSQZH7KrWXAG7wddBuXed5jES-gkKQFaBTCVw=s64",
      "userId": "17300197049172320354"
     },
     "user_tz": 180
    },
    "id": "wR7rg4OFFuFv",
    "outputId": "10ecc8c3-9839-4b86-9820-34c2ebd0e67b"
   },
   "outputs": [
    {
     "data": {
      "text/plain": [
       "[<matplotlib.lines.Line2D at 0x7f2c0b320e10>]"
      ]
     },
     "execution_count": 10,
     "metadata": {
      "tags": []
     },
     "output_type": "execute_result"
    },
    {
     "data": {
      "image/png": "[encoded data removed]",
      "text/plain": [
       "<Figure size 432x288 with 1 Axes>"
      ]
     },
     "metadata": {
      "needs_background": "light",
      "tags": []
     },
     "output_type": "display_data"
    }
   ],
   "source": [
    "from sklearn.linear_model import LinearRegression\n",
    "\n",
    "pred = net(torch.FloatTensor(X_test)).detach().numpy()\n",
    "plt.plot(pred, ____, 'o')\n",
    "plt.ylim((0,50))\n",
    "plt.xlim((0,50))\n",
    "X, Y = pred.reshape(-1,1), y_test.reshape(-1,1)\n",
    "plt.plot( X, LinearRegression().____(X, Y).predict(___))"
   ]
  },
  {
   "cell_type": "markdown",
   "metadata": {
    "id": "F7H9I3g-KBn-"
   },
   "source": [
    "## Redes convolucionales\n",
    " \n",
    "Con pytorch podemos trabajar tanto perceptrones multicapa como redes convolucionales y otros tipos de redes.\n",
    " \n",
    "Lo único que debemos cambiar en la estructura es, en lugar de agregar capas lineales agregar capas convolucionales. Veamos un ejemplo clásico con el dataset mnist, el cual consiste de números escritos a mano, y lo que se busca es entrenar una red en el que se identifiquen correctamente estos dígitos. \n",
    " \n",
    "Lo primero que debemos hacer es cargar los datos, que en este caso ya se encuentran divididos en entrenamiento y prueba."
   ]
  },
  {
   "cell_type": "code",
   "execution_count": null,
   "metadata": {
    "colab": {
     "base_uri": "https://localhost:8080/",
     "height": 1000,
     "referenced_widgets": [
      "d42de7bbdd3a4a289f1511d34b3f41bf",
      "ff17ea69d60c4dbdb5c8d2673b6854f3",
      "620da7dd71824aec968f1573b0426e00",
      "fc5714b2622a4a8cbfaad9ac38e4f141",
      "613425be60414bc89ebfc15ada8dfda0",
      "d593692e5ec64a649656538c55212da9",
      "c47d3d882f37454d939fa553ca159a31",
      "e4410828a0e64e16b0e71c6a35b37683",
      "5aaa971e0d2840229da1b282480b6c00",
      "8b5983108c734e87bf3bbd3cb8472efb",
      "8d879d9b7d51436293734e8def3c3829",
      "61e178603f84491387ed4504c34443ed",
      "67a22f780fe0453fb759d93179d86743",
      "04371cd64235489db4b7e13a0de2e0d5",
      "9a6fb7b47779438a89c691961d73d555",
      "d21ca41b6159406493f7ee28c6de3c74",
      "6531a7d33af44973b0126d5e54529559",
      "5bccecee4d9e4017a7476e9f92fe80dc",
      "b75be3ab07774f7eb5364f404fb93594",
      "d88f2615b5fa4109b018cdffd97b0ac5",
      "ca127ae149e040fb91d6536cece20679",
      "33b3e82a79ba4caf9007859aa47c3903",
      "3d91d4cc11ac45a399ee1f20bb6cc0f2",
      "d5b48987912a4534abf9887bcb04e260",
      "b2fa7283e3df4333ba45899694ee2232",
      "1092a9b2b0ae4d9780c0ae56358bead7",
      "84919d65bc2248c29431b4d2441c30ae",
      "cb94ea89788b4c68a0f5542dd095efe3",
      "b614018ceeba4e7f9b6b87f157da7655",
      "3fa98166bda94887bfb15fdb86b10f97",
      "669639d1317a47ee8c98dfc355e688ba",
      "cd02c221f2404ea5b6e303cd9c5ce155"
     ]
    },
    "executionInfo": {
     "elapsed": 92071,
     "status": "ok",
     "timestamp": 1616873933338,
     "user": {
      "displayName": "Eloy Chang",
      "photoUrl": "https://lh3.googleusercontent.com/a-/AOh14GgRLNSQZH7KrWXAG7wddBuXed5jES-gkKQFaBTCVw=s64",
      "userId": "17300197049172320354"
     },
     "user_tz": 180
    },
    "id": "5WAwvePsHKEb",
    "outputId": "49be8687-a4cc-4aa8-8e6e-91206821d203"
   },
   "outputs": [
    {
     "name": "stdout",
     "output_type": "stream",
     "text": [
      "Downloading http://yann.lecun.com/exdb/mnist/train-images-idx3-ubyte.gz to ./data/MNIST/raw/train-images-idx3-ubyte.gz\n"
     ]
    },
    {
     "data": {
      "application/vnd.jupyter.widget-view+json": {
       "model_id": "d42de7bbdd3a4a289f1511d34b3f41bf",
       "version_major": 2,
       "version_minor": 0
      },
      "text/plain": [
       "HBox(children=(FloatProgress(value=0.0, max=9912422.0), HTML(value='')))"
      ]
     },
     "metadata": {
      "tags": []
     },
     "output_type": "display_data"
    },
    {
     "name": "stdout",
     "output_type": "stream",
     "text": [
      "\n",
      "Extracting ./data/MNIST/raw/train-images-idx3-ubyte.gz to ./data/MNIST/raw\n",
      "Downloading http://yann.lecun.com/exdb/mnist/train-labels-idx1-ubyte.gz to ./data/MNIST/raw/train-labels-idx1-ubyte.gz\n"
     ]
    },
    {
     "data": {
      "application/vnd.jupyter.widget-view+json": {
       "model_id": "5aaa971e0d2840229da1b282480b6c00",
       "version_major": 2,
       "version_minor": 0
      },
      "text/plain": [
       "HBox(children=(FloatProgress(value=0.0, max=28881.0), HTML(value='')))"
      ]
     },
     "metadata": {
      "tags": []
     },
     "output_type": "display_data"
    },
    {
     "name": "stdout",
     "output_type": "stream",
     "text": [
      "\n",
      "Extracting ./data/MNIST/raw/train-labels-idx1-ubyte.gz to ./data/MNIST/raw\n",
      "Downloading http://yann.lecun.com/exdb/mnist/t10k-images-idx3-ubyte.gz to ./data/MNIST/raw/t10k-images-idx3-ubyte.gz\n"
     ]
    },
    {
     "data": {
      "application/vnd.jupyter.widget-view+json": {
       "model_id": "6531a7d33af44973b0126d5e54529559",
       "version_major": 2,
       "version_minor": 0
      },
      "text/plain": [
       "HBox(children=(FloatProgress(value=0.0, max=1648877.0), HTML(value='')))"
      ]
     },
     "metadata": {
      "tags": []
     },
     "output_type": "display_data"
    },
    {
     "name": "stdout",
     "output_type": "stream",
     "text": [
      "\n",
      "Extracting ./data/MNIST/raw/t10k-images-idx3-ubyte.gz to ./data/MNIST/raw\n",
      "Downloading http://yann.lecun.com/exdb/mnist/t10k-labels-idx1-ubyte.gz to ./data/MNIST/raw/t10k-labels-idx1-ubyte.gz\n"
     ]
    },
    {
     "data": {
      "application/vnd.jupyter.widget-view+json": {
       "model_id": "b2fa7283e3df4333ba45899694ee2232",
       "version_major": 2,
       "version_minor": 0
      },
      "text/plain": [
       "HBox(children=(FloatProgress(value=0.0, max=4542.0), HTML(value='')))"
      ]
     },
     "metadata": {
      "tags": []
     },
     "output_type": "display_data"
    },
    {
     "name": "stdout",
     "output_type": "stream",
     "text": [
      "\n",
      "Extracting ./data/MNIST/raw/t10k-labels-idx1-ubyte.gz to ./data/MNIST/raw\n",
      "Processing...\n",
      "Done!\n"
     ]
    },
    {
     "name": "stderr",
     "output_type": "stream",
     "text": [
      "/usr/local/lib/python3.7/dist-packages/torchvision/datasets/mnist.py:479: UserWarning: The given NumPy array is not writeable, and PyTorch does not support non-writeable tensors. This means you can write to the underlying (supposedly non-writeable) NumPy array using the tensor. You may want to copy the array to protect its data or make it writeable before converting it to a tensor. This type of warning will be suppressed for the rest of this program. (Triggered internally at  /pytorch/torch/csrc/utils/tensor_numpy.cpp:143.)\n",
      "  return torch.from_numpy(parsed.astype(m[2], copy=False)).view(*s)\n",
      "/usr/local/lib/python3.7/dist-packages/torchvision/datasets/mnist.py:58: UserWarning: train_data has been renamed data\n",
      "  warnings.warn(\"train_data has been renamed data\")\n"
     ]
    },
    {
     "data": {
      "image/png": "[encoded data removed]",
      "text/plain": [
       "<Figure size 864x720 with 16 Axes>"
      ]
     },
     "metadata": {
      "needs_background": "light",
      "tags": []
     },
     "output_type": "display_data"
    }
   ],
   "source": [
    "# Esta celda puede tardar unos minutos.\n",
    "\n",
    "import torchvision\n",
    "import torchvision.datasets as datasets\n",
    "\n",
    "import matplotlib.pyplot as plt\n",
    "import numpy as np\n",
    "\n",
    "from six.moves import urllib\n",
    "opener = urllib.request.build_opener()\n",
    "opener.addheaders = [(\"User-agent\", \"Mozilla/5.0\")]\n",
    "urllib.request.install_opener(opener)\n",
    "\n",
    "plt.rcParams['figure.figsize'] = [12, 10]\n",
    "\n",
    "mnist_train = datasets.MNIST(root='./data', train=True, download=True, transform=torchvision.transforms.ToTensor())\n",
    "mnist_test = datasets.MNIST(root='./data', train=False, download=True, transform=torchvision.transforms.ToTensor())\n",
    "\n",
    "\n",
    "for i in range(1,17):\n",
    "    plt.subplot(4,4,i)\n",
    "    plt.imshow(mnist_train.train_data[i,:,:], cmap=plt.get_cmap('gray_r'))"
   ]
  },
  {
   "cell_type": "markdown",
   "metadata": {
    "id": "qpEeR2uBLKLz"
   },
   "source": [
    "Luego definimos la arquitectura de la red, en este caso serán dos capas convolucionales, ambas seguidas de capas de max pooling (reducción de dimensionalidad), finalmente conectaremos un perceptrón multicapa para realizar la clasificación.  "
   ]
  },
  {
   "cell_type": "code",
   "execution_count": null,
   "metadata": {
    "id": "f3CgisA6K5CG"
   },
   "outputs": [],
   "source": [
    "class NetCNN(nn.Module):\n",
    "\n",
    "    def __init__(self):\n",
    "        super(NetCNN, self).__init__()\n",
    "        self.conv1 = nn.Conv2d(1,6,3, padding = 1)\n",
    "        self.conv2 = nn.Conv2d(6,16,3, padding = 1)\n",
    "        self.fc1 = nn.Linear(784,120)\n",
    "        self.fc2 = nn.Linear(120, 84)\n",
    "        self.fc3 = nn.Linear(84,10)\n",
    "\n",
    "    def forward(self, x):\n",
    "        x = F.max_pool2d(F.relu(self.conv1(x)), (2,2))\n",
    "        x = F.max_pool2d(F.relu(self.conv2(x)), (2,2))\n",
    "        # Pasamos de red convolucional a perceptron multicapa.\n",
    "        x = x.view(x.size()[0], 784)\n",
    "        x = F.relu(self.fc1(x))\n",
    "        x = F.relu(self.fc2(x))\n",
    "        x = self.fc3(x)\n",
    "        return x"
   ]
  },
  {
   "cell_type": "markdown",
   "metadata": {
    "id": "lvnt_ntZL5Py"
   },
   "source": [
    "Luego entrenamos la red de la misma forma que en el ejercicio anterior."
   ]
  },
  {
   "cell_type": "code",
   "execution_count": null,
   "metadata": {
    "colab": {
     "base_uri": "https://localhost:8080/",
     "height": 691
    },
    "executionInfo": {
     "elapsed": 1126963,
     "status": "ok",
     "timestamp": 1616858719456,
     "user": {
      "displayName": "Eloy Chang",
      "photoUrl": "https://lh3.googleusercontent.com/a-/AOh14GgRLNSQZH7KrWXAG7wddBuXed5jES-gkKQFaBTCVw=s64",
      "userId": "17300197049172320354"
     },
     "user_tz": 180
    },
    "id": "MtAxeU-VK7O1",
    "outputId": "955558ec-1073-4986-ace3-818c4d84a7a2"
   },
   "outputs": [
    {
     "name": "stdout",
     "output_type": "stream",
     "text": [
      "Epoch 10, loss = 0.18504\n",
      "Epoch 20, loss = 0.0682434\n",
      "Epoch 30, loss = 0.00250352\n",
      "Epoch 40, loss = 0.0234465\n"
     ]
    },
    {
     "data": {
      "text/plain": [
       "Text(0.5, 1.0, 'Función de pérdida durante el entrenamiento')"
      ]
     },
     "execution_count": 11,
     "metadata": {
      "tags": []
     },
     "output_type": "execute_result"
    },
    {
     "data": {
      "image/png": "[encoded data removed]",
      "text/plain": [
       "<Figure size 864x720 with 1 Axes>"
      ]
     },
     "metadata": {
      "needs_background": "light",
      "tags": []
     },
     "output_type": "display_data"
    }
   ],
   "source": [
    "# establecemos los hiper parametros de entrenamiento\n",
    "\n",
    "batch_size = 50\n",
    "learning_rate = 0.0001\n",
    "num_epochs = 50\n",
    "\n",
    "# definimos el uso de GPU en lugar de CPU\n",
    "device = torch.device('cuda:0')\n",
    "\n",
    "# Inicializamos la red\n",
    "net = NetCNN()\n",
    "net.to(device)\n",
    "\n",
    "# Optimizador\n",
    "optimizer = torch.optim.Adam(net.parameters(), lr=learning_rate)\n",
    "criterion = torch.nn.CrossEntropyLoss() \n",
    "\n",
    "# Objetos auxiliares\n",
    "loader = DataLoader(dataset=mnist_train, batch_size=batch_size, shuffle=True)\n",
    "loss_list = []\n",
    "\n",
    "# Bucle de entrenamiento\n",
    "for i in range(num_epochs):\n",
    "    for x, y in loader:\n",
    "        \n",
    "        optimizer.zero_grad()\n",
    "        x = x.to(device)\n",
    "        y = y.to(device)\n",
    "\n",
    "        loss = criterion(net(x), y)\n",
    "        loss.backward()\n",
    "        optimizer.step()\n",
    "\n",
    "        loss_list.append(loss.data.item())\n",
    "\n",
    "    if i > 0 and i % 10 == 0:\n",
    "      print('Epoch %d, loss = %g' % (i, loss))\n",
    "\n",
    "# Muestro la lista que contiene los valores de la función de pérdida\n",
    "# y una versión suavizada (rojo) para observar la tendencia\n",
    "plt.figure()\n",
    "loss_np_array = np.array(loss_list)\n",
    "plt.plot(loss_np_array, alpha = 0.3)\n",
    "N = 60\n",
    "running_avg_loss = np.convolve(loss_np_array, np.ones((N,))/N, mode='valid')\n",
    "plt.plot(running_avg_loss, color='red')\n",
    "plt.title(\"Función de pérdida durante el entrenamiento\")\n"
   ]
  },
  {
   "cell_type": "code",
   "execution_count": null,
   "metadata": {
    "id": "6jUuAtQDMrBU"
   },
   "outputs": [],
   "source": []
  }
 ],
 "metadata": {
  "accelerator": "GPU",
  "colab": {
   "name": "Redes Neuronales.ipynb",
   "provenance": []
  },
  "kernelspec": {
   "display_name": "Python 3 (ipykernel)",
   "language": "python",
   "name": "python3"
  },
  "language_info": {
   "codemirror_mode": {
    "name": "ipython",
    "version": 3
   },
   "file_extension": ".py",
   "mimetype": "text/x-python",
   "name": "python",
   "nbconvert_exporter": "python",
   "pygments_lexer": "ipython3",
   "version": "3.9.13"
  },
  "widgets": {
   "application/vnd.jupyter.widget-state+json": {
    "04371cd64235489db4b7e13a0de2e0d5": {
     "model_module": "@jupyter-widgets/base",
     "model_name": "LayoutModel",
     "state": {
      "_model_module": "@jupyter-widgets/base",
      "_model_module_version": "1.2.0",
      "_model_name": "LayoutModel",
      "_view_count": null,
      "_view_module": "@jupyter-widgets/base",
      "_view_module_version": "1.2.0",
      "_view_name": "LayoutView",
      "align_content": null,
      "align_items": null,
      "align_self": null,
      "border": null,
      "bottom": null,
      "display": null,
      "flex": null,
      "flex_flow": null,
      "grid_area": null,
      "grid_auto_columns": null,
      "grid_auto_flow": null,
      "grid_auto_rows": null,
      "grid_column": null,
      "grid_gap": null,
      "grid_row": null,
      "grid_template_areas": null,
      "grid_template_columns": null,
      "grid_template_rows": null,
      "height": null,
      "justify_content": null,
      "justify_items": null,
      "left": null,
      "margin": null,
      "max_height": null,
      "max_width": null,
      "min_height": null,
      "min_width": null,
      "object_fit": null,
      "object_position": null,
      "order": null,
      "overflow": null,
      "overflow_x": null,
      "overflow_y": null,
      "padding": null,
      "right": null,
      "top": null,
      "visibility": null,
      "width": null
     }
    },
    "1092a9b2b0ae4d9780c0ae56358bead7": {
     "model_module": "@jupyter-widgets/base",
     "model_name": "LayoutModel",
     "state": {
      "_model_module": "@jupyter-widgets/base",
      "_model_module_version": "1.2.0",
      "_model_name": "LayoutModel",
      "_view_count": null,
      "_view_module": "@jupyter-widgets/base",
      "_view_module_version": "1.2.0",
      "_view_name": "LayoutView",
      "align_content": null,
      "align_items": null,
      "align_self": null,
      "border": null,
      "bottom": null,
      "display": null,
      "flex": null,
      "flex_flow": null,
      "grid_area": null,
      "grid_auto_columns": null,
      "grid_auto_flow": null,
      "grid_auto_rows": null,
      "grid_column": null,
      "grid_gap": null,
      "grid_row": null,
      "grid_template_areas": null,
      "grid_template_columns": null,
      "grid_template_rows": null,
      "height": null,
      "justify_content": null,
      "justify_items": null,
      "left": null,
      "margin": null,
      "max_height": null,
      "max_width": null,
      "min_height": null,
      "min_width": null,
      "object_fit": null,
      "object_position": null,
      "order": null,
      "overflow": null,
      "overflow_x": null,
      "overflow_y": null,
      "padding": null,
      "right": null,
      "top": null,
      "visibility": null,
      "width": null
     }
    },
    "33b3e82a79ba4caf9007859aa47c3903": {
     "model_module": "@jupyter-widgets/base",
     "model_name": "LayoutModel",
     "state": {
      "_model_module": "@jupyter-widgets/base",
      "_model_module_version": "1.2.0",
      "_model_name": "LayoutModel",
      "_view_count": null,
      "_view_module": "@jupyter-widgets/base",
      "_view_module_version": "1.2.0",
      "_view_name": "LayoutView",
      "align_content": null,
      "align_items": null,
      "align_self": null,
      "border": null,
      "bottom": null,
      "display": null,
      "flex": null,
      "flex_flow": null,
      "grid_area": null,
      "grid_auto_columns": null,
      "grid_auto_flow": null,
      "grid_auto_rows": null,
      "grid_column": null,
      "grid_gap": null,
      "grid_row": null,
      "grid_template_areas": null,
      "grid_template_columns": null,
      "grid_template_rows": null,
      "height": null,
      "justify_content": null,
      "justify_items": null,
      "left": null,
      "margin": null,
      "max_height": null,
      "max_width": null,
      "min_height": null,
      "min_width": null,
      "object_fit": null,
      "object_position": null,
      "order": null,
      "overflow": null,
      "overflow_x": null,
      "overflow_y": null,
      "padding": null,
      "right": null,
      "top": null,
      "visibility": null,
      "width": null
     }
    },
    "3d91d4cc11ac45a399ee1f20bb6cc0f2": {
     "model_module": "@jupyter-widgets/controls",
     "model_name": "DescriptionStyleModel",
     "state": {
      "_model_module": "@jupyter-widgets/controls",
      "_model_module_version": "1.5.0",
      "_model_name": "DescriptionStyleModel",
      "_view_count": null,
      "_view_module": "@jupyter-widgets/base",
      "_view_module_version": "1.2.0",
      "_view_name": "StyleView",
      "description_width": ""
     }
    },
    "3fa98166bda94887bfb15fdb86b10f97": {
     "model_module": "@jupyter-widgets/base",
     "model_name": "LayoutModel",
     "state": {
      "_model_module": "@jupyter-widgets/base",
      "_model_module_version": "1.2.0",
      "_model_name": "LayoutModel",
      "_view_count": null,
      "_view_module": "@jupyter-widgets/base",
      "_view_module_version": "1.2.0",
      "_view_name": "LayoutView",
      "align_content": null,
      "align_items": null,
      "align_self": null,
      "border": null,
      "bottom": null,
      "display": null,
      "flex": null,
      "flex_flow": null,
      "grid_area": null,
      "grid_auto_columns": null,
      "grid_auto_flow": null,
      "grid_auto_rows": null,
      "grid_column": null,
      "grid_gap": null,
      "grid_row": null,
      "grid_template_areas": null,
      "grid_template_columns": null,
      "grid_template_rows": null,
      "height": null,
      "justify_content": null,
      "justify_items": null,
      "left": null,
      "margin": null,
      "max_height": null,
      "max_width": null,
      "min_height": null,
      "min_width": null,
      "object_fit": null,
      "object_position": null,
      "order": null,
      "overflow": null,
      "overflow_x": null,
      "overflow_y": null,
      "padding": null,
      "right": null,
      "top": null,
      "visibility": null,
      "width": null
     }
    },
    "5aaa971e0d2840229da1b282480b6c00": {
     "model_module": "@jupyter-widgets/controls",
     "model_name": "HBoxModel",
     "state": {
      "_dom_classes": [],
      "_model_module": "@jupyter-widgets/controls",
      "_model_module_version": "1.5.0",
      "_model_name": "HBoxModel",
      "_view_count": null,
      "_view_module": "@jupyter-widgets/controls",
      "_view_module_version": "1.5.0",
      "_view_name": "HBoxView",
      "box_style": "",
      "children": [
       "IPY_MODEL_8d879d9b7d51436293734e8def3c3829",
       "IPY_MODEL_61e178603f84491387ed4504c34443ed"
      ],
      "layout": "IPY_MODEL_8b5983108c734e87bf3bbd3cb8472efb"
     }
    },
    "5bccecee4d9e4017a7476e9f92fe80dc": {
     "model_module": "@jupyter-widgets/base",
     "model_name": "LayoutModel",
     "state": {
      "_model_module": "@jupyter-widgets/base",
      "_model_module_version": "1.2.0",
      "_model_name": "LayoutModel",
      "_view_count": null,
      "_view_module": "@jupyter-widgets/base",
      "_view_module_version": "1.2.0",
      "_view_name": "LayoutView",
      "align_content": null,
      "align_items": null,
      "align_self": null,
      "border": null,
      "bottom": null,
      "display": null,
      "flex": null,
      "flex_flow": null,
      "grid_area": null,
      "grid_auto_columns": null,
      "grid_auto_flow": null,
      "grid_auto_rows": null,
      "grid_column": null,
      "grid_gap": null,
      "grid_row": null,
      "grid_template_areas": null,
      "grid_template_columns": null,
      "grid_template_rows": null,
      "height": null,
      "justify_content": null,
      "justify_items": null,
      "left": null,
      "margin": null,
      "max_height": null,
      "max_width": null,
      "min_height": null,
      "min_width": null,
      "object_fit": null,
      "object_position": null,
      "order": null,
      "overflow": null,
      "overflow_x": null,
      "overflow_y": null,
      "padding": null,
      "right": null,
      "top": null,
      "visibility": null,
      "width": null
     }
    },
    "613425be60414bc89ebfc15ada8dfda0": {
     "model_module": "@jupyter-widgets/controls",
     "model_name": "ProgressStyleModel",
     "state": {
      "_model_module": "@jupyter-widgets/controls",
      "_model_module_version": "1.5.0",
      "_model_name": "ProgressStyleModel",
      "_view_count": null,
      "_view_module": "@jupyter-widgets/base",
      "_view_module_version": "1.2.0",
      "_view_name": "StyleView",
      "bar_color": null,
      "description_width": "initial"
     }
    },
    "61e178603f84491387ed4504c34443ed": {
     "model_module": "@jupyter-widgets/controls",
     "model_name": "HTMLModel",
     "state": {
      "_dom_classes": [],
      "_model_module": "@jupyter-widgets/controls",
      "_model_module_version": "1.5.0",
      "_model_name": "HTMLModel",
      "_view_count": null,
      "_view_module": "@jupyter-widgets/controls",
      "_view_module_version": "1.5.0",
      "_view_name": "HTMLView",
      "description": "",
      "description_tooltip": null,
      "layout": "IPY_MODEL_d21ca41b6159406493f7ee28c6de3c74",
      "placeholder": "​",
      "style": "IPY_MODEL_9a6fb7b47779438a89c691961d73d555",
      "value": " 29696/? [00:07&lt;00:00, 3838.42it/s]"
     }
    },
    "620da7dd71824aec968f1573b0426e00": {
     "model_module": "@jupyter-widgets/controls",
     "model_name": "FloatProgressModel",
     "state": {
      "_dom_classes": [],
      "_model_module": "@jupyter-widgets/controls",
      "_model_module_version": "1.5.0",
      "_model_name": "FloatProgressModel",
      "_view_count": null,
      "_view_module": "@jupyter-widgets/controls",
      "_view_module_version": "1.5.0",
      "_view_name": "ProgressView",
      "bar_style": "success",
      "description": "",
      "description_tooltip": null,
      "layout": "IPY_MODEL_d593692e5ec64a649656538c55212da9",
      "max": 9912422,
      "min": 0,
      "orientation": "horizontal",
      "style": "IPY_MODEL_613425be60414bc89ebfc15ada8dfda0",
      "value": 9912422
     }
    },
    "6531a7d33af44973b0126d5e54529559": {
     "model_module": "@jupyter-widgets/controls",
     "model_name": "HBoxModel",
     "state": {
      "_dom_classes": [],
      "_model_module": "@jupyter-widgets/controls",
      "_model_module_version": "1.5.0",
      "_model_name": "HBoxModel",
      "_view_count": null,
      "_view_module": "@jupyter-widgets/controls",
      "_view_module_version": "1.5.0",
      "_view_name": "HBoxView",
      "box_style": "",
      "children": [
       "IPY_MODEL_b75be3ab07774f7eb5364f404fb93594",
       "IPY_MODEL_d88f2615b5fa4109b018cdffd97b0ac5"
      ],
      "layout": "IPY_MODEL_5bccecee4d9e4017a7476e9f92fe80dc"
     }
    },
    "669639d1317a47ee8c98dfc355e688ba": {
     "model_module": "@jupyter-widgets/controls",
     "model_name": "DescriptionStyleModel",
     "state": {
      "_model_module": "@jupyter-widgets/controls",
      "_model_module_version": "1.5.0",
      "_model_name": "DescriptionStyleModel",
      "_view_count": null,
      "_view_module": "@jupyter-widgets/base",
      "_view_module_version": "1.2.0",
      "_view_name": "StyleView",
      "description_width": ""
     }
    },
    "67a22f780fe0453fb759d93179d86743": {
     "model_module": "@jupyter-widgets/controls",
     "model_name": "ProgressStyleModel",
     "state": {
      "_model_module": "@jupyter-widgets/controls",
      "_model_module_version": "1.5.0",
      "_model_name": "ProgressStyleModel",
      "_view_count": null,
      "_view_module": "@jupyter-widgets/base",
      "_view_module_version": "1.2.0",
      "_view_name": "StyleView",
      "bar_color": null,
      "description_width": "initial"
     }
    },
    "84919d65bc2248c29431b4d2441c30ae": {
     "model_module": "@jupyter-widgets/controls",
     "model_name": "FloatProgressModel",
     "state": {
      "_dom_classes": [],
      "_model_module": "@jupyter-widgets/controls",
      "_model_module_version": "1.5.0",
      "_model_name": "FloatProgressModel",
      "_view_count": null,
      "_view_module": "@jupyter-widgets/controls",
      "_view_module_version": "1.5.0",
      "_view_name": "ProgressView",
      "bar_style": "success",
      "description": "",
      "description_tooltip": null,
      "layout": "IPY_MODEL_3fa98166bda94887bfb15fdb86b10f97",
      "max": 4542,
      "min": 0,
      "orientation": "horizontal",
      "style": "IPY_MODEL_b614018ceeba4e7f9b6b87f157da7655",
      "value": 4542
     }
    },
    "8b5983108c734e87bf3bbd3cb8472efb": {
     "model_module": "@jupyter-widgets/base",
     "model_name": "LayoutModel",
     "state": {
      "_model_module": "@jupyter-widgets/base",
      "_model_module_version": "1.2.0",
      "_model_name": "LayoutModel",
      "_view_count": null,
      "_view_module": "@jupyter-widgets/base",
      "_view_module_version": "1.2.0",
      "_view_name": "LayoutView",
      "align_content": null,
      "align_items": null,
      "align_self": null,
      "border": null,
      "bottom": null,
      "display": null,
      "flex": null,
      "flex_flow": null,
      "grid_area": null,
      "grid_auto_columns": null,
      "grid_auto_flow": null,
      "grid_auto_rows": null,
      "grid_column": null,
      "grid_gap": null,
      "grid_row": null,
      "grid_template_areas": null,
      "grid_template_columns": null,
      "grid_template_rows": null,
      "height": null,
      "justify_content": null,
      "justify_items": null,
      "left": null,
      "margin": null,
      "max_height": null,
      "max_width": null,
      "min_height": null,
      "min_width": null,
      "object_fit": null,
      "object_position": null,
      "order": null,
      "overflow": null,
      "overflow_x": null,
      "overflow_y": null,
      "padding": null,
      "right": null,
      "top": null,
      "visibility": null,
      "width": null
     }
    },
    "8d879d9b7d51436293734e8def3c3829": {
     "model_module": "@jupyter-widgets/controls",
     "model_name": "FloatProgressModel",
     "state": {
      "_dom_classes": [],
      "_model_module": "@jupyter-widgets/controls",
      "_model_module_version": "1.5.0",
      "_model_name": "FloatProgressModel",
      "_view_count": null,
      "_view_module": "@jupyter-widgets/controls",
      "_view_module_version": "1.5.0",
      "_view_name": "ProgressView",
      "bar_style": "success",
      "description": "",
      "description_tooltip": null,
      "layout": "IPY_MODEL_04371cd64235489db4b7e13a0de2e0d5",
      "max": 28881,
      "min": 0,
      "orientation": "horizontal",
      "style": "IPY_MODEL_67a22f780fe0453fb759d93179d86743",
      "value": 28881
     }
    },
    "9a6fb7b47779438a89c691961d73d555": {
     "model_module": "@jupyter-widgets/controls",
     "model_name": "DescriptionStyleModel",
     "state": {
      "_model_module": "@jupyter-widgets/controls",
      "_model_module_version": "1.5.0",
      "_model_name": "DescriptionStyleModel",
      "_view_count": null,
      "_view_module": "@jupyter-widgets/base",
      "_view_module_version": "1.2.0",
      "_view_name": "StyleView",
      "description_width": ""
     }
    },
    "b2fa7283e3df4333ba45899694ee2232": {
     "model_module": "@jupyter-widgets/controls",
     "model_name": "HBoxModel",
     "state": {
      "_dom_classes": [],
      "_model_module": "@jupyter-widgets/controls",
      "_model_module_version": "1.5.0",
      "_model_name": "HBoxModel",
      "_view_count": null,
      "_view_module": "@jupyter-widgets/controls",
      "_view_module_version": "1.5.0",
      "_view_name": "HBoxView",
      "box_style": "",
      "children": [
       "IPY_MODEL_84919d65bc2248c29431b4d2441c30ae",
       "IPY_MODEL_cb94ea89788b4c68a0f5542dd095efe3"
      ],
      "layout": "IPY_MODEL_1092a9b2b0ae4d9780c0ae56358bead7"
     }
    },
    "b614018ceeba4e7f9b6b87f157da7655": {
     "model_module": "@jupyter-widgets/controls",
     "model_name": "ProgressStyleModel",
     "state": {
      "_model_module": "@jupyter-widgets/controls",
      "_model_module_version": "1.5.0",
      "_model_name": "ProgressStyleModel",
      "_view_count": null,
      "_view_module": "@jupyter-widgets/base",
      "_view_module_version": "1.2.0",
      "_view_name": "StyleView",
      "bar_color": null,
      "description_width": "initial"
     }
    },
    "b75be3ab07774f7eb5364f404fb93594": {
     "model_module": "@jupyter-widgets/controls",
     "model_name": "FloatProgressModel",
     "state": {
      "_dom_classes": [],
      "_model_module": "@jupyter-widgets/controls",
      "_model_module_version": "1.5.0",
      "_model_name": "FloatProgressModel",
      "_view_count": null,
      "_view_module": "@jupyter-widgets/controls",
      "_view_module_version": "1.5.0",
      "_view_name": "ProgressView",
      "bar_style": "success",
      "description": "",
      "description_tooltip": null,
      "layout": "IPY_MODEL_33b3e82a79ba4caf9007859aa47c3903",
      "max": 1648877,
      "min": 0,
      "orientation": "horizontal",
      "style": "IPY_MODEL_ca127ae149e040fb91d6536cece20679",
      "value": 1648877
     }
    },
    "c47d3d882f37454d939fa553ca159a31": {
     "model_module": "@jupyter-widgets/controls",
     "model_name": "DescriptionStyleModel",
     "state": {
      "_model_module": "@jupyter-widgets/controls",
      "_model_module_version": "1.5.0",
      "_model_name": "DescriptionStyleModel",
      "_view_count": null,
      "_view_module": "@jupyter-widgets/base",
      "_view_module_version": "1.2.0",
      "_view_name": "StyleView",
      "description_width": ""
     }
    },
    "ca127ae149e040fb91d6536cece20679": {
     "model_module": "@jupyter-widgets/controls",
     "model_name": "ProgressStyleModel",
     "state": {
      "_model_module": "@jupyter-widgets/controls",
      "_model_module_version": "1.5.0",
      "_model_name": "ProgressStyleModel",
      "_view_count": null,
      "_view_module": "@jupyter-widgets/base",
      "_view_module_version": "1.2.0",
      "_view_name": "StyleView",
      "bar_color": null,
      "description_width": "initial"
     }
    },
    "cb94ea89788b4c68a0f5542dd095efe3": {
     "model_module": "@jupyter-widgets/controls",
     "model_name": "HTMLModel",
     "state": {
      "_dom_classes": [],
      "_model_module": "@jupyter-widgets/controls",
      "_model_module_version": "1.5.0",
      "_model_name": "HTMLModel",
      "_view_count": null,
      "_view_module": "@jupyter-widgets/controls",
      "_view_module_version": "1.5.0",
      "_view_name": "HTMLView",
      "description": "",
      "description_tooltip": null,
      "layout": "IPY_MODEL_cd02c221f2404ea5b6e303cd9c5ce155",
      "placeholder": "​",
      "style": "IPY_MODEL_669639d1317a47ee8c98dfc355e688ba",
      "value": " 5120/? [00:00&lt;00:00, 28368.98it/s]"
     }
    },
    "cd02c221f2404ea5b6e303cd9c5ce155": {
     "model_module": "@jupyter-widgets/base",
     "model_name": "LayoutModel",
     "state": {
      "_model_module": "@jupyter-widgets/base",
      "_model_module_version": "1.2.0",
      "_model_name": "LayoutModel",
      "_view_count": null,
      "_view_module": "@jupyter-widgets/base",
      "_view_module_version": "1.2.0",
      "_view_name": "LayoutView",
      "align_content": null,
      "align_items": null,
      "align_self": null,
      "border": null,
      "bottom": null,
      "display": null,
      "flex": null,
      "flex_flow": null,
      "grid_area": null,
      "grid_auto_columns": null,
      "grid_auto_flow": null,
      "grid_auto_rows": null,
      "grid_column": null,
      "grid_gap": null,
      "grid_row": null,
      "grid_template_areas": null,
      "grid_template_columns": null,
      "grid_template_rows": null,
      "height": null,
      "justify_content": null,
      "justify_items": null,
      "left": null,
      "margin": null,
      "max_height": null,
      "max_width": null,
      "min_height": null,
      "min_width": null,
      "object_fit": null,
      "object_position": null,
      "order": null,
      "overflow": null,
      "overflow_x": null,
      "overflow_y": null,
      "padding": null,
      "right": null,
      "top": null,
      "visibility": null,
      "width": null
     }
    },
    "d21ca41b6159406493f7ee28c6de3c74": {
     "model_module": "@jupyter-widgets/base",
     "model_name": "LayoutModel",
     "state": {
      "_model_module": "@jupyter-widgets/base",
      "_model_module_version": "1.2.0",
      "_model_name": "LayoutModel",
      "_view_count": null,
      "_view_module": "@jupyter-widgets/base",
      "_view_module_version": "1.2.0",
      "_view_name": "LayoutView",
      "align_content": null,
      "align_items": null,
      "align_self": null,
      "border": null,
      "bottom": null,
      "display": null,
      "flex": null,
      "flex_flow": null,
      "grid_area": null,
      "grid_auto_columns": null,
      "grid_auto_flow": null,
      "grid_auto_rows": null,
      "grid_column": null,
      "grid_gap": null,
      "grid_row": null,
      "grid_template_areas": null,
      "grid_template_columns": null,
      "grid_template_rows": null,
      "height": null,
      "justify_content": null,
      "justify_items": null,
      "left": null,
      "margin": null,
      "max_height": null,
      "max_width": null,
      "min_height": null,
      "min_width": null,
      "object_fit": null,
      "object_position": null,
      "order": null,
      "overflow": null,
      "overflow_x": null,
      "overflow_y": null,
      "padding": null,
      "right": null,
      "top": null,
      "visibility": null,
      "width": null
     }
    },
    "d42de7bbdd3a4a289f1511d34b3f41bf": {
     "model_module": "@jupyter-widgets/controls",
     "model_name": "HBoxModel",
     "state": {
      "_dom_classes": [],
      "_model_module": "@jupyter-widgets/controls",
      "_model_module_version": "1.5.0",
      "_model_name": "HBoxModel",
      "_view_count": null,
      "_view_module": "@jupyter-widgets/controls",
      "_view_module_version": "1.5.0",
      "_view_name": "HBoxView",
      "box_style": "",
      "children": [
       "IPY_MODEL_620da7dd71824aec968f1573b0426e00",
       "IPY_MODEL_fc5714b2622a4a8cbfaad9ac38e4f141"
      ],
      "layout": "IPY_MODEL_ff17ea69d60c4dbdb5c8d2673b6854f3"
     }
    },
    "d593692e5ec64a649656538c55212da9": {
     "model_module": "@jupyter-widgets/base",
     "model_name": "LayoutModel",
     "state": {
      "_model_module": "@jupyter-widgets/base",
      "_model_module_version": "1.2.0",
      "_model_name": "LayoutModel",
      "_view_count": null,
      "_view_module": "@jupyter-widgets/base",
      "_view_module_version": "1.2.0",
      "_view_name": "LayoutView",
      "align_content": null,
      "align_items": null,
      "align_self": null,
      "border": null,
      "bottom": null,
      "display": null,
      "flex": null,
      "flex_flow": null,
      "grid_area": null,
      "grid_auto_columns": null,
      "grid_auto_flow": null,
      "grid_auto_rows": null,
      "grid_column": null,
      "grid_gap": null,
      "grid_row": null,
      "grid_template_areas": null,
      "grid_template_columns": null,
      "grid_template_rows": null,
      "height": null,
      "justify_content": null,
      "justify_items": null,
      "left": null,
      "margin": null,
      "max_height": null,
      "max_width": null,
      "min_height": null,
      "min_width": null,
      "object_fit": null,
      "object_position": null,
      "order": null,
      "overflow": null,
      "overflow_x": null,
      "overflow_y": null,
      "padding": null,
      "right": null,
      "top": null,
      "visibility": null,
      "width": null
     }
    },
    "d5b48987912a4534abf9887bcb04e260": {
     "model_module": "@jupyter-widgets/base",
     "model_name": "LayoutModel",
     "state": {
      "_model_module": "@jupyter-widgets/base",
      "_model_module_version": "1.2.0",
      "_model_name": "LayoutModel",
      "_view_count": null,
      "_view_module": "@jupyter-widgets/base",
      "_view_module_version": "1.2.0",
      "_view_name": "LayoutView",
      "align_content": null,
      "align_items": null,
      "align_self": null,
      "border": null,
      "bottom": null,
      "display": null,
      "flex": null,
      "flex_flow": null,
      "grid_area": null,
      "grid_auto_columns": null,
      "grid_auto_flow": null,
      "grid_auto_rows": null,
      "grid_column": null,
      "grid_gap": null,
      "grid_row": null,
      "grid_template_areas": null,
      "grid_template_columns": null,
      "grid_template_rows": null,
      "height": null,
      "justify_content": null,
      "justify_items": null,
      "left": null,
      "margin": null,
      "max_height": null,
      "max_width": null,
      "min_height": null,
      "min_width": null,
      "object_fit": null,
      "object_position": null,
      "order": null,
      "overflow": null,
      "overflow_x": null,
      "overflow_y": null,
      "padding": null,
      "right": null,
      "top": null,
      "visibility": null,
      "width": null
     }
    },
    "d88f2615b5fa4109b018cdffd97b0ac5": {
     "model_module": "@jupyter-widgets/controls",
     "model_name": "HTMLModel",
     "state": {
      "_dom_classes": [],
      "_model_module": "@jupyter-widgets/controls",
      "_model_module_version": "1.5.0",
      "_model_name": "HTMLModel",
      "_view_count": null,
      "_view_module": "@jupyter-widgets/controls",
      "_view_module_version": "1.5.0",
      "_view_name": "HTMLView",
      "description": "",
      "description_tooltip": null,
      "layout": "IPY_MODEL_d5b48987912a4534abf9887bcb04e260",
      "placeholder": "​",
      "style": "IPY_MODEL_3d91d4cc11ac45a399ee1f20bb6cc0f2",
      "value": " 1649664/? [00:03&lt;00:00, 419893.37it/s]"
     }
    },
    "e4410828a0e64e16b0e71c6a35b37683": {
     "model_module": "@jupyter-widgets/base",
     "model_name": "LayoutModel",
     "state": {
      "_model_module": "@jupyter-widgets/base",
      "_model_module_version": "1.2.0",
      "_model_name": "LayoutModel",
      "_view_count": null,
      "_view_module": "@jupyter-widgets/base",
      "_view_module_version": "1.2.0",
      "_view_name": "LayoutView",
      "align_content": null,
      "align_items": null,
      "align_self": null,
      "border": null,
      "bottom": null,
      "display": null,
      "flex": null,
      "flex_flow": null,
      "grid_area": null,
      "grid_auto_columns": null,
      "grid_auto_flow": null,
      "grid_auto_rows": null,
      "grid_column": null,
      "grid_gap": null,
      "grid_row": null,
      "grid_template_areas": null,
      "grid_template_columns": null,
      "grid_template_rows": null,
      "height": null,
      "justify_content": null,
      "justify_items": null,
      "left": null,
      "margin": null,
      "max_height": null,
      "max_width": null,
      "min_height": null,
      "min_width": null,
      "object_fit": null,
      "object_position": null,
      "order": null,
      "overflow": null,
      "overflow_x": null,
      "overflow_y": null,
      "padding": null,
      "right": null,
      "top": null,
      "visibility": null,
      "width": null
     }
    },
    "fc5714b2622a4a8cbfaad9ac38e4f141": {
     "model_module": "@jupyter-widgets/controls",
     "model_name": "HTMLModel",
     "state": {
      "_dom_classes": [],
      "_model_module": "@jupyter-widgets/controls",
      "_model_module_version": "1.5.0",
      "_model_name": "HTMLModel",
      "_view_count": null,
      "_view_module": "@jupyter-widgets/controls",
      "_view_module_version": "1.5.0",
      "_view_name": "HTMLView",
      "description": "",
      "description_tooltip": null,
      "layout": "IPY_MODEL_e4410828a0e64e16b0e71c6a35b37683",
      "placeholder": "​",
      "style": "IPY_MODEL_c47d3d882f37454d939fa553ca159a31",
      "value": " 9913344/? [00:34&lt;00:00, 287350.97it/s]"
     }
    },
    "ff17ea69d60c4dbdb5c8d2673b6854f3": {
     "model_module": "@jupyter-widgets/base",
     "model_name": "LayoutModel",
     "state": {
      "_model_module": "@jupyter-widgets/base",
      "_model_module_version": "1.2.0",
      "_model_name": "LayoutModel",
      "_view_count": null,
      "_view_module": "@jupyter-widgets/base",
      "_view_module_version": "1.2.0",
      "_view_name": "LayoutView",
      "align_content": null,
      "align_items": null,
      "align_self": null,
      "border": null,
      "bottom": null,
      "display": null,
      "flex": null,
      "flex_flow": null,
      "grid_area": null,
      "grid_auto_columns": null,
      "grid_auto_flow": null,
      "grid_auto_rows": null,
      "grid_column": null,
      "grid_gap": null,
      "grid_row": null,
      "grid_template_areas": null,
      "grid_template_columns": null,
      "grid_template_rows": null,
      "height": null,
      "justify_content": null,
      "justify_items": null,
      "left": null,
      "margin": null,
      "max_height": null,
      "max_width": null,
      "min_height": null,
      "min_width": null,
      "object_fit": null,
      "object_position": null,
      "order": null,
      "overflow": null,
      "overflow_x": null,
      "overflow_y": null,
      "padding": null,
      "right": null,
      "top": null,
      "visibility": null,
      "width": null
     }
    }
   }
  }
 },
 "nbformat": 4,
 "nbformat_minor": 4
}

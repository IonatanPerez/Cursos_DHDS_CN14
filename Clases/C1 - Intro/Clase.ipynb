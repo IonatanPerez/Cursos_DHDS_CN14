{
 "cells": [
  {
   "cell_type": "markdown",
   "id": "62867d0f-3c99-47d4-81c1-fea68f00a6f5",
   "metadata": {},
   "source": [
    "# Notas de la primer clase\n",
    "\n"
   ]
  },
  {
   "cell_type": "markdown",
   "id": "7f81527c-cec6-409c-a9ae-638c5b4eb0c6",
   "metadata": {},
   "source": [
    "# FAQs\n",
    "\n",
    "- Seminarios: es contenido 100% opcional."
   ]
  }
 ],
 "metadata": {
  "kernelspec": {
   "display_name": "Python 3 (ipykernel)",
   "language": "python",
   "name": "python3"
  },
  "language_info": {
   "codemirror_mode": {
    "name": "ipython",
    "version": 3
   },
   "file_extension": ".py",
   "mimetype": "text/x-python",
   "name": "python",
   "nbconvert_exporter": "python",
   "pygments_lexer": "ipython3",
   "version": "3.9.12"
  }
 },
 "nbformat": 4,
 "nbformat_minor": 5
}

{
 "cells": [
  {
   "cell_type": "code",
   "execution_count": 91,
   "metadata": {},
   "outputs": [],
   "source": [
    "import numpy as np"
   ]
  },
  {
   "cell_type": "code",
   "execution_count": 92,
   "metadata": {},
   "outputs": [
    {
     "data": {
      "text/plain": [
       "array([['Marca temporal', '\"IndicÃ¡ tu altura en cm sin decimales\"',\n",
       "        'IndicÃ¡ tu peso en Kg sin decimales',\n",
       "        'Sexo con el que mÃ¡s me identifico',\n",
       "        'Cuantas letras tiene tu nombre (indicar el nÃºmero entero en formato numÃ©rico)'],\n",
       "       ['15/09/2022 20:32:28', '180', '85', 'Varon', '8'],\n",
       "       ['15/09/2022 20:32:34', '170', '63', 'Varon', '7'],\n",
       "       ['15/09/2022 20:32:47', '174', '82', 'Varon', '8'],\n",
       "       ['15/09/2022 20:37:29', '167', '50', 'Mujer', '5'],\n",
       "       ['15/09/2022 20:39:05', '175', '78', 'Varon', '8'],\n",
       "       ['15/09/2022 20:39:32', '184', '75', 'Varon', '5'],\n",
       "       ['15/09/2022 20:43:58', '170', '72', 'Varon', '7'],\n",
       "       ['15/09/2022 20:44:26', '182', '70', 'Varon', '9'],\n",
       "       ['15/09/2022 20:46:09', '175', '93', 'Varon', '10'],\n",
       "       ['15/09/2022 20:47:08', '169', '68', 'Mujer', '3'],\n",
       "       ['15/09/2022 20:49:05', '178', '89', 'Varon', '9'],\n",
       "       ['15/09/2022 20:55:29', '174', '78', 'Varon', '8'],\n",
       "       ['15/09/2022 21:10:44', '175', '82', 'Varon', '6'],\n",
       "       ['15/09/2022 21:43:27', '176', '84', 'Varon', '9'],\n",
       "       ['15/09/2022 21:43:47', '160', '57', 'Mujer', '9'],\n",
       "       ['15/09/2022 21:43:51', '165', '70', 'Mujer', '6'],\n",
       "       ['15/09/2022 21:43:52', '179', '62', 'Mujer', '8'],\n",
       "       ['15/09/2022 21:43:53', '175', '77', 'Varon', '7'],\n",
       "       ['15/09/2022 21:43:55', '175', '68', 'Varon', '8'],\n",
       "       ['15/09/2022 21:43:55', '176', '80', 'Varon', '5'],\n",
       "       ['15/09/2022 21:43:55', '171', '110', 'Varon', '7'],\n",
       "       ['15/09/2022 21:43:57', '180', '82', 'Varon', '6'],\n",
       "       ['15/09/2022 21:43:57', '178', '105', 'Varon', '5'],\n",
       "       ['15/09/2022 21:44:00', '179', '83', 'Varon', '7'],\n",
       "       ['15/09/2022 21:44:00', '161', '62', 'Mujer', '6'],\n",
       "       ['15/09/2022 21:44:02', '174', '79', 'Varon', '8'],\n",
       "       ['15/09/2022 21:44:02', '175', '68', 'Varon', '6'],\n",
       "       ['15/09/2022 21:44:02', '186', '77', 'Varon', '5'],\n",
       "       ['15/09/2022 21:44:04', '180', '78', 'Varon', '4'],\n",
       "       ['15/09/2022 21:44:08', '178', '74', 'Varon', '8'],\n",
       "       ['15/09/2022 21:44:10', '183', '66', 'Varon', '7'],\n",
       "       ['15/09/2022 21:44:14', '168', '62', 'Mujer', '7'],\n",
       "       ['15/09/2022 21:44:22', '169', '88', 'Varon', '5'],\n",
       "       ['15/09/2022 21:44:24', '179', '75', 'Varon', '7'],\n",
       "       ['15/09/2022 21:44:33', '178', '75', 'Varon', '19'],\n",
       "       ['15/09/2022 21:44:41', '187', '91', 'Varon', '7'],\n",
       "       ['15/09/2022 21:45:13', '166', '60', 'Varon', '5'],\n",
       "       ['15/09/2022 21:46:06', '174', '75', 'Varon', '5'],\n",
       "       ['15/09/2022 21:47:29', '160', '60', 'Mujer', '5'],\n",
       "       ['15/09/2022 21:49:12', '170', '90', 'Varon', '7'],\n",
       "       ['15/09/2022 21:51:57', '179', '78', 'Varon', '7']], dtype='<U79')"
      ]
     },
     "execution_count": 92,
     "metadata": {},
     "output_type": "execute_result"
    }
   ],
   "source": [
    "filename = 'Cuestionario_o.csv'\n",
    "\n",
    "data_cruda = np.genfromtxt(filename, delimiter=',', dtype=str)\n",
    "\n",
    "data_cruda"
   ]
  },
  {
   "cell_type": "code",
   "execution_count": 93,
   "metadata": {},
   "outputs": [
    {
     "data": {
      "text/plain": [
       "array([ 85,  63,  82,  50,  78,  75,  72,  70,  93,  68,  89,  78,  82,\n",
       "        84,  57,  70,  62,  77,  68,  80, 110,  82, 105,  83,  62,  79,\n",
       "        68,  77,  78,  74,  66,  62,  88,  75,  75,  91,  60,  75,  60,\n",
       "        90,  78])"
      ]
     },
     "execution_count": 93,
     "metadata": {},
     "output_type": "execute_result"
    }
   ],
   "source": [
    "# Queremos seleccionar las alturas y las pesos\n",
    "\n",
    "alturas = data_cruda[1:,1].astype(float)\n",
    "\n",
    "alturas\n",
    "\n",
    "pesos = data_cruda[1:,2].astype(int)\n",
    "\n",
    "pesos"
   ]
  },
  {
   "cell_type": "code",
   "execution_count": 94,
   "metadata": {},
   "outputs": [
    {
     "name": "stdout",
     "output_type": "stream",
     "text": [
      "El valor medio para las alturas del curso es: 174.4878048780488\n",
      "El valor medio para los pesos del curso es: 76.1219512195122\n",
      "La mediana para las alturas del curso es: 175.0\n",
      "La mediana para los pesos del curso es: 77.0\n"
     ]
    }
   ],
   "source": [
    "# Calculamos la media, la mediana y la moda para las columnas\n",
    "\n",
    "print (f'El valor medio para las alturas del curso es: {np.mean(alturas)}')\n",
    "print (f'El valor medio para los pesos del curso es: {np.mean(pesos)}')\n",
    "\n",
    "print (f'La mediana para las alturas del curso es: {np.median(alturas)}')\n",
    "print (f'La mediana para los pesos del curso es: {np.median(pesos)}')"
   ]
  },
  {
   "cell_type": "code",
   "execution_count": 95,
   "metadata": {},
   "outputs": [
    {
     "name": "stdout",
     "output_type": "stream",
     "text": [
      "La moda para las alturas del curso es: ModeResult(mode=array([175.]), count=array([6]))\n"
     ]
    }
   ],
   "source": [
    "# Pero otra libreria como scipy si\n",
    "\n",
    "from scipy import stats # No funciona import scipy y usar scipy.stats\n",
    "\n",
    "print (f'La moda para las alturas del curso es: {stats.mode(alturas)}') # Vemos que no tiene mucho sentido!"
   ]
  },
  {
   "cell_type": "code",
   "execution_count": 96,
   "metadata": {},
   "outputs": [
    {
     "name": "stdout",
     "output_type": "stream",
     "text": [
      "El de los 50% de los datos de altura estan entre los valores 170.0cm y 179.0cm\n"
     ]
    }
   ],
   "source": [
    "# Vamos a ver los rangos inter cuartiles\n",
    "\n",
    "inf = 25\n",
    "sup = 75\n",
    "q3, q1 = np.percentile(alturas, [sup,inf])\n",
    "print (f'El de los {sup-inf}% de los datos de altura estan entre los valores {q1}cm y {q3}cm')"
   ]
  },
  {
   "cell_type": "code",
   "execution_count": 97,
   "metadata": {},
   "outputs": [
    {
     "data": {
      "text/plain": [
       "<AxesSubplot:>"
      ]
     },
     "execution_count": 97,
     "metadata": {},
     "output_type": "execute_result"
    },
    {
     "data": {
      "image/png": "[encoded data removed]",
      "text/plain": [
       "<Figure size 432x288 with 1 Axes>"
      ]
     },
     "metadata": {
      "needs_background": "light"
     },
     "output_type": "display_data"
    }
   ],
   "source": [
    "import seaborn as sns\n",
    "\n",
    "# Hacer un grafico tipo \"comun\"\n",
    "\n",
    "sns.lineplot(data = alturas)\n",
    "sns.lineplot(data = pesos)"
   ]
  },
  {
   "cell_type": "code",
   "execution_count": 98,
   "metadata": {},
   "outputs": [
    {
     "data": {
      "text/plain": [
       "<AxesSubplot:>"
      ]
     },
     "execution_count": 98,
     "metadata": {},
     "output_type": "execute_result"
    },
    {
     "data": {
      "image/png": "[encoded data removed]",
      "text/plain": [
       "<Figure size 432x288 with 1 Axes>"
      ]
     },
     "metadata": {
      "needs_background": "light"
     },
     "output_type": "display_data"
    }
   ],
   "source": [
    "sns.scatterplot(x = alturas, y = pesos)"
   ]
  },
  {
   "cell_type": "code",
   "execution_count": 99,
   "metadata": {},
   "outputs": [
    {
     "data": {
      "text/plain": [
       "<AxesSubplot:ylabel='Count'>"
      ]
     },
     "execution_count": 99,
     "metadata": {},
     "output_type": "execute_result"
    },
    {
     "data": {
      "image/png": "[encoded data removed]",
      "text/plain": [
       "<Figure size 432x288 with 1 Axes>"
      ]
     },
     "metadata": {
      "needs_background": "light"
     },
     "output_type": "display_data"
    }
   ],
   "source": [
    "sns.histplot(alturas)"
   ]
  },
  {
   "cell_type": "code",
   "execution_count": 100,
   "metadata": {},
   "outputs": [
    {
     "name": "stdout",
     "output_type": "stream",
     "text": [
      "La viarianza en las alturas es de: 42.249851279000595cm^2\n",
      "La desviacion estandar es de: 6.499988559913056cm\n"
     ]
    }
   ],
   "source": [
    "# Como pedirle a numpy que nos calcule la varianza\n",
    "\n",
    "print (f'La viarianza en las alturas es de: {np.var(alturas)}cm^2')\n",
    "print (f'La desviacion estandar es de: {np.std(alturas)}cm')"
   ]
  },
  {
   "cell_type": "code",
   "execution_count": 101,
   "metadata": {},
   "outputs": [
    {
     "name": "stdout",
     "output_type": "stream",
     "text": [
      "El porcenaje de valores que caen dentro del 1 desviaciones estandar es: 73.17073170731707%\n"
     ]
    }
   ],
   "source": [
    "# Vamos a calcular que porcentaje de los valores caen dentro de N desviaciones estandar de la media\n",
    "\n",
    "n = 1\n",
    "sd = np.std(alturas)\n",
    "mean = np.mean(alturas)\n",
    "\n",
    "mascara = (mean - n * sd < alturas) & (alturas < mean + n * sd)\n",
    "#print (alturas[mascara])\n",
    "#print (mascara.sum())\n",
    "print (f'El porcenaje de valores que caen dentro del {n} desviaciones estandar es: {mascara.sum()/len(mascara)*100}%')\n"
   ]
  },
  {
   "cell_type": "code",
   "execution_count": 102,
   "metadata": {},
   "outputs": [
    {
     "name": "stdout",
     "output_type": "stream",
     "text": [
      "La desviacion estandar de las alturas es 6.499988559913056cm, y su valor medio es 174.4878048780488cm. Su ceoficiente de variación es 0.037251821492372834\n",
      "La desviacion estandar de los pesos es 12.155888108441008Kg, y su valor medio es 76.1219512195122Kg. Su ceoficiente de variación es 0.15968965474081426\n"
     ]
    }
   ],
   "source": [
    "# Comparando variabilidades entre dos variables\n",
    "\n",
    "print (f'La desviacion estandar de las alturas es {np.std(alturas)}cm, y su valor medio es {np.mean(alturas)}cm. Su ceoficiente de variación es {np.std(alturas)/np.mean(alturas)}')\n",
    "print (f'La desviacion estandar de los pesos es {np.std(pesos)}Kg, y su valor medio es {np.mean(pesos)}Kg. Su ceoficiente de variación es {np.std(pesos)/np.mean(pesos)}')"
   ]
  },
  {
   "cell_type": "code",
   "execution_count": 103,
   "metadata": {},
   "outputs": [
    {
     "data": {
      "text/plain": [
       "array([ 8,  7,  8,  5,  8,  5,  7,  9, 10,  3,  9,  8,  6,  9,  9,  6,  8,\n",
       "        7,  8,  5,  7,  6,  5,  7,  6,  8,  6,  5,  4,  8,  7,  7,  5,  7,\n",
       "       19,  7,  5,  5,  5,  7,  7])"
      ]
     },
     "execution_count": 103,
     "metadata": {},
     "output_type": "execute_result"
    }
   ],
   "source": [
    "sexo = data_cruda[1:,3].copy()\n",
    "sexo[sexo==\"Varon\"] = \"1\"\n",
    "sexo[sexo==\"Mujer\"] = \"-1\"\n",
    "sexo = sexo.astype(int)\n",
    "sexo\n",
    "\n",
    "letras = data_cruda[1:,4]\n",
    "letras = letras.astype(int)\n",
    "letras"
   ]
  },
  {
   "cell_type": "code",
   "execution_count": 104,
   "metadata": {},
   "outputs": [
    {
     "data": {
      "text/plain": [
       "<AxesSubplot:>"
      ]
     },
     "execution_count": 104,
     "metadata": {},
     "output_type": "execute_result"
    },
    {
     "data": {
      "image/png": "[encoded data removed]",
      "text/plain": [
       "<Figure size 432x288 with 1 Axes>"
      ]
     },
     "metadata": {
      "needs_background": "light"
     },
     "output_type": "display_data"
    }
   ],
   "source": [
    "sns.scatterplot(x=alturas, y= pesos)"
   ]
  },
  {
   "cell_type": "code",
   "execution_count": 105,
   "metadata": {},
   "outputs": [
    {
     "data": {
      "text/plain": [
       "<AxesSubplot:>"
      ]
     },
     "execution_count": 105,
     "metadata": {},
     "output_type": "execute_result"
    },
    {
     "data": {
      "image/png": "[encoded data removed]",
      "text/plain": [
       "<Figure size 432x288 with 1 Axes>"
      ]
     },
     "metadata": {
      "needs_background": "light"
     },
     "output_type": "display_data"
    }
   ],
   "source": [
    "sns.scatterplot(x=alturas, y=letras)"
   ]
  },
  {
   "cell_type": "code",
   "execution_count": 106,
   "metadata": {},
   "outputs": [
    {
     "data": {
      "text/plain": [
       "<AxesSubplot:>"
      ]
     },
     "execution_count": 106,
     "metadata": {},
     "output_type": "execute_result"
    },
    {
     "data": {
      "image/png": "[encoded data removed]",
      "text/plain": [
       "<Figure size 432x288 with 1 Axes>"
      ]
     },
     "metadata": {
      "needs_background": "light"
     },
     "output_type": "display_data"
    }
   ],
   "source": [
    "sns.scatterplot(x=pesos, y = sexo)"
   ]
  },
  {
   "cell_type": "code",
   "execution_count": 107,
   "metadata": {},
   "outputs": [
    {
     "data": {
      "text/plain": [
       "array([['Marca temporal', '\"IndicÃ¡ tu altura en cm sin decimales\"',\n",
       "        'IndicÃ¡ tu peso en Kg sin decimales',\n",
       "        'Sexo con el que mÃ¡s me identifico',\n",
       "        'Cuantas letras tiene tu nombre (indicar el nÃºmero entero en formato numÃ©rico)'],\n",
       "       ['15/09/2022 20:32:28', '180', '85', 'Varon', '8'],\n",
       "       ['15/09/2022 20:32:34', '170', '63', 'Varon', '7'],\n",
       "       ['15/09/2022 20:32:47', '174', '82', 'Varon', '8'],\n",
       "       ['15/09/2022 20:37:29', '167', '50', 'Mujer', '5'],\n",
       "       ['15/09/2022 20:39:05', '175', '78', 'Varon', '8'],\n",
       "       ['15/09/2022 20:39:32', '184', '75', 'Varon', '5'],\n",
       "       ['15/09/2022 20:43:58', '170', '72', 'Varon', '7'],\n",
       "       ['15/09/2022 20:44:26', '182', '70', 'Varon', '9'],\n",
       "       ['15/09/2022 20:46:09', '175', '93', 'Varon', '10'],\n",
       "       ['15/09/2022 20:47:08', '169', '68', 'Mujer', '3'],\n",
       "       ['15/09/2022 20:49:05', '178', '89', 'Varon', '9'],\n",
       "       ['15/09/2022 20:55:29', '174', '78', 'Varon', '8'],\n",
       "       ['15/09/2022 21:10:44', '175', '82', 'Varon', '6'],\n",
       "       ['15/09/2022 21:43:27', '176', '84', 'Varon', '9'],\n",
       "       ['15/09/2022 21:43:47', '160', '57', 'Mujer', '9'],\n",
       "       ['15/09/2022 21:43:51', '165', '70', 'Mujer', '6'],\n",
       "       ['15/09/2022 21:43:52', '179', '62', 'Mujer', '8'],\n",
       "       ['15/09/2022 21:43:53', '175', '77', 'Varon', '7'],\n",
       "       ['15/09/2022 21:43:55', '175', '68', 'Varon', '8'],\n",
       "       ['15/09/2022 21:43:55', '176', '80', 'Varon', '5'],\n",
       "       ['15/09/2022 21:43:55', '171', '110', 'Varon', '7'],\n",
       "       ['15/09/2022 21:43:57', '180', '82', 'Varon', '6'],\n",
       "       ['15/09/2022 21:43:57', '178', '105', 'Varon', '5'],\n",
       "       ['15/09/2022 21:44:00', '179', '83', 'Varon', '7'],\n",
       "       ['15/09/2022 21:44:00', '161', '62', 'Mujer', '6'],\n",
       "       ['15/09/2022 21:44:02', '174', '79', 'Varon', '8'],\n",
       "       ['15/09/2022 21:44:02', '175', '68', 'Varon', '6'],\n",
       "       ['15/09/2022 21:44:02', '186', '77', 'Varon', '5'],\n",
       "       ['15/09/2022 21:44:04', '180', '78', 'Varon', '4'],\n",
       "       ['15/09/2022 21:44:08', '178', '74', 'Varon', '8'],\n",
       "       ['15/09/2022 21:44:10', '183', '66', 'Varon', '7'],\n",
       "       ['15/09/2022 21:44:14', '168', '62', 'Mujer', '7'],\n",
       "       ['15/09/2022 21:44:22', '169', '88', 'Varon', '5'],\n",
       "       ['15/09/2022 21:44:24', '179', '75', 'Varon', '7'],\n",
       "       ['15/09/2022 21:44:33', '178', '75', 'Varon', '19'],\n",
       "       ['15/09/2022 21:44:41', '187', '91', 'Varon', '7'],\n",
       "       ['15/09/2022 21:45:13', '166', '60', 'Varon', '5'],\n",
       "       ['15/09/2022 21:46:06', '174', '75', 'Varon', '5'],\n",
       "       ['15/09/2022 21:47:29', '160', '60', 'Mujer', '5'],\n",
       "       ['15/09/2022 21:49:12', '170', '90', 'Varon', '7'],\n",
       "       ['15/09/2022 21:51:57', '179', '78', 'Varon', '7']], dtype='<U79')"
      ]
     },
     "execution_count": 107,
     "metadata": {},
     "output_type": "execute_result"
    }
   ],
   "source": [
    "data_cruda"
   ]
  },
  {
   "cell_type": "code",
   "execution_count": 108,
   "metadata": {},
   "outputs": [
    {
     "name": "stdout",
     "output_type": "stream",
     "text": [
      "El orden de las columnas es: alturas, pesos, sexo, letras\n",
      "Matriz de correlacion para los datos\n",
      "[[1.         0.4101081  0.63347196 0.14722209]\n",
      " [0.4101081  1.         0.59731521 0.08149668]\n",
      " [0.63347196 0.59731521 1.         0.1819059 ]\n",
      " [0.14722209 0.08149668 0.1819059  1.        ]]\n"
     ]
    }
   ],
   "source": [
    "# Armamos la matriz con todos los datos\n",
    "\n",
    "datos = [alturas,pesos,sexo,letras]\n",
    "#print (\"Matriz con los datos\")\n",
    "#print (datos)\n",
    "\n",
    "#print (np.var(datos[0]))\n",
    "#datos2 = np.transpose(datos)\n",
    "print (\"El orden de las columnas es: alturas, pesos, sexo, letras\")\n",
    "#print (\"Matriz de covarianza para los datos\")\n",
    "#print (np.cov(datos,ddof=0))\n",
    "print (\"Matriz de correlacion para los datos\")\n",
    "print (np.corrcoef(datos))\n",
    "\n",
    "#print (\"Vemos que la altura correlaciona con los pesos positivamente, con el sexo negativamente (mujer codifica como valor mas alto y hombre como mas bajo) y no correlaciona con el largo del nombre\")"
   ]
  },
  {
   "cell_type": "code",
   "execution_count": 109,
   "metadata": {},
   "outputs": [
    {
     "data": {
      "text/plain": [
       "42.249851279000595"
      ]
     },
     "execution_count": 109,
     "metadata": {},
     "output_type": "execute_result"
    }
   ],
   "source": [
    "np.var(alturas)"
   ]
  }
 ],
 "metadata": {
  "kernelspec": {
   "display_name": "Python 3.9.12 ('base')",
   "language": "python",
   "name": "python3"
  },
  "language_info": {
   "codemirror_mode": {
    "name": "ipython",
    "version": 3
   },
   "file_extension": ".py",
   "mimetype": "text/x-python",
   "name": "python",
   "nbconvert_exporter": "python",
   "pygments_lexer": "ipython3",
   "version": "3.9.12"
  },
  "orig_nbformat": 4,
  "vscode": {
   "interpreter": {
    "hash": "499a1cf83386e9cdb50680be6c4b00d5e02a649406be4f417a406efedf754313"
   }
  }
 },
 "nbformat": 4,
 "nbformat_minor": 2
}

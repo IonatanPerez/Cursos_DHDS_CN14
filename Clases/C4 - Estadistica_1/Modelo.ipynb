{
 "cells": [
  {
   "cell_type": "markdown",
   "metadata": {},
   "source": [
    "# Estadística descriptiva\n",
    "\n",
    "## ¿Qué vamos a ver hoy?\n",
    "\n",
    "### Estadística descriptiva\n",
    "\n",
    "Son herramientas que sirven para describir un conjunto de valores mediante algunas características del conjunto.\n",
    "\n",
    "Vamos a ver que es y como calcular:\n",
    "\n",
    "Maneras de buscar un valor representativo\n",
    "\n",
    "- Media\n",
    "- Mediana\n",
    "- Moda\n",
    "\n",
    "Maneras de cuantificar cuanto varian los valores\n",
    "\n",
    "- Rango\n",
    "- Varianza\n",
    "- Desviacion estandar\n",
    "- Coeficiente de variacion\n",
    "\n",
    "Maneras de ver si diferentes aspectos o variables se vinculan entre si.\n",
    "\n",
    "- Covarianza\n",
    "- Correlacion\n",
    "\n",
    "No vamos a ver hoy estaditica inferencial, es decir tratar de predecir que puede pasar o que probabilidad hay que de que sucedan cosas a partir de los datos conocidos.\n",
    "\n",
    "### Herramientas basicas de visualización\n",
    "\n",
    "No es el objetivo de la clase de hoy (hay mas de una clase que vamos a dedicar exclusivamente a eso), pero para ayudarnos a visualizar la infomacion vamos a ver como generar:\n",
    "\n",
    "- Graficos de lineas\n",
    "- Graficos de puntos\n",
    "- Histogramas\n",
    "\n",
    "## Idea de la clase\n",
    "\n",
    "- Arranacamos con una pequeña encuesta que vamos a usar de ejemplo durante la clase.\n",
    "- Vamos repasando con la presentacion las ideas y vamos probando implementar las ideas en los datos de la encuesta.\n",
    "- Despues del ejemplo en conjunto queda el hands-on para que practiquen en clase (esperemos llegar)."
   ]
  },
  {
   "cell_type": "markdown",
   "metadata": {},
   "source": [
    "# La encuesta....\n",
    "\n",
    "https://forms.gle/JgpooKWc2L9vg5pn9"
   ]
  },
  {
   "cell_type": "markdown",
   "metadata": {},
   "source": [
    "# Repaso de como leer un archivo csv\n"
   ]
  },
  {
   "cell_type": "code",
   "execution_count": 2,
   "metadata": {},
   "outputs": [],
   "source": [
    "import numpy as np"
   ]
  },
  {
   "cell_type": "code",
   "execution_count": 5,
   "metadata": {},
   "outputs": [
    {
     "data": {
      "text/plain": [
       "array([['Marca temporal', '\"IndicÃ¡ tu altura en cm sin decimales\"',\n",
       "        'IndicÃ¡ tu peso en Kg sin decimales',\n",
       "        'Sexo con el que mÃ¡s me identifico',\n",
       "        'Cuantas letras tiene tu nombre (indicar el nÃºmero entero en formato numÃ©rico)'],\n",
       "       ['15/09/2022 20:32:28', '180', '85', 'Varon', '8'],\n",
       "       ['15/09/2022 20:32:34', '170', '63', 'Varon', '7'],\n",
       "       ['15/09/2022 20:32:47', '174', '82', 'Varon', '8'],\n",
       "       ['15/09/2022 20:37:29', '167', '50', 'Mujer', '5'],\n",
       "       ['15/09/2022 20:39:05', '175', '78', 'Varon', '8'],\n",
       "       ['15/09/2022 20:39:32', '184', '75', 'Varon', '5'],\n",
       "       ['15/09/2022 20:43:58', '170', '72', 'Varon', '7'],\n",
       "       ['15/09/2022 20:44:26', '182', '70', 'Varon', '9'],\n",
       "       ['15/09/2022 20:46:09', '175', '93', 'Varon', '10'],\n",
       "       ['15/09/2022 20:47:08', '169', '68', 'Mujer', '3'],\n",
       "       ['15/09/2022 20:49:05', '178', '89', 'Varon', '9'],\n",
       "       ['15/09/2022 20:55:29', '174', '78', 'Varon', '8'],\n",
       "       ['15/09/2022 21:10:44', '175', '82', 'Varon', '6'],\n",
       "       ['15/09/2022 21:43:27', '176', '84', 'Varon', '9'],\n",
       "       ['15/09/2022 21:43:47', '160', '57', 'Mujer', '9'],\n",
       "       ['15/09/2022 21:43:51', '165', '70', 'Mujer', '6'],\n",
       "       ['15/09/2022 21:43:52', '179', '62', 'Mujer', '8'],\n",
       "       ['15/09/2022 21:43:53', '175', '77', 'Varon', '7'],\n",
       "       ['15/09/2022 21:43:55', '175', '68', 'Varon', '8'],\n",
       "       ['15/09/2022 21:43:55', '176', '80', 'Varon', '5'],\n",
       "       ['15/09/2022 21:43:55', '171', '110', 'Varon', '7'],\n",
       "       ['15/09/2022 21:43:57', '1.8', '82', 'Varon', '6'],\n",
       "       ['15/09/2022 21:43:57', '178', '105', 'Varon', '5'],\n",
       "       ['15/09/2022 21:44:00', '179', '83', 'Varon', '7'],\n",
       "       ['15/09/2022 21:44:00', '161', '62', 'Mujer', '6'],\n",
       "       ['15/09/2022 21:44:02', '174', '79', 'Varon', '8'],\n",
       "       ['15/09/2022 21:44:02', '175', '68', 'Varon', '6'],\n",
       "       ['15/09/2022 21:44:02', '186', '77', 'Varon', '5'],\n",
       "       ['15/09/2022 21:44:04', '180', '78', 'Varon', '4'],\n",
       "       ['15/09/2022 21:44:08', '178', '74', 'Varon', '8'],\n",
       "       ['15/09/2022 21:44:10', '183', '66', 'Varon', '7'],\n",
       "       ['15/09/2022 21:44:14', '168', '62', 'Mujer', '7'],\n",
       "       ['15/09/2022 21:44:22', '169', '88', 'Varon', '5'],\n",
       "       ['15/09/2022 21:44:24', '179', '75', 'Varon', '7'],\n",
       "       ['15/09/2022 21:44:33', '178', '75', 'Varon', '19'],\n",
       "       ['15/09/2022 21:45:13', '166', '60', 'Varon', '5'],\n",
       "       ['15/09/2022 21:46:06', '174', '75', 'Varon', '5'],\n",
       "       ['15/09/2022 21:47:29', '160', '60', 'Mujer', '5'],\n",
       "       ['15/09/2022 21:49:12', '170', '90', 'Varon', '7'],\n",
       "       ['15/09/2022 21:51:57', '179', '78', 'Varon', '7']], dtype='<U79')"
      ]
     },
     "execution_count": 5,
     "metadata": {},
     "output_type": "execute_result"
    }
   ],
   "source": [
    "# Nota: En la version actual google drive genera un csv con comillas. Hubo que quitar todas las comillas con un editor de texto antes de poder leerlo aca porque numpy no tiene un parametro para procesar las comillas bien.\n",
    "\n",
    "filename = \"Cuestionario.csv\"\n",
    "data_cruda = np.genfromtxt(filename, delimiter=\",\", dtype=str) # Notar que si no ponemos el separador correcto tira error. Y si no ponemos dtype lee todo como vacio.\n",
    "data_cruda\n",
    "\n",
    "#alturas = data_cruda[1:,1].astype(int) # Seleccionamos la columna 1 desde la fila uno hasta el final\n",
    "#print (alturas)\n",
    "\n",
    "#pesos = data_cruda[1:,2].astype(int) # Seleccionamos la columna 1 desde la fila uno hasta el final\n",
    "#print (pesos)"
   ]
  },
  {
   "cell_type": "markdown",
   "metadata": {},
   "source": [
    "# Ver primer parte de la presentación"
   ]
  },
  {
   "cell_type": "code",
   "execution_count": 3,
   "metadata": {},
   "outputs": [
    {
     "name": "stdout",
     "output_type": "stream",
     "text": [
      "El valor medio para las alturas del curso es: 172.13333333333333\n",
      "El valor medio para los pesos del curso es: 73.85555555555555\n",
      "La mediana para las alturas del curso es: 174.0\n",
      "La mediana para los pesos del curso es: 74.5\n",
      "La moda para las alturas del curso es: ModeResult(mode=array([175]), count=array([9]))\n"
     ]
    }
   ],
   "source": [
    "# Calculamos la media, la mediana y la moda para las columnas\n",
    "\n",
    "print (f'El valor medio para las alturas del curso es: {np.mean(alturas)}')\n",
    "print (f'El valor medio para los pesos del curso es: {np.mean(pesos)}')\n",
    "\n",
    "print (f'La mediana para las alturas del curso es: {np.median(alturas)}')\n",
    "print (f'La mediana para los pesos del curso es: {np.median(pesos)}')\n",
    "\n",
    "# numpy no tiene un metodo para calcular la moda!!!!!\n",
    "\n",
    "# Pero otra libreria como scipy si\n",
    "\n",
    "from scipy import stats # No funciona import scipy y usar scipy.stats\n",
    "\n",
    "print (f'La moda para las alturas del curso es: {stats.mode(alturas)}') # Vemos que no tiene mucho sentido!"
   ]
  },
  {
   "cell_type": "code",
   "execution_count": 17,
   "metadata": {},
   "outputs": [
    {
     "name": "stdout",
     "output_type": "stream",
     "text": [
      "El  de los 50% de los datos de altura estan entre los valores 165.0cm y 178.0cm\n"
     ]
    }
   ],
   "source": [
    "# Vamos a ver los rangos inter cuartiles\n",
    "\n",
    "inf = 25\n",
    "sup = 75\n",
    "q3, q1 = np.percentile(alturas, [sup,inf])\n",
    "print (f'El  de los {sup-inf}% de los datos de altura estan entre los valores {q1}cm y {q3}cm')"
   ]
  },
  {
   "cell_type": "markdown",
   "metadata": {},
   "source": [
    "# Como visualizar esto... (vamos a usar lo básico de Seaborn)"
   ]
  },
  {
   "cell_type": "code",
   "execution_count": 5,
   "metadata": {},
   "outputs": [
    {
     "data": {
      "text/plain": [
       "<AxesSubplot:>"
      ]
     },
     "execution_count": 5,
     "metadata": {},
     "output_type": "execute_result"
    },
    {
     "data": {
      "image/png": "[encoded data removed]",
      "text/plain": [
       "<Figure size 432x288 with 1 Axes>"
      ]
     },
     "metadata": {
      "needs_background": "light"
     },
     "output_type": "display_data"
    }
   ],
   "source": [
    "import seaborn as sns\n",
    "\n",
    "# Hacer un grafico tipo \"comun\"\n",
    "\n",
    "sns.lineplot(data = alturas)\n",
    "sns.lineplot(data = pesos)\n"
   ]
  },
  {
   "cell_type": "code",
   "execution_count": 6,
   "metadata": {},
   "outputs": [
    {
     "data": {
      "text/plain": [
       "<AxesSubplot:>"
      ]
     },
     "execution_count": 6,
     "metadata": {},
     "output_type": "execute_result"
    },
    {
     "data": {
      "image/png": "[encoded data removed]",
      "text/plain": [
       "<Figure size 432x288 with 1 Axes>"
      ]
     },
     "metadata": {
      "needs_background": "light"
     },
     "output_type": "display_data"
    }
   ],
   "source": [
    "sns.scatterplot(x = alturas, y = pesos)"
   ]
  },
  {
   "cell_type": "code",
   "execution_count": 7,
   "metadata": {},
   "outputs": [
    {
     "data": {
      "text/plain": [
       "<AxesSubplot:ylabel='Count'>"
      ]
     },
     "execution_count": 7,
     "metadata": {},
     "output_type": "execute_result"
    },
    {
     "data": {
      "image/png": "[encoded data removed]",
      "text/plain": [
       "<Figure size 432x288 with 1 Axes>"
      ]
     },
     "metadata": {
      "needs_background": "light"
     },
     "output_type": "display_data"
    }
   ],
   "source": [
    "sns.histplot(alturas)"
   ]
  },
  {
   "cell_type": "markdown",
   "metadata": {},
   "source": [
    "# Ideas de Dispersión"
   ]
  },
  {
   "cell_type": "code",
   "execution_count": 8,
   "metadata": {},
   "outputs": [
    {
     "name": "stdout",
     "output_type": "stream",
     "text": [
      "El rango de alturas va de: 194cm a 134cm, es decir que la alturas cubren un rango de 60cm.\n",
      "[178. 165.]\n",
      "El 50% de las alturas mas comunes estan entre: 165.0cm y 178.0cm.\n"
     ]
    }
   ],
   "source": [
    "print (f'El rango de alturas va de: {np.max(alturas)}cm a {np.min(alturas)}cm, es decir que la alturas cubren un rango de {np.max(alturas)-np.min(alturas)}cm.' )\n",
    "\n",
    "# Ahora queremos saber donde esta el 50% de las alturas mas comunes\n",
    "# Numpy tiene una funcion que separa en partes ordenando\n",
    "\n",
    "np.percentile(alturas, [75,25])\n",
    "\n",
    "print (f'El 50% de las alturas mas comunes estan entre: {np.percentile(alturas, [75 ,25])[1]}cm y {np.percentile(alturas, [75 ,25])[0]}cm.')"
   ]
  },
  {
   "cell_type": "code",
   "execution_count": 9,
   "metadata": {},
   "outputs": [
    {
     "name": "stdout",
     "output_type": "stream",
     "text": [
      "La viarianza en las alturas es de: 108.71555555555555cm^2\n",
      "La desviacion estandar es de: 10.426675191812372cm\n"
     ]
    }
   ],
   "source": [
    "# Como pedirle a numpy que nos calcule la varianza\n",
    "\n",
    "print (f'La viarianza en las alturas es de: {np.var(alturas)}cm^2')\n",
    "print (f'La desviacion estandar es de: {np.std(alturas)}cm')"
   ]
  },
  {
   "cell_type": "code",
   "execution_count": 10,
   "metadata": {},
   "outputs": [
    {
     "name": "stdout",
     "output_type": "stream",
     "text": [
      "El porcenaje de valores que caen dentro del 2 desviaciones estandar es: 95.55555555555556%\n"
     ]
    }
   ],
   "source": [
    "# Vamos a calcular que porcentaje de los valores caen dentro de N desviaciones estandar de la media\n",
    "\n",
    "n = 2\n",
    "sd = np.std(alturas)\n",
    "mean = np.mean(alturas)\n",
    "\n",
    "mascara = (mean - n * sd < alturas) & (alturas < mean + n * sd)\n",
    "#print (alturas[mascara])\n",
    "#print (mascara.sum())\n",
    "print (f'El porcenaje de valores que caen dentro del {n} desviaciones estandar es: {mascara.sum()/len(mascara)*100}%')\n"
   ]
  },
  {
   "cell_type": "code",
   "execution_count": 11,
   "metadata": {},
   "outputs": [
    {
     "name": "stdout",
     "output_type": "stream",
     "text": [
      "La desviacion estandar de las alturas es 10.426675191812372cm, y su valor medio es 172.13333333333333cm. Su ceoficiente de variación es 0.06057324859689604\n",
      "La desviacion estandar de los pesos es 15.937768637290556Kg, y su valor medio es 73.85555555555555Kg. Su ceoficiente de variación es 0.2157964762082368\n"
     ]
    }
   ],
   "source": [
    "# Comparando variabilidades entre dos variables\n",
    "\n",
    "print (f'La desviacion estandar de las alturas es {np.std(alturas)}cm, y su valor medio es {np.mean(alturas)}cm. Su ceoficiente de variación es {np.std(alturas)/np.mean(alturas)}')\n",
    "print (f'La desviacion estandar de los pesos es {np.std(pesos)}Kg, y su valor medio es {np.mean(pesos)}Kg. Su ceoficiente de variación es {np.std(pesos)/np.mean(pesos)}')"
   ]
  },
  {
   "cell_type": "markdown",
   "metadata": {},
   "source": [
    "# Covarianza y correlación"
   ]
  },
  {
   "cell_type": "code",
   "execution_count": 12,
   "metadata": {},
   "outputs": [
    {
     "name": "stdout",
     "output_type": "stream",
     "text": [
      "['' '' '' '' 'Varon' 'Mujer' 'Varon' 'Mujer' 'Varon' 'Varon' 'Mujer'\n",
      " 'Varon' 'Mujer' 'Varon' 'Varon' 'Varon' 'Varon' 'Mujer' 'Varon' 'Varon'\n",
      " 'Varon' 'Varon' 'Varon' 'Mujer' 'Varon' 'Varon' 'Varon' 'Varon' 'Mujer'\n",
      " 'Mujer' 'Mujer' 'Varon' 'Varon' 'Mujer' 'Mujer' 'Varon' 'Varon' 'Varon'\n",
      " 'Varon' 'Varon' 'Mujer' 'Mujer' 'Mujer' 'Varon' 'Varon' 'Mujer' 'Varon'\n",
      " 'Varon' 'Varon' 'Mujer' 'Varon' 'Mujer' 'Varon' 'Varon' 'Varon' 'Varon'\n",
      " 'Varon' 'Varon' 'Varon' 'Mujer' 'Varon' 'Varon' 'Varon' 'Mujer' 'Varon'\n",
      " 'Mujer' 'Mujer' 'Varon' 'Varon' 'Varon' 'Varon' 'Mujer' 'Mujer' 'Varon'\n",
      " 'Varon' 'Varon' 'Varon' 'Mujer' 'Mujer' 'Varon' 'Mujer' 'Varon' 'Varon'\n",
      " 'Varon' 'Varon' 'Varon' 'Varon' 'Mujer' 'Varon' 'Varon']\n",
      "[ 0.  0.  0.  0. -1.  1. -1.  1. -1. -1.  1. -1.  1. -1. -1. -1. -1.  1.\n",
      " -1. -1. -1. -1. -1.  1. -1. -1. -1. -1.  1.  1.  1. -1. -1.  1.  1. -1.\n",
      " -1. -1. -1. -1.  1.  1.  1. -1. -1.  1. -1. -1. -1.  1. -1.  1. -1. -1.\n",
      " -1. -1. -1. -1. -1.  1. -1. -1. -1.  1. -1.  1.  1. -1. -1. -1. -1.  1.\n",
      "  1. -1. -1. -1. -1.  1.  1. -1.  1. -1. -1. -1. -1. -1. -1.  1. -1. -1.]\n",
      "[ 0.  0.  0.  0.  0.  0.  0.  0.  0.  8.  5.  3. 10.  5.  5.  6.  8.  5.\n",
      "  8.  6.  7.  8.  8.  8.  7.  6.  6.  5.  8.  7.  6.  7.  7.  7.  3. 13.\n",
      "  7.  5.  8.  8.  7.  7.  6.  5.  8.  6.  8.  8.  6.  5.  5.  6.  5.  8.\n",
      "  7.  7.  5.  6.  6.  7.  6.  5.  6.  6.  4.  9.  6.  7.  7.  5.  8. 12.\n",
      "  8.  7.  8.  7.  9.  3.  8. 23. 23.  6.  5. 23. 12.  4.  7.  4.  4.  7.]\n"
     ]
    }
   ],
   "source": [
    "# Repasemos los graficos pero ahora vamos a agregar las columnas genero y nombre\n",
    "# como hay valores que faltan y estan en blanco los transformamos en 0 para que no haya errores de codigo.\n",
    "sexo = data_cruda[1:,3]\n",
    "print (sexo)\n",
    "sexo[sexo==\"\"] = \"0\"\n",
    "sexo[sexo==\"Varon\"] = \"-1\"\n",
    "sexo[sexo==\"Mujer\"] = \"1\"\n",
    "sexo = sexo.astype(float)\n",
    "print (sexo)\n",
    "\n",
    "letras = data_cruda[1:,4]\n",
    "letras[letras==\"\"] = \"0\"\n",
    "letras = letras.astype(float) # Seleccionamos la columna 1 desde la fila uno hasta el final\n",
    "print (letras)\n"
   ]
  },
  {
   "cell_type": "markdown",
   "metadata": {},
   "source": [
    "### Comparamos alturas con pesos"
   ]
  },
  {
   "cell_type": "code",
   "execution_count": 13,
   "metadata": {},
   "outputs": [
    {
     "data": {
      "text/plain": [
       "<AxesSubplot:>"
      ]
     },
     "execution_count": 13,
     "metadata": {},
     "output_type": "execute_result"
    },
    {
     "data": {
      "image/png": "[encoded data removed]",
      "text/plain": [
       "<Figure size 432x288 with 1 Axes>"
      ]
     },
     "metadata": {
      "needs_background": "light"
     },
     "output_type": "display_data"
    }
   ],
   "source": [
    "sns.scatterplot(x = alturas, y = pesos)"
   ]
  },
  {
   "cell_type": "markdown",
   "metadata": {},
   "source": [
    "### Comparamos alturas con letras"
   ]
  },
  {
   "cell_type": "code",
   "execution_count": 14,
   "metadata": {},
   "outputs": [
    {
     "data": {
      "text/plain": [
       "<AxesSubplot:>"
      ]
     },
     "execution_count": 14,
     "metadata": {},
     "output_type": "execute_result"
    },
    {
     "data": {
      "image/png": "[encoded data removed]",
      "text/plain": [
       "<Figure size 432x288 with 1 Axes>"
      ]
     },
     "metadata": {
      "needs_background": "light"
     },
     "output_type": "display_data"
    }
   ],
   "source": [
    "sns.scatterplot(x = alturas, y = letras)"
   ]
  },
  {
   "cell_type": "markdown",
   "metadata": {},
   "source": [
    "### Comparamos altura con sexo (recordar que codificamos hombre como -1 y mujer como 1 y los datos desconocidos como 0)"
   ]
  },
  {
   "cell_type": "code",
   "execution_count": 15,
   "metadata": {},
   "outputs": [
    {
     "data": {
      "text/plain": [
       "<AxesSubplot:>"
      ]
     },
     "execution_count": 15,
     "metadata": {},
     "output_type": "execute_result"
    },
    {
     "data": {
      "image/png": "[encoded data removed]",
      "text/plain": [
       "<Figure size 432x288 with 1 Axes>"
      ]
     },
     "metadata": {
      "needs_background": "light"
     },
     "output_type": "display_data"
    }
   ],
   "source": [
    "sns.scatterplot(x = alturas, y = sexo)"
   ]
  },
  {
   "cell_type": "markdown",
   "metadata": {},
   "source": [
    "### Vamos a ver esto en forma de matriz"
   ]
  },
  {
   "cell_type": "code",
   "execution_count": 16,
   "metadata": {},
   "outputs": [
    {
     "name": "stdout",
     "output_type": "stream",
     "text": [
      "El orden de las columnas es: alturas, pesos, sexo, letras\n",
      "Matriz de covarianza para los datos\n",
      "[[ 1.08715556e+02  9.11081481e+01 -6.20814815e+00  4.41481481e-01]\n",
      " [ 9.11081481e+01  2.54012469e+02 -8.76246914e+00 -1.19023457e+01]\n",
      " [-6.20814815e+00 -8.76246914e+00  8.29135802e-01 -1.58765432e-01]\n",
      " [ 4.41481481e-01 -1.19023457e+01 -1.58765432e-01  1.62717284e+01]]\n",
      "Matriz de correlacion para los datos\n",
      "[[ 1.          0.54825658 -0.65388804  0.01049663]\n",
      " [ 0.54825658  1.         -0.60379032 -0.18513486]\n",
      " [-0.65388804 -0.60379032  1.         -0.04322413]\n",
      " [ 0.01049663 -0.18513486 -0.04322413  1.        ]]\n",
      "Vemos que la altura correlaciona con los pesos positivamente, con el sexo negativamente (mujer codifica como valor mas alto y hombre como mas bajo) y no correlaciona con el largo del nombre\n"
     ]
    }
   ],
   "source": [
    "# Armamos la matriz con todos los datos\n",
    "\n",
    "datos = [alturas,pesos,sexo,letras]\n",
    "#print (\"Matriz con los datos\")\n",
    "#print (datos)\n",
    "\n",
    "#print (np.var(datos[0]))\n",
    "#datos2 = np.transpose(datos)\n",
    "print (\"El orden de las columnas es: alturas, pesos, sexo, letras\")\n",
    "print (\"Matriz de covarianza para los datos\")\n",
    "print (np.cov(datos,ddof=0))\n",
    "print (\"Matriz de correlacion para los datos\")\n",
    "print (np.corrcoef(datos))\n",
    "\n",
    "print (\"Vemos que la altura correlaciona con los pesos positivamente, con el sexo negativamente (mujer codifica como valor mas alto y hombre como mas bajo) y no correlaciona con el largo del nombre\")"
   ]
  },
  {
   "cell_type": "markdown",
   "metadata": {
    "jp-MarkdownHeadingCollapsed": true,
    "tags": []
   },
   "source": [
    "# Para mirar en las notebooks...\n",
    "\n",
    "## metodos\n",
    "\n",
    "- around: Redondea los valores con un numero de decimales que se le pasa como parametro\n",
    "- argmax: Busca el indice donde está el maximo valor\n",
    "\n",
    "## librerias\n",
    "\n",
    "- matplotlib: Sirve para graficar como seaborn, la vamos a ver bien mas adelante.\n"
   ]
  },
  {
   "cell_type": "markdown",
   "metadata": {},
   "source": [
    "# Hands-On\n",
    "\n",
    "Hacerlo sin la opcion de plotter que propone, mirar los graficos en este ejemplo."
   ]
  }
 ],
 "metadata": {
  "kernelspec": {
   "display_name": "Python 3.9.12 ('base')",
   "language": "python",
   "name": "python3"
  },
  "language_info": {
   "codemirror_mode": {
    "name": "ipython",
    "version": 3
   },
   "file_extension": ".py",
   "mimetype": "text/x-python",
   "name": "python",
   "nbconvert_exporter": "python",
   "pygments_lexer": "ipython3",
   "version": "3.9.12"
  },
  "vscode": {
   "interpreter": {
    "hash": "499a1cf83386e9cdb50680be6c4b00d5e02a649406be4f417a406efedf754313"
   }
  }
 },
 "nbformat": 4,
 "nbformat_minor": 4
}

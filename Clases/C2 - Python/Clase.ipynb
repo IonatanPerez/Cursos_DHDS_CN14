{
 "cells": [
  {
   "cell_type": "markdown",
   "metadata": {},
   "source": [
    "# Temarios\n",
    "\n",
    "- Intro a python (diapos)\n",
    "- Enviroments (diapos)\n",
    "- Notebooks vs py (diapos y ejemplo)\n",
    "- Funciones (ejemplo propio)\n",
    "- Argumentos y parametros (ver practica)\n",
    "- Librerias (intro ejemplo propio)\n",
    "- Scopes de variables (ejemplo propio)\n",
    "- Buenas practicas (diapos)\n",
    "\n",
    "# Temario para la proxima\n",
    "\n",
    "- POO (vemos como estamos de tiempo)"
   ]
  },
  {
   "cell_type": "code",
   "execution_count": 1,
   "metadata": {},
   "outputs": [
    {
     "name": "stdout",
     "output_type": "stream",
     "text": [
      "1\n"
     ]
    }
   ],
   "source": [
    "# ¿Como se si un numero es par?\n",
    "\n",
    "print (15%2)"
   ]
  },
  {
   "cell_type": "code",
   "execution_count": 2,
   "metadata": {},
   "outputs": [
    {
     "name": "stdout",
     "output_type": "stream",
     "text": [
      "El numero 16 es par\n"
     ]
    }
   ],
   "source": [
    "numero = 16\n",
    "\n",
    "if numero%2 == 0:\n",
    "    print (f'El numero {numero} es par')\n",
    "else:\n",
    "    print (f'El numero {numero} es impar')"
   ]
  },
  {
   "cell_type": "markdown",
   "metadata": {},
   "source": [
    "# Esto es un titulo\n",
    "\n",
    "## Esto es un subtitulo\n",
    "\n",
    "Lista:\n",
    "- elemento1\n",
    "- elemento2\n",
    "    - sub item\n",
    "\n",
    "Esto es una formula $X = y^2$ o la raiz cubica de 2/3 $\\sqrt[3]{\\frac{2}{3}}$"
   ]
  },
  {
   "cell_type": "markdown",
   "metadata": {},
   "source": [
    "# Vamos a plantear un problema\n",
    "\n",
    "Tenemos una base de datos y queremos generar un mensaje personalizado a cada registro informando que tienen el vencimiento de un servicio. Vamos a facalizarnos en generar el mensaje, no en enviarlo. Usamos solo 5 registros para que hacerlo a mano tenga sentido, pero la idea es automatizarlo."
   ]
  },
  {
   "cell_type": "markdown",
   "metadata": {},
   "source": [
    "# Datos\n",
    "\n",
    "![](Ejemplo_datos.png)"
   ]
  },
  {
   "cell_type": "code",
   "execution_count": 3,
   "metadata": {},
   "outputs": [
    {
     "name": "stdout",
     "output_type": "stream",
     "text": [
      "Sr. Romildo Ricardo Lopez, tiene una deuda con Claro que vence el 12/03/22\n"
     ]
    }
   ],
   "source": [
    "# Lo que no\n",
    "\n",
    "print ('Sr. Romildo Ricardo Lopez, tiene una deuda con Claro que vence el 12/03/22')"
   ]
  },
  {
   "cell_type": "code",
   "execution_count": 4,
   "metadata": {},
   "outputs": [
    {
     "name": "stdout",
     "output_type": "stream",
     "text": [
      "Sr. Romildo Ricardo Lopez, tiene una deuda con Claro que vence el 12/03/22.\n",
      "Sra. Maria Ines Gonzales, tiene una deuda con Edenor que vence el 04/09/22.\n"
     ]
    }
   ],
   "source": [
    "# Datos especificos\n",
    "titulo = \"Sr.\"\n",
    "nombre = \"Romildo\"\n",
    "segundo = \"Ricardo\"\n",
    "apellido = \"Lopez\"\n",
    "servicio = \"Claro\"\n",
    "vencimiento = \"12/03/22\"\n",
    "\n",
    "print (f'{titulo} {nombre} {segundo} {apellido}, tiene una deuda con {servicio} que vence el {vencimiento}.')\n",
    "\n",
    "# Persona 2\n",
    "titulo = \"Sra.\"\n",
    "nombre = \"Maria\"\n",
    "segundo = \"Ines\"\n",
    "apellido = \"Gonzales\"\n",
    "servicio = \"Edenor\"\n",
    "vencimiento = \"04/09/22\"\n",
    "\n",
    "print (f'{titulo} {nombre} {segundo} {apellido}, tiene una deuda con {servicio} que vence el {vencimiento}.')\n",
    "\n"
   ]
  },
  {
   "cell_type": "code",
   "execution_count": 7,
   "metadata": {},
   "outputs": [],
   "source": [
    "def generar_mensaje(titulo, nombre, segundo, apellido, servicio, vencimiento):\n",
    "    print (f'{titulo} {nombre} {segundo} {apellido}, tiene una deuda con {servicio} que vence el {vencimiento}.')\n"
   ]
  },
  {
   "cell_type": "code",
   "execution_count": 8,
   "metadata": {},
   "outputs": [
    {
     "name": "stdout",
     "output_type": "stream",
     "text": [
      "Sra. Maria Ines Gonzales, tiene una deuda con Edenor que vence el 04/09/22.\n"
     ]
    }
   ],
   "source": [
    "# Persona 2\n",
    "titulo = \"Sra.\"\n",
    "nombre = \"Maria\"\n",
    "segundo = \"Ines\"\n",
    "apellido = \"Gonzales\"\n",
    "servicio = \"Edenor\"\n",
    "vencimiento = \"04/09/22\"\n",
    "\n",
    "generar_mensaje(titulo, nombre, segundo, apellido, servicio, vencimiento)"
   ]
  }
 ],
 "metadata": {
  "kernelspec": {
   "display_name": "Python 3.8.13 ('DH')",
   "language": "python",
   "name": "python3"
  },
  "language_info": {
   "codemirror_mode": {
    "name": "ipython",
    "version": 3
   },
   "file_extension": ".py",
   "mimetype": "text/x-python",
   "name": "python",
   "nbconvert_exporter": "python",
   "pygments_lexer": "ipython3",
   "version": "3.8.13"
  },
  "orig_nbformat": 4,
  "vscode": {
   "interpreter": {
    "hash": "93b1ad9c150e9c4fa5781c5a37e00b91f3d8cfbe17fc5b5e6277144ed0216a69"
   }
  }
 },
 "nbformat": 4,
 "nbformat_minor": 2
}

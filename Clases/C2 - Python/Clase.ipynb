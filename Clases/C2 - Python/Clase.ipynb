{
 "cells": [
  {
   "cell_type": "markdown",
   "metadata": {},
   "source": [
    "# Temarios\n",
    "\n",
    "- Intro a python (diapos)\n",
    "- Enviroments (diapos)\n",
    "- Notebooks vs py (diapos y ejemplo)\n",
    "- Funciones (ejemplo propio)\n",
    "- Argumentos y parametros (ver practica)\n",
    "- Librerias (intro ejemplo propio)\n",
    "- Scopes de variables (ejemplo propio)\n",
    "- Buenas practicas (diapos)\n",
    "\n",
    "# Temario para la proxima\n",
    "\n",
    "- POO (vemos como estamos de tiempo)"
   ]
  },
  {
   "cell_type": "code",
   "execution_count": 1,
   "metadata": {},
   "outputs": [
    {
     "name": "stdout",
     "output_type": "stream",
     "text": [
      "1\n"
     ]
    }
   ],
   "source": [
    "# ¿Como se si un numero es par?\n",
    "\n",
    "print (15%2)"
   ]
  },
  {
   "cell_type": "code",
   "execution_count": 2,
   "metadata": {},
   "outputs": [
    {
     "name": "stdout",
     "output_type": "stream",
     "text": [
      "El numero 16 es par\n"
     ]
    }
   ],
   "source": [
    "numero = 16\n",
    "\n",
    "if numero%2 == 0:\n",
    "    print (f'El numero {numero} es par')\n",
    "else:\n",
    "    print (f'El numero {numero} es impar')"
   ]
  },
  {
   "cell_type": "markdown",
   "metadata": {},
   "source": [
    "# Esto es un titulo\n",
    "\n",
    "## Esto es un subtitulo\n",
    "\n",
    "Lista:\n",
    "- elemento1\n",
    "- elemento2\n",
    "    - sub item\n",
    "\n",
    "Esto es una formula $X = y^2$ o la raiz cubica de 2/3 $\\sqrt[3]{\\frac{2}{3}}$"
   ]
  },
  {
   "cell_type": "markdown",
   "metadata": {},
   "source": [
    "# Vamos a plantear un problema\n",
    "\n",
    "Tenemos una base de datos y queremos generar un mensaje personalizado a cada registro informando que tienen el vencimiento de un servicio. Vamos a facalizarnos en generar el mensaje, no en enviarlo. Usamos solo 5 registros para que hacerlo a mano tenga sentido, pero la idea es automatizarlo."
   ]
  },
  {
   "cell_type": "markdown",
   "metadata": {},
   "source": [
    "# Datos\n",
    "\n",
    "![](Ejemplo_datos.png)"
   ]
  },
  {
   "cell_type": "code",
   "execution_count": 3,
   "metadata": {},
   "outputs": [
    {
     "name": "stdout",
     "output_type": "stream",
     "text": [
      "Sr. Romildo Ricardo Lopez, tiene una deuda con Claro que vence el 12/03/22\n"
     ]
    }
   ],
   "source": [
    "# Lo que no\n",
    "\n",
    "print ('Sr. Romildo Ricardo Lopez, tiene una deuda con Claro que vence el 12/03/22')"
   ]
  },
  {
   "cell_type": "code",
   "execution_count": 4,
   "metadata": {},
   "outputs": [
    {
     "name": "stdout",
     "output_type": "stream",
     "text": [
      "Sr. Romildo Ricardo Lopez, tiene una deuda con Claro que vence el 12/03/22.\n",
      "Sra. Maria Ines Gonzales, tiene una deuda con Edenor que vence el 04/09/22.\n"
     ]
    }
   ],
   "source": [
    "# Datos especificos\n",
    "titulo = \"Sr.\"\n",
    "nombre = \"Romildo\"\n",
    "segundo = \"Ricardo\"\n",
    "apellido = \"Lopez\"\n",
    "servicio = \"Claro\"\n",
    "vencimiento = \"12/03/22\"\n",
    "\n",
    "print (f'{titulo} {nombre} {segundo} {apellido}, tiene una deuda con {servicio} que vence el {vencimiento}.')\n",
    "\n",
    "# Persona 2\n",
    "titulo = \"Sra.\"\n",
    "nombre = \"Maria\"\n",
    "segundo = \"Ines\"\n",
    "apellido = \"Gonzales\"\n",
    "servicio = \"Edenor\"\n",
    "vencimiento = \"04/09/22\"\n",
    "\n",
    "print (f'{titulo} {nombre} {segundo} {apellido}, tiene una deuda con {servicio} que vence el {vencimiento}.')\n",
    "\n"
   ]
  },
  {
   "cell_type": "code",
   "execution_count": 7,
   "metadata": {},
   "outputs": [],
   "source": [
    "def generar_mensaje(titulo, nombre, segundo, apellido, servicio, vencimiento):\n",
    "    print (f'{titulo} {nombre} {segundo} {apellido}, tiene una deuda con {servicio} que vence el {vencimiento}.')\n"
   ]
  },
  {
   "cell_type": "code",
   "execution_count": 18,
   "metadata": {},
   "outputs": [
    {
     "name": "stdout",
     "output_type": "stream",
     "text": [
      "Sra. Maria Ines Gonzales, tiene una deuda con Edenor que vence el 04/09/22.\n",
      "Maria\n"
     ]
    }
   ],
   "source": [
    "# Persona 2\n",
    "titulo = \"Sra.\"\n",
    "nombre = \"Maria\"\n",
    "segundo = \"Ines\"\n",
    "apellido = \"Gonzales\"\n",
    "servicio = \"Edenor\"\n",
    "vencimiento = \"04/09/22\"\n",
    "\n",
    "generar_mensaje(titulo, nombre, segundo, apellido, servicio, vencimiento)\n",
    "print (nombre)"
   ]
  },
  {
   "cell_type": "code",
   "execution_count": 23,
   "metadata": {},
   "outputs": [
    {
     "name": "stdout",
     "output_type": "stream",
     "text": [
      "Sr. Danilo Gugiari, tiene una deuda con Edenor que vence el 04/09/22.\n",
      "Danilo\n"
     ]
    }
   ],
   "source": [
    "# Persona 3\n",
    "titulo = \"Sr.\"\n",
    "nombre = \"Danilo\"\n",
    "segundo = \"\" # No es lo mismo que None aunque tengan el mismo valor de verdad False (ahora vamos a ver porque hacemos notar esto)\n",
    "apellido = \"Gugiari\"\n",
    "servicio = \"Edenor\"\n",
    "vencimiento = \"04/09/22\"\n",
    "\n",
    "generar_mensaje(titulo,nombre,segundo,apellido, servicio, vencimiento)\n",
    "print (nombre1)"
   ]
  },
  {
   "cell_type": "code",
   "execution_count": 56,
   "metadata": {},
   "outputs": [],
   "source": [
    "def generar_mensaje(titulo, nombre, segundo, apellido, servicio, vencimiento, vacio = None):\n",
    "    if segundo:\n",
    "        nombre = nombre + ' ' + segundo\n",
    "    print (f'{titulo} {nombre} {apellido}, tiene una deuda con {servicio} que vence el {vencimiento}.')\n"
   ]
  },
  {
   "cell_type": "code",
   "execution_count": 30,
   "metadata": {},
   "outputs": [
    {
     "name": "stdout",
     "output_type": "stream",
     "text": [
      "Ricardo Romildo\n",
      "Ines Maria\n",
      " Danilo\n",
      "Camila Romina\n",
      " Micaela\n"
     ]
    }
   ],
   "source": [
    "nombres = [\"Romildo\", \"Maria\", \"Danilo\", \"Romina\", \"Micaela\"] # Notar que use una \"s\" para indicar que son muchos (es una lista). Es muy importante usar nombres de variables que sean claros e indicativos, nunca un \"pepe\".\n",
    "\n",
    "\n",
    "segundos = [\"Ricardo\", \"Ines\", \"\", \"Camila\", \"\"] # Es importante para preservar la consistencia de los datos poner \"\" donde no hay segundo nombre pero si hay un registro.\n",
    "\n",
    "\n",
    "for segundo, nombre in zip(nombres,segundos):\n",
    "    print (nombre,segundo)\n",
    "    "
   ]
  },
  {
   "cell_type": "code",
   "execution_count": 31,
   "metadata": {},
   "outputs": [
    {
     "name": "stdout",
     "output_type": "stream",
     "text": [
      "Hola Romildo Ricardo, tenemos un mensaje para usted pero se lo vamos a mandar en otro momento que nos cueste menos trabajo.\n",
      "Hola Maria Ines, tenemos un mensaje para usted pero se lo vamos a mandar en otro momento que nos cueste menos trabajo.\n",
      "Hola Danilo , tenemos un mensaje para usted pero se lo vamos a mandar en otro momento que nos cueste menos trabajo.\n",
      "Hola Romina Camila, tenemos un mensaje para usted pero se lo vamos a mandar en otro momento que nos cueste menos trabajo.\n",
      "Hola Micaela , tenemos un mensaje para usted pero se lo vamos a mandar en otro momento que nos cueste menos trabajo.\n"
     ]
    }
   ],
   "source": [
    "# Ahora podriamos ver como combinar esto con la funcion, pero para no tipear todo vamos a ver una version simplificada\n",
    "\n",
    "def mensaje_simple(nombre, segundo):\n",
    "    print (f\"Hola {nombre} {segundo}, tenemos un mensaje para usted pero se lo vamos a mandar en otro momento que nos cueste menos trabajo.\")\n",
    "\n",
    "for nombre, segundo in zip(nombres, segundos):\n",
    "    mensaje_simple(nombre,segundo)"
   ]
  },
  {
   "cell_type": "code",
   "execution_count": 42,
   "metadata": {},
   "outputs": [
    {
     "name": "stdout",
     "output_type": "stream",
     "text": [
      "{'titulo': 'Sra.', 'nombre': 'Maria', 'segundo': 'Ines', 'apellido': 'Gonzales', 'servicio': 'Edenor', 'vencimiento': '04/09/22', 'pago': True}\n",
      "Hola Sra. {'nombre': 'Romildo', 'titulo': 'Sr.', 'servicio': 'Claro', 'vencimiento': '12/03/22', 'apellido': 'Lopez', 'segundo': 'Ricardo'}\n"
     ]
    },
    {
     "ename": "KeyError",
     "evalue": "'pago'",
     "output_type": "error",
     "traceback": [
      "\u001b[1;31m---------------------------------------------------------------------------\u001b[0m",
      "\u001b[1;31mKeyError\u001b[0m                                  Traceback (most recent call last)",
      "\u001b[1;32m~\\AppData\\Local\\Temp\\ipykernel_1512\\1681868642.py\u001b[0m in \u001b[0;36m<module>\u001b[1;34m\u001b[0m\n\u001b[0;32m     17\u001b[0m \u001b[1;33m\u001b[0m\u001b[0m\n\u001b[0;32m     18\u001b[0m \u001b[0mprint\u001b[0m \u001b[1;33m(\u001b[0m\u001b[1;34mf'Hola {persona2[\"titulo\"]} {persona1}'\u001b[0m\u001b[1;33m)\u001b[0m\u001b[1;33m\u001b[0m\u001b[1;33m\u001b[0m\u001b[0m\n\u001b[1;32m---> 19\u001b[1;33m \u001b[0mprint\u001b[0m \u001b[1;33m(\u001b[0m\u001b[0mpersona1\u001b[0m\u001b[1;33m[\u001b[0m\u001b[1;34m'pago'\u001b[0m\u001b[1;33m]\u001b[0m\u001b[1;33m)\u001b[0m\u001b[1;33m\u001b[0m\u001b[1;33m\u001b[0m\u001b[0m\n\u001b[0m",
      "\u001b[1;31mKeyError\u001b[0m: 'pago'"
     ]
    }
   ],
   "source": [
    "# Cual seria la esencia de los diccionarios\n",
    "\n",
    "persona1 = {}\n",
    "\n",
    "persona1[\"nombre\"] = \"Romildo\"\n",
    "persona1[\"titulo\"] = \"Sr.\"\n",
    "persona1['servicio'] = 'Claro'\n",
    "persona1['vencimiento'] = '12/03/22'\n",
    "persona1['apellido'] = 'Lopez'\n",
    "persona1['segundo'] = 'Ricardo'\n",
    "\n",
    "\n",
    "persona2 = {'titulo': 'Sra.', 'nombre': 'Maria', 'segundo': 'Ines', 'apellido': 'Gonzales', 'servicio': 'Edenor', 'vencimiento': '04/09/22'}\n",
    "persona2['pago'] = True\n",
    "\n",
    "print (persona2)\n",
    "\n",
    "print (f'Hola {persona2[\"titulo\"]} {persona1}')\n",
    "print (persona1['pago'])"
   ]
  },
  {
   "cell_type": "code",
   "execution_count": 47,
   "metadata": {},
   "outputs": [
    {
     "data": {
      "text/plain": [
       "dict_items([('nombre', 'Romildo'), ('titulo', 'Sr.'), ('servicio', 'Claro'), ('vencimiento', '12/03/22'), ('apellido', 'Lopez'), ('segundo', 'Ricardo')])"
      ]
     },
     "execution_count": 47,
     "metadata": {},
     "output_type": "execute_result"
    }
   ],
   "source": [
    "persona1.items()"
   ]
  },
  {
   "cell_type": "code",
   "execution_count": 57,
   "metadata": {},
   "outputs": [
    {
     "name": "stdout",
     "output_type": "stream",
     "text": [
      "Sr. Romildo Ricardo Lopez, tiene una deuda con Claro que vence el 12/03/22.\n"
     ]
    }
   ],
   "source": [
    "# Que podemos hacer ahora?\n",
    "\n",
    "generar_mensaje(**persona1)"
   ]
  },
  {
   "cell_type": "code",
   "execution_count": 52,
   "metadata": {},
   "outputs": [
    {
     "ename": "SyntaxError",
     "evalue": "invalid syntax (170031476.py, line 1)",
     "output_type": "error",
     "traceback": [
      "\u001b[1;36m  File \u001b[1;32m\"C:\\Users\\Ionatan\\AppData\\Local\\Temp\\ipykernel_1512\\170031476.py\"\u001b[1;36m, line \u001b[1;32m1\u001b[0m\n\u001b[1;33m    **persona1\u001b[0m\n\u001b[1;37m    ^\u001b[0m\n\u001b[1;31mSyntaxError\u001b[0m\u001b[1;31m:\u001b[0m invalid syntax\n"
     ]
    }
   ],
   "source": []
  },
  {
   "cell_type": "code",
   "execution_count": 51,
   "metadata": {},
   "outputs": [
    {
     "name": "stdout",
     "output_type": "stream",
     "text": [
      " Pepe lopez, tiene una deuda con Malo que vence el Hoy.\n",
      "Pepe\n"
     ]
    }
   ],
   "source": [
    "generar_mensaje(apellido='lopez',titulo='',segundo='',nombre='Pepe',vencimiento='Hoy',servicio='Malo')"
   ]
  }
 ],
 "metadata": {
  "kernelspec": {
   "display_name": "Python 3.8.13 ('DH')",
   "language": "python",
   "name": "python3"
  },
  "language_info": {
   "codemirror_mode": {
    "name": "ipython",
    "version": 3
   },
   "file_extension": ".py",
   "mimetype": "text/x-python",
   "name": "python",
   "nbconvert_exporter": "python",
   "pygments_lexer": "ipython3",
   "version": "3.8.13"
  },
  "orig_nbformat": 4,
  "vscode": {
   "interpreter": {
    "hash": "93b1ad9c150e9c4fa5781c5a37e00b91f3d8cfbe17fc5b5e6277144ed0216a69"
   }
  }
 },
 "nbformat": 4,
 "nbformat_minor": 2
}

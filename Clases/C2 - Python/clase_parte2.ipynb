{
 "cells": [
  {
   "cell_type": "code",
   "execution_count": 1,
   "metadata": {},
   "outputs": [],
   "source": [
    "persona1 = {}\n",
    "\n",
    "persona1[\"nombre\"] = \"Romildo\"\n",
    "persona1[\"titulo\"] = \"Sr.\"\n",
    "persona1['servicio'] = 'Claro'\n",
    "persona1['vencimiento'] = '12/03/22'\n",
    "persona1['apellido'] = 'Lopez'\n",
    "persona1['segundo'] = 'Ricardo'"
   ]
  },
  {
   "cell_type": "code",
   "execution_count": 2,
   "metadata": {},
   "outputs": [],
   "source": [
    "import utils"
   ]
  },
  {
   "cell_type": "code",
   "execution_count": 4,
   "metadata": {},
   "outputs": [
    {
     "name": "stdout",
     "output_type": "stream",
     "text": [
      "Sr. Romildo Ricardo Lopez, tiene una deuda con Claro que vence el 12/03/22\n"
     ]
    }
   ],
   "source": [
    "utils.generar_mensaje(**persona1)"
   ]
  },
  {
   "cell_type": "code",
   "execution_count": 5,
   "metadata": {},
   "outputs": [],
   "source": [
    "import pandas"
   ]
  },
  {
   "cell_type": "code",
   "execution_count": 12,
   "metadata": {},
   "outputs": [],
   "source": [
    "datos = pandas.read_csv('C2-Ejemplo.csv')"
   ]
  },
  {
   "cell_type": "code",
   "execution_count": 13,
   "metadata": {},
   "outputs": [
    {
     "name": "stdout",
     "output_type": "stream",
     "text": [
      "  titulo   nombre  segundo  apellido  servicio vencimiento\n",
      "0    Sr.  Romildo  Ricardo     Lopez     Claro    12/03/22\n",
      "1   Sra.    Maria     Ines  Gonzales    Edenor    04/09/22\n",
      "2    Sr.   Danilo      NaN   Gugiari    Edenor    04/09/22\n",
      "3   Sra.   Romina   Camila     Perez  Movistar    09/10/22\n",
      "4   Sra.  Micaela      NaN     Vilas  Movistar    08/10/22\n"
     ]
    }
   ],
   "source": [
    "print (datos)"
   ]
  },
  {
   "cell_type": "code",
   "execution_count": 16,
   "metadata": {},
   "outputs": [
    {
     "name": "stdout",
     "output_type": "stream",
     "text": [
      "Sr. Romildo Ricardo Lopez, tiene una deuda con Claro que vence el 12/03/22\n",
      "Sra. Maria Ines Gonzales, tiene una deuda con Edenor que vence el 04/09/22\n",
      "Sr. Danilo Gugiari, tiene una deuda con Edenor que vence el 04/09/22\n",
      "Sra. Romina Camila Perez, tiene una deuda con Movistar que vence el 09/10/22\n",
      "Sra. Micaela Vilas, tiene una deuda con Movistar que vence el 08/10/22\n"
     ]
    }
   ],
   "source": [
    "from utils import generar_mensaje\n",
    "\n",
    "for ind, row in datos.iterrows():\n",
    "    generar_mensaje_test(**row)"
   ]
  },
  {
   "cell_type": "code",
   "execution_count": 15,
   "metadata": {},
   "outputs": [],
   "source": [
    "def generar_mensaje_test(titulo, nombre, segundo, apellido, servicio, vencimiento):\n",
    "    #print (segundo)\n",
    "    #print (type(segundo))\n",
    "    if segundo and type(segundo) == str: # Aca el \"\" tiene valor False, si hay contenido en el str entonces tiene valor True. Magias de Python que es super flexible.\n",
    "        nombre_completo = nombre + \" \" + segundo\n",
    "    else:\n",
    "        nombre_completo = nombre\n",
    "    print (f'{titulo} {nombre_completo} {apellido}, tiene una deuda con {servicio} que vence el {vencimiento}')\n",
    "\n"
   ]
  }
 ],
 "metadata": {
  "kernelspec": {
   "display_name": "Python 3.9.12 ('base')",
   "language": "python",
   "name": "python3"
  },
  "language_info": {
   "codemirror_mode": {
    "name": "ipython",
    "version": 3
   },
   "file_extension": ".py",
   "mimetype": "text/x-python",
   "name": "python",
   "nbconvert_exporter": "python",
   "pygments_lexer": "ipython3",
   "version": "3.9.12"
  },
  "orig_nbformat": 4,
  "vscode": {
   "interpreter": {
    "hash": "499a1cf83386e9cdb50680be6c4b00d5e02a649406be4f417a406efedf754313"
   }
  }
 },
 "nbformat": 4,
 "nbformat_minor": 2
}

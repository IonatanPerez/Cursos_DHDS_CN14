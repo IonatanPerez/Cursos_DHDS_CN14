{
 "cells": [
  {
   "cell_type": "markdown",
   "metadata": {},
   "source": [
    "# Temarios\n",
    "\n",
    "- Intro a python (diapos)\n",
    "- Enviroments (diapos)\n",
    "- Notebooks vs py (diapos y ejemplo)\n",
    "- Funciones (ejemplo propio)\n",
    "- Argumentos y parametros (ver practica)\n",
    "- Librerias (intro ejemplo propio)\n",
    "- Scopes de variables (ejemplo propio)\n",
    "- Buenas practicas (diapos)\n",
    "\n",
    "# Temario para la proxima\n",
    "\n",
    "- POO (vemos como estamos de tiempo)"
   ]
  },
  {
   "cell_type": "markdown",
   "metadata": {},
   "source": [
    "## Notebooks vs py\n",
    "\n",
    "Vamos a dar un ejemplo muy bobo y sin sentido practico pero que sirve de ejemplo para varias cosas: queremos saber si los minutos de la hora actual es par o impar. Para eso vamos a usar la funcion: \"%\" que indica el resto de una division entera."
   ]
  },
  {
   "cell_type": "code",
   "execution_count": 42,
   "metadata": {},
   "outputs": [
    {
     "name": "stdout",
     "output_type": "stream",
     "text": [
      "1\n"
     ]
    }
   ],
   "source": [
    "# Por ejemplo, 15 es un numero impar. Eso lo podemos deducir haciendo la division entera por 2 y viendo que el resto es 1 y no 0\n",
    "\n",
    "print (15%2)"
   ]
  },
  {
   "cell_type": "code",
   "execution_count": 24,
   "metadata": {},
   "outputs": [
    {
     "name": "stdout",
     "output_type": "stream",
     "text": [
      "El numero de minutos 30 es un numero par.\n"
     ]
    }
   ],
   "source": [
    "# Queremos ahora pensar como hacer para informar al usuario que ingresa una hora si es par o impar.\n",
    "\n",
    "# Podemos poner el codigo en un archivo y ejecutarlo. \n",
    "\n",
    "# O podemos ejecutarlo aca:\n",
    "numero = input()\n",
    "if int(numero)%2 == 0:\n",
    "    print (f\"El numero de minutos {numero} es un numero par.\")\n",
    "else:\n",
    "    print (f\"El numero de minutos {numero} es un numero impar.\")"
   ]
  },
  {
   "cell_type": "code",
   "execution_count": 25,
   "metadata": {},
   "outputs": [
    {
     "name": "stdout",
     "output_type": "stream",
     "text": [
      "El numero de minutos 30 es un numero multiplo de 5.\n"
     ]
    }
   ],
   "source": [
    "# Ahora queremos saber si es multiplo de 3, ¿Como hacemos?\n",
    "\n",
    "divisor = 5\n",
    "if int(numero)%divisor == 0:\n",
    "    print (f\"El numero de minutos {numero} es un numero multiplo de {divisor}.\")\n",
    "else:\n",
    "    print (f\"El numero de minutos {numero} no es un numero multiplo de {divisor}.\")"
   ]
  },
  {
   "cell_type": "code",
   "execution_count": 26,
   "metadata": {},
   "outputs": [
    {
     "name": "stdout",
     "output_type": "stream",
     "text": [
      "El numero de minutos que fue cargado es: 30\n"
     ]
    }
   ],
   "source": [
    "# La logica de una notebook con celdas es muy comoda para ir probando cosas, pero tiene un gran riesgo...!\n",
    "\n",
    "print (f\"El numero de minutos que fue cargado es: {numero}\")"
   ]
  },
  {
   "cell_type": "markdown",
   "metadata": {},
   "source": [
    "Otro ejemplo de los riesgos de usar notebooks"
   ]
  },
  {
   "cell_type": "code",
   "execution_count": 27,
   "metadata": {},
   "outputs": [],
   "source": [
    "numero = 2"
   ]
  },
  {
   "cell_type": "code",
   "execution_count": 28,
   "metadata": {},
   "outputs": [
    {
     "name": "stdout",
     "output_type": "stream",
     "text": [
      "12\n"
     ]
    }
   ],
   "source": [
    "numero = numero + 10\n",
    "print (numero)"
   ]
  },
  {
   "cell_type": "markdown",
   "metadata": {},
   "source": [
    "En una notebook el codigo depende del historial de lo que ejecutamos y une suele no ejecutar en orden (es parte de la gracia, ir probando cosas, ir y volver) y eso afecta los resultados.\n",
    "\n",
    "En **muy importante** cuando algo esta funcionando probar ejecutarlo de punta a punta reseteando el kernel para borrar todo lo que hay en memoria antes de iniciar el codigo."
   ]
  },
  {
   "cell_type": "markdown",
   "metadata": {},
   "source": [
    "-------------------------"
   ]
  },
  {
   "cell_type": "markdown",
   "metadata": {},
   "source": [
    "# Vamos a plantear un problema\n",
    "\n",
    "Tenemos una base de datos y queremos generar un mensaje personalizado a cada registro informando que tienen el vencimiento de un servicio. Vamos a facalizarnos en generar el mensaje, no en enviarlo. Usamos solo 5 registros para que hacerlo a mano tenga sentido, pero la idea es automatizarlo."
   ]
  },
  {
   "cell_type": "markdown",
   "metadata": {},
   "source": [
    "# Datos\n",
    "\n",
    "![Datos](Ejemplo_datos.png)"
   ]
  },
  {
   "cell_type": "code",
   "execution_count": 29,
   "metadata": {},
   "outputs": [
    {
     "name": "stdout",
     "output_type": "stream",
     "text": [
      "Sr. Romildo Ricardo Lopez, tiene una deuda con Claro que vence el 12/03/22\n"
     ]
    }
   ],
   "source": [
    "# Opcion que No queremos:\n",
    "\n",
    "print ('Sr. Romildo Ricardo Lopez, tiene una deuda con Claro que vence el 12/03/22')\n",
    "\n",
    "# Entre otras cosas porque es MUY facil equivocarse!"
   ]
  },
  {
   "cell_type": "code",
   "execution_count": 30,
   "metadata": {},
   "outputs": [
    {
     "name": "stdout",
     "output_type": "stream",
     "text": [
      "Sr. Romildo Ricardo Lopez, tiene una deuda con Claro que vence el 12/03/22\n"
     ]
    }
   ],
   "source": [
    "# Hay una idea que hay que hacerla varias veces, eso indica que tiene sentido armar una funcion\n",
    "\n",
    "# Vamos primero a separar la idea de como estan los datos de la idea de como construir la función\n",
    "\n",
    "# Datos especificos\n",
    "titulo = \"Sr.\"\n",
    "nombre = \"Romildo\"\n",
    "segundo = \"Ricardo\"\n",
    "apellido = \"Lopez\"\n",
    "servicio = \"Claro\"\n",
    "vencimiento = \"12/03/22\"\n",
    "\n",
    "# texto que queremos armar\n",
    "\n",
    "print (f'{titulo} {nombre} {segundo} {apellido}, tiene una deuda con {servicio} que vence el {vencimiento}')\n",
    "\n",
    "# Funciona joya pero por ahora no ganamos mucho. Vamos ahora a subir el nivel de abstracción\n"
   ]
  },
  {
   "cell_type": "code",
   "execution_count": 31,
   "metadata": {},
   "outputs": [],
   "source": [
    "def generar_mensaje(titulo, nombre, segundo, apellido, servicio, vencimiento):\n",
    "    print (f'{titulo} {nombre} {segundo} {apellido}, tiene una deuda con {servicio} que vence el {vencimiento}')\n",
    " "
   ]
  },
  {
   "cell_type": "code",
   "execution_count": 32,
   "metadata": {},
   "outputs": [
    {
     "name": "stdout",
     "output_type": "stream",
     "text": [
      "Sr. Romildo Ricardo Lopez, tiene una deuda con Claro que vence el 12/03/22\n",
      "Sra. Maria Ines Gonzales, tiene una deuda con Edenor que vence el 04/09/22\n",
      "Sr. Danilo  Gugiari, tiene una deuda con Edenor que vence el 04/09/22\n"
     ]
    }
   ],
   "source": [
    "# Y ahora vamos a repetir para cada persona:\n",
    "\n",
    "\n",
    "# Persona 1\n",
    "titulo = \"Sr.\"\n",
    "nombre = \"Romildo\"\n",
    "segundo = \"Ricardo\"\n",
    "apellido = \"Lopez\"\n",
    "servicio = \"Claro\"\n",
    "vencimiento = \"12/03/22\"\n",
    "\n",
    "generar_mensaje(titulo,nombre,segundo,apellido, servicio, vencimiento)\n",
    "\n",
    "# Persona 2\n",
    "titulo = \"Sra.\"\n",
    "nombre = \"Maria\"\n",
    "segundo = \"Ines\"\n",
    "apellido = \"Gonzales\"\n",
    "servicio = \"Edenor\"\n",
    "vencimiento = \"04/09/22\"\n",
    "\n",
    "generar_mensaje(titulo,nombre,segundo,apellido, servicio, vencimiento)\n",
    "\n",
    "# Persona 2\n",
    "titulo = \"Sr.\"\n",
    "nombre = \"Danilo\"\n",
    "segundo = \"\" # No es lo mismo que None aunque tengan el mismo valor de verdad False (ahora vamos a ver porque hacemos notar esto)\n",
    "apellido = \"Gugiari\"\n",
    "servicio = \"Edenor\"\n",
    "vencimiento = \"04/09/22\"\n",
    "\n",
    "generar_mensaje(titulo,nombre,segundo,apellido, servicio, vencimiento)\n",
    "\n",
    "# Notamos dos cosas, la primera, que cuando no hay segundo nombre queda un espacio de mas!!!!! La segunda que sigue siendo un aburrimiento! Claramente hay cosas para mejorar."
   ]
  },
  {
   "cell_type": "code",
   "execution_count": 31,
   "metadata": {},
   "outputs": [],
   "source": [
    "# Vamos a pensar como resolver el tema del espacio en blanco....\n",
    "\n",
    "# Redefinamos la funcion\n",
    "\n",
    "def generar_mensaje(titulo, nombre, segundo, apellido, servicio, vencimiento):\n",
    "    if segundo: # Aca el \"\" tiene valor False, si hay contenido en el str entonces tiene valor True. Magias de Python que es super flexible.\n",
    "        nombre_completo = nombre + \" \" + segundo\n",
    "    else:\n",
    "        nombre_completo = nombre\n",
    "    print (f'{titulo} {nombre_completo} {apellido}, tiene una deuda con {servicio} que vence el {vencimiento}')\n",
    "\n",
    "\n",
    "# Veamos que nombre_completo no existe fuera de la funcion\n",
    "# print (nombre_completo)\n",
    "\n",
    "# Ahora podemos volver arriba y probar (esto es lo que despues puede traer problemas de logica si no somos cuidadoses y no ejecutamos la version final de punta a punta)."
   ]
  },
  {
   "cell_type": "markdown",
   "metadata": {},
   "source": [
    "# Veamos ahora como solucionar el problema de no hacer uno por uno a mano"
   ]
  },
  {
   "cell_type": "code",
   "execution_count": 36,
   "metadata": {},
   "outputs": [
    {
     "name": "stdout",
     "output_type": "stream",
     "text": [
      "Romildo\n",
      "Maria\n",
      "Danilo\n",
      "Romina\n",
      "Micaela\n"
     ]
    }
   ],
   "source": [
    "# Vamos a cargar todos los datos, empezando con los nombres:\n",
    "\n",
    "nombres = [\"Romildo\", \"Maria\", \"Danilo\", \"Romina\", \"Micaela\"] # Notar que use una \"s\" para indicar que son muchos (es una lista). Es muy importante usar nombres de variables que sean claros e indicativos, nunca un \"pepe\".\n",
    "\n",
    "# Que permite esto? Hacer un for porque las listas son iterables, tienen un next o siguiente\n",
    "\n",
    "# Veamos:\n",
    "for nombre in nombres:\n",
    "    print (nombre)\n"
   ]
  },
  {
   "cell_type": "code",
   "execution_count": 37,
   "metadata": {},
   "outputs": [
    {
     "name": "stdout",
     "output_type": "stream",
     "text": [
      "Ricardo\n",
      "Ines\n",
      "\n",
      "Camila\n",
      "\n"
     ]
    }
   ],
   "source": [
    "# Pocemos hacer lo mismo para los segundos nombres\n",
    "\n",
    "segundos = [\"Ricardo\", \"Ines\", \"\", \"Camila\", \"\"] # Es importante para preservar la consistencia de los datos poner \"\" donde no hay segundo nombre pero si hay un registro.\n",
    "\n",
    "for segundo in segundos:\n",
    "    print (segundo)"
   ]
  },
  {
   "cell_type": "code",
   "execution_count": 39,
   "metadata": {},
   "outputs": [
    {
     "name": "stdout",
     "output_type": "stream",
     "text": [
      "Romildo Ricardo\n",
      "Maria Ines\n",
      "Danilo \n",
      "Romina Camila\n",
      "Micaela \n"
     ]
    }
   ],
   "source": [
    "# Como hacemos para tenerlos de a pares?\n",
    "\n",
    "for nombre, segundo in zip(nombres, segundos): # zip agrupa mas de un iterable y los recorre juntos.\n",
    "    print (nombre, segundo) # Otra forma de hacer un print combinando valores"
   ]
  },
  {
   "cell_type": "code",
   "execution_count": 41,
   "metadata": {},
   "outputs": [
    {
     "name": "stdout",
     "output_type": "stream",
     "text": [
      "Ricardo Romildo\n",
      "Ines Maria\n",
      " Danilo\n",
      "Camila Romina\n",
      " Micaela\n"
     ]
    }
   ],
   "source": [
    "# Que esperan que haga esto:?\n",
    "\n",
    "for segundo, nombre in zip(nombres, segundos): # zip agrupa mas de un iterable y los recorre juntos.\n",
    "    print (nombre, segundo) # Otra forma de hacer un print combinando valores\n",
    "\n",
    "# Conclusion, python es BOBO! Hace lo que le decimos pero no entiende los nombres por su significado, sino por su posicion en las instrucciones"
   ]
  },
  {
   "cell_type": "code",
   "execution_count": 43,
   "metadata": {},
   "outputs": [
    {
     "name": "stdout",
     "output_type": "stream",
     "text": [
      "Hola Romildo Ricardo, tenemos un mensaje para usted pero se lo vamos a mandar en otro momento que nos cueste menos trabajo.\n",
      "Hola Maria Ines, tenemos un mensaje para usted pero se lo vamos a mandar en otro momento que nos cueste menos trabajo.\n",
      "Hola Danilo , tenemos un mensaje para usted pero se lo vamos a mandar en otro momento que nos cueste menos trabajo.\n",
      "Hola Romina Camila, tenemos un mensaje para usted pero se lo vamos a mandar en otro momento que nos cueste menos trabajo.\n",
      "Hola Micaela , tenemos un mensaje para usted pero se lo vamos a mandar en otro momento que nos cueste menos trabajo.\n"
     ]
    }
   ],
   "source": [
    "# Ahora podriamos ver como combinar esto con la funcion, pero para no tipear todo vamos a ver una version simplificada\n",
    "\n",
    "def mensaje_simple(nombre, segundo):\n",
    "    print (f\"Hola {nombre} {segundo}, tenemos un mensaje para usted pero se lo vamos a mandar en otro momento que nos cueste menos trabajo.\")\n",
    "\n",
    "for nombre, segundo in zip(nombres, segundos):\n",
    "    mensaje_simple(nombre,segundo)\n",
    "    "
   ]
  },
  {
   "cell_type": "markdown",
   "metadata": {},
   "source": [
    "Podriamos seguir cargando los datos como listas, pero no es una buena idea, porque es muy poco claro al haber muchas listas que es cada lista salvo por los nombres de las variables. Hay maneras mas utiles, claras y elegantes de manipular datos con significado. Diccionarios."
   ]
  },
  {
   "cell_type": "code",
   "execution_count": 7,
   "metadata": {},
   "outputs": [
    {
     "name": "stdout",
     "output_type": "stream",
     "text": [
      "Hola Sra. Maria\n",
      "Hola Sra. Maria\n"
     ]
    }
   ],
   "source": [
    "# Cual seria la esencia de los diccionarios\n",
    "\n",
    "persona1 = {}\n",
    "\n",
    "persona1[\"nombre\"] = \"Romildo\"\n",
    "persona1[\"titulo\"] = \"Sr.\"\n",
    "persona1['servicio'] = 'Claro'\n",
    "persona1['vencimiento'] = '12/03/22'\n",
    "persona1['apellido'] = 'Lopez'\n",
    "persona1['segundo'] = 'Ricardo'\n",
    "\n",
    "# Ventajas:\n",
    "# 1) No importa el orden en que estan los datos, un dict no esta ordenado porque cada contenido tiene su etiqueta\n",
    "# 2) Es claro que contenido corresponde a que idea\n",
    "# 3) Se puede agregar o sacar datos despues de armado el diccionario\n",
    "# 4) Se accede al diccionario sabiendo que queremos buscar\n",
    "\n",
    "# Otra forma de armar el mismo diccionario\n",
    "\n",
    "persona2 = {'titulo': 'Sra.', 'nombre': 'Maria', 'segundo': 'Ines', 'apellido': 'Gonzales', 'servicio': 'Edenor', 'vencimiento': '04/09/22'}\n",
    "\n",
    "print (f'Hola {persona2[\"titulo\"]} {persona2[\"nombre\"]}')\n",
    "\n",
    "# Notar que esto no funciona!!! Porque no puede distinguir que comillas corresponden al str y cuales al nombre del contenido del dict\n",
    "# print (f\"Hola {persona2[\"titulo\"]} {persona2[\"nombre\"]}\")\n",
    "\n",
    "# Pero esto si\n",
    "# print (f\"Hola {persona2['titulo']} {persona2['nombre']}\")"
   ]
  },
  {
   "cell_type": "code",
   "execution_count": 9,
   "metadata": {},
   "outputs": [
    {
     "name": "stdout",
     "output_type": "stream",
     "text": [
      "Sra. Maria Gonzales, tiene una deuda con Edenor que vence el 04/09/22\n"
     ]
    }
   ],
   "source": [
    "# Que podemos hacer ahora?\n",
    "\n",
    "generar_mensaje(**persona2)\n",
    "\n",
    "# Magia! el ** separa el diccionario en cada variable y como los nombres del diccionario coinciden con los nombres de los parametros funciona! :)"
   ]
  },
  {
   "cell_type": "markdown",
   "metadata": {},
   "source": [
    "A esta altura empezamos a tener mas de una funcion que nos definimos que nos pueden resultar utiles. Cuando empieza a pasar esto es buena idea separar las funciones que funcionan (que ya probamos y hacen lo que queremos) del cuerpo del codigo donde probamos cosas o procesamos los datos.\n",
    "\n",
    "Para eso vamos a crear un archivo mensajes.py (el nombre es arbitrario pero es importante que sea .py) con el siguiente codigo:\n",
    "\n",
    "```\n",
    "def generar_mensaje(titulo, nombre, segundo, apellido, servicio, vencimiento):\n",
    "    if segundo: # Aca el \"\" tiene valor False, si hay contenido en el str entonces tiene valor True. Magias de Python que es super flexible.\n",
    "        nombre_completo = nombre + \" \" + segundo\n",
    "    else:\n",
    "        nombre_completo = nombre\n",
    "    print (f'{titulo} {nombre_completo} {apellido}, tiene una deuda con {servicio} que vence el {vencimiento}')\n",
    "\n",
    "\n",
    "def mensaje_simple(nombre, segundo):\n",
    "    print (f\"Hola {nombre} {segundo}, tenemos un mensaje para usted pero se lo vamos a mandar en otro momento que nos cueste menos trabajo.\")\n",
    "```"
   ]
  },
  {
   "cell_type": "markdown",
   "metadata": {},
   "source": [
    "Vamos a resetar el kernel y vamos a probar cosas a partir de aca"
   ]
  },
  {
   "cell_type": "code",
   "execution_count": 2,
   "metadata": {},
   "outputs": [
    {
     "ename": "NameError",
     "evalue": "name 'mensaje_simple' is not defined",
     "output_type": "error",
     "traceback": [
      "\u001b[1;31m---------------------------------------------------------------------------\u001b[0m",
      "\u001b[1;31mNameError\u001b[0m                                 Traceback (most recent call last)",
      "\u001b[1;32md:\\Trabajos\\DH\\Cursos_DHDS_CN13\\Clases\\C2 - Python\\modelo.ipynb Cell 27\u001b[0m in \u001b[0;36m<cell line: 4>\u001b[1;34m()\u001b[0m\n\u001b[0;32m      <a href='vscode-notebook-cell:/d%3A/Trabajos/DH/Cursos_DHDS_CN13/Clases/C2%20-%20Python/modelo.ipynb#X45sZmlsZQ%3D%3D?line=0'>1</a>\u001b[0m \u001b[39m# Chequeamos que las variables y las funciones no estan mas en memoria\u001b[39;00m\n\u001b[0;32m      <a href='vscode-notebook-cell:/d%3A/Trabajos/DH/Cursos_DHDS_CN13/Clases/C2%20-%20Python/modelo.ipynb#X45sZmlsZQ%3D%3D?line=1'>2</a>\u001b[0m \n\u001b[0;32m      <a href='vscode-notebook-cell:/d%3A/Trabajos/DH/Cursos_DHDS_CN13/Clases/C2%20-%20Python/modelo.ipynb#X45sZmlsZQ%3D%3D?line=2'>3</a>\u001b[0m \u001b[39m#nombres\u001b[39;00m\n\u001b[1;32m----> <a href='vscode-notebook-cell:/d%3A/Trabajos/DH/Cursos_DHDS_CN13/Clases/C2%20-%20Python/modelo.ipynb#X45sZmlsZQ%3D%3D?line=3'>4</a>\u001b[0m mensaje_simple()\n",
      "\u001b[1;31mNameError\u001b[0m: name 'mensaje_simple' is not defined"
     ]
    }
   ],
   "source": [
    "# Chequeamos que las variables y las funciones no estan mas en memoria\n",
    "\n",
    "#nombres\n",
    "#mensaje_simple()\n"
   ]
  },
  {
   "cell_type": "code",
   "execution_count": 11,
   "metadata": {},
   "outputs": [
    {
     "name": "stdout",
     "output_type": "stream",
     "text": [
      "Sr. Danilo Gugiari, tiene una deuda con Edenor que vence el 04/09/22\n"
     ]
    }
   ],
   "source": [
    "# Vamos a cargar los datos de la tercer persona pero no vamos a poner que es la tercera sino una persona.\n",
    "\n",
    "persona = {'titulo': 'Sr.', 'nombre': 'Danilo', 'segundo': '', 'apellido': 'Gugiari', 'servicio': 'Edenor', 'vencimiento': '04/09/22'}\n",
    "\n",
    "# Y ahora vamos a decirle a python que queremos usar las cosas que guardamos en el archivo utils, para eso importamos utils\n",
    "\n",
    "import utils\n",
    "\n",
    "# y ahora podemos usar lo que hay adentro\n",
    "\n",
    "utils.generar_mensaje(**persona)"
   ]
  },
  {
   "cell_type": "markdown",
   "metadata": {},
   "source": [
    "Lo ultimo que nos queda es no tipear a mano los datos. Porque por lo general los datos ya vienen en algun formato digital (de hecho podriamos copiar y pegar del excel si lo tuviesemos abierto a la ventana donde programamos pero eso no es hacer las cosas con codigo)"
   ]
  },
  {
   "cell_type": "code",
   "execution_count": 14,
   "metadata": {},
   "outputs": [],
   "source": [
    "# ¿Como programamos un codigo que busque un archivo en la computadora, lo lea y arme una tabla?\n",
    "\n",
    "# No lo hacemos, porque obviamente es un problema que alguien ya resolvio, entonces nos conseguimos el archivo con los codigos y lo usamos, igual que el utils. \n",
    "# Eso se llama buscar una libreria (mala traduccion de biblioteca). Si la conocemos la instalamos e importamos, sino googleamos que libreria hace lo que necesitamos. SIEMPRE alguien ya tuvo nuestro mismo problema.\n",
    "\n",
    "# Hoy vamos a presentar lo super basico de la libreria pandas.\n",
    "\n",
    "import pandas\n",
    "\n",
    "# y vamos a usar la funcion read_csv!"
   ]
  },
  {
   "cell_type": "code",
   "execution_count": 16,
   "metadata": {},
   "outputs": [
    {
     "data": {
      "text/html": [
       "<div>\n",
       "<style scoped>\n",
       "    .dataframe tbody tr th:only-of-type {\n",
       "        vertical-align: middle;\n",
       "    }\n",
       "\n",
       "    .dataframe tbody tr th {\n",
       "        vertical-align: top;\n",
       "    }\n",
       "\n",
       "    .dataframe thead th {\n",
       "        text-align: right;\n",
       "    }\n",
       "</style>\n",
       "<table border=\"1\" class=\"dataframe\">\n",
       "  <thead>\n",
       "    <tr style=\"text-align: right;\">\n",
       "      <th></th>\n",
       "      <th>Titulo</th>\n",
       "      <th>Nombre</th>\n",
       "      <th>Segundo nombre</th>\n",
       "      <th>Apellido</th>\n",
       "      <th>Servicio</th>\n",
       "      <th>Fecha de vencimiento</th>\n",
       "    </tr>\n",
       "  </thead>\n",
       "  <tbody>\n",
       "    <tr>\n",
       "      <th>0</th>\n",
       "      <td>Sr.</td>\n",
       "      <td>Romildo</td>\n",
       "      <td>Ricardo</td>\n",
       "      <td>Lopez</td>\n",
       "      <td>Claro</td>\n",
       "      <td>12/03/22</td>\n",
       "    </tr>\n",
       "    <tr>\n",
       "      <th>1</th>\n",
       "      <td>Sra.</td>\n",
       "      <td>Maria</td>\n",
       "      <td>Ines</td>\n",
       "      <td>Gonzales</td>\n",
       "      <td>Edenor</td>\n",
       "      <td>04/09/22</td>\n",
       "    </tr>\n",
       "    <tr>\n",
       "      <th>2</th>\n",
       "      <td>Sr.</td>\n",
       "      <td>Danilo</td>\n",
       "      <td>NaN</td>\n",
       "      <td>Gugiari</td>\n",
       "      <td>Edenor</td>\n",
       "      <td>04/09/22</td>\n",
       "    </tr>\n",
       "    <tr>\n",
       "      <th>3</th>\n",
       "      <td>Sra.</td>\n",
       "      <td>Romina</td>\n",
       "      <td>Camila</td>\n",
       "      <td>Perez</td>\n",
       "      <td>Movistar</td>\n",
       "      <td>09/10/22</td>\n",
       "    </tr>\n",
       "    <tr>\n",
       "      <th>4</th>\n",
       "      <td>Sra.</td>\n",
       "      <td>Micaela</td>\n",
       "      <td>NaN</td>\n",
       "      <td>Vilas</td>\n",
       "      <td>Movistar</td>\n",
       "      <td>08/10/22</td>\n",
       "    </tr>\n",
       "  </tbody>\n",
       "</table>\n",
       "</div>"
      ],
      "text/plain": [
       "  Titulo   Nombre Segundo nombre  Apellido  Servicio Fecha de vencimiento\n",
       "0    Sr.  Romildo        Ricardo     Lopez     Claro             12/03/22\n",
       "1   Sra.    Maria           Ines  Gonzales    Edenor             04/09/22\n",
       "2    Sr.   Danilo            NaN   Gugiari    Edenor             04/09/22\n",
       "3   Sra.   Romina         Camila     Perez  Movistar             09/10/22\n",
       "4   Sra.  Micaela            NaN     Vilas  Movistar             08/10/22"
      ]
     },
     "metadata": {},
     "output_type": "display_data"
    }
   ],
   "source": [
    "datos = pandas.read_csv('C2-Ejemplo.csv')\n",
    "display (datos) # Display es una especie de print que muestra las cosas con mas formato. Solo funciona en notenbooks"
   ]
  },
  {
   "cell_type": "code",
   "execution_count": 17,
   "metadata": {},
   "outputs": [
    {
     "data": {
      "text/plain": [
       "0     Sr.\n",
       "1    Sra.\n",
       "2     Sr.\n",
       "3    Sra.\n",
       "4    Sra.\n",
       "Name: Titulo, dtype: object"
      ]
     },
     "execution_count": 17,
     "metadata": {},
     "output_type": "execute_result"
    }
   ],
   "source": [
    "# podemos seleccionar una columna como si fuese un diccionario\n",
    "\n",
    "datos['Titulo']"
   ]
  },
  {
   "cell_type": "code",
   "execution_count": 23,
   "metadata": {},
   "outputs": [
    {
     "data": {
      "text/plain": [
       "titulo              Sr.\n",
       "Nombre          Romildo\n",
       "segundo         Ricardo\n",
       "apellido          Lopez\n",
       "servicio          Claro\n",
       "vencimiento    12/03/22\n",
       "Name: 0, dtype: object"
      ]
     },
     "metadata": {},
     "output_type": "display_data"
    },
    {
     "data": {
      "text/plain": [
       "titulo             Sra.\n",
       "Nombre            Maria\n",
       "segundo            Ines\n",
       "apellido       Gonzales\n",
       "servicio         Edenor\n",
       "vencimiento    04/09/22\n",
       "Name: 1, dtype: object"
      ]
     },
     "metadata": {},
     "output_type": "display_data"
    },
    {
     "data": {
      "text/plain": [
       "titulo              Sr.\n",
       "Nombre           Danilo\n",
       "segundo             NaN\n",
       "apellido        Gugiari\n",
       "servicio         Edenor\n",
       "vencimiento    04/09/22\n",
       "Name: 2, dtype: object"
      ]
     },
     "metadata": {},
     "output_type": "display_data"
    },
    {
     "data": {
      "text/plain": [
       "titulo             Sra.\n",
       "Nombre           Romina\n",
       "segundo          Camila\n",
       "apellido          Perez\n",
       "servicio       Movistar\n",
       "vencimiento    09/10/22\n",
       "Name: 3, dtype: object"
      ]
     },
     "metadata": {},
     "output_type": "display_data"
    },
    {
     "data": {
      "text/plain": [
       "titulo             Sra.\n",
       "Nombre          Micaela\n",
       "segundo             NaN\n",
       "apellido          Vilas\n",
       "servicio       Movistar\n",
       "vencimiento    08/10/22\n",
       "Name: 4, dtype: object"
      ]
     },
     "metadata": {},
     "output_type": "display_data"
    }
   ],
   "source": [
    "# o podemos iterar sobre los registros poniendo que querenmos que itere. Eso nos da dos datos, el primero es el identificador de la fila, el segundo una especie de diccionario con el contenido\n",
    "\n",
    "for idx, registro in datos.iterrows():\n",
    "    display (registro)\n",
    "\n",
    "# Tenemos un problema con los nombres, porque el excel viene con otros nombres de columnas. \n",
    "\n",
    "# Vamos a acostumbranos a que todo tiene solucion, a veces uno la sabe, sino la busca:\n",
    "\n",
    "# https://www.google.com/search?q=rename+columns+pandas\n",
    "\n",
    "# Si algo esta en stackoverflow es la posta en cosas de codigo.\n",
    "\n"
   ]
  },
  {
   "cell_type": "code",
   "execution_count": 26,
   "metadata": {},
   "outputs": [
    {
     "data": {
      "text/html": [
       "<div>\n",
       "<style scoped>\n",
       "    .dataframe tbody tr th:only-of-type {\n",
       "        vertical-align: middle;\n",
       "    }\n",
       "\n",
       "    .dataframe tbody tr th {\n",
       "        vertical-align: top;\n",
       "    }\n",
       "\n",
       "    .dataframe thead th {\n",
       "        text-align: right;\n",
       "    }\n",
       "</style>\n",
       "<table border=\"1\" class=\"dataframe\">\n",
       "  <thead>\n",
       "    <tr style=\"text-align: right;\">\n",
       "      <th></th>\n",
       "      <th>titulo</th>\n",
       "      <th>nombre</th>\n",
       "      <th>segundo</th>\n",
       "      <th>apellido</th>\n",
       "      <th>servicio</th>\n",
       "      <th>vencimiento</th>\n",
       "    </tr>\n",
       "  </thead>\n",
       "  <tbody>\n",
       "    <tr>\n",
       "      <th>0</th>\n",
       "      <td>Sr.</td>\n",
       "      <td>Romildo</td>\n",
       "      <td>Ricardo</td>\n",
       "      <td>Lopez</td>\n",
       "      <td>Claro</td>\n",
       "      <td>12/03/22</td>\n",
       "    </tr>\n",
       "    <tr>\n",
       "      <th>1</th>\n",
       "      <td>Sra.</td>\n",
       "      <td>Maria</td>\n",
       "      <td>Ines</td>\n",
       "      <td>Gonzales</td>\n",
       "      <td>Edenor</td>\n",
       "      <td>04/09/22</td>\n",
       "    </tr>\n",
       "    <tr>\n",
       "      <th>2</th>\n",
       "      <td>Sr.</td>\n",
       "      <td>Danilo</td>\n",
       "      <td>NaN</td>\n",
       "      <td>Gugiari</td>\n",
       "      <td>Edenor</td>\n",
       "      <td>04/09/22</td>\n",
       "    </tr>\n",
       "    <tr>\n",
       "      <th>3</th>\n",
       "      <td>Sra.</td>\n",
       "      <td>Romina</td>\n",
       "      <td>Camila</td>\n",
       "      <td>Perez</td>\n",
       "      <td>Movistar</td>\n",
       "      <td>09/10/22</td>\n",
       "    </tr>\n",
       "    <tr>\n",
       "      <th>4</th>\n",
       "      <td>Sra.</td>\n",
       "      <td>Micaela</td>\n",
       "      <td>NaN</td>\n",
       "      <td>Vilas</td>\n",
       "      <td>Movistar</td>\n",
       "      <td>08/10/22</td>\n",
       "    </tr>\n",
       "  </tbody>\n",
       "</table>\n",
       "</div>"
      ],
      "text/plain": [
       "  titulo   nombre  segundo  apellido  servicio vencimiento\n",
       "0    Sr.  Romildo  Ricardo     Lopez     Claro    12/03/22\n",
       "1   Sra.    Maria     Ines  Gonzales    Edenor    04/09/22\n",
       "2    Sr.   Danilo      NaN   Gugiari    Edenor    04/09/22\n",
       "3   Sra.   Romina   Camila     Perez  Movistar    09/10/22\n",
       "4   Sra.  Micaela      NaN     Vilas  Movistar    08/10/22"
      ]
     },
     "metadata": {},
     "output_type": "display_data"
    }
   ],
   "source": [
    "# La solucion:\n",
    "\n",
    "datos = datos.rename(columns = {'Titulo':'titulo','Nombre':'nombre','Segundo nombre':'segundo','Apellido':'apellido','Servicio':'servicio','Fecha de vencimiento':'vencimiento'})\n",
    "display (datos)"
   ]
  },
  {
   "cell_type": "code",
   "execution_count": 37,
   "metadata": {},
   "outputs": [
    {
     "name": "stdout",
     "output_type": "stream",
     "text": [
      "Sr. Romildo Ricardo Lopez, tiene una deuda con Claro que vence el 12/03/22\n",
      "Sra. Maria Ines Gonzales, tiene una deuda con Edenor que vence el 04/09/22\n"
     ]
    },
    {
     "ename": "TypeError",
     "evalue": "can only concatenate str (not \"float\") to str",
     "output_type": "error",
     "traceback": [
      "\u001b[1;31m---------------------------------------------------------------------------\u001b[0m",
      "\u001b[1;31mTypeError\u001b[0m                                 Traceback (most recent call last)",
      "\u001b[1;32md:\\Trabajos\\DH\\Cursos_DHDS_CN13\\Clases\\C2 - Python\\modelo.ipynb Cell 38\u001b[0m in \u001b[0;36m<cell line: 3>\u001b[1;34m()\u001b[0m\n\u001b[0;32m      <a href='vscode-notebook-cell:/d%3A/Trabajos/DH/Cursos_DHDS_CN13/Clases/C2%20-%20Python/modelo.ipynb#X64sZmlsZQ%3D%3D?line=0'>1</a>\u001b[0m \u001b[39m# Y ahora si!\u001b[39;00m\n\u001b[0;32m      <a href='vscode-notebook-cell:/d%3A/Trabajos/DH/Cursos_DHDS_CN13/Clases/C2%20-%20Python/modelo.ipynb#X64sZmlsZQ%3D%3D?line=2'>3</a>\u001b[0m \u001b[39mfor\u001b[39;00m idx, persona \u001b[39min\u001b[39;00m datos\u001b[39m.\u001b[39miterrows():\n\u001b[1;32m----> <a href='vscode-notebook-cell:/d%3A/Trabajos/DH/Cursos_DHDS_CN13/Clases/C2%20-%20Python/modelo.ipynb#X64sZmlsZQ%3D%3D?line=3'>4</a>\u001b[0m     utils\u001b[39m.\u001b[39mgenerar_mensaje(\u001b[39m*\u001b[39m\u001b[39m*\u001b[39mpersona)\n",
      "File \u001b[1;32md:\\Trabajos\\DH\\Cursos_DHDS_CN13\\Clases\\C2 - Python\\utils.py:5\u001b[0m, in \u001b[0;36mgenerar_mensaje\u001b[1;34m(titulo, nombre, segundo, apellido, servicio, vencimiento)\u001b[0m\n\u001b[0;32m      3\u001b[0m \u001b[39mdef\u001b[39;00m \u001b[39mgenerar_mensaje\u001b[39m(titulo, nombre, segundo, apellido, servicio, vencimiento):\n\u001b[0;32m      4\u001b[0m     \u001b[39mif\u001b[39;00m segundo: \u001b[39m# Aca el \"\" tiene valor False, si hay contenido en el str entonces tiene valor True. Magias de Python que es super flexible.\u001b[39;00m\n\u001b[1;32m----> 5\u001b[0m         nombre_completo \u001b[39m=\u001b[39m nombre \u001b[39m+\u001b[39;49m \u001b[39m\"\u001b[39;49m\u001b[39m \u001b[39;49m\u001b[39m\"\u001b[39;49m \u001b[39m+\u001b[39;49m segundo\n\u001b[0;32m      6\u001b[0m     \u001b[39melse\u001b[39;00m:\n\u001b[0;32m      7\u001b[0m         nombre_completo \u001b[39m=\u001b[39m nombre\n",
      "\u001b[1;31mTypeError\u001b[0m: can only concatenate str (not \"float\") to str"
     ]
    }
   ],
   "source": [
    "# Y ahora si!\n",
    "\n",
    "for idx, persona in datos.iterrows():\n",
    "    utils.generar_mensaje(**persona)\n",
    "\n",
    "# Pero no!\n",
    "\n",
    "# Veamos como rastrear errores..."
   ]
  },
  {
   "cell_type": "code",
   "execution_count": 41,
   "metadata": {},
   "outputs": [
    {
     "name": "stdout",
     "output_type": "stream",
     "text": [
      "Sr. Romildo Ricardo Lopez, tiene una deuda con Claro que vence el 12/03/22\n",
      "Sra. Maria Ines Gonzales, tiene una deuda con Edenor que vence el 04/09/22\n",
      "Sr. Danilo Gugiari, tiene una deuda con Edenor que vence el 04/09/22\n",
      "Sra. Romina Camila Perez, tiene una deuda con Movistar que vence el 09/10/22\n",
      "Sra. Micaela Vilas, tiene una deuda con Movistar que vence el 08/10/22\n"
     ]
    }
   ],
   "source": [
    "def generar_mensaje_test(titulo, nombre, segundo, apellido, servicio, vencimiento):\n",
    "    #print (segundo)\n",
    "    #print (type(segundo))\n",
    "    if segundo and type(segundo) == str: # Aca el \"\" tiene valor False, si hay contenido en el str entonces tiene valor True. Magias de Python que es super flexible.\n",
    "        nombre_completo = nombre + \" \" + segundo\n",
    "    else:\n",
    "        nombre_completo = nombre\n",
    "    print (f'{titulo} {nombre_completo} {apellido}, tiene una deuda con {servicio} que vence el {vencimiento}')\n",
    "\n",
    "\n",
    "for idx, persona in datos.iterrows():\n",
    "    generar_mensaje_test(**persona)"
   ]
  }
 ],
 "metadata": {
  "kernelspec": {
   "display_name": "Python 3.8.13 ('DH')",
   "language": "python",
   "name": "python3"
  },
  "language_info": {
   "codemirror_mode": {
    "name": "ipython",
    "version": 3
   },
   "file_extension": ".py",
   "mimetype": "text/x-python",
   "name": "python",
   "nbconvert_exporter": "python",
   "pygments_lexer": "ipython3",
   "version": "3.8.13"
  },
  "orig_nbformat": 4,
  "vscode": {
   "interpreter": {
    "hash": "93b1ad9c150e9c4fa5781c5a37e00b91f3d8cfbe17fc5b5e6277144ed0216a69"
   }
  }
 },
 "nbformat": 4,
 "nbformat_minor": 2
}

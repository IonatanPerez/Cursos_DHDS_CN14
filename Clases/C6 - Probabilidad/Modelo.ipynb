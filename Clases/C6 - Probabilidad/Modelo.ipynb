{
 "cells": [
  {
   "cell_type": "markdown",
   "metadata": {},
   "source": [
    "# Temario\n",
    "\n",
    "- Que es un random\n",
    "- Como generarlo\n",
    "- Random seed o random state\n",
    "- Validez de estadistica en grandes numeros, pero que pasa con la probabilidad?\n",
    "- Ejemplos de tomar paridad\n",
    "- Presentacion\n",
    "- Ejemplo de medir largo de lapiz\n",
    "\n"
   ]
  },
  {
   "cell_type": "code",
   "execution_count": 3,
   "metadata": {},
   "outputs": [
    {
     "name": "stdout",
     "output_type": "stream",
     "text": [
      "0.16494947983319797\n",
      "0.6897669242175674\n",
      "0.16494947983319797\n",
      "0.6897669242175674\n"
     ]
    }
   ],
   "source": [
    "# Libreria que genera numeros random\n",
    "import random\n",
    "\n",
    "random.seed(21)\n",
    "print (random.random())\n",
    "print (random.random())\n",
    "random.seed(21)\n",
    "print (random.random())\n",
    "print (random.random())\n"
   ]
  },
  {
   "cell_type": "code",
   "execution_count": 154,
   "metadata": {},
   "outputs": [],
   "source": [
    "import numpy as np\n",
    "import seaborn as sns"
   ]
  },
  {
   "cell_type": "code",
   "execution_count": 211,
   "metadata": {},
   "outputs": [
    {
     "name": "stdout",
     "output_type": "stream",
     "text": [
      "par\n"
     ]
    }
   ],
   "source": [
    "# Como hacer una eleccion entre dos opciones por igual:\n",
    "\n",
    "opciones = ['par', 'impar']\n",
    "if random.random() < 0.5:\n",
    "    print (opciones[0])\n",
    "else:\n",
    "    print (opciones[1])\n",
    "\n",
    "# Esta eleccion se puede pesar"
   ]
  },
  {
   "cell_type": "code",
   "execution_count": 139,
   "metadata": {},
   "outputs": [
    {
     "data": {
      "text/plain": [
       "0"
      ]
     },
     "execution_count": 139,
     "metadata": {},
     "output_type": "execute_result"
    }
   ],
   "source": [
    "# Vamos a repetir el problema de pedirle a 4 personas que digan si su DNI es par o impar.\n",
    "import numpy as np\n",
    "\n",
    "def contar_n_muestras(tamano_muestra, opciones = [\"par\",\"impar\"], buscado = \"par\"):\n",
    "    resultado = np.random.choice(opciones,tamano_muestra)\n",
    "    coincidencias = resultado == buscado\n",
    "    return coincidencias.sum()\n",
    "\n",
    "contar_n_muestras(4)\n"
   ]
  },
  {
   "cell_type": "code",
   "execution_count": 152,
   "metadata": {},
   "outputs": [
    {
     "data": {
      "text/plain": [
       "[2, 1, 4, 0, 0, 3, 1, 2, 2, 2]"
      ]
     },
     "execution_count": 152,
     "metadata": {},
     "output_type": "execute_result"
    }
   ],
   "source": [
    "# Vamos a repetir el problema X veces tomando la paridad de N elementos\n",
    "\n",
    "def hacer_n_experinmentos(tamano_muestra, nro_experimentos, opciones = [\"par\",\"impar\"], buscado = \"par\"):\n",
    "    resultado = []\n",
    "    for i in range(nro_experimentos):\n",
    "        experimento = contar_n_muestras(tamano_muestra, opciones = opciones, buscado = buscado)\n",
    "        resultado.append(experimento)\n",
    "    return resultado\n",
    "\n",
    "hacer_n_experinmentos(4,10)\n"
   ]
  },
  {
   "cell_type": "code",
   "execution_count": 228,
   "metadata": {},
   "outputs": [
    {
     "name": "stderr",
     "output_type": "stream",
     "text": [
      "c:\\Users\\Ionatan\\anaconda3\\lib\\site-packages\\seaborn\\_decorators.py:36: FutureWarning: Pass the following variables as keyword args: x, y. From version 0.12, the only valid positional argument will be `data`, and passing other arguments without an explicit keyword will result in an error or misinterpretation.\n",
      "  warnings.warn(\n"
     ]
    },
    {
     "data": {
      "text/plain": [
       "<AxesSubplot:>"
      ]
     },
     "execution_count": 228,
     "metadata": {},
     "output_type": "execute_result"
    },
    {
     "data": {
      "image/png": "[encoded data removed]",
      "text/plain": [
       "<Figure size 432x288 with 1 Axes>"
      ]
     },
     "metadata": {
      "needs_background": "light"
     },
     "output_type": "display_data"
    }
   ],
   "source": [
    "# Ahora queremos ver como queda eso graficado\n",
    "\n",
    "nro_muestras = 40\n",
    "nro_experimentos = 10000\n",
    "exp = hacer_n_experinmentos(nro_muestras,nro_experimentos)\n",
    "unique, counts = np.unique(exp, return_counts=True)\n",
    "sns.barplot(unique, counts/counts.sum())\n"
   ]
  },
  {
   "cell_type": "code",
   "execution_count": 230,
   "metadata": {},
   "outputs": [
    {
     "data": {
      "text/plain": [
       "14.5"
      ]
     },
     "execution_count": 230,
     "metadata": {},
     "output_type": "execute_result"
    }
   ],
   "source": [
    "largos = [14.5, 14.5, 14.5, 15, 13.9, 14.3, 13.2, 17.5, 13.9, 14.7, 16.0, 14.3, 15.3, 15, 16, 15.9, 14.5, 10.2, 14.3, 14.3, 14.9, 16.6, 12.2, 12.5]\n",
    "\n",
    "np.mean(largos)"
   ]
  },
  {
   "cell_type": "code",
   "execution_count": 231,
   "metadata": {},
   "outputs": [
    {
     "name": "stdout",
     "output_type": "stream",
     "text": [
      "[14.5 14.5 14.5 15.  13.9 14.3 13.2 17.5 13.9 14.7 16.  14.3 15.3 15.\n",
      " 16.  15.9 14.5 10.2 14.3 14.3 14.9 16.6 12.2 12.5]\n"
     ]
    },
    {
     "name": "stderr",
     "output_type": "stream",
     "text": [
      "c:\\Users\\Ionatan\\anaconda3\\lib\\site-packages\\seaborn\\_decorators.py:36: FutureWarning: Pass the following variables as keyword args: x, y. From version 0.12, the only valid positional argument will be `data`, and passing other arguments without an explicit keyword will result in an error or misinterpretation.\n",
      "  warnings.warn(\n"
     ]
    },
    {
     "data": {
      "text/plain": [
       "<AxesSubplot:>"
      ]
     },
     "execution_count": 231,
     "metadata": {},
     "output_type": "execute_result"
    },
    {
     "data": {
      "image/png": "[encoded data removed]",
      "text/plain": [
       "<Figure size 432x288 with 1 Axes>"
      ]
     },
     "metadata": {
      "needs_background": "light"
     },
     "output_type": "display_data"
    }
   ],
   "source": [
    "data = np.array(largos)\n",
    "print (data)\n",
    "unique, counts = np.unique(data, return_counts=True)\n",
    "sns.barplot(unique, counts/counts.sum())"
   ]
  },
  {
   "cell_type": "code",
   "execution_count": 232,
   "metadata": {},
   "outputs": [
    {
     "name": "stdout",
     "output_type": "stream",
     "text": [
      "[10.2 12.2 12.5 13.2 13.9 13.9 14.3 14.3 14.3 14.3 14.5 14.5 14.5 14.5\n",
      " 14.7 14.9 15.  15.  15.3 15.9 16.  16.  16.6 17.5]\n",
      "[ 0  1  2  3  4  5  6  7  8  9 10 11 12 13 14 15 16 17 18 19 20 21 22 23]\n"
     ]
    },
    {
     "name": "stderr",
     "output_type": "stream",
     "text": [
      "c:\\Users\\Ionatan\\anaconda3\\lib\\site-packages\\seaborn\\_decorators.py:36: FutureWarning: Pass the following variables as keyword args: x, y. From version 0.12, the only valid positional argument will be `data`, and passing other arguments without an explicit keyword will result in an error or misinterpretation.\n",
      "  warnings.warn(\n"
     ]
    },
    {
     "data": {
      "image/png": "[encoded data removed]",
      "text/plain": [
       "<Figure size 432x288 with 1 Axes>"
      ]
     },
     "metadata": {
      "needs_background": "light"
     },
     "output_type": "display_data"
    }
   ],
   "source": [
    "data.sort()\n",
    "print(data)\n",
    "x = np.arange(len(data))\n",
    "print (x)\n",
    "grafico = sns.scatterplot(x,data)"
   ]
  },
  {
   "cell_type": "code",
   "execution_count": 233,
   "metadata": {},
   "outputs": [
    {
     "name": "stdout",
     "output_type": "stream",
     "text": [
      "La probabilidad de que el valor este entre 12 y 13 es 8.333333333333332%\n"
     ]
    },
    {
     "name": "stderr",
     "output_type": "stream",
     "text": [
      "c:\\Users\\Ionatan\\anaconda3\\lib\\site-packages\\seaborn\\_decorators.py:36: FutureWarning: Pass the following variables as keyword args: x, y. From version 0.12, the only valid positional argument will be `data`, and passing other arguments without an explicit keyword will result in an error or misinterpretation.\n",
      "  warnings.warn(\n"
     ]
    },
    {
     "data": {
      "text/plain": [
       "<matplotlib.lines.Line2D at 0x1f79743baf0>"
      ]
     },
     "execution_count": 233,
     "metadata": {},
     "output_type": "execute_result"
    },
    {
     "data": {
      "image/png": "[encoded data removed]",
      "text/plain": [
       "<Figure size 432x288 with 1 Axes>"
      ]
     },
     "metadata": {
      "needs_background": "light"
     },
     "output_type": "display_data"
    }
   ],
   "source": [
    "# Cual es la probabilidad de que un lapiz mida entre 14 y 15 cm\n",
    "\n",
    "cota_sup = 13\n",
    "cota_inf = 12\n",
    "\n",
    "condicion = (cota_inf < data) & (data <= cota_sup)\n",
    "# La probabilidad son los caso favorables sobre los totales\n",
    "print (f'La probabilidad de que el valor este entre {cota_inf} y {cota_sup} es {condicion.sum()/len(condicion)*100}%')\n",
    "grafico = sns.scatterplot(x,data)\n",
    "grafico.axhline(cota_sup)\n",
    "grafico.axhline(cota_inf)"
   ]
  },
  {
   "cell_type": "code",
   "execution_count": 243,
   "metadata": {},
   "outputs": [
    {
     "name": "stderr",
     "output_type": "stream",
     "text": [
      "c:\\Users\\Ionatan\\anaconda3\\lib\\site-packages\\seaborn\\_decorators.py:36: FutureWarning: Pass the following variables as keyword args: x, y. From version 0.12, the only valid positional argument will be `data`, and passing other arguments without an explicit keyword will result in an error or misinterpretation.\n",
      "  warnings.warn(\n"
     ]
    },
    {
     "data": {
      "image/png": "[encoded data removed]",
      "text/plain": [
       "<Figure size 432x288 with 1 Axes>"
      ]
     },
     "metadata": {
      "needs_background": "light"
     },
     "output_type": "display_data"
    }
   ],
   "source": [
    "# Vamos a contruir la probabilidad acumulada\n",
    "paso = 0.1\n",
    "\n",
    "probabilidad_acumulada = []\n",
    "limite_inf = data.min()-paso\n",
    "\n",
    "for deslizador in np.arange(data.min()-paso,data.max()+paso,paso):\n",
    "    condicion = (limite_inf < data) & (data <= deslizador)\n",
    "    probabilidad_acumulada.append(condicion.sum()/len(condicion))\n",
    "    \n",
    "grafico = sns.lineplot(np.arange(data.min()-paso,data.max()+paso,paso),probabilidad_acumulada)"
   ]
  },
  {
   "cell_type": "code",
   "execution_count": 241,
   "metadata": {},
   "outputs": [
    {
     "name": "stderr",
     "output_type": "stream",
     "text": [
      "c:\\Users\\Ionatan\\anaconda3\\lib\\site-packages\\seaborn\\_decorators.py:36: FutureWarning: Pass the following variables as keyword args: x, y. From version 0.12, the only valid positional argument will be `data`, and passing other arguments without an explicit keyword will result in an error or misinterpretation.\n",
      "  warnings.warn(\n"
     ]
    },
    {
     "data": {
      "image/png": "[encoded data removed]",
      "text/plain": [
       "<Figure size 432x288 with 1 Axes>"
      ]
     },
     "metadata": {
      "needs_background": "light"
     },
     "output_type": "display_data"
    }
   ],
   "source": [
    "# Vamos a construir la densidad de probabilidad\n",
    "paso = 0.5\n",
    "\n",
    "densidad_probabilidad = []\n",
    "for deslizador in np.arange(data.min()-paso,data.max()+paso,paso):\n",
    "    condicion = (deslizador - paso/2 < data) & (data <= deslizador + paso/2)\n",
    "    densidad_probabilidad.append(condicion.sum()/len(condicion)) \n",
    "    \n",
    "grafico = sns.barplot(np.arange(data.min()-paso,data.max()+paso,paso),densidad_probabilidad)"
   ]
  }
 ],
 "metadata": {
  "kernelspec": {
   "display_name": "Python 3 (ipykernel)",
   "language": "python",
   "name": "python3"
  },
  "language_info": {
   "codemirror_mode": {
    "name": "ipython",
    "version": 3
   },
   "file_extension": ".py",
   "mimetype": "text/x-python",
   "name": "python",
   "nbconvert_exporter": "python",
   "pygments_lexer": "ipython3",
   "version": "3.9.12"
  },
  "vscode": {
   "interpreter": {
    "hash": "499a1cf83386e9cdb50680be6c4b00d5e02a649406be4f417a406efedf754313"
   }
  }
 },
 "nbformat": 4,
 "nbformat_minor": 4
}

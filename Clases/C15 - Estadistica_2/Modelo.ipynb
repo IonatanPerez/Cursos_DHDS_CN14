{
 "cells": [
  {
   "cell_type": "markdown",
   "metadata": {},
   "source": [
    "# Estadistica inferencial\n",
    "\n",
    "Vamos a trabajar las siguientes ideas:\n",
    "\n",
    "- Poblacion\n",
    "- Muestra\n",
    "- Parametros\n",
    "- Estimador"
   ]
  },
  {
   "cell_type": "code",
   "execution_count": 1,
   "metadata": {},
   "outputs": [
    {
     "name": "stderr",
     "output_type": "stream",
     "text": [
      "C:\\Users\\Ionatan\\AppData\\Local\\Temp\\ipykernel_7780\\1878531578.py:5: DtypeWarning: Columns (2,7,8) have mixed types. Specify dtype option on import or set low_memory=False.\n",
      "  arbolado = pd.read_csv(\"https://cdn.buenosaires.gob.ar/datosabiertos/datasets/arbolado-publico-lineal/arbolado-publico-lineal-2017-2018.csv\")\n"
     ]
    }
   ],
   "source": [
    "# Vamos a usar el dataset de arbolado para los ejemplos\n",
    "%matplotlib inline\n",
    "import pandas as pd\n",
    "\n",
    "arbolado = pd.read_csv(\"https://cdn.buenosaires.gob.ar/datosabiertos/datasets/arbolado-publico-lineal/arbolado-publico-lineal-2017-2018.csv\")"
   ]
  },
  {
   "cell_type": "code",
   "execution_count": 3,
   "metadata": {},
   "outputs": [
    {
     "data": {
      "text/html": [
       "<div>\n",
       "<style scoped>\n",
       "    .dataframe tbody tr th:only-of-type {\n",
       "        vertical-align: middle;\n",
       "    }\n",
       "\n",
       "    .dataframe tbody tr th {\n",
       "        vertical-align: top;\n",
       "    }\n",
       "\n",
       "    .dataframe thead th {\n",
       "        text-align: right;\n",
       "    }\n",
       "</style>\n",
       "<table border=\"1\" class=\"dataframe\">\n",
       "  <thead>\n",
       "    <tr style=\"text-align: right;\">\n",
       "      <th></th>\n",
       "      <th>long</th>\n",
       "      <th>lat</th>\n",
       "      <th>nro_registro</th>\n",
       "      <th>tipo_activ</th>\n",
       "      <th>comuna</th>\n",
       "      <th>manzana</th>\n",
       "      <th>calle_nombre</th>\n",
       "      <th>calle_altura</th>\n",
       "      <th>calle_chapa</th>\n",
       "      <th>direccion_normalizada</th>\n",
       "      <th>ubicacion</th>\n",
       "      <th>nombre_cientifico</th>\n",
       "      <th>ancho_acera</th>\n",
       "      <th>estado_plantera</th>\n",
       "      <th>ubicacion_plantera</th>\n",
       "      <th>nivel_plantera</th>\n",
       "      <th>diametro_altura_pecho</th>\n",
       "      <th>altura_arbol</th>\n",
       "    </tr>\n",
       "  </thead>\n",
       "  <tbody>\n",
       "    <tr>\n",
       "      <th>0</th>\n",
       "      <td>-58.378563</td>\n",
       "      <td>-34.594902</td>\n",
       "      <td>26779</td>\n",
       "      <td>Lineal</td>\n",
       "      <td>1</td>\n",
       "      <td>NaN</td>\n",
       "      <td>Esmeralda</td>\n",
       "      <td>1000.0</td>\n",
       "      <td>1120.0</td>\n",
       "      <td>ESMERALDA 1120</td>\n",
       "      <td>NaN</td>\n",
       "      <td>Tipuana tipu</td>\n",
       "      <td>5.5</td>\n",
       "      <td>Ocupada</td>\n",
       "      <td>Regular</td>\n",
       "      <td>A nivel</td>\n",
       "      <td>88.0</td>\n",
       "      <td>34.0</td>\n",
       "    </tr>\n",
       "    <tr>\n",
       "      <th>1</th>\n",
       "      <td>-58.381532</td>\n",
       "      <td>-34.592319</td>\n",
       "      <td>30887</td>\n",
       "      <td>Lineal</td>\n",
       "      <td>1</td>\n",
       "      <td>NaN</td>\n",
       "      <td>Pellegrini Carlos</td>\n",
       "      <td>1300.0</td>\n",
       "      <td>1345.0</td>\n",
       "      <td>PELLEGRINI, CARLOS 1345</td>\n",
       "      <td>Exacta</td>\n",
       "      <td>Peltophorum dubium</td>\n",
       "      <td>4.5</td>\n",
       "      <td>Ocupada</td>\n",
       "      <td>Regular</td>\n",
       "      <td>Elevada</td>\n",
       "      <td>6.0</td>\n",
       "      <td>5.0</td>\n",
       "    </tr>\n",
       "    <tr>\n",
       "      <th>2</th>\n",
       "      <td>-58.379103</td>\n",
       "      <td>-34.591939</td>\n",
       "      <td>30904</td>\n",
       "      <td>Lineal</td>\n",
       "      <td>1</td>\n",
       "      <td>NaN</td>\n",
       "      <td>Arroyo</td>\n",
       "      <td>800.0</td>\n",
       "      <td>848.0</td>\n",
       "      <td>ARROYO 848</td>\n",
       "      <td>Exacta</td>\n",
       "      <td>Fraxinus pennsylvanica</td>\n",
       "      <td>4</td>\n",
       "      <td>Ocupada</td>\n",
       "      <td>Regular</td>\n",
       "      <td>A nivel</td>\n",
       "      <td>7.0</td>\n",
       "      <td>6.0</td>\n",
       "    </tr>\n",
       "    <tr>\n",
       "      <th>3</th>\n",
       "      <td>-58.380710</td>\n",
       "      <td>-34.591548</td>\n",
       "      <td>31336</td>\n",
       "      <td>Lineal</td>\n",
       "      <td>1</td>\n",
       "      <td>NaN</td>\n",
       "      <td>Arroyo</td>\n",
       "      <td>900.0</td>\n",
       "      <td>932.0</td>\n",
       "      <td>ARROYO 932</td>\n",
       "      <td>LD</td>\n",
       "      <td>Fraxinus pennsylvanica</td>\n",
       "      <td>NaN</td>\n",
       "      <td>Ocupada</td>\n",
       "      <td>Regular</td>\n",
       "      <td>A nivel</td>\n",
       "      <td>9.0</td>\n",
       "      <td>29.0</td>\n",
       "    </tr>\n",
       "    <tr>\n",
       "      <th>4</th>\n",
       "      <td>-58.380710</td>\n",
       "      <td>-34.591548</td>\n",
       "      <td>31337</td>\n",
       "      <td>Lineal</td>\n",
       "      <td>1</td>\n",
       "      <td>NaN</td>\n",
       "      <td>Arroyo</td>\n",
       "      <td>900.0</td>\n",
       "      <td>932.0</td>\n",
       "      <td>ARROYO 932</td>\n",
       "      <td>LA</td>\n",
       "      <td>Jacaranda mimosifolia</td>\n",
       "      <td>NaN</td>\n",
       "      <td>Ocupada</td>\n",
       "      <td>Regular</td>\n",
       "      <td>A nivel</td>\n",
       "      <td>13.0</td>\n",
       "      <td>8.0</td>\n",
       "    </tr>\n",
       "  </tbody>\n",
       "</table>\n",
       "</div>"
      ],
      "text/plain": [
       "        long        lat nro_registro tipo_activ  comuna manzana  \\\n",
       "0 -58.378563 -34.594902        26779     Lineal       1     NaN   \n",
       "1 -58.381532 -34.592319        30887     Lineal       1     NaN   \n",
       "2 -58.379103 -34.591939        30904     Lineal       1     NaN   \n",
       "3 -58.380710 -34.591548        31336     Lineal       1     NaN   \n",
       "4 -58.380710 -34.591548        31337     Lineal       1     NaN   \n",
       "\n",
       "        calle_nombre calle_altura calle_chapa    direccion_normalizada  \\\n",
       "0          Esmeralda       1000.0      1120.0           ESMERALDA 1120   \n",
       "1  Pellegrini Carlos       1300.0      1345.0  PELLEGRINI, CARLOS 1345   \n",
       "2             Arroyo        800.0       848.0               ARROYO 848   \n",
       "3             Arroyo        900.0       932.0               ARROYO 932   \n",
       "4             Arroyo        900.0       932.0               ARROYO 932   \n",
       "\n",
       "  ubicacion       nombre_cientifico ancho_acera estado_plantera  \\\n",
       "0       NaN            Tipuana tipu         5.5         Ocupada   \n",
       "1    Exacta      Peltophorum dubium         4.5         Ocupada   \n",
       "2    Exacta  Fraxinus pennsylvanica           4         Ocupada   \n",
       "3        LD  Fraxinus pennsylvanica         NaN         Ocupada   \n",
       "4        LA   Jacaranda mimosifolia         NaN         Ocupada   \n",
       "\n",
       "  ubicacion_plantera nivel_plantera  diametro_altura_pecho  altura_arbol  \n",
       "0            Regular        A nivel                   88.0          34.0  \n",
       "1            Regular        Elevada                    6.0           5.0  \n",
       "2            Regular        A nivel                    7.0           6.0  \n",
       "3            Regular        A nivel                    9.0          29.0  \n",
       "4            Regular        A nivel                   13.0           8.0  "
      ]
     },
     "execution_count": 3,
     "metadata": {},
     "output_type": "execute_result"
    }
   ],
   "source": [
    "arbolado.head()"
   ]
  },
  {
   "cell_type": "code",
   "execution_count": 4,
   "metadata": {},
   "outputs": [
    {
     "name": "stdout",
     "output_type": "stream",
     "text": [
      "El valor medio real de la altura de TODOS los arboles es 9.036131504572813\n"
     ]
    }
   ],
   "source": [
    "# Queremos ver que pasa con la altura media de los arboles y queremos ver como podemos inferir ese valor sin mirar toda la muestra\n",
    "\n",
    "valor_medio_altura_arboles = arbolado[\"altura_arbol\"].mean()\n",
    "print (f'El valor medio real de la altura de TODOS los arboles es {valor_medio_altura_arboles}')"
   ]
  },
  {
   "cell_type": "markdown",
   "metadata": {},
   "source": [
    "Lo que acabamos de hacer es la altura media poblacional."
   ]
  },
  {
   "cell_type": "code",
   "execution_count": 7,
   "metadata": {},
   "outputs": [
    {
     "name": "stdout",
     "output_type": "stream",
     "text": [
      "Estimacion tomando solo 100 valores: 9.585858585858587\n"
     ]
    }
   ],
   "source": [
    "# ¿Como podriamos haber hecho una estimacion similar sin mirar todos los arboles?\n",
    "\n",
    "N = 100\n",
    "\n",
    "estimacion_n = arbolado.sample(N)[\"altura_arbol\"].mean()\n",
    "print (f\"Estimacion tomando solo {N} valores: {estimacion_n}\")\n",
    "\n",
    "# Vemos que es bastante similar"
   ]
  },
  {
   "cell_type": "code",
   "execution_count": 19,
   "metadata": {},
   "outputs": [
    {
     "name": "stdout",
     "output_type": "stream",
     "text": [
      "\n",
      "\n",
      "La media de las medias dio 9.035344283115146 y su desviacion estandar 0.15641830244424154\n",
      "Recordar que la media poblacion al es 9.036131504572813 y la desviacion de las alturas (no de las medias) es 4.894624931676406\n"
     ]
    }
   ],
   "source": [
    "# Y si lo hacemos m veces\n",
    "import numpy as np\n",
    "\n",
    "N = 1000\n",
    "m = 1000\n",
    "\n",
    "valores = []\n",
    "for i in range(m):\n",
    "    estimacion_n = arbolado.sample(N)[\"altura_arbol\"].mean()\n",
    "    valores = valores + [estimacion_n]\n",
    "    if m<=10:\n",
    "        print (f\"Estimacion numero {i} tomando solo {N} valores: {estimacion_n}\")\n",
    "print ('\\n')\n",
    "print (f'La media de las medias dio {np.mean(valores)} y su desviacion estandar {np.std(valores)}')\n",
    "print (f'Recordar que la media poblacion al es {arbolado[\"altura_arbol\"].mean()} y la desviacion de las alturas (no de las medias) es {arbolado[\"altura_arbol\"].std()}')"
   ]
  },
  {
   "cell_type": "code",
   "execution_count": 20,
   "metadata": {},
   "outputs": [
    {
     "data": {
      "text/plain": [
       "<AxesSubplot:xlabel='altura_arbol', ylabel='Count'>"
      ]
     },
     "execution_count": 20,
     "metadata": {},
     "output_type": "execute_result"
    },
    {
     "data": {
      "image/png": "[encoded data removed]",
      "text/plain": [
       "<Figure size 432x288 with 1 Axes>"
      ]
     },
     "metadata": {
      "needs_background": "light"
     },
     "output_type": "display_data"
    }
   ],
   "source": [
    "import seaborn as sns\n",
    "# ¿Como es la muestra original?\n",
    "\n",
    "sns.histplot(data=arbolado['altura_arbol'])\n",
    "\n",
    "# ¿Podemos ver mas en detalle?"
   ]
  },
  {
   "cell_type": "code",
   "execution_count": 21,
   "metadata": {},
   "outputs": [
    {
     "data": {
      "text/plain": [
       "<AxesSubplot:>"
      ]
     },
     "execution_count": 21,
     "metadata": {},
     "output_type": "execute_result"
    },
    {
     "data": {
      "image/png": "[encoded data removed]",
      "text/plain": [
       "<Figure size 432x288 with 1 Axes>"
      ]
     },
     "metadata": {
      "needs_background": "light"
     },
     "output_type": "display_data"
    }
   ],
   "source": [
    "# Ver que queda mas lindo y descriptivo que \n",
    "\n",
    "arbolado['altura_arbol'].hist()"
   ]
  },
  {
   "cell_type": "code",
   "execution_count": 9,
   "metadata": {},
   "outputs": [
    {
     "data": {
      "text/plain": [
       "Fraxinus pennsylvanica    133609\n",
       "Platanus x acerifolia      32319\n",
       "Ficus benjamina            22508\n",
       "Tilia x moltkei            15605\n",
       "Melia azedarach            14901\n",
       "                           ...  \n",
       "Juglans mandshurica            1\n",
       "Osmanthus fragrans             1\n",
       "Sterculia monosperma           1\n",
       "Ficus microcarpa               1\n",
       "Pyracantha coccinea            1\n",
       "Name: nombre_cientifico, Length: 431, dtype: int64"
      ]
     },
     "execution_count": 9,
     "metadata": {},
     "output_type": "execute_result"
    }
   ],
   "source": [
    "# ¿Pero que pasa con las especies, influye mucho que especie es en la altura?\n",
    "\n",
    "arbolado[\"nombre_cientifico\"].value_counts()"
   ]
  },
  {
   "cell_type": "code",
   "execution_count": 32,
   "metadata": {},
   "outputs": [
    {
     "data": {
      "image/png": "[encoded data removed]",
      "text/plain": [
       "<Figure size 432x288 with 1 Axes>"
      ]
     },
     "metadata": {
      "needs_background": "light"
     },
     "output_type": "display_data"
    }
   ],
   "source": [
    "n_especies = 4\n",
    "arbolado_reducido = arbolado[arbolado['nombre_cientifico'].isin(arbolado['nombre_cientifico'].value_counts().index[:n_especies])]\n",
    "\n",
    "g = sns.histplot(data=arbolado_reducido, x='altura_arbol', hue='nombre_cientifico', multiple='stack')\n",
    "\n",
    "# Conclusion, que especie se selecciona en el muestreo es re importante!"
   ]
  },
  {
   "cell_type": "code",
   "execution_count": 39,
   "metadata": {},
   "outputs": [
    {
     "data": {
      "text/plain": [
       "<AxesSubplot:>"
      ]
     },
     "execution_count": 39,
     "metadata": {},
     "output_type": "execute_result"
    },
    {
     "data": {
      "image/png": "[encoded data removed]",
      "text/plain": [
       "<Figure size 432x288 with 1 Axes>"
      ]
     },
     "metadata": {
      "needs_background": "light"
     },
     "output_type": "display_data"
    }
   ],
   "source": [
    "# Veamos que especies se muestrean\n",
    "\n",
    "n = 100\n",
    "(arbolado.sample(n)[\"nombre_cientifico\"].value_counts()/n).head(n_especies).plot(kind = \"bar\")"
   ]
  },
  {
   "cell_type": "code",
   "execution_count": 40,
   "metadata": {},
   "outputs": [],
   "source": [
    "%matplotlib qt\n",
    "import matplotlib.pyplot as plt"
   ]
  },
  {
   "cell_type": "code",
   "execution_count": 46,
   "metadata": {},
   "outputs": [
    {
     "data": {
      "text/plain": [
       "<AxesSubplot:>"
      ]
     },
     "execution_count": 46,
     "metadata": {},
     "output_type": "execute_result"
    }
   ],
   "source": [
    "# ¿Como podemos solucionar esto?\n",
    "\n",
    "# Estratificando por especie, osea tomando de cada especie una proporcion que corresponda a la proporcion que hay de esa especie en la muestra\n",
    "# Para eso vamos a calcular que porcentaje queremos de la muestra (a partir del numero) y vamos a elegir ese porcentaje luego de un groupby\n",
    "\n",
    "n = 100\n",
    "frac = n/arbolado.shape[0]\n",
    "\n",
    "seleccion = arbolado.groupby('nombre_cientifico', group_keys=False).apply(lambda x: x.sample(frac=frac))\n",
    "\n",
    "plt.figure()\n",
    "seleccion[\"nombre_cientifico\"].value_counts().head(n_especies).plot(kind = \"bar\")\n"
   ]
  },
  {
   "cell_type": "code",
   "execution_count": 47,
   "metadata": {},
   "outputs": [],
   "source": [
    "# Vemos como dio la distribucion\n",
    "\n",
    "\n",
    "plt.figure()\n",
    "for especie in seleccion[\"nombre_cientifico\"].value_counts()[0:n_especies].index:\n",
    "    #arbolado[arbolado[\"nombre_cientifico\"]==especie][\"altura_arbol\"].hist(bins = [0,1,2,3,4,5,6,7,9,10,11,12,13,14,15,16,17,20,30,40])\n",
    "    seleccion[seleccion[\"nombre_cientifico\"]==especie][\"altura_arbol\"].hist()\n",
    "\n",
    "# Vemos que los elementos cambian pero la proporcion de especies no"
   ]
  },
  {
   "cell_type": "code",
   "execution_count": 48,
   "metadata": {},
   "outputs": [],
   "source": [
    "%matplotlib inline"
   ]
  },
  {
   "cell_type": "markdown",
   "metadata": {},
   "source": [
    "Estimadores como variables aleatorias"
   ]
  },
  {
   "cell_type": "code",
   "execution_count": 58,
   "metadata": {},
   "outputs": [
    {
     "name": "stderr",
     "output_type": "stream",
     "text": [
      "100%|██████████| 1000/1000 [00:10<00:00, 93.12it/s]\n"
     ]
    },
    {
     "data": {
      "text/plain": [
       "<AxesSubplot:>"
      ]
     },
     "execution_count": 58,
     "metadata": {},
     "output_type": "execute_result"
    },
    {
     "data": {
      "image/png": "[encoded data removed]",
      "text/plain": [
       "<Figure size 432x288 with 1 Axes>"
      ]
     },
     "metadata": {
      "needs_background": "light"
     },
     "output_type": "display_data"
    }
   ],
   "source": [
    "import tqdm\n",
    "n = 100\n",
    "n_sampleos = 1000 # Ir variando este n\n",
    "valores_estimador_mean = []\n",
    "\n",
    "for i in tqdm.tqdm(range(n_sampleos)):\n",
    "    valores_estimador_mean += [arbolado.sample(n)[\"altura_arbol\"].mean()]\n",
    "\n",
    "means = pd.Series({\"Mean_alturas\":valores_estimador_mean})\n",
    "means.hist()"
   ]
  },
  {
   "cell_type": "code",
   "execution_count": 60,
   "metadata": {},
   "outputs": [
    {
     "name": "stderr",
     "output_type": "stream",
     "text": [
      "100%|██████████| 1000/1000 [00:10<00:00, 92.10it/s]\n"
     ]
    },
    {
     "data": {
      "text/plain": [
       "<AxesSubplot:>"
      ]
     },
     "execution_count": 60,
     "metadata": {},
     "output_type": "execute_result"
    },
    {
     "data": {
      "image/png": "[encoded data removed]",
      "text/plain": [
       "<Figure size 432x288 with 1 Axes>"
      ]
     },
     "metadata": {
      "needs_background": "light"
     },
     "output_type": "display_data"
    }
   ],
   "source": [
    "# Lo mismo si tomamos otra medida, por ejemplos la std\n",
    "\n",
    "n = 100\n",
    "n_sampleos = 1000 # Ir variando este n\n",
    "valores_estimador_mean = []\n",
    "\n",
    "for i in tqdm.tqdm(range(n_sampleos)):\n",
    "    valores_estimador_mean += [arbolado.sample(n)[\"altura_arbol\"].std()]\n",
    "\n",
    "means = pd.Series({\"Mean_alturas\":valores_estimador_mean})\n",
    "means.hist()"
   ]
  },
  {
   "cell_type": "code",
   "execution_count": 59,
   "metadata": {},
   "outputs": [
    {
     "name": "stderr",
     "output_type": "stream",
     "text": [
      "100%|██████████| 10000/10000 [00:04<00:00, 2102.82it/s]\n"
     ]
    },
    {
     "data": {
      "text/plain": [
       "<AxesSubplot:>"
      ]
     },
     "execution_count": 59,
     "metadata": {},
     "output_type": "execute_result"
    },
    {
     "data": {
      "image/png": "[encoded data removed]",
      "text/plain": [
       "<Figure size 432x288 with 1 Axes>"
      ]
     },
     "metadata": {
      "needs_background": "light"
     },
     "output_type": "display_data"
    }
   ],
   "source": [
    "# ¿siempre da estilo gaussiana? rta corta: SI (teorema central del limite)\n",
    "import random\n",
    "import numpy as np\n",
    "\n",
    "lista = [0,1,2,3,4,5,6,7,8,9,10,11,12,13,14,15,16,17,18,19]\n",
    "\n",
    "n = 1000\n",
    "n_sampleos = 10000\n",
    "means = []\n",
    "\n",
    "for i in tqdm.tqdm(range(n_sampleos)):\n",
    "    means += [np.mean(random.choices(lista,k=n))]\n",
    "\n",
    "means = pd.Series({\"Mean_uniforme\":means})\n",
    "means.hist()\n"
   ]
  },
  {
   "cell_type": "markdown",
   "metadata": {},
   "source": [
    "# Vamos a ver experimentalmente si es cierto que:\n",
    "\n",
    "$\\sigma = \\sigma_s$\n",
    "\n",
    "y que \n",
    "\n",
    "$\\sigma_{\\hat{x}} = \\frac{\\sigma}{\\sqrt{n}}$"
   ]
  },
  {
   "cell_type": "code",
   "execution_count": 61,
   "metadata": {},
   "outputs": [
    {
     "data": {
      "image/png": "[encoded data removed]",
      "text/plain": [
       "<Figure size 432x288 with 1 Axes>"
      ]
     },
     "metadata": {
      "needs_background": "light"
     },
     "output_type": "display_data"
    }
   ],
   "source": [
    "# Primero vamos a ver si es cierto que el std de las muestras es similar al de la poblacion para diferentes n\n",
    "import matplotlib.pyplot as plt\n",
    "fig, ax = plt.subplots()\n",
    "ax.set_xscale('log')\n",
    "sigma = arbolado[\"altura_arbol\"].std()\n",
    "plt.axhline(y=sigma, color='r', linestyle='-.')\n",
    "\n",
    "enes = [10,30,50,100,300,500,1000,3000,5000,10000]\n",
    "pruebas = 3\n",
    "for i in range(pruebas):\n",
    "    sigmas_muestras = []\n",
    "    for n in enes:\n",
    "        sigmas_muestras += [arbolado.sample(n)[\"altura_arbol\"].std()]\n",
    "    ax.plot(enes,sigmas_muestras)\n"
   ]
  },
  {
   "cell_type": "code",
   "execution_count": 62,
   "metadata": {},
   "outputs": [
    {
     "name": "stderr",
     "output_type": "stream",
     "text": [
      "Tomando muestras de tamaño 10000... : 100%|██████████| 10/10 [00:13<00:00,  1.31s/it]"
     ]
    },
    {
     "name": "stdout",
     "output_type": "stream",
     "text": [
      "Valores de n: [10, 30, 50, 100, 300, 500, 1000, 3000, 5000, 10000]\n",
      "Valores experimental de desviacion del valor medio tomando 100 valores medios en funcion de los enes.: [1.4734707104023412, 0.8593632882341626, 0.7578709013410929, 0.4942877870335377, 0.2694694147705368, 0.23523044443890073, 0.15428765418255494, 0.08999460318864924, 0.06605058634289662, 0.05159278141862325]\n",
      "Valores teorico de desviacion del valor medio tomando 100 valores medios en funcion de los enes.: [1.5478163076343476, 0.8936321618687832, 0.6922044961106256, 0.48946249316764057, 0.2825913021885626, 0.21889428143187412, 0.1547816307634348, 0.08936321618687833, 0.06922044961106256, 0.04894624931676406]\n"
     ]
    },
    {
     "name": "stderr",
     "output_type": "stream",
     "text": [
      "\n"
     ]
    },
    {
     "data": {
      "text/plain": [
       "<matplotlib.lines._AxLine at 0x1cf88406430>"
      ]
     },
     "execution_count": 62,
     "metadata": {},
     "output_type": "execute_result"
    },
    {
     "data": {
      "image/png": "[encoded data removed]",
      "text/plain": [
       "<Figure size 432x288 with 1 Axes>"
      ]
     },
     "metadata": {
      "needs_background": "light"
     },
     "output_type": "display_data"
    }
   ],
   "source": [
    "# Veamos ahora si se cumple experimentalmente que la desviacion del estimador esta vinculado con la desviacion de la poblacion y el tamaño de la muestra\n",
    "\n",
    "\n",
    "enes = [10,30,50,100,300,500,1000,3000,5000,10000]\n",
    "n_sampleos = 100 # Le pomenos 100 porque mas tarda mucho\n",
    "sigma = arbolado[\"altura_arbol\"].std()\n",
    "\n",
    "sigma_estimador_exp_n = []\n",
    "\n",
    "pbar = tqdm.tqdm(enes)\n",
    "for n in pbar:\n",
    "    pbar.set_description(f\"Tomando muestras de tamaño {n}... \")\n",
    "    valores_estimador_mean = []\n",
    "    for i in range(n_sampleos):\n",
    "        valores_estimador_mean += [arbolado.sample(n)[\"altura_arbol\"].mean()]\n",
    "    sigma_estimador_exp_n += [np.std(valores_estimador_mean)]\n",
    "\n",
    "sigma_estimador_teo_n = [sigma/np.sqrt(n) for n in enes]\n",
    "\n",
    "print (f'Valores de n: {enes}')\n",
    "print (f'Valores experimental de desviacion del valor medio tomando {n_sampleos} valores medios en funcion de los enes.: {sigma_estimador_exp_n}')\n",
    "print (f'Valores teorico de desviacion del valor medio tomando {n_sampleos} valores medios en funcion de los enes.: {sigma_estimador_teo_n}')\n",
    "\n",
    "fig, ax = plt.subplots()\n",
    "ax.scatter(sigma_estimador_exp_n,sigma_estimador_teo_n)\n",
    "ax.axline((0, 0), (1, 1), color='r')\n"
   ]
  },
  {
   "cell_type": "markdown",
   "metadata": {},
   "source": [
    "¿Cual es la gran ventaja de lo que acabamos de mostrar?\n",
    "\n",
    "Que no hay que hacer un monton de valores medios para saber como es su distribucion de error! Con una muestra alcanza."
   ]
  },
  {
   "cell_type": "markdown",
   "metadata": {},
   "source": [
    "Imaginemos ahora la siguiente pregunta:\n",
    "\n",
    "- ¿Cual es la altura promedio de los [Melia azedarach](https://es.wikipedia.org/wiki/Melia_azedarach)?\n",
    "\n",
    "Para responder esa pregunta vamos a asumir que no disponemos de todos los datos del arbolado de la ciudad sino que hicimos un relevamiento de pocos arboles en la comuna en la que vivimos (si no viven en caba elijan la que coincida con el final de su numero de documento)"
   ]
  },
  {
   "cell_type": "code",
   "execution_count": 83,
   "metadata": {},
   "outputs": [
    {
     "name": "stdout",
     "output_type": "stream",
     "text": [
      "8.727272727272727\n",
      "2.9513683502989876\n"
     ]
    }
   ],
   "source": [
    "# Veamos como implementar el codigo esta cuenta\n",
    "import scipy.stats as stats\n",
    "\n",
    "# Vamos a hacer el ejemplo con 20 y 40 arboles para la comuna 9\n",
    "n=100\n",
    "especie = \"Melia azedarach\"\n",
    "mascara = (arbolado[\"comuna\"]==9) & (arbolado[\"nombre_cientifico\"] == especie)\n",
    "datos = arbolado[mascara].sample(n)[\"altura_arbol\"]\n",
    "mean = datos.mean()\n",
    "std = datos.std()\n",
    "print (mean)\n",
    "print (std)"
   ]
  },
  {
   "cell_type": "markdown",
   "metadata": {},
   "source": [
    "¿Cuan confiable es el resultado anterior?\n",
    "\n"
   ]
  },
  {
   "cell_type": "markdown",
   "metadata": {},
   "source": [
    "Pasar a pizarra y explicar: hay tanta probabilidad de que el valor real difiera de lo que se medio en \"hasta tanto\". Ojo que no es lo mismo que la probabilida de encontrar un arbol y que mida mas o menos que la media.\n",
    "\n",
    "Explicar Z"
   ]
  },
  {
   "cell_type": "code",
   "execution_count": 90,
   "metadata": {},
   "outputs": [
    {
     "name": "stdout",
     "output_type": "stream",
     "text": [
      "El valor esperado para el promedio de altura de los arboles Melia azedarach encontrados en CABA con un 95.0% de confianza esta entre 9.305730294442467 y 8.148815160102986 m.\n"
     ]
    }
   ],
   "source": [
    "alpha = 0.05 # Que haya un 90% de probabilidad de que el valor promedio este en el rango. \n",
    "z_alfa_sobre_2_norm = stats.norm.ppf(alpha/2)\n",
    "ic_high = mean - z_alfa_sobre_2_norm * std / np.sqrt(n)\n",
    "ic_low = mean + z_alfa_sobre_2_norm * std / np.sqrt(n)\n",
    "\n",
    "print (f'El valor esperado para el promedio de altura de los arboles {especie} encontrados en CABA con un {(1-alpha)*100}% de confianza esta entre {ic_high} y {ic_low} m.')\n"
   ]
  },
  {
   "cell_type": "markdown",
   "metadata": {},
   "source": [
    "¿Que pasa si no confiamos en que la distribucion sea realmente gaussiana? Hay una variante que es la [t-student](https://es.wikipedia.org/wiki/Distribuci%C3%B3n_t_de_Student)\n",
    "\n",
    "Es una funcion que se parece pero es un poco mas complejo y cuenta los \"grados\" de libertad ademas de considerar la desviacion de la muestra sin asumir que es lo mismo que la de la poblacion. "
   ]
  },
  {
   "cell_type": "code",
   "execution_count": 91,
   "metadata": {},
   "outputs": [
    {
     "name": "stdout",
     "output_type": "stream",
     "text": [
      "El valor esperado para el promedio de altura de los arboles Melia azedarach encontrados en CABA con un 95.0% de confianza esta entre 9.312888238353674 y 8.14165721619178 m.\n"
     ]
    }
   ],
   "source": [
    "alpha = 0.05\n",
    "grados_libertad = n - 1\n",
    "z_alfa_sobre_2_t = stats.t.ppf(alpha/2, grados_libertad)\n",
    "ic_high = mean - z_alfa_sobre_2_t * std / np.sqrt(n)\n",
    "ic_low = mean + z_alfa_sobre_2_t * std / np.sqrt(n)\n",
    "\n",
    "print (f'El valor esperado para el promedio de altura de los arboles {especie} encontrados en CABA con un {(1-alpha)*100}% de confianza esta entre {ic_high} y {ic_low} m.')\n"
   ]
  }
 ],
 "metadata": {
  "kernelspec": {
   "display_name": "Python 3.8.13 ('DH')",
   "language": "python",
   "name": "python3"
  },
  "language_info": {
   "codemirror_mode": {
    "name": "ipython",
    "version": 3
   },
   "file_extension": ".py",
   "mimetype": "text/x-python",
   "name": "python",
   "nbconvert_exporter": "python",
   "pygments_lexer": "ipython3",
   "version": "3.8.13"
  },
  "vscode": {
   "interpreter": {
    "hash": "93b1ad9c150e9c4fa5781c5a37e00b91f3d8cfbe17fc5b5e6277144ed0216a69"
   }
  }
 },
 "nbformat": 4,
 "nbformat_minor": 4
}
